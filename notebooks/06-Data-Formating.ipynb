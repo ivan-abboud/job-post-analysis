{
 "cells": [
  {
   "cell_type": "markdown",
   "metadata": {},
   "source": [
    "# Cleaning Data\n",
    "\n",
    "<br>in this notebook we will clean data and unify job posts in order to get better analysis results <br>\n",
    "cleaning `Job Title` steps include:\n",
    "\n",
    "- remove hash sign from hashtags.\n",
    "- remove leading and trailing spaces.\n",
    "- remove useless punctuation.\n",
    "- unify job titles ex. `(reactjs , react-js, react js, react.js) -> react-js`.\n",
    "- getting higher level job title, ex. `ios developer -> mobile developer` and `laravel developer -> back-end developer`.\n",
    "- extract experience level from job title (senior, mid, junior).\n"
   ]
  },
  {
   "cell_type": "code",
   "execution_count": 2,
   "metadata": {},
   "outputs": [],
   "source": [
    "import numpy as np\n",
    "import pandas as pd\n",
    "import re\n",
    "from wordcloud import WordCloud\n"
   ]
  },
  {
   "cell_type": "code",
   "execution_count": 121,
   "metadata": {},
   "outputs": [],
   "source": [
    "# reading data\n",
    "data = pd.read_csv(\"../data/data_v5.4.csv\")\n"
   ]
  },
  {
   "cell_type": "code",
   "execution_count": 122,
   "metadata": {},
   "outputs": [],
   "source": [
    "def clean_text(text: str) -> str:\n",
    "    # remove hashtag, colon, leading and trailing spaces\n",
    "    # we are using a regular expression to remove hash signs\n",
    "    # to avoid removing the # in C# jobs\n",
    "    if text is np.nan:\n",
    "        return text\n",
    "    hashtag_regex = re.compile(r\"\\B#\")\n",
    "    text = text.lower()\n",
    "    text = hashtag_regex.sub(\"\", text)\n",
    "    text = text.replace(\":\", \"\")\n",
    "    text = text.strip()\n",
    "    return text\n"
   ]
  },
  {
   "cell_type": "markdown",
   "metadata": {},
   "source": [
    "checking data before cleaning it\n"
   ]
  },
  {
   "cell_type": "code",
   "execution_count": 123,
   "metadata": {},
   "outputs": [
    {
     "data": {
      "text/plain": [
       "427"
      ]
     },
     "execution_count": 123,
     "metadata": {},
     "output_type": "execute_result"
    }
   ],
   "source": [
    "data.job_title.nunique()\n"
   ]
  },
  {
   "cell_type": "markdown",
   "metadata": {},
   "source": [
    "there's 427 unique job titles in dataset, we will try to reduce that number\n"
   ]
  },
  {
   "cell_type": "code",
   "execution_count": 124,
   "metadata": {},
   "outputs": [
    {
     "data": {
      "text/plain": [
       "366"
      ]
     },
     "execution_count": 124,
     "metadata": {},
     "output_type": "execute_result"
    }
   ],
   "source": [
    "# cleaning job title column\n",
    "data.job_title = data.job_title.apply(lambda title: clean_text(title))\n",
    "data.job_title.nunique()\n"
   ]
  },
  {
   "cell_type": "code",
   "execution_count": 125,
   "metadata": {},
   "outputs": [
    {
     "name": "stdout",
     "output_type": "stream",
     "text": [
      "341\n"
     ]
    }
   ],
   "source": [
    "# craft position from the job post and remove it from the title\n",
    "\n",
    "experience = data.job_title.apply(\n",
    "    lambda x: np.nan\n",
    "    if x is np.nan\n",
    "    else \"senior\"\n",
    "    if \"senior\" in x\n",
    "    else \"mid\"\n",
    "    if \"mid\" in x\n",
    "    else \"junior\"\n",
    "    if \"junior\" in x\n",
    "    else np.nan\n",
    ")\n",
    "data[\"abstract_title\"] = data.job_title.apply(\n",
    "    lambda x: x.replace(\"senior\", \"\").replace(\"junior\", \"\").replace(\"mid\", \"\").strip()\n",
    "    if x is not np.nan\n",
    "    else np.nan\n",
    ")\n",
    "print(data.abstract_title.nunique())\n"
   ]
  },
  {
   "cell_type": "markdown",
   "metadata": {},
   "source": [
    "removing experience level from job title decreased unique job titles by 25\n"
   ]
  },
  {
   "cell_type": "code",
   "execution_count": 126,
   "metadata": {},
   "outputs": [],
   "source": [
    "def abstract_job_title(title):\n",
    "    if title is np.nan:\n",
    "        return title\n",
    "    abstract_titles = {\n",
    "        \"full-stack\": [\n",
    "            \"full stack\",\n",
    "            \"fullstack\",\n",
    "            \"full-stack\",\n",
    "            \"(laravel + vue.js)\",\n",
    "            \"(laravel+vue.js)\",\n",
    "            \"flutter / laravel developer\",\n",
    "            \"laravel and reactjs\",\n",
    "        ],\n",
    "        \"front-end\": [\n",
    "            \"front end\",\n",
    "            \"frontend\",\n",
    "            \"front-end\",\n",
    "            \"react js developer\",\n",
    "            \"react.js developer\",\n",
    "            \"reactjs developer\",\n",
    "            \"vue.js developer\",\n",
    "            \"vue developer\",\n",
    "            \"front developer\",\n",
    "            \"angular developers\",\n",
    "        ],\n",
    "        \"back-end\": [\n",
    "            \"back end\",\n",
    "            \"backend\",\n",
    "            \"back_end\",\n",
    "            \"back-end\",\n",
    "            \"laravel developer\",\n",
    "            \"laravel php developer\",\n",
    "        ],\n",
    "        \"ui/ux designer\": [\"ui/ux\", \"ux/ui\", \"ui \", \"ui\\\\ux\", \"ui-ux\"],\n",
    "        \".net developer\": [\".net core developer\", \".net developer\", \".net server\"],\n",
    "        \"mobile app developer\": [\n",
    "            \"mobile app\",\n",
    "            \"mobile \",\n",
    "            \"moobile app\",\n",
    "            \"(mobile)\",\n",
    "            \"flutter developer\",\n",
    "            \"ios developer\",\n",
    "            \"android developer\",\n",
    "        ],\n",
    "        \"motion designer\": [\n",
    "            \"motion graphic designer\",\n",
    "            \"video graphic designer\",\n",
    "            \"motion graphics\",\n",
    "        ],\n",
    "        \"graphic designer\": [\n",
    "            \"graphic designer\",\n",
    "            \"graphic_designer\",\n",
    "            \"graphic designers\",\n",
    "        ],\n",
    "        \"social media manager\": [\n",
    "            \"social media\",\n",
    "            \"youtube channels manger\",\n",
    "            \"blog manager\",\n",
    "        ],\n",
    "        \"sales\": [\"sales\"],\n",
    "        \"web developer\": [\n",
    "            \"web developer\",\n",
    "            \"web_developer\",\n",
    "            \"web/app developer\",\n",
    "            \"website developer\",\n",
    "            \"_web_developer\",\n",
    "            \"web designer\",\n",
    "            \"web application developer\",\n",
    "            \"web developers\",\n",
    "        ],\n",
    "        \"software developer\": [\n",
    "            \"software developer\",\n",
    "            \"software developers\",\n",
    "            \"softwaredeveloper\",\n",
    "        ],\n",
    "        \"digital marketing\": [\n",
    "            \"digital marketing manager\",\n",
    "            \"digital marketer\",\n",
    "            \"digital marketing executives\",\n",
    "            \"manager of marketing\",\n",
    "            \"marketing manager\",\n",
    "        ],\n",
    "        \"network and system administrator\": [\n",
    "            \"network & system administrator\",\n",
    "            \"network and system administrator\",\n",
    "            \"network & systems administrator\",\n",
    "            \"network and system auditor\",\n",
    "            \"networks & servers specialist\",\n",
    "        ],\n",
    "        \"accountant\": [\n",
    "            \"accounting manager\",\n",
    "            \"accountant\",\n",
    "            \"accountants\",\n",
    "            \"chief accountant\",\n",
    "        ],\n",
    "        \"quality assurance\": [\n",
    "            \"quality assurance\",\n",
    "            \"software quality\",\n",
    "            \"qa engineer\",\n",
    "            \"software_qa_tester\",\n",
    "            \"software qa tester\",\n",
    "            \"software_manual_tester\",\n",
    "            \"software_tester\",\n",
    "            \"software test engineer\",\n",
    "            \"qa tester\",\n",
    "        ],\n",
    "        \"human resources\": [\n",
    "            \"hr officer\",\n",
    "            \"hr specialist\",\n",
    "            \"hr recruiter\",\n",
    "            \"human_resources\",\n",
    "            \"human resources\",\n",
    "        ],\n",
    "        \"content creator\": [\"content\", \"copy writer\", \"news editor\"],\n",
    "        \"secretary\": [\"secretary\"],\n",
    "    }\n",
    "    sub = title\n",
    "    for k, v in abstract_titles.items():\n",
    "        for kw in v:\n",
    "            if kw in sub:\n",
    "                sub = k\n",
    "                # print(sub)\n",
    "    return sub\n"
   ]
  },
  {
   "cell_type": "code",
   "execution_count": 127,
   "metadata": {},
   "outputs": [
    {
     "data": {
      "text/plain": [
       "170"
      ]
     },
     "execution_count": 127,
     "metadata": {},
     "output_type": "execute_result"
    }
   ],
   "source": [
    "data.abstract_title.apply(abstract_job_title).nunique()\n"
   ]
  },
  {
   "cell_type": "code",
   "execution_count": 128,
   "metadata": {},
   "outputs": [],
   "source": [
    "data[\"abstract_title\"] = data.abstract_title.apply(abstract_job_title)\n",
    "data[\"experience\"] = experience\n"
   ]
  },
  {
   "cell_type": "code",
   "execution_count": 129,
   "metadata": {},
   "outputs": [
    {
     "data": {
      "text/plain": [
       "(877, 19)"
      ]
     },
     "execution_count": 129,
     "metadata": {},
     "output_type": "execute_result"
    }
   ],
   "source": [
    "data.shape\n"
   ]
  },
  {
   "cell_type": "code",
   "execution_count": 130,
   "metadata": {},
   "outputs": [
    {
     "data": {
      "text/html": [
       "<div>\n",
       "<style scoped>\n",
       "    .dataframe tbody tr th:only-of-type {\n",
       "        vertical-align: middle;\n",
       "    }\n",
       "\n",
       "    .dataframe tbody tr th {\n",
       "        vertical-align: top;\n",
       "    }\n",
       "\n",
       "    .dataframe thead th {\n",
       "        text-align: right;\n",
       "    }\n",
       "</style>\n",
       "<table border=\"1\" class=\"dataframe\">\n",
       "  <thead>\n",
       "    <tr style=\"text-align: right;\">\n",
       "      <th></th>\n",
       "      <th>id</th>\n",
       "      <th>date</th>\n",
       "      <th>photo</th>\n",
       "      <th>text</th>\n",
       "      <th>text_entities</th>\n",
       "      <th>raw_text</th>\n",
       "      <th>type</th>\n",
       "      <th>ocr_res</th>\n",
       "      <th>full_text</th>\n",
       "      <th>description</th>\n",
       "      <th>job_title</th>\n",
       "      <th>company_name</th>\n",
       "      <th>salary</th>\n",
       "      <th>location</th>\n",
       "      <th>job_type</th>\n",
       "      <th>years_of_experience</th>\n",
       "      <th>skills</th>\n",
       "      <th>abstract_title</th>\n",
       "      <th>experience</th>\n",
       "    </tr>\n",
       "  </thead>\n",
       "  <tbody>\n",
       "    <tr>\n",
       "      <th>0</th>\n",
       "      <td>1567</td>\n",
       "      <td>2022-01-02 13:46:28</td>\n",
       "      <td>photos/photo_1205@02-01-2022_13-46-28.jpg</td>\n",
       "      <td>['Job Title:', {'type': 'hashtag', 'text': '#s...</td>\n",
       "      <td>[{'type': 'plain', 'text': 'Job Title:'}, {'ty...</td>\n",
       "      <td>Job Title:#senior and a junior #developer\\n \\n...</td>\n",
       "      <td>job_post</td>\n",
       "      <td>We are on the hunt for a JUNIOR/SENIOR Develop...</td>\n",
       "      <td>Job Title:#senior and a junior #developer\\n \\n...</td>\n",
       "      <td>\\nJob Title: Junior/Senior Developer\\nCompany ...</td>\n",
       "      <td>junior/senior developer</td>\n",
       "      <td>NaN</td>\n",
       "      <td>NaN</td>\n",
       "      <td>NaN</td>\n",
       "      <td>full-time</td>\n",
       "      <td>extensive</td>\n",
       "      <td>php, laravel, sql, javascript, html5, css, boo...</td>\n",
       "      <td>/ developer</td>\n",
       "      <td>senior</td>\n",
       "    </tr>\n",
       "    <tr>\n",
       "      <th>1</th>\n",
       "      <td>1568</td>\n",
       "      <td>2022-01-03 11:09:36</td>\n",
       "      <td>photos/photo_1206@03-01-2022_11-09-36.jpg</td>\n",
       "      <td>['Job Title:', {'type': 'hashtag', 'text': '#c...</td>\n",
       "      <td>[{'type': 'plain', 'text': 'Job Title:'}, {'ty...</td>\n",
       "      <td>Job Title:#cashier\\nJob Type: #full_time\\n \\nش...</td>\n",
       "      <td>job_post</td>\n",
       "      <td>Jolgi Job Type:Full Time Send your CV to m.jaw...</td>\n",
       "      <td>Job Title:#cashier\\nJob Type: #full_time\\n \\nش...</td>\n",
       "      <td>\\nJob Title: Cashier\\nCompany Name: Euroline-R...</td>\n",
       "      <td>cashier</td>\n",
       "      <td>euroline-rent</td>\n",
       "      <td>NaN</td>\n",
       "      <td>damascus</td>\n",
       "      <td>full time</td>\n",
       "      <td>3</td>\n",
       "      <td>english language, jobseekers, jobseeker, inter...</td>\n",
       "      <td>cashier</td>\n",
       "      <td>NaN</td>\n",
       "    </tr>\n",
       "    <tr>\n",
       "      <th>2</th>\n",
       "      <td>1569</td>\n",
       "      <td>2022-01-03 14:28:11</td>\n",
       "      <td>photos/photo_1207@03-01-2022_14-28-11.jpg</td>\n",
       "      <td>['Company: ', {'type': 'hashtag', 'text': '#Na...</td>\n",
       "      <td>[{'type': 'plain', 'text': 'Company: '}, {'typ...</td>\n",
       "      <td>Company: #National_Technology_Group #NTG)\\nJob...</td>\n",
       "      <td>job_post</td>\n",
       "      <td>JOIN OURTEAM We're Hiring. NET DEVELOPER +lyea...</td>\n",
       "      <td>Company: #National_Technology_Group #NTG)\\nJob...</td>\n",
       "      <td>\\nJob title: .NET Developer\\nCompany Name: Nat...</td>\n",
       "      <td>.net developer</td>\n",
       "      <td>national technology group (ntg)</td>\n",
       "      <td>NaN</td>\n",
       "      <td>damascus</td>\n",
       "      <td>full time onsite</td>\n",
       "      <td>1</td>\n",
       "      <td>asp core, reactjs</td>\n",
       "      <td>.net developer</td>\n",
       "      <td>NaN</td>\n",
       "    </tr>\n",
       "    <tr>\n",
       "      <th>3</th>\n",
       "      <td>1570</td>\n",
       "      <td>2022-01-03 17:12:13</td>\n",
       "      <td>photos/photo_1208@03-01-2022_17-12-13.jpg</td>\n",
       "      <td>['Job title: ', {'type': 'hashtag', 'text': '#...</td>\n",
       "      <td>[{'type': 'plain', 'text': 'Job title: '}, {'t...</td>\n",
       "      <td>Job title: #Employees for Operations Departmen...</td>\n",
       "      <td>job_post</td>\n",
       "      <td>Job Vacancy Employees for Operations Departmen...</td>\n",
       "      <td>Job title: #Employees for Operations Departmen...</td>\n",
       "      <td>\\nCompany Name: None\\nSalary: None\\nYears of E...</td>\n",
       "      <td>operations department</td>\n",
       "      <td>NaN</td>\n",
       "      <td>NaN</td>\n",
       "      <td>on: #Damascus</td>\n",
       "      <td>#Full_Time</td>\n",
       "      <td>NaN</td>\n",
       "      <td>perfect knowledge &amp; use for english, basic com...</td>\n",
       "      <td>operations department</td>\n",
       "      <td>NaN</td>\n",
       "    </tr>\n",
       "    <tr>\n",
       "      <th>4</th>\n",
       "      <td>1571</td>\n",
       "      <td>2022-01-03 19:16:11</td>\n",
       "      <td>photos/photo_1209@03-01-2022_19-16-11.jpg</td>\n",
       "      <td>[{'type': 'link', 'text': 'https://www.faceboo...</td>\n",
       "      <td>[{'type': 'link', 'text': 'https://www.faceboo...</td>\n",
       "      <td>https://www.facebook.com/384708578676644/posts...</td>\n",
       "      <td>link</td>\n",
       "      <td>Jmloi AWASOL Developer Remotely Send your CV t...</td>\n",
       "      <td>https://www.facebook.com/384708578676644/posts...</td>\n",
       "      <td>\\nJob Title: AWASOL Developer \\nCompany Name: ...</td>\n",
       "      <td>awasol developer</td>\n",
       "      <td>smartech-sy</td>\n",
       "      <td>NaN</td>\n",
       "      <td>remotely</td>\n",
       "      <td>NaN</td>\n",
       "      <td>NaN</td>\n",
       "      <td>NaN</td>\n",
       "      <td>awasol developer</td>\n",
       "      <td>NaN</td>\n",
       "    </tr>\n",
       "  </tbody>\n",
       "</table>\n",
       "</div>"
      ],
      "text/plain": [
       "     id                 date                                      photo  \\\n",
       "0  1567  2022-01-02 13:46:28  photos/photo_1205@02-01-2022_13-46-28.jpg   \n",
       "1  1568  2022-01-03 11:09:36  photos/photo_1206@03-01-2022_11-09-36.jpg   \n",
       "2  1569  2022-01-03 14:28:11  photos/photo_1207@03-01-2022_14-28-11.jpg   \n",
       "3  1570  2022-01-03 17:12:13  photos/photo_1208@03-01-2022_17-12-13.jpg   \n",
       "4  1571  2022-01-03 19:16:11  photos/photo_1209@03-01-2022_19-16-11.jpg   \n",
       "\n",
       "                                                text  \\\n",
       "0  ['Job Title:', {'type': 'hashtag', 'text': '#s...   \n",
       "1  ['Job Title:', {'type': 'hashtag', 'text': '#c...   \n",
       "2  ['Company: ', {'type': 'hashtag', 'text': '#Na...   \n",
       "3  ['Job title: ', {'type': 'hashtag', 'text': '#...   \n",
       "4  [{'type': 'link', 'text': 'https://www.faceboo...   \n",
       "\n",
       "                                       text_entities  \\\n",
       "0  [{'type': 'plain', 'text': 'Job Title:'}, {'ty...   \n",
       "1  [{'type': 'plain', 'text': 'Job Title:'}, {'ty...   \n",
       "2  [{'type': 'plain', 'text': 'Company: '}, {'typ...   \n",
       "3  [{'type': 'plain', 'text': 'Job title: '}, {'t...   \n",
       "4  [{'type': 'link', 'text': 'https://www.faceboo...   \n",
       "\n",
       "                                            raw_text      type  \\\n",
       "0  Job Title:#senior and a junior #developer\\n \\n...  job_post   \n",
       "1  Job Title:#cashier\\nJob Type: #full_time\\n \\nش...  job_post   \n",
       "2  Company: #National_Technology_Group #NTG)\\nJob...  job_post   \n",
       "3  Job title: #Employees for Operations Departmen...  job_post   \n",
       "4  https://www.facebook.com/384708578676644/posts...      link   \n",
       "\n",
       "                                             ocr_res  \\\n",
       "0  We are on the hunt for a JUNIOR/SENIOR Develop...   \n",
       "1  Jolgi Job Type:Full Time Send your CV to m.jaw...   \n",
       "2  JOIN OURTEAM We're Hiring. NET DEVELOPER +lyea...   \n",
       "3  Job Vacancy Employees for Operations Departmen...   \n",
       "4  Jmloi AWASOL Developer Remotely Send your CV t...   \n",
       "\n",
       "                                           full_text  \\\n",
       "0  Job Title:#senior and a junior #developer\\n \\n...   \n",
       "1  Job Title:#cashier\\nJob Type: #full_time\\n \\nش...   \n",
       "2  Company: #National_Technology_Group #NTG)\\nJob...   \n",
       "3  Job title: #Employees for Operations Departmen...   \n",
       "4  https://www.facebook.com/384708578676644/posts...   \n",
       "\n",
       "                                         description                job_title  \\\n",
       "0  \\nJob Title: Junior/Senior Developer\\nCompany ...  junior/senior developer   \n",
       "1  \\nJob Title: Cashier\\nCompany Name: Euroline-R...                  cashier   \n",
       "2  \\nJob title: .NET Developer\\nCompany Name: Nat...           .net developer   \n",
       "3  \\nCompany Name: None\\nSalary: None\\nYears of E...    operations department   \n",
       "4  \\nJob Title: AWASOL Developer \\nCompany Name: ...         awasol developer   \n",
       "\n",
       "                      company_name salary       location          job_type  \\\n",
       "0                              NaN    NaN            NaN         full-time   \n",
       "1                    euroline-rent    NaN       damascus         full time   \n",
       "2  national technology group (ntg)    NaN       damascus  full time onsite   \n",
       "3                              NaN    NaN  on: #Damascus        #Full_Time   \n",
       "4                      smartech-sy    NaN       remotely               NaN   \n",
       "\n",
       "  years_of_experience                                             skills  \\\n",
       "0           extensive  php, laravel, sql, javascript, html5, css, boo...   \n",
       "1                   3  english language, jobseekers, jobseeker, inter...   \n",
       "2                   1                                  asp core, reactjs   \n",
       "3                 NaN  perfect knowledge & use for english, basic com...   \n",
       "4                 NaN                                                NaN   \n",
       "\n",
       "          abstract_title experience  \n",
       "0            / developer     senior  \n",
       "1                cashier        NaN  \n",
       "2         .net developer        NaN  \n",
       "3  operations department        NaN  \n",
       "4       awasol developer        NaN  "
      ]
     },
     "execution_count": 130,
     "metadata": {},
     "output_type": "execute_result"
    }
   ],
   "source": [
    "data.head()\n"
   ]
  },
  {
   "cell_type": "code",
   "execution_count": 131,
   "metadata": {},
   "outputs": [
    {
     "data": {
      "image/png": "[encoded data removed]",
      "text/plain": [
       "<PIL.Image.Image image mode=RGB size=400x200>"
      ]
     },
     "execution_count": 131,
     "metadata": {},
     "output_type": "execute_result"
    }
   ],
   "source": [
    "# creating word cloud to form a higher understanding of titles\n",
    "long_string = \",\".join(\n",
    "    list(\n",
    "        data.loc[data.abstract_title.notna()]\n",
    "        .abstract_title.apply(abstract_job_title)\n",
    "        .values\n",
    "    )\n",
    ")\n",
    "\n",
    "wordcloud = WordCloud(\n",
    "    background_color=\"white\", max_words=5000, contour_width=3, contour_color=\"steelblue\"\n",
    ")\n",
    "\n",
    "wordcloud.generate(long_string)\n",
    "\n",
    "wordcloud.to_image()\n"
   ]
  },
  {
   "cell_type": "markdown",
   "metadata": {},
   "source": [
    "as the word cloud shows, **front-end** , **back-end**, **ui-ux designer** and **full-stack** are the top words in job posts title <br>\n",
    "\n",
    "we can see also keywords such as software developer, graphic designer, and mobile app\n"
   ]
  },
  {
   "cell_type": "code",
   "execution_count": 132,
   "metadata": {},
   "outputs": [],
   "source": [
    "data.to_csv(\"../data/data_v6.csv\", index=False)\n"
   ]
  },
  {
   "cell_type": "markdown",
   "metadata": {},
   "source": [
    "### Conclusion\n",
    "\n",
    "- job titles were cleaned\n",
    "- new _experience_ column was created\n",
    "- new _abstract_title_ column was created\n"
   ]
  },
  {
   "attachments": {},
   "cell_type": "markdown",
   "metadata": {},
   "source": [
    "## Cleaning Job Columns\n",
    "data needs some further cleaning steps, the info extracted using ChatGPT is not ready to be used in our analysis <br>\n",
    "the following columns should be cleaned and unified:\n",
    "- Company Name (remove punctuation and names that we know are not official names)\n",
    "- Job title (job titles that belong to the same group should be together)\n",
    "- Salary column\n",
    "- Job Type\n",
    "- Location\n",
    "- Years of experience\n"
   ]
  },
  {
   "attachments": {},
   "cell_type": "markdown",
   "metadata": {},
   "source": [
    "## Cleaning **Company Name** column"
   ]
  },
  {
   "cell_type": "code",
   "execution_count": 402,
   "metadata": {},
   "outputs": [],
   "source": [
    "data = pd.read_csv(\"../data/data_v6.csv\")"
   ]
  },
  {
   "cell_type": "code",
   "execution_count": 403,
   "metadata": {},
   "outputs": [
    {
     "name": "stdout",
     "output_type": "stream",
     "text": [
      "Number of non empty Company Names: 701\n",
      "Number of Unique Company Names: 301\n"
     ]
    }
   ],
   "source": [
    "print(f\"Number of non empty Company Names: {data.company_name.notna().sum()}\")\n",
    "print(f\"Number of Unique Company Names: {data.company_name.nunique()}\")"
   ]
  },
  {
   "cell_type": "code",
   "execution_count": 404,
   "metadata": {},
   "outputs": [
    {
     "data": {
      "text/plain": [
       "258"
      ]
     },
     "execution_count": 404,
     "metadata": {},
     "output_type": "execute_result"
    }
   ],
   "source": [
    "def fix_company_name(text):\n",
    "    if text is np.nan:\n",
    "        return text\n",
    "    \n",
    "    text = re.sub(r\"#|(tawasol(_job)?)|none\" , \"\" , text)\n",
    "    text = text.lower().strip()\n",
    "\n",
    "    return text\n",
    "\n",
    "\n",
    "data.company_name.apply(fix_company_name).nunique()"
   ]
  },
  {
   "cell_type": "code",
   "execution_count": 405,
   "metadata": {},
   "outputs": [],
   "source": [
    "data.company_name = data.company_name.apply(fix_company_name)"
   ]
  },
  {
   "cell_type": "code",
   "execution_count": 311,
   "metadata": {},
   "outputs": [],
   "source": [
    "data.to_csv(\"../data/data_v6.6.csv\",index=False)"
   ]
  },
  {
   "attachments": {},
   "cell_type": "markdown",
   "metadata": {},
   "source": [
    "we cannot do much in here because company names are **Named Entities** so it can take any value, especially when we are analyzing job posts in an Arabian market, arabic company names can be bizzar. <br>\n",
    "but using simple operations we managed to decrease the unique names from 301 to 258"
   ]
  },
  {
   "attachments": {},
   "cell_type": "markdown",
   "metadata": {},
   "source": [
    "## Fixing Salary Column"
   ]
  },
  {
   "cell_type": "code",
   "execution_count": 371,
   "metadata": {},
   "outputs": [],
   "source": [
    "data = pd.read_csv(\"../data/data_v6.6.csv\")\n"
   ]
  },
  {
   "cell_type": "code",
   "execution_count": 406,
   "metadata": {},
   "outputs": [
    {
     "data": {
      "text/plain": [
       "101"
      ]
     },
     "execution_count": 406,
     "metadata": {},
     "output_type": "execute_result"
    }
   ],
   "source": [
    "data.salary.nunique()"
   ]
  },
  {
   "cell_type": "code",
   "execution_count": 407,
   "metadata": {
    "collapsed": true,
    "jupyter": {
     "outputs_hidden": true
    },
    "tags": []
   },
   "outputs": [],
   "source": [
    "def fix_salary(salary):\n",
    "    if salary is np.nan:\n",
    "        return salary\n",
    "\n",
    "    if not re.search(\"\\d+\", salary):\n",
    "        return np.nan\n",
    "\n",
    "    salary = re.sub(r\"syp|sp|l\\.s|syrian lira|syrian pound(s)?|s\\.p\", \" SYP\", salary)\n",
    "    salary = re.sub(r\"dollar|usd|\\$|\\ds$\", \" USD\", salary)\n",
    "    salary = re.sub(r\",|#|~|'|\\.|:\", \"\", salary)\n",
    "    salary = re.sub(r\" million(s)?|(?<=\\d)m\", \"000000\", salary)\n",
    "    salary = re.sub(r\"(?<=\\d)\\s+(?=\\d{3}\\s)\", \"\", salary)\n",
    "    salary = re.sub(r\"per month|starting from|up to\", \"\", salary)\n",
    "    salary = salary.strip()\n",
    "    salary = re.sub(r\"(?<=0{3})$\", \" SYP\", salary)\n",
    "    salary = re.sub(r\"(?<=0{2})$\", \" USD\", salary)\n",
    "    salary = re.sub(r\"SYP\\s+\", \"\", salary)\n",
    "    salary = re.sub(\"to|-|/\", \" - \", salary)\n",
    "    salary = re.sub(r\"\\s+\", \" \", salary)\n",
    "    salary = re.sub(r\"(?<=^\\d{2})\\s(?=-)\", \"00000 \", salary)\n",
    "    salary = re.sub(r\"(?<=^\\d{1})\\s(?=-)\", \"000000 \", salary)\n",
    "\n",
    "    if \"SYP\" not in salary and \"USD\" not in salary:\n",
    "        return np.nan\n",
    "\n",
    "    match = re.findall(\"\\d+\", salary)\n",
    "    if \"SYP\" in salary:\n",
    "        for item in match:\n",
    "            if int(item) < 100000:\n",
    "                salary = np.nan\n",
    "                break\n",
    "\n",
    "    if \"USD\" in match:\n",
    "        for item in match:\n",
    "            if int(item) > 10000:\n",
    "                salary = np.nan\n",
    "                break\n",
    "\n",
    "    if match and len(match) > 2:\n",
    "        salary = np.nan\n",
    "\n",
    "    return salary\n"
   ]
  },
  {
   "cell_type": "code",
   "execution_count": 408,
   "metadata": {},
   "outputs": [
    {
     "name": "stdout",
     "output_type": "stream",
     "text": [
      "27\n"
     ]
    }
   ],
   "source": [
    "data.salary = data.salary.apply(fix_salary)\n",
    "print(data.salary.nunique())"
   ]
  },
  {
   "cell_type": "code",
   "execution_count": 377,
   "metadata": {},
   "outputs": [],
   "source": [
    "data.to_csv(\"../data/data_v6.7.csv\" , index=False)"
   ]
  },
  {
   "attachments": {},
   "cell_type": "markdown",
   "metadata": {},
   "source": [
    "## Fixing location column\n",
    "we will use spacy library to detect geolaction named entities from text\n"
   ]
  },
  {
   "cell_type": "code",
   "execution_count": 380,
   "metadata": {},
   "outputs": [],
   "source": [
    "data = pd.read_csv(\"../data/data_v6.7.csv\")\n"
   ]
  },
  {
   "cell_type": "code",
   "execution_count": 409,
   "metadata": {},
   "outputs": [
    {
     "data": {
      "text/plain": [
       "106"
      ]
     },
     "execution_count": 409,
     "metadata": {},
     "output_type": "execute_result"
    }
   ],
   "source": [
    "data.location.nunique()\n"
   ]
  },
  {
   "cell_type": "code",
   "execution_count": 410,
   "metadata": {},
   "outputs": [],
   "source": [
    "import spacy\n",
    "\n",
    "nlp = spacy.load(\"en_core_web_sm\")"
   ]
  },
  {
   "cell_type": "code",
   "execution_count": 411,
   "metadata": {},
   "outputs": [],
   "source": [
    "def extract_location(location):\n",
    "    if location == np.nan:\n",
    "        return location\n",
    "    loc = \"\"\n",
    "\n",
    "    if \"remote\" in location:\n",
    "        loc = \"remotely\"\n",
    "\n",
    "    doc = nlp(location)\n",
    "    for ent in doc.ents:\n",
    "        if ent.label_ == \"GPE\":\n",
    "            if loc == \"remotely\":\n",
    "                loc = \"(hybrid) remotely\"\n",
    "            loc += \" \" + ent.text\n",
    "\n",
    "    return loc.strip().lower()"
   ]
  },
  {
   "cell_type": "code",
   "execution_count": 412,
   "metadata": {},
   "outputs": [],
   "source": [
    "data.location = data.location.astype(\"str\").apply(extract_location)\n"
   ]
  },
  {
   "cell_type": "code",
   "execution_count": 413,
   "metadata": {},
   "outputs": [
    {
     "data": {
      "text/plain": [
       "array(['nan', 'damascus', 'remotely', '', '(hybrid) remotely damascus',\n",
       "       'qassa damascus syria', '(hybrid) remotely istanbul turkey',\n",
       "       'iraq', 'damascus syria', 'syria', 'dubai', 'lebanon',\n",
       "       'syria damascus', 'damascus baghdad', 'damascus latakia',\n",
       "       'damascus adnan', '(hybrid) remotely lebanon syria egypt turkey',\n",
       "       'germany', 'damascus syria syria', 'damascus dubai baghdad'],\n",
       "      dtype=object)"
      ]
     },
     "execution_count": 413,
     "metadata": {},
     "output_type": "execute_result"
    }
   ],
   "source": [
    "data.location.unique()\n"
   ]
  },
  {
   "cell_type": "code",
   "execution_count": 395,
   "metadata": {},
   "outputs": [],
   "source": [
    "data.to_csv(\"../data/data_v6.8.csv\", index=False)\n"
   ]
  },
  {
   "attachments": {},
   "cell_type": "markdown",
   "metadata": {},
   "source": [
    "### Fixing Years of Experience column\n"
   ]
  },
  {
   "cell_type": "code",
   "execution_count": 414,
   "metadata": {},
   "outputs": [
    {
     "data": {
      "text/plain": [
       "134"
      ]
     },
     "execution_count": 414,
     "metadata": {},
     "output_type": "execute_result"
    }
   ],
   "source": [
    "data.years_of_experience.nunique()\n"
   ]
  },
  {
   "cell_type": "code",
   "execution_count": 415,
   "metadata": {},
   "outputs": [],
   "source": [
    "def fix_experience_years(text):\n",
    "    if text is np.nan:\n",
    "        return text\n",
    "    numbers = {\n",
    "        \"one \": \"1 \",\n",
    "        \"two \": \"2 \",\n",
    "        \"three\": \"3\",\n",
    "        \"four \": \"4 \",\n",
    "        \"five \": \"5 \",\n",
    "        \"six \": \"6 \",\n",
    "        \"seven \": \"7 \",\n",
    "        \"eight \": \"8 \",\n",
    "        \"nine \": \"9 \",\n",
    "        \"ten \": \"10 \",\n",
    "    }\n",
    "    numbers_re = re.compile(\"|\".join(numbers.keys()))\n",
    "\n",
    "    text = numbers_re.sub(lambda x: numbers[x.group()], text)\n",
    "    text = re.sub(\"fresh \", \"0 year\", text)\n",
    "\n",
    "    if not re.search(\"\\d\", text):\n",
    "        return np.nan\n",
    "\n",
    "    match = re.findall(r\"\\b\\d+\\b\", text)\n",
    "    if match:\n",
    "        numbers_set = np.array(list(set(match)), dtype=\"int32\")\n",
    "        return np.floor(numbers_set.mean())\n",
    "    return np.nan"
   ]
  },
  {
   "cell_type": "code",
   "execution_count": 416,
   "metadata": {},
   "outputs": [],
   "source": [
    "data[\"avg_exp_years\"] = data.years_of_experience.apply(fix_experience_years)\n"
   ]
  },
  {
   "cell_type": "code",
   "execution_count": 417,
   "metadata": {},
   "outputs": [
    {
     "data": {
      "text/plain": [
       "13"
      ]
     },
     "execution_count": 417,
     "metadata": {},
     "output_type": "execute_result"
    }
   ],
   "source": [
    "data.avg_exp_years.nunique()"
   ]
  },
  {
   "cell_type": "code",
   "execution_count": 216,
   "metadata": {},
   "outputs": [],
   "source": [
    "data.to_csv(\"../data/data_v6.4.csv\", index=False)\n"
   ]
  },
  {
   "attachments": {},
   "cell_type": "markdown",
   "metadata": {},
   "source": [
    "### Fixing Job Type column"
   ]
  },
  {
   "cell_type": "code",
   "execution_count": 418,
   "metadata": {},
   "outputs": [
    {
     "data": {
      "text/plain": [
       "116"
      ]
     },
     "execution_count": 418,
     "metadata": {},
     "output_type": "execute_result"
    }
   ],
   "source": [
    "data.job_type.nunique()"
   ]
  },
  {
   "cell_type": "code",
   "execution_count": 419,
   "metadata": {},
   "outputs": [],
   "source": [
    "def fix_job_type(text):\n",
    "    if text is np.nan:\n",
    "        return text\n",
    "\n",
    "    text = text.lower().strip()\n",
    "    text = re.sub(r\"#|_\", \"\", text)\n",
    "    text = re.sub(r\"(full time)|(fulltime)|(full_time)\", \"full-time\", text)\n",
    "    text = re.sub(r\"(part time)|(parttime)|(part_time)\", \"part-time\", text)\n",
    "\n",
    "    res = \"\"\n",
    "    if \"full-time\" in text:\n",
    "        res += \"full-time \"\n",
    "    if \"part-time\" in text:\n",
    "        res += \"part-time \"\n",
    "    if \"freelance\" in text:\n",
    "        res += \"freelance\"\n",
    "    if \"train\" in text:\n",
    "        res += \"training \"\n",
    "    if \"free time\" in text or \"task bas\" in text:\n",
    "        res += \"task based \"\n",
    "\n",
    "    if res == \"\":\n",
    "        return np.nan\n",
    "\n",
    "    return res.strip()\n"
   ]
  },
  {
   "cell_type": "code",
   "execution_count": 420,
   "metadata": {},
   "outputs": [],
   "source": [
    "data['job_type'] = data.job_type.apply(fix_job_type)"
   ]
  },
  {
   "cell_type": "code",
   "execution_count": 421,
   "metadata": {},
   "outputs": [
    {
     "data": {
      "text/plain": [
       "7"
      ]
     },
     "execution_count": 421,
     "metadata": {},
     "output_type": "execute_result"
    }
   ],
   "source": [
    "data.job_type.nunique()"
   ]
  },
  {
   "cell_type": "code",
   "execution_count": 279,
   "metadata": {},
   "outputs": [],
   "source": [
    "data.to_csv(\"../data/data_v6.5.csv\" , index=False)"
   ]
  },
  {
   "attachments": {},
   "cell_type": "markdown",
   "metadata": {},
   "source": [
    "## Summing UP"
   ]
  },
  {
   "cell_type": "code",
   "execution_count": 424,
   "metadata": {},
   "outputs": [],
   "source": [
    "data.to_csv(\"../data/data_v6.9.csv\" , index=False)"
   ]
  },
  {
   "cell_type": "code",
   "execution_count": 3,
   "metadata": {},
   "outputs": [],
   "source": [
    "dirty = pd.read_csv(\"../data/data_v5.4.csv\")\n",
    "cleaned = pd.read_csv(\"../data/data_v6.9.csv\")"
   ]
  },
  {
   "cell_type": "code",
   "execution_count": 5,
   "metadata": {},
   "outputs": [],
   "source": [
    "cols = ['job_title', 'company_name','salary', 'location', 'job_type', 'years_of_experience', 'skills',\n",
    "       'abstract_title', 'experience', 'avg_exp_years']\n",
    "dirty = dirty[cols[:7]]\n",
    "cleaned = cleaned[cols]"
   ]
  },
  {
   "cell_type": "code",
   "execution_count": 6,
   "metadata": {},
   "outputs": [
    {
     "data": {
      "text/html": [
       "<div>\n",
       "<style scoped>\n",
       "    .dataframe tbody tr th:only-of-type {\n",
       "        vertical-align: middle;\n",
       "    }\n",
       "\n",
       "    .dataframe tbody tr th {\n",
       "        vertical-align: top;\n",
       "    }\n",
       "\n",
       "    .dataframe thead th {\n",
       "        text-align: right;\n",
       "    }\n",
       "</style>\n",
       "<table border=\"1\" class=\"dataframe\">\n",
       "  <thead>\n",
       "    <tr style=\"text-align: right;\">\n",
       "      <th></th>\n",
       "      <th>job_title</th>\n",
       "      <th>company_name</th>\n",
       "      <th>salary</th>\n",
       "      <th>location</th>\n",
       "      <th>job_type</th>\n",
       "      <th>years_of_experience</th>\n",
       "      <th>skills</th>\n",
       "    </tr>\n",
       "  </thead>\n",
       "  <tbody>\n",
       "    <tr>\n",
       "      <th>0</th>\n",
       "      <td>junior/senior developer</td>\n",
       "      <td>NaN</td>\n",
       "      <td>NaN</td>\n",
       "      <td>NaN</td>\n",
       "      <td>full-time</td>\n",
       "      <td>extensive</td>\n",
       "      <td>php, laravel, sql, javascript, html5, css, boo...</td>\n",
       "    </tr>\n",
       "    <tr>\n",
       "      <th>1</th>\n",
       "      <td>cashier</td>\n",
       "      <td>euroline-rent</td>\n",
       "      <td>NaN</td>\n",
       "      <td>damascus</td>\n",
       "      <td>full time</td>\n",
       "      <td>3</td>\n",
       "      <td>english language, jobseekers, jobseeker, inter...</td>\n",
       "    </tr>\n",
       "    <tr>\n",
       "      <th>2</th>\n",
       "      <td>.net developer</td>\n",
       "      <td>national technology group (ntg)</td>\n",
       "      <td>NaN</td>\n",
       "      <td>damascus</td>\n",
       "      <td>full time onsite</td>\n",
       "      <td>1</td>\n",
       "      <td>asp core, reactjs</td>\n",
       "    </tr>\n",
       "    <tr>\n",
       "      <th>3</th>\n",
       "      <td>operations department</td>\n",
       "      <td>NaN</td>\n",
       "      <td>NaN</td>\n",
       "      <td>on: #Damascus</td>\n",
       "      <td>#Full_Time</td>\n",
       "      <td>NaN</td>\n",
       "      <td>perfect knowledge &amp; use for english, basic com...</td>\n",
       "    </tr>\n",
       "    <tr>\n",
       "      <th>4</th>\n",
       "      <td>awasol developer</td>\n",
       "      <td>smartech-sy</td>\n",
       "      <td>NaN</td>\n",
       "      <td>remotely</td>\n",
       "      <td>NaN</td>\n",
       "      <td>NaN</td>\n",
       "      <td>NaN</td>\n",
       "    </tr>\n",
       "  </tbody>\n",
       "</table>\n",
       "</div>"
      ],
      "text/plain": [
       "                 job_title                     company_name salary  \\\n",
       "0  junior/senior developer                              NaN    NaN   \n",
       "1                  cashier                    euroline-rent    NaN   \n",
       "2           .net developer  national technology group (ntg)    NaN   \n",
       "3    operations department                              NaN    NaN   \n",
       "4         awasol developer                      smartech-sy    NaN   \n",
       "\n",
       "        location          job_type years_of_experience  \\\n",
       "0            NaN         full-time           extensive   \n",
       "1       damascus         full time                   3   \n",
       "2       damascus  full time onsite                   1   \n",
       "3  on: #Damascus        #Full_Time                 NaN   \n",
       "4       remotely               NaN                 NaN   \n",
       "\n",
       "                                              skills  \n",
       "0  php, laravel, sql, javascript, html5, css, boo...  \n",
       "1  english language, jobseekers, jobseeker, inter...  \n",
       "2                                  asp core, reactjs  \n",
       "3  perfect knowledge & use for english, basic com...  \n",
       "4                                                NaN  "
      ]
     },
     "execution_count": 6,
     "metadata": {},
     "output_type": "execute_result"
    }
   ],
   "source": [
    "dirty.head()"
   ]
  },
  {
   "cell_type": "code",
   "execution_count": 7,
   "metadata": {},
   "outputs": [
    {
     "data": {
      "text/html": [
       "<div>\n",
       "<style scoped>\n",
       "    .dataframe tbody tr th:only-of-type {\n",
       "        vertical-align: middle;\n",
       "    }\n",
       "\n",
       "    .dataframe tbody tr th {\n",
       "        vertical-align: top;\n",
       "    }\n",
       "\n",
       "    .dataframe thead th {\n",
       "        text-align: right;\n",
       "    }\n",
       "</style>\n",
       "<table border=\"1\" class=\"dataframe\">\n",
       "  <thead>\n",
       "    <tr style=\"text-align: right;\">\n",
       "      <th></th>\n",
       "      <th>job_title</th>\n",
       "      <th>company_name</th>\n",
       "      <th>salary</th>\n",
       "      <th>location</th>\n",
       "      <th>job_type</th>\n",
       "      <th>years_of_experience</th>\n",
       "      <th>skills</th>\n",
       "      <th>abstract_title</th>\n",
       "      <th>experience</th>\n",
       "      <th>avg_exp_years</th>\n",
       "    </tr>\n",
       "  </thead>\n",
       "  <tbody>\n",
       "    <tr>\n",
       "      <th>0</th>\n",
       "      <td>junior/senior developer</td>\n",
       "      <td>NaN</td>\n",
       "      <td>NaN</td>\n",
       "      <td>NaN</td>\n",
       "      <td>full-time</td>\n",
       "      <td>extensive</td>\n",
       "      <td>php, laravel, sql, javascript, html5, css, boo...</td>\n",
       "      <td>/ developer</td>\n",
       "      <td>senior</td>\n",
       "      <td>NaN</td>\n",
       "    </tr>\n",
       "    <tr>\n",
       "      <th>1</th>\n",
       "      <td>cashier</td>\n",
       "      <td>euroline-rent</td>\n",
       "      <td>NaN</td>\n",
       "      <td>damascus</td>\n",
       "      <td>full-time</td>\n",
       "      <td>3</td>\n",
       "      <td>english language, jobseekers, jobseeker, inter...</td>\n",
       "      <td>cashier</td>\n",
       "      <td>NaN</td>\n",
       "      <td>3.0</td>\n",
       "    </tr>\n",
       "    <tr>\n",
       "      <th>2</th>\n",
       "      <td>.net developer</td>\n",
       "      <td>national technology group (ntg)</td>\n",
       "      <td>NaN</td>\n",
       "      <td>damascus</td>\n",
       "      <td>full-time</td>\n",
       "      <td>1</td>\n",
       "      <td>asp core, reactjs</td>\n",
       "      <td>.net developer</td>\n",
       "      <td>NaN</td>\n",
       "      <td>1.0</td>\n",
       "    </tr>\n",
       "    <tr>\n",
       "      <th>3</th>\n",
       "      <td>operations department</td>\n",
       "      <td>NaN</td>\n",
       "      <td>NaN</td>\n",
       "      <td>damascus</td>\n",
       "      <td>full-time</td>\n",
       "      <td>NaN</td>\n",
       "      <td>perfect knowledge &amp; use for english, basic com...</td>\n",
       "      <td>operations department</td>\n",
       "      <td>NaN</td>\n",
       "      <td>NaN</td>\n",
       "    </tr>\n",
       "    <tr>\n",
       "      <th>4</th>\n",
       "      <td>awasol developer</td>\n",
       "      <td>smartech-sy</td>\n",
       "      <td>NaN</td>\n",
       "      <td>remotely</td>\n",
       "      <td>NaN</td>\n",
       "      <td>NaN</td>\n",
       "      <td>NaN</td>\n",
       "      <td>awasol developer</td>\n",
       "      <td>NaN</td>\n",
       "      <td>NaN</td>\n",
       "    </tr>\n",
       "  </tbody>\n",
       "</table>\n",
       "</div>"
      ],
      "text/plain": [
       "                 job_title                     company_name salary  location  \\\n",
       "0  junior/senior developer                              NaN    NaN       NaN   \n",
       "1                  cashier                    euroline-rent    NaN  damascus   \n",
       "2           .net developer  national technology group (ntg)    NaN  damascus   \n",
       "3    operations department                              NaN    NaN  damascus   \n",
       "4         awasol developer                      smartech-sy    NaN  remotely   \n",
       "\n",
       "    job_type years_of_experience  \\\n",
       "0  full-time           extensive   \n",
       "1  full-time                   3   \n",
       "2  full-time                   1   \n",
       "3  full-time                 NaN   \n",
       "4        NaN                 NaN   \n",
       "\n",
       "                                              skills         abstract_title  \\\n",
       "0  php, laravel, sql, javascript, html5, css, boo...            / developer   \n",
       "1  english language, jobseekers, jobseeker, inter...                cashier   \n",
       "2                                  asp core, reactjs         .net developer   \n",
       "3  perfect knowledge & use for english, basic com...  operations department   \n",
       "4                                                NaN       awasol developer   \n",
       "\n",
       "  experience  avg_exp_years  \n",
       "0     senior            NaN  \n",
       "1        NaN            3.0  \n",
       "2        NaN            1.0  \n",
       "3        NaN            NaN  \n",
       "4        NaN            NaN  "
      ]
     },
     "execution_count": 7,
     "metadata": {},
     "output_type": "execute_result"
    }
   ],
   "source": [
    "cleaned.head()"
   ]
  },
  {
   "attachments": {},
   "cell_type": "markdown",
   "metadata": {},
   "source": [
    "## Conclusion\n",
    "in this notebook we applied several cleaning steps on our data and that resulted in the following:\n",
    "\n",
    "- **abstract_title** column was created\n",
    "- **experience** column was created with following values (senior, mid, junior)\n",
    "- **avg_experience_years** column was created\n",
    "- **company_name, salary, location, job_type** columns were cleaned inplace\n",
    "- **job_title, years_of_experience and skills** are still the same"
   ]
  },
  {
   "attachments": {},
   "cell_type": "markdown",
   "metadata": {},
   "source": [
    "<table>\n",
    "<tr><th>NaN Count </th><th>Unique Count</th></tr>\n",
    "<tr><td>\n",
    "\n",
    "| | Original Dataframe | Cleaned |\n",
    "|----------|----------|----------|\n",
    "| job_title     | 45 | 45 |\n",
    "| company_name  | 176 | 247 |\n",
    "| salary        | 696 | 833 |\n",
    "| location      | 196 | 277 |\n",
    "| job_type      | 132 | 226 |\n",
    "| years_of_experience| 482 | 482 |\n",
    "| skills        | 238 | 238 |\n",
    "| abstract_title| - | 45 |\n",
    "| experience    | - | 794 |\n",
    "| avg_exp_years | - | 538 |\n",
    "\n",
    "</td><td>\n",
    "\n",
    "| | Original Dataframe | Cleaned |\n",
    "|----------|----------|----------|\n",
    "| job_title     | 427 | 366 |\n",
    "| company_name  | 301 | 257 |\n",
    "| salary        | 101 | 27 |\n",
    "| location      | 106 | 18 |\n",
    "| job_type      | 116 | 7 |\n",
    "| years_of_experience| 134 | 134 |\n",
    "| skills        | 510 | 510 |\n",
    "| abstract_title| - | 170 |\n",
    "| experience    | - | 3 |\n",
    "| avg_exp_years | - | 13 |\n",
    "\n",
    "</td></tr> </table>\n"
   ]
  }
 ],
 "metadata": {
  "kernelspec": {
   "display_name": "Python 3.10.4 ('.venv': venv)",
   "language": "python",
   "name": "python3"
  },
  "language_info": {
   "codemirror_mode": {
    "name": "ipython",
    "version": 3
   },
   "file_extension": ".py",
   "mimetype": "text/x-python",
   "name": "python",
   "nbconvert_exporter": "python",
   "pygments_lexer": "ipython3",
   "version": "3.10.4"
  },
  "vscode": {
   "interpreter": {
    "hash": "0f1b3ad10751f8a1907d8ad058bc41b16e54a41930ed7864c21be18142c16aeb"
   }
  }
 },
 "nbformat": 4,
 "nbformat_minor": 4
}
