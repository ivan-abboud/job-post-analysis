{
 "cells": [
  {
   "attachments": {},
   "cell_type": "markdown",
   "metadata": {},
   "source": [
    "# Cleaning Data\n",
    "\n",
    "<br>in this notebook we will clean data and unify job posts in order to get better analysis results <br>\n",
    "cleaning `Job Title` steps include:\n",
    "\n",
    "- remove hash sign from hashtags.\n",
    "- remove leading and trailing spaces.\n",
    "- remove useless punctuation.\n",
    "- unify job titles ex. `(reactjs , react-js, react js, react.js) -> react-js`.\n",
    "- getting higher level job title, ex. `ios developer -> mobile developer` and `laravel developer -> back-end developer`.\n",
    "- extract experience level from job title (senior, mid, junior).\n"
   ]
  },
  {
   "cell_type": "code",
   "execution_count": 1,
   "metadata": {},
   "outputs": [],
   "source": [
    "import numpy as np\n",
    "import pandas as pd\n",
    "import re\n",
    "from wordcloud import WordCloud"
   ]
  },
  {
   "cell_type": "code",
   "execution_count": 16,
   "metadata": {},
   "outputs": [],
   "source": [
    "# reading data\n",
    "data= pd.read_csv(\"../data/data_v5.4.csv\")"
   ]
  },
  {
   "cell_type": "code",
   "execution_count": 3,
   "metadata": {},
   "outputs": [],
   "source": [
    "def clean_text(text:str) -> str:\n",
    "    # remove hashtag, colon, leading and trailing spaces\n",
    "    # we are using a regular expression to remove hash signs\n",
    "    # to avoid removing the # in C# jobs\n",
    "    if text is np.nan:\n",
    "        return text\n",
    "    hashtag_regex = re.compile(r'\\B#')\n",
    "    text = text.lower()\n",
    "    text = hashtag_regex.sub(\"\" , text)\n",
    "    text = text.replace(\":\" , \"\")\n",
    "    text = text.strip()\n",
    "    return text\n",
    "    "
   ]
  },
  {
   "attachments": {},
   "cell_type": "markdown",
   "metadata": {},
   "source": [
    "checking data before cleaning it\n"
   ]
  },
  {
   "cell_type": "code",
   "execution_count": 18,
   "metadata": {},
   "outputs": [
    {
     "data": {
      "text/plain": [
       "366"
      ]
     },
     "execution_count": 18,
     "metadata": {},
     "output_type": "execute_result"
    }
   ],
   "source": [
    "data.job_title.nunique()"
   ]
  },
  {
   "attachments": {},
   "cell_type": "markdown",
   "metadata": {},
   "source": [
    "there's 366 unique job titles in dataset, we will try to reduce that number\n"
   ]
  },
  {
   "cell_type": "code",
   "execution_count": 19,
   "metadata": {},
   "outputs": [
    {
     "name": "stdout",
     "output_type": "stream",
     "text": [
      "366\n"
     ]
    }
   ],
   "source": [
    "# cleaning job title column\n",
    "data.job_title = data.job_title.apply(lambda title: clean_text(title))\n"
   ]
  },
  {
   "cell_type": "code",
   "execution_count": 24,
   "metadata": {},
   "outputs": [
    {
     "name": "stderr",
     "output_type": "stream",
     "text": [
      "UsageError: Line magic function `%%black` not found.\n"
     ]
    }
   ],
   "source": [
    "# craft position from the job post and remove it from the title\n",
    "\n",
    "position = data.job_title.apply(lambda x: np.nan if x is np.nan else 'senior' if 'senior' in x else 'mid' if 'mid' in x\n",
    "                                else 'junior' if 'junior' in x else np.nan)\n",
    "data.job_title = data.job_title.apply(lambda x: x.replace(\"senior\",\"\").replace(\"junior\",\"\").replace(\"mid\",\"\").strip() \n",
    "                                        if x is not np.nan else np.nan)\n",
    "print(data.job_title.nunique()   )"
   ]
  },
  {
   "attachments": {},
   "cell_type": "markdown",
   "metadata": {},
   "source": [
    "removing experience level from job title decreased unique job titles by 25\n"
   ]
  },
  {
   "cell_type": "code",
   "execution_count": 22,
   "metadata": {},
   "outputs": [],
   "source": [
    "def abstract_job_title(title):\n",
    "    if title is np.nan:\n",
    "        return title\n",
    "    abstract_titles = {'full-stack':['full stack', 'fullstack', 'full-stack','(laravel + vue.js)','(laravel+vue.js)','flutter / laravel developer',\n",
    "                                    'laravel and reactjs',] ,\n",
    "                     'front-end':['front end', 'frontend','front-end','react js developer','react.js developer','reactjs developer',\n",
    "                                 'vue.js developer','vue developer','front developer','angular developers'] ,\n",
    "                     'back-end':['back end', 'backend','back_end', 'back-end','laravel developer','laravel php developer'],\n",
    "                    'ui/ux designer' : ['ui/ux' , 'ux/ui', 'ui ' , 'ui\\\\ux' , 'ui-ux'],\n",
    "                       '.net developer':['.net core developer' , '.net developer','.net server'],\n",
    "                        'mobile app developer':['mobile app' , 'mobile ','moobile app','(mobile)', 'flutter developer','ios developer','android developer'],\n",
    "                       'motion designer':[\"motion graphic designer\",\"video graphic designer\",\"motion graphics\"],\n",
    "                       'graphic designer':['graphic designer','graphic_designer','graphic designers' ],\n",
    "                       'social media manager':['social media','youtube channels manger','blog manager'],\n",
    "                       'sales':['sales'],\n",
    "                       'web developer': ['web developer' , 'web_developer','web/app developer','website developer',\n",
    "                                         '_web_developer','web designer','web application developer','web developers'],\n",
    "                       'software developer': ['software developer','software developers','softwaredeveloper'],\n",
    "                       'digital marketing':['digital marketing manager','digital marketer','digital marketing executives','manager of marketing','marketing manager'],\n",
    "                       'network and system administrator':['network & system administrator','network and system administrator',\n",
    "                                                           'network & systems administrator','network and system auditor','networks & servers specialist'],\n",
    "                       'accountant':['accounting manager','accountant','accountants','chief accountant'],\n",
    "                       'quality assurance':['quality assurance','software quality','qa engineer','software_qa_tester','software qa tester',\n",
    "                                            'software_manual_tester','software_tester','software test engineer','qa tester'],\n",
    "                       'human resources':['hr officer','hr specialist','hr recruiter','human_resources','human resources'],\n",
    "                       'content creator':['content' ,'copy writer','news editor' ],\n",
    "                       'secretary' : ['secretary']\n",
    "                      }\n",
    "    sub = title\n",
    "    for k,v in abstract_titles.items():\n",
    "        for kw in v:\n",
    "            if kw in sub:\n",
    "                sub = k\n",
    "                #print(sub)\n",
    "    return sub"
   ]
  },
  {
   "cell_type": "code",
   "execution_count": 23,
   "metadata": {},
   "outputs": [
    {
     "data": {
      "text/plain": [
       "170"
      ]
     },
     "execution_count": 23,
     "metadata": {},
     "output_type": "execute_result"
    }
   ],
   "source": [
    "data.job_title.apply(abstract_job_title).nunique()"
   ]
  },
  {
   "cell_type": "code",
   "execution_count": null,
   "metadata": {},
   "outputs": [],
   "source": []
  },
  {
   "cell_type": "code",
   "execution_count": null,
   "metadata": {},
   "outputs": [],
   "source": []
  },
  {
   "cell_type": "code",
   "execution_count": 4,
   "metadata": {},
   "outputs": [],
   "source": [
    "#data.job_title = data.job_title.apply(lambda x: x.lower().replace(\"#\",\"\").replace(\":\",\"\").strip() if x is not np.nan else np.nan)\n",
    "data.job_title = data.job_title.apply(lambda title: clean_text(title))"
   ]
  },
  {
   "cell_type": "code",
   "execution_count": 6,
   "metadata": {},
   "outputs": [],
   "source": [
    "data.job_title = data.job_title.apply(lambda x: x.replace(\"senior\",\"\").replace(\"junior\",\"\").replace(\"mid\",\"\").strip() if x is not np.nan else np.nan)"
   ]
  },
  {
   "cell_type": "code",
   "execution_count": 7,
   "metadata": {},
   "outputs": [
    {
     "data": {
      "text/plain": [
       "341"
      ]
     },
     "execution_count": 7,
     "metadata": {},
     "output_type": "execute_result"
    }
   ],
   "source": [
    "data.job_title.nunique()"
   ]
  },
  {
   "cell_type": "code",
   "execution_count": 8,
   "metadata": {},
   "outputs": [],
   "source": [
    "def abstract_job_title(title):\n",
    "    if title is np.nan:\n",
    "        return title\n",
    "    abstract_titles = {'full-stack':['full stack', 'fullstack', 'full-stack','(laravel + vue.js)','(laravel+vue.js)','flutter / laravel developer',\n",
    "                                    'laravel and reactjs',] ,\n",
    "                     'front-end':['front end', 'frontend','front-end','react js developer','react.js developer','reactjs developer',\n",
    "                                 'vue.js developer','vue developer','front developer','angular developers'] ,\n",
    "                     'back-end':['back end', 'backend','back_end', 'back-end','laravel developer','laravel php developer'],\n",
    "                    'ui/ux designer' : ['ui/ux' , 'ux/ui', 'ui ' , 'ui\\\\ux' , 'ui-ux'],\n",
    "                       '.net developer':['.net core developer' , '.net developer','.net server'],\n",
    "                        'mobile app developer':['mobile app' , 'mobile ','moobile app','(mobile)', 'flutter developer','ios developer','android developer'],\n",
    "                       'motion designer':[\"motion graphic designer\",\"video graphic designer\",\"motion graphics\"],\n",
    "                       'graphic designer':['graphic designer','graphic_designer','graphic designers'],\n",
    "                       'social media manager':['social media','youtube channels manger','blog manager'],\n",
    "                       'sales':['sales'],\n",
    "                       'web developer': ['web developer' , 'web_developer','web/app developer','website developer',\n",
    "                                         '_web_developer','web designer','web application developer','web developers'],\n",
    "                       'software developer': ['software developer','software developers','softwaredeveloper'],\n",
    "                       'digital marketing':['digital marketing manager','digital marketer','digital marketing executives','manager of marketing','marketing manager'],\n",
    "                       'network and system administrator':['network & system administrator','network and system administrator',\n",
    "                                                           'network & systems administrator','network and system auditor','networks & servers specialist'],\n",
    "                       'accountant':['accounting manager','accountant','accountants','chief accountant'],\n",
    "                       'quality assurance':['quality assurance','software quality','qa engineer','software_qa_tester','software qa tester',\n",
    "                                            'software_manual_tester','software_tester','software test engineer','qa tester'],\n",
    "                       'human resources':['hr officer','hr specialist','hr recruiter','human_resources','human resources'],\n",
    "                       'content creator':['content' ,'copy writer','news editor' ],\n",
    "                       'secretary' : ['secretary']\n",
    "                      }\n",
    "    sub = title\n",
    "    for k,v in abstract_titles.items():\n",
    "        for kw in v:\n",
    "            if kw in sub:\n",
    "                sub = k\n",
    "                #print(sub)\n",
    "    return sub"
   ]
  },
  {
   "cell_type": "code",
   "execution_count": 9,
   "metadata": {},
   "outputs": [
    {
     "data": {
      "text/plain": [
       "'full-stack'"
      ]
     },
     "execution_count": 9,
     "metadata": {},
     "output_type": "execute_result"
    }
   ],
   "source": [
    "abstract_job_title('full stack software developer')"
   ]
  },
  {
   "cell_type": "code",
   "execution_count": 10,
   "metadata": {},
   "outputs": [
    {
     "data": {
      "text/plain": [
       "170"
      ]
     },
     "execution_count": 10,
     "metadata": {},
     "output_type": "execute_result"
    }
   ],
   "source": [
    "data.job_title.apply(abstract_job_title).nunique()"
   ]
  },
  {
   "cell_type": "code",
   "execution_count": 392,
   "metadata": {
    "collapsed": true,
    "jupyter": {
     "outputs_hidden": true
    },
    "tags": []
   },
   "outputs": [
    {
     "data": {
      "text/plain": [
       "array(['/ developer', 'cashier', '.net developer',\n",
       "       'operations department', 'awasol developer',\n",
       "       'coaching scholarship', 'sales', 'graphic designer', 'front-end',\n",
       "       'social media manager',\n",
       "       'telecommunication engineers and information technology engineers',\n",
       "       'back-end', 'full-stack', 'ui/ux designer', 'python developer',\n",
       "       'react native developer', 'mobile app developer',\n",
       "       'delivery center coordinator', nan, 'business analyst',\n",
       "       'devops and system administrator', 'developer',\n",
       "       'wordpress developer, seo & digital marketing specialist',\n",
       "       'academic supervisor (tesol)', 'network administrator',\n",
       "       'help desk',\n",
       "       'timecoder of tv programs, translation quality controller',\n",
       "       'software developer', 'quality assurance', 'erp developer',\n",
       "       'java developer', 'accountant', 'web developer',\n",
       "       'network and system administrator', 'system analyst',\n",
       "       'system engineer', 'developers', 'motion designer',\n",
       "       'executive assistant', 'commercial correspondence officer',\n",
       "       'content creator', 'react developer',\n",
       "       'machine learning team leader', 'data researcher',\n",
       "       'electronic maintenance technician', 'video editor',\n",
       "       'car maintenance technician', 'customer services agents',\n",
       "       'business data analyst', 'odoo app developer', 'technical support',\n",
       "       'tesol specialist', 'technical researcher and writer',\n",
       "       'video montage', 'human resources', 'it support', 'architect',\n",
       "       'programming and development department manager',\n",
       "       'public health graduates', 'security and networking consultant',\n",
       "       'secretary', 'project manager', 'automation engineer',\n",
       "       'power engineer', 'mongodb node.js developer',\n",
       "       'plastic surgeon specialist',\n",
       "       'ios team leader, android team leader, flutter team leader',\n",
       "       'odoo developer', 'software test engineer', 'jblgi developer',\n",
       "       'devops engineer', 'web/desktop developer', 'nursing graduate',\n",
       "       'web penetration tester',\n",
       "       'web/desktop developers c,asp.net sql server', 'cleaner',\n",
       "       'administrative staff', 'turkish language translator',\n",
       "       'integration developer', 'data entry clerk',\n",
       "       'assistant in the setup department', 'node.js developer',\n",
       "       'wordpress developer', 'cyber security', 'field data collection',\n",
       "       'blockchain expert', 'management assistant',\n",
       "       'api integration specialist', 'product specialist',\n",
       "       'customer services lead', 'digital marketing',\n",
       "       'engineering manager', 'unity developer', 'tv programmer',\n",
       "       'veta for information technology', 'business development',\n",
       "       'seo specialist', 'امتحانية لطلاب التاسع الأساسي',\n",
       "       'امتحانية لطلاب الثالث الثانوي العلمي والأدبي',\n",
       "       'software project manager', 'team leader',\n",
       "       'development team leader',\n",
       "       'flutter / laravel / system analyst developer', 'drivers',\n",
       "       'tv program employee', 'java programmer & php programmer',\n",
       "       '-level db admin', '3d modeler', 'c job opportunities',\n",
       "       'professional translator', 'magento developer', 'mvp expert',\n",
       "       'ionic developer', 'angular developer', 'field purchasing manager',\n",
       "       'delivery captain', 'ionic developers', 'laboratory technician',\n",
       "       'video editor & montage', 'software engineer ( and )',\n",
       "       'coding and stem tutor', 'waso system administrator', 'programmer',\n",
       "       'isp operation engineer', 'react/react native developers',\n",
       "       'cms developer', 'cms developer for wordpress magento platforms',\n",
       "       'it auditor', 'mean, mern developers',\n",
       "       'coordinator, delivery center',\n",
       "       'erp engineer, business information systems', 'bis specialist',\n",
       "       'operator - milling', 'corporate support officer',\n",
       "       'technical marketing specialist',\n",
       "       'marketing representatives specialist', 'tawasol tester', 'tester',\n",
       "       'billing platform developer', 'it solutions delivery manager',\n",
       "       'it solution delivery manager', 'seo manager',\n",
       "       'software team leader', 'programmer team leader',\n",
       "       '.net  developer', 'application auditor', 'qa tester',\n",
       "       'javascript developer', 'seo/sem specialist', 'english teachers',\n",
       "       'zoho creator', 'zoho creatirs', 'portar (carrier)',\n",
       "       'tourism agent', 'cyber security operations analyst',\n",
       "       'cybersecurity operations analyst', 'jrlycailllouwljw!oigall',\n",
       "       'مدير المعلوماتيّة', 'manager executive',\n",
       "       'technician of low current', 'executive manager', 'data analyst',\n",
       "       'editor and article writer', 'help desk specialist',\n",
       "       'product owner', 'c++ developer', 'bi developer',\n",
       "       'system administrator', 'business operations coordinator',\n",
       "       'remote doctor', 'digital account manager', 'turkish translator',\n",
       "       '2d animator'], dtype=object)"
      ]
     },
     "execution_count": 392,
     "metadata": {},
     "output_type": "execute_result"
    }
   ],
   "source": [
    "data.job_title.apply(abstract_job_title).unique()"
   ]
  },
  {
   "cell_type": "code",
   "execution_count": 50,
   "metadata": {
    "collapsed": true,
    "jupyter": {
     "outputs_hidden": true
    },
    "tags": []
   },
   "outputs": [
    {
     "data": {
      "text/plain": [
       "array(['/ developer', 'cashier', '.net developer',\n",
       "       'operations department', 'awasol developer',\n",
       "       'coaching scholarship', 'sales and marketing executive',\n",
       "       'graphic designer', 'front-end developer & wordpress',\n",
       "       'social media specialist',\n",
       "       'telecommunication engineers and information technology engineers',\n",
       "       'laravel developer', 'full stack developer', 'ui/ux designer',\n",
       "       'full-stack js developer', 'front-end developer',\n",
       "       'backend developer', 'python developer', 'react native developer',\n",
       "       'flutter developer', 'delivery center coordinator',\n",
       "       'full-stack developer', 'front end reactjs developer', nan,\n",
       "       'front-end js developer', 'business analyst', 'android developers',\n",
       "       'devops and system administrator', 'developer',\n",
       "       'wordpress developer, seo & digital marketing specialist',\n",
       "       'academic supervisor (tesol)', 'network administrator',\n",
       "       'help desk',\n",
       "       'timecoder of tv programs, translation quality controller',\n",
       "       'software developer', 'software quality assurance',\n",
       "       'erp developer', 'java developer', '(laravel + vue.js) developer',\n",
       "       'backend/frontend developers', 'accounting manager',\n",
       "       'sales representative', 'full-stack web developer',\n",
       "       'backend java developer', 'react js developer', 'web developer',\n",
       "       'network & system administrator', 'system analyst',\n",
       "       'system engineer', 'ios developer', 'graphic_designer',\n",
       "       'softwaredeveloper', 'developers', 'video graphic designer',\n",
       "       'executive assistant', 'professional js vue developer',\n",
       "       'commercial correspondence officer', 'android developer',\n",
       "       'copy writers', 'react developer', 'ui/ux-graphic/designer',\n",
       "       'machine learning team leader', 'data researcher',\n",
       "       'full stack web developer', 'backend laravel developer',\n",
       "       'backend web developer', 'electronic maintenance technician',\n",
       "       '.net core developer', 'front-end tech lead',\n",
       "       'software testing and quality assurance', 'web_developer',\n",
       "       'web/app developer', 'frontend developer', 'video editor',\n",
       "       'social media coordinator', 'car maintenance technician',\n",
       "       'sales manager', 'economic news editor', 'ux/ui designer',\n",
       "       'call/chat sales specialists', 'customer services agents',\n",
       "       'business data analyst', 'odoo app developer', 'technical support',\n",
       "       'vue.js developer', 'c .net developer', 'tesol specialist',\n",
       "       'technical researcher and writer', 'video montage',\n",
       "       'asp.net developer', 'back end developer (node js)', 'hr officer',\n",
       "       'ux/uidesigner', 'it support', 'css html reactjs developer',\n",
       "       'accountant', 'architect',\n",
       "       'programming and development department manager',\n",
       "       'backend developer (.net)',\n",
       "       'social media and e-marketing employee',\n",
       "       'full stack developer (laravel + vue.js)',\n",
       "       'public health graduates', 'full stack software engineer',\n",
       "       'frontend web developer', 'software_tester',\n",
       "       'security and networking consultant', 'back end developer',\n",
       "       'secretary', 'team leaders for mobile applications',\n",
       "       'project manager', 'automation engineer', 'ict presales engineer',\n",
       "       'ict sales engineer', 'power - presales engineer',\n",
       "       'power engineer', 'website developer',\n",
       "       'marketing and social media specialist',\n",
       "       'mongodb node.js developer',\n",
       "       'full stack developer (laravel+ flutter)',\n",
       "       'plastic surgeon specialist',\n",
       "       'ios team leader, android team leader, flutter team leader',\n",
       "       'full stack javascript developer', 'back-end tech lead',\n",
       "       'frontend developer flutter developer', 'odoo developer',\n",
       "       'software test engineer', 'jblgi developer',\n",
       "       'software engineer (mobile)', 'software engineer (backend)',\n",
       "       'python mobile developer', 'devops engineer', 'content writer',\n",
       "       'react.js developer', 'web/desktop developer', 'nursing graduate',\n",
       "       'web penetration tester', 'back_end developer',\n",
       "       'web/desktop developers c,asp.net sql server', 'cleaner',\n",
       "       'administrative staff', 'mobile application developer',\n",
       "       'turkish language translator', 'front-end web developer',\n",
       "       'integration developer', 'sales agent', 'data entry clerk',\n",
       "       'assistant in the setup department', 'node.js developer',\n",
       "       'wordpress developer', 'cyber security',\n",
       "       'hall manager, cashier, sales employee, employee for packaging chocolate، cleanliness officer.',\n",
       "       'android developer, web developer, front-end developer',\n",
       "       'backend developer or backend team lead', 'field data collection',\n",
       "       'blockchain expert', 'management assistant',\n",
       "       'front-end developer with reactjs experience',\n",
       "       'api integration specialist', 'frontend engineer',\n",
       "       'java full stack developer', 'product specialist',\n",
       "       'customer services lead', 'digital marketing manager',\n",
       "       'flutter / laravel developer', 'engineering manager',\n",
       "       'ui/ux engineer', 'unity developer', 'tv programmer',\n",
       "       'full-stack developer for cms platforms',\n",
       "       'veta for information technology', 'business development',\n",
       "       'professional backend developer', 'motion graphic designer',\n",
       "       'seo specialist', 'امتحانية لطلاب التاسع الأساسي',\n",
       "       'امتحانية لطلاب الثالث الثانوي العلمي والأدبي',\n",
       "       'mean full-stack developer (mongodb - expressjs - angular - nodejs)',\n",
       "       'mobile app developer', 'ui designer',\n",
       "       'moobile app developer (flutter)', 'digital marketer',\n",
       "       'reactjs developer', 'software project manager', 'team leader',\n",
       "       'development team leader',\n",
       "       'flutter / laravel / system analyst developer', 'drivers',\n",
       "       'digital graphics designer/motion graphics designer',\n",
       "       'creative designer and graphic designer',\n",
       "       'digital marketing executives', 'tv program employee',\n",
       "       'java programmer & php programmer', 'software_manual_tester',\n",
       "       '-level db admin', '3d modeler', 'c job opportunities',\n",
       "       'professional translator',\n",
       "       'quality assurance & testing specialist', 'magento developer',\n",
       "       'mvp expert', 'sales', 'ionic developer', 'angular developer',\n",
       "       'network and system administrator', 'backend qt developer (c++)',\n",
       "       'front end developer (react)', '_web_developer',\n",
       "       'full stack developer & front end developer', 'pre-sales engineer',\n",
       "       'field purchasing manager',\n",
       "       'mobile applications \\\\ web development \\\\ (ui\\\\ux design) trainer',\n",
       "       'delivery captain', 'ionic developers', 'laboratory technician',\n",
       "       'back-end node.js developer', 'motion graphics',\n",
       "       'video editor & montage', 'hr specialist', 'c.net developer',\n",
       "       'web designer', 'frontend developer, react js',\n",
       "       'front end developer', 'software engineer ( and )',\n",
       "       'coding and stem tutor', 'waso system administrator', 'programmer',\n",
       "       'full stack developer, frontend developer',\n",
       "       'lead mobile web developer architect', 'hr recruiter',\n",
       "       'full time damascus react.js developer',\n",
       "       'software quality control engineer', 'isp operation engineer',\n",
       "       'back-end developer', 'sr. mobile developer', 'mobile developer',\n",
       "       'full stack software developer', 'react/react native developers',\n",
       "       'ui/ux designers', 'cms developer', 'software qa tester',\n",
       "       'software_qa_tester',\n",
       "       'cms developer for wordpress magento platforms',\n",
       "       'backend developer (asp.net/c)', 'it auditor',\n",
       "       'mean, mern developers', 'coordinator, delivery center',\n",
       "       'social media designer', 'digital content manager',\n",
       "       'ui-ux designer', 'erp engineer, business information systems',\n",
       "       'bis specialist', 'operator - milling',\n",
       "       'corporate support officer', 'laravel php developer',\n",
       "       'technical marketing specialist', 'full stack developers',\n",
       "       'frontend developers', 'networks & servers specialist',\n",
       "       'marketing representatives specialist', 'tawasol tester', 'tester',\n",
       "       'backend - php & node.js', 'web application developer',\n",
       "       'billing platform developer', 'it solutions delivery manager',\n",
       "       'it solution delivery manager', 'seo manager',\n",
       "       'network & systems administrator',\n",
       "       'front-end web developer, backend developer, full stack developer, mobile application developer, system administrator, network administrator, system analyst, it support, graphic design, digital marketing',\n",
       "       'database administrators, software developers, hardware system administrators, payment and banking system specialists, it',\n",
       "       'social media manager', 'backend', 'software team leader',\n",
       "       'programmer team leader', 'social media marketing specialist',\n",
       "       'full-stack engineer,  backend engineer, software tester, product owner',\n",
       "       '.net  developer', 'back-end laravel developer',\n",
       "       'application auditor', 'network and system auditor',\n",
       "       'vue developer', 'qa tester', 'javascript developer',\n",
       "       '.net server fremworks developer', 'front developer',\n",
       "       'seo/sem specialist', 'english teachers',\n",
       "       'back-end node , electron js developer',\n",
       "       'front-end react js developer', 'zoho creator', 'zoho creatirs',\n",
       "       'software quality assurance engineer',\n",
       "       'front-end react.js developer', 'web developers',\n",
       "       'portar (carrier)', 'tourism agent', 'accountants',\n",
       "       'cyber security operations analyst',\n",
       "       'cybersecurity operations analyst',\n",
       "       'laravel and reactjs developer', 'jrlycailllouwljw!oigall',\n",
       "       'manager of marketing', 'مدير المعلوماتيّة', 'manager executive',\n",
       "       'technician of low current', 'secretary executive',\n",
       "       'executive manager', 'manager of human resources',\n",
       "       'secretary follow-up', 'chief accountant',\n",
       "       'php laravel (full stack developer)',\n",
       "       'angular front-end developer', 'data analyst',\n",
       "       'editor and article writer',\n",
       "       'content writer in arabic and english', 'help desk specialist',\n",
       "       'executive secretary', 'product owner', 'human_resources officer',\n",
       "       'c++ developer', 'frontend developer - angular', 'bi developer',\n",
       "       'system administrator', 'backend002', 'frontend001',\n",
       "       'business operations coordinator', 'marketing manager',\n",
       "       'blog manager', 'node.js backend developer', 'angular developers',\n",
       "       'graphic designer or video editor or both',\n",
       "       'qa engineer (software quality assurance)',\n",
       "       'sales and customer service', 'fullstack developer',\n",
       "       'remote doctor', 'digital account manager', 'qa engineer',\n",
       "       'turkish translator', 'graphic designers', '2d animator',\n",
       "       '(laravel+vue.js) developer', 'youtube channels manger'],\n",
       "      dtype=object)"
      ]
     },
     "execution_count": 50,
     "metadata": {},
     "output_type": "execute_result"
    }
   ],
   "source": [
    "data.job_title.unique()"
   ]
  },
  {
   "cell_type": "code",
   "execution_count": 440,
   "metadata": {},
   "outputs": [
    {
     "data": {
      "text/plain": [
       "array(['mobile app developer', 'back-end', 'software engineer ( and )'],\n",
       "      dtype=object)"
      ]
     },
     "execution_count": 440,
     "metadata": {},
     "output_type": "execute_result"
    }
   ],
   "source": [
    "data.loc[data.job_title.notna() & data.job_title.str.contains('software engineer ')].job_title.apply(abstract_job_title).unique()"
   ]
  },
  {
   "cell_type": "code",
   "execution_count": 384,
   "metadata": {
    "collapsed": true,
    "jupyter": {
     "outputs_hidden": true
    },
    "tags": []
   },
   "outputs": [
    {
     "data": {
      "text/plain": [
       "array(['html5, css3, typescript, javascript frameworks (angular 2+ and query), configuration management, client-side building, cross-browser compatibility, partial page updates, ajax, asynchronous request handling, seo principles, wordpress, oral and written communication skills, interpersonal skills, problem-solving skills, code versioning tools (git), challenging mentality, self-motivated, agile methodology, scrum.'],\n",
       "      dtype=object)"
      ]
     },
     "execution_count": 384,
     "metadata": {},
     "output_type": "execute_result"
    }
   ],
   "source": [
    "data.loc[data.job_title.notna() & data.job_title.str.contains('front developer')].skills.values"
   ]
  },
  {
   "cell_type": "code",
   "execution_count": 442,
   "metadata": {},
   "outputs": [
    {
     "name": "stdout",
     "output_type": "stream",
     "text": [
      "software engineer (mobile)  :: mobile app developer\n",
      "software engineer (backend)  :: back-end\n",
      "software engineer ( and )  :: software engineer ( and )\n"
     ]
    }
   ],
   "source": [
    "for v in data.loc[data.job_title.notna() & data.job_title.str.contains('software engineer ')].job_title.unique():\n",
    "    print(v,\" ::\" , abstract_job_title(v))"
   ]
  },
  {
   "cell_type": "code",
   "execution_count": 15,
   "metadata": {},
   "outputs": [
    {
     "data": {
      "image/png": "[encoded data removed]",
      "text/plain": [
       "<PIL.Image.Image image mode=RGB size=400x200>"
      ]
     },
     "execution_count": 15,
     "metadata": {},
     "output_type": "execute_result"
    }
   ],
   "source": [
    "# Import the wordcloud library\n",
    "\n",
    "# Join the different processed titles together.\n",
    "long_string = ','.join(list(data.loc[data.job_title.notna()].job_title.apply(abstract_job_title).values))\n",
    "\n",
    "# Create a WordCloud object\n",
    "wordcloud = WordCloud(background_color=\"white\", max_words=5000, contour_width=3, contour_color='steelblue')\n",
    "# Generate a word cloud\n",
    "wordcloud.generate(long_string)\n",
    "# Visualize the word cloud\n",
    "wordcloud.to_image()"
   ]
  },
  {
   "cell_type": "code",
   "execution_count": null,
   "metadata": {},
   "outputs": [],
   "source": []
  },
  {
   "cell_type": "code",
   "execution_count": 46,
   "metadata": {},
   "outputs": [
    {
     "data": {
      "text/plain": [
       "'back-end/front-end developers'"
      ]
     },
     "execution_count": 46,
     "metadata": {},
     "output_type": "execute_result"
    }
   ],
   "source": [
    "fix_job_title(\"backend/frontend developers\")"
   ]
  },
  {
   "cell_type": "code",
   "execution_count": 47,
   "metadata": {},
   "outputs": [
    {
     "data": {
      "text/plain": [
       "341"
      ]
     },
     "execution_count": 47,
     "metadata": {},
     "output_type": "execute_result"
    }
   ],
   "source": [
    "data.job_title.nunique()"
   ]
  },
  {
   "cell_type": "code",
   "execution_count": 49,
   "metadata": {},
   "outputs": [
    {
     "data": {
      "text/plain": [
       "331"
      ]
     },
     "execution_count": 49,
     "metadata": {},
     "output_type": "execute_result"
    }
   ],
   "source": [
    "data.loc[data.job_title.notna()].job_title.apply(fix_job_title).nunique()"
   ]
  },
  {
   "cell_type": "code",
   "execution_count": 29,
   "metadata": {
    "collapsed": true,
    "jupyter": {
     "outputs_hidden": true
    },
    "tags": []
   },
   "outputs": [
    {
     "name": "stdout",
     "output_type": "stream",
     "text": [
      "front-end developer & wordpress\n",
      "front-end developer & wordpress\n",
      "front-end developer\n",
      "front end reactjs developer\n",
      "front-end js developer\n",
      "front-end developer\n",
      "backend/frontend developers\n",
      "backend/frontend developers\n",
      "backend/frontend developers\n",
      "front-end tech lead\n",
      "front-end developer & wordpress\n",
      "frontend developer\n",
      "front-end developer & wordpress\n",
      "frontend developer\n",
      "front-end developer\n",
      "frontend web developer\n",
      "frontend developer\n",
      "front-end developer\n",
      "frontend developer flutter developer\n",
      "frontend developer\n",
      "frontend web developer\n",
      "front-end developer\n",
      "front-end web developer\n",
      "front-end developer\n",
      "front-end js developer\n",
      "android developer, web developer, front-end developer\n",
      "frontend web developer\n",
      "frontend developer\n",
      "front-end developer with reactjs experience\n",
      "frontend engineer\n",
      "frontend engineer\n",
      "front-end developer\n",
      "frontend engineer\n",
      "front-end developer\n",
      "front-end developer\n",
      "frontend developer\n",
      "front end developer (react)\n",
      "full stack developer & front end developer\n",
      "frontend developer, react js\n",
      "front end developer\n",
      "full stack developer, frontend developer\n",
      "frontend developer\n",
      "front end developer\n",
      "frontend developer\n",
      "frontend developer\n",
      "frontend developer\n",
      "frontend developer\n",
      "frontend developers\n",
      "front-end developer\n",
      "front-end web developer, backend developer, full stack developer, mobile application developer, system administrator, network administrator, system analyst, it support, graphic design, digital marketing\n",
      "front-end developer\n",
      "front-end developer\n",
      "front developer\n",
      "front-end react js developer\n",
      "frontend developer\n",
      "front-end react.js developer\n",
      "front-end developer\n",
      "front-end developer\n",
      "angular front-end developer\n",
      "frontend developer\n",
      "frontend developer\n",
      "frontend developer\n",
      "frontend developer - angular\n",
      "frontend001\n",
      "frontend developer\n",
      "front-end react js developer\n"
     ]
    },
    {
     "data": {
      "text/plain": [
       "0      0.0\n",
       "1      0.0\n",
       "2      0.0\n",
       "3      0.0\n",
       "4      0.0\n",
       "      ... \n",
       "869    NaN\n",
       "870    0.0\n",
       "871    0.0\n",
       "873    0.0\n",
       "875    0.0\n",
       "Name: job_title, Length: 832, dtype: float64"
      ]
     },
     "execution_count": 29,
     "metadata": {},
     "output_type": "execute_result"
    }
   ],
   "source": [
    "data.loc[data.job_title.notna()].job_title.apply(lambda x: print(x) if x and 'front' in x else 0)"
   ]
  },
  {
   "cell_type": "code",
   "execution_count": 44,
   "metadata": {},
   "outputs": [],
   "source": [
    "unified_job_titles = {'full-stack':['full stack', 'fullstack' ] ,\n",
    "                     'front-end':['front end', 'frontend' ] ,\n",
    "                     'back-end':['back end', 'backend','back_end'] }\n",
    "\n",
    "def fix_job_title(title):\n",
    "    \n",
    "    for k,v in unified_job_titles.items():\n",
    "        for kw in v:\n",
    "            title = title.replace(kw,k)\n",
    "    return title"
   ]
  },
  {
   "cell_type": "code",
   "execution_count": null,
   "metadata": {},
   "outputs": [],
   "source": []
  }
 ],
 "metadata": {
  "kernelspec": {
   "display_name": "Python 3.10.4 ('.venv': venv)",
   "language": "python",
   "name": "python3"
  },
  "language_info": {
   "codemirror_mode": {
    "name": "ipython",
    "version": 3
   },
   "file_extension": ".py",
   "mimetype": "text/x-python",
   "name": "python",
   "nbconvert_exporter": "python",
   "pygments_lexer": "ipython3",
   "version": "3.10.4"
  },
  "vscode": {
   "interpreter": {
    "hash": "0f1b3ad10751f8a1907d8ad058bc41b16e54a41930ed7864c21be18142c16aeb"
   }
  }
 },
 "nbformat": 4,
 "nbformat_minor": 4
}
