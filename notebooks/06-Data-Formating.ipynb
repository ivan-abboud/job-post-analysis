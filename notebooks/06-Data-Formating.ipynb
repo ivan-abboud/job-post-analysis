{
 "cells": [
  {
   "cell_type": "markdown",
   "metadata": {},
   "source": [
    "# Cleaning Data\n",
    "\n",
    "<br>in this notebook we will clean data and unify job posts in order to get better analysis results <br>\n",
    "cleaning `Job Title` steps include:\n",
    "\n",
    "- remove hash sign from hashtags.\n",
    "- remove leading and trailing spaces.\n",
    "- remove useless punctuation.\n",
    "- unify job titles ex. `(reactjs , react-js, react js, react.js) -> react-js`.\n",
    "- getting higher level job title, ex. `ios developer -> mobile developer` and `laravel developer -> back-end developer`.\n",
    "- extract experience level from job title (senior, mid, junior).\n"
   ]
  },
  {
   "cell_type": "code",
   "execution_count": 11,
   "metadata": {},
   "outputs": [],
   "source": [
    "import numpy as np\n",
    "import pandas as pd\n",
    "import re\n",
    "from wordcloud import WordCloud\n"
   ]
  },
  {
   "cell_type": "code",
   "execution_count": 121,
   "metadata": {},
   "outputs": [],
   "source": [
    "# reading data\n",
    "data = pd.read_csv(\"../data/data_v5.4.csv\")\n"
   ]
  },
  {
   "cell_type": "code",
   "execution_count": 122,
   "metadata": {},
   "outputs": [],
   "source": [
    "def clean_text(text: str) -> str:\n",
    "    # remove hashtag, colon, leading and trailing spaces\n",
    "    # we are using a regular expression to remove hash signs\n",
    "    # to avoid removing the # in C# jobs\n",
    "    if text is np.nan:\n",
    "        return text\n",
    "    hashtag_regex = re.compile(r\"\\B#\")\n",
    "    text = text.lower()\n",
    "    text = hashtag_regex.sub(\"\", text)\n",
    "    text = text.replace(\":\", \"\")\n",
    "    text = text.strip()\n",
    "    return text\n"
   ]
  },
  {
   "cell_type": "markdown",
   "metadata": {},
   "source": [
    "checking data before cleaning it\n"
   ]
  },
  {
   "cell_type": "code",
   "execution_count": 123,
   "metadata": {},
   "outputs": [
    {
     "data": {
      "text/plain": [
       "427"
      ]
     },
     "execution_count": 123,
     "metadata": {},
     "output_type": "execute_result"
    }
   ],
   "source": [
    "data.job_title.nunique()\n"
   ]
  },
  {
   "cell_type": "markdown",
   "metadata": {},
   "source": [
    "there's 427 unique job titles in dataset, we will try to reduce that number\n"
   ]
  },
  {
   "cell_type": "code",
   "execution_count": 124,
   "metadata": {},
   "outputs": [
    {
     "data": {
      "text/plain": [
       "366"
      ]
     },
     "execution_count": 124,
     "metadata": {},
     "output_type": "execute_result"
    }
   ],
   "source": [
    "# cleaning job title column\n",
    "data.job_title = data.job_title.apply(lambda title: clean_text(title))\n",
    "data.job_title.nunique()\n"
   ]
  },
  {
   "cell_type": "code",
   "execution_count": 125,
   "metadata": {},
   "outputs": [
    {
     "name": "stdout",
     "output_type": "stream",
     "text": [
      "341\n"
     ]
    }
   ],
   "source": [
    "# craft position from the job post and remove it from the title\n",
    "\n",
    "experience = data.job_title.apply(\n",
    "    lambda x: np.nan\n",
    "    if x is np.nan\n",
    "    else \"senior\"\n",
    "    if \"senior\" in x\n",
    "    else \"mid\"\n",
    "    if \"mid\" in x\n",
    "    else \"junior\"\n",
    "    if \"junior\" in x\n",
    "    else np.nan\n",
    ")\n",
    "data[\"abstract_title\"] = data.job_title.apply(\n",
    "    lambda x: x.replace(\"senior\", \"\").replace(\"junior\", \"\").replace(\"mid\", \"\").strip()\n",
    "    if x is not np.nan\n",
    "    else np.nan\n",
    ")\n",
    "print(data.abstract_title.nunique())\n"
   ]
  },
  {
   "cell_type": "markdown",
   "metadata": {},
   "source": [
    "removing experience level from job title decreased unique job titles by 25\n"
   ]
  },
  {
   "cell_type": "code",
   "execution_count": 126,
   "metadata": {},
   "outputs": [],
   "source": [
    "def abstract_job_title(title):\n",
    "    if title is np.nan:\n",
    "        return title\n",
    "    abstract_titles = {\n",
    "        \"full-stack\": [\n",
    "            \"full stack\",\n",
    "            \"fullstack\",\n",
    "            \"full-stack\",\n",
    "            \"(laravel + vue.js)\",\n",
    "            \"(laravel+vue.js)\",\n",
    "            \"flutter / laravel developer\",\n",
    "            \"laravel and reactjs\",\n",
    "        ],\n",
    "        \"front-end\": [\n",
    "            \"front end\",\n",
    "            \"frontend\",\n",
    "            \"front-end\",\n",
    "            \"react js developer\",\n",
    "            \"react.js developer\",\n",
    "            \"reactjs developer\",\n",
    "            \"vue.js developer\",\n",
    "            \"vue developer\",\n",
    "            \"front developer\",\n",
    "            \"angular developers\",\n",
    "        ],\n",
    "        \"back-end\": [\n",
    "            \"back end\",\n",
    "            \"backend\",\n",
    "            \"back_end\",\n",
    "            \"back-end\",\n",
    "            \"laravel developer\",\n",
    "            \"laravel php developer\",\n",
    "        ],\n",
    "        \"ui/ux designer\": [\"ui/ux\", \"ux/ui\", \"ui \", \"ui\\\\ux\", \"ui-ux\"],\n",
    "        \".net developer\": [\".net core developer\", \".net developer\", \".net server\"],\n",
    "        \"mobile app developer\": [\n",
    "            \"mobile app\",\n",
    "            \"mobile \",\n",
    "            \"moobile app\",\n",
    "            \"(mobile)\",\n",
    "            \"flutter developer\",\n",
    "            \"ios developer\",\n",
    "            \"android developer\",\n",
    "        ],\n",
    "        \"motion designer\": [\n",
    "            \"motion graphic designer\",\n",
    "            \"video graphic designer\",\n",
    "            \"motion graphics\",\n",
    "        ],\n",
    "        \"graphic designer\": [\n",
    "            \"graphic designer\",\n",
    "            \"graphic_designer\",\n",
    "            \"graphic designers\",\n",
    "        ],\n",
    "        \"social media manager\": [\n",
    "            \"social media\",\n",
    "            \"youtube channels manger\",\n",
    "            \"blog manager\",\n",
    "        ],\n",
    "        \"sales\": [\"sales\"],\n",
    "        \"web developer\": [\n",
    "            \"web developer\",\n",
    "            \"web_developer\",\n",
    "            \"web/app developer\",\n",
    "            \"website developer\",\n",
    "            \"_web_developer\",\n",
    "            \"web designer\",\n",
    "            \"web application developer\",\n",
    "            \"web developers\",\n",
    "        ],\n",
    "        \"software developer\": [\n",
    "            \"software developer\",\n",
    "            \"software developers\",\n",
    "            \"softwaredeveloper\",\n",
    "        ],\n",
    "        \"digital marketing\": [\n",
    "            \"digital marketing manager\",\n",
    "            \"digital marketer\",\n",
    "            \"digital marketing executives\",\n",
    "            \"manager of marketing\",\n",
    "            \"marketing manager\",\n",
    "        ],\n",
    "        \"network and system administrator\": [\n",
    "            \"network & system administrator\",\n",
    "            \"network and system administrator\",\n",
    "            \"network & systems administrator\",\n",
    "            \"network and system auditor\",\n",
    "            \"networks & servers specialist\",\n",
    "        ],\n",
    "        \"accountant\": [\n",
    "            \"accounting manager\",\n",
    "            \"accountant\",\n",
    "            \"accountants\",\n",
    "            \"chief accountant\",\n",
    "        ],\n",
    "        \"quality assurance\": [\n",
    "            \"quality assurance\",\n",
    "            \"software quality\",\n",
    "            \"qa engineer\",\n",
    "            \"software_qa_tester\",\n",
    "            \"software qa tester\",\n",
    "            \"software_manual_tester\",\n",
    "            \"software_tester\",\n",
    "            \"software test engineer\",\n",
    "            \"qa tester\",\n",
    "        ],\n",
    "        \"human resources\": [\n",
    "            \"hr officer\",\n",
    "            \"hr specialist\",\n",
    "            \"hr recruiter\",\n",
    "            \"human_resources\",\n",
    "            \"human resources\",\n",
    "        ],\n",
    "        \"content creator\": [\"content\", \"copy writer\", \"news editor\"],\n",
    "        \"secretary\": [\"secretary\"],\n",
    "    }\n",
    "    sub = title\n",
    "    for k, v in abstract_titles.items():\n",
    "        for kw in v:\n",
    "            if kw in sub:\n",
    "                sub = k\n",
    "                # print(sub)\n",
    "    return sub\n"
   ]
  },
  {
   "cell_type": "code",
   "execution_count": 127,
   "metadata": {},
   "outputs": [
    {
     "data": {
      "text/plain": [
       "170"
      ]
     },
     "execution_count": 127,
     "metadata": {},
     "output_type": "execute_result"
    }
   ],
   "source": [
    "data.abstract_title.apply(abstract_job_title).nunique()\n"
   ]
  },
  {
   "cell_type": "code",
   "execution_count": 128,
   "metadata": {},
   "outputs": [],
   "source": [
    "data[\"abstract_title\"] = data.abstract_title.apply(abstract_job_title)\n",
    "data[\"experience\"] = experience\n"
   ]
  },
  {
   "cell_type": "code",
   "execution_count": 129,
   "metadata": {},
   "outputs": [
    {
     "data": {
      "text/plain": [
       "(877, 19)"
      ]
     },
     "execution_count": 129,
     "metadata": {},
     "output_type": "execute_result"
    }
   ],
   "source": [
    "data.shape\n"
   ]
  },
  {
   "cell_type": "code",
   "execution_count": 130,
   "metadata": {},
   "outputs": [
    {
     "data": {
      "text/html": [
       "<div>\n",
       "<style scoped>\n",
       "    .dataframe tbody tr th:only-of-type {\n",
       "        vertical-align: middle;\n",
       "    }\n",
       "\n",
       "    .dataframe tbody tr th {\n",
       "        vertical-align: top;\n",
       "    }\n",
       "\n",
       "    .dataframe thead th {\n",
       "        text-align: right;\n",
       "    }\n",
       "</style>\n",
       "<table border=\"1\" class=\"dataframe\">\n",
       "  <thead>\n",
       "    <tr style=\"text-align: right;\">\n",
       "      <th></th>\n",
       "      <th>id</th>\n",
       "      <th>date</th>\n",
       "      <th>photo</th>\n",
       "      <th>text</th>\n",
       "      <th>text_entities</th>\n",
       "      <th>raw_text</th>\n",
       "      <th>type</th>\n",
       "      <th>ocr_res</th>\n",
       "      <th>full_text</th>\n",
       "      <th>description</th>\n",
       "      <th>job_title</th>\n",
       "      <th>company_name</th>\n",
       "      <th>salary</th>\n",
       "      <th>location</th>\n",
       "      <th>job_type</th>\n",
       "      <th>years_of_experience</th>\n",
       "      <th>skills</th>\n",
       "      <th>abstract_title</th>\n",
       "      <th>experience</th>\n",
       "    </tr>\n",
       "  </thead>\n",
       "  <tbody>\n",
       "    <tr>\n",
       "      <th>0</th>\n",
       "      <td>1567</td>\n",
       "      <td>2022-01-02 13:46:28</td>\n",
       "      <td>photos/photo_1205@02-01-2022_13-46-28.jpg</td>\n",
       "      <td>['Job Title:', {'type': 'hashtag', 'text': '#s...</td>\n",
       "      <td>[{'type': 'plain', 'text': 'Job Title:'}, {'ty...</td>\n",
       "      <td>Job Title:#senior and a junior #developer\\n \\n...</td>\n",
       "      <td>job_post</td>\n",
       "      <td>We are on the hunt for a JUNIOR/SENIOR Develop...</td>\n",
       "      <td>Job Title:#senior and a junior #developer\\n \\n...</td>\n",
       "      <td>\\nJob Title: Junior/Senior Developer\\nCompany ...</td>\n",
       "      <td>junior/senior developer</td>\n",
       "      <td>NaN</td>\n",
       "      <td>NaN</td>\n",
       "      <td>NaN</td>\n",
       "      <td>full-time</td>\n",
       "      <td>extensive</td>\n",
       "      <td>php, laravel, sql, javascript, html5, css, boo...</td>\n",
       "      <td>/ developer</td>\n",
       "      <td>senior</td>\n",
       "    </tr>\n",
       "    <tr>\n",
       "      <th>1</th>\n",
       "      <td>1568</td>\n",
       "      <td>2022-01-03 11:09:36</td>\n",
       "      <td>photos/photo_1206@03-01-2022_11-09-36.jpg</td>\n",
       "      <td>['Job Title:', {'type': 'hashtag', 'text': '#c...</td>\n",
       "      <td>[{'type': 'plain', 'text': 'Job Title:'}, {'ty...</td>\n",
       "      <td>Job Title:#cashier\\nJob Type: #full_time\\n \\nش...</td>\n",
       "      <td>job_post</td>\n",
       "      <td>Jolgi Job Type:Full Time Send your CV to m.jaw...</td>\n",
       "      <td>Job Title:#cashier\\nJob Type: #full_time\\n \\nش...</td>\n",
       "      <td>\\nJob Title: Cashier\\nCompany Name: Euroline-R...</td>\n",
       "      <td>cashier</td>\n",
       "      <td>euroline-rent</td>\n",
       "      <td>NaN</td>\n",
       "      <td>damascus</td>\n",
       "      <td>full time</td>\n",
       "      <td>3</td>\n",
       "      <td>english language, jobseekers, jobseeker, inter...</td>\n",
       "      <td>cashier</td>\n",
       "      <td>NaN</td>\n",
       "    </tr>\n",
       "    <tr>\n",
       "      <th>2</th>\n",
       "      <td>1569</td>\n",
       "      <td>2022-01-03 14:28:11</td>\n",
       "      <td>photos/photo_1207@03-01-2022_14-28-11.jpg</td>\n",
       "      <td>['Company: ', {'type': 'hashtag', 'text': '#Na...</td>\n",
       "      <td>[{'type': 'plain', 'text': 'Company: '}, {'typ...</td>\n",
       "      <td>Company: #National_Technology_Group #NTG)\\nJob...</td>\n",
       "      <td>job_post</td>\n",
       "      <td>JOIN OURTEAM We're Hiring. NET DEVELOPER +lyea...</td>\n",
       "      <td>Company: #National_Technology_Group #NTG)\\nJob...</td>\n",
       "      <td>\\nJob title: .NET Developer\\nCompany Name: Nat...</td>\n",
       "      <td>.net developer</td>\n",
       "      <td>national technology group (ntg)</td>\n",
       "      <td>NaN</td>\n",
       "      <td>damascus</td>\n",
       "      <td>full time onsite</td>\n",
       "      <td>1</td>\n",
       "      <td>asp core, reactjs</td>\n",
       "      <td>.net developer</td>\n",
       "      <td>NaN</td>\n",
       "    </tr>\n",
       "    <tr>\n",
       "      <th>3</th>\n",
       "      <td>1570</td>\n",
       "      <td>2022-01-03 17:12:13</td>\n",
       "      <td>photos/photo_1208@03-01-2022_17-12-13.jpg</td>\n",
       "      <td>['Job title: ', {'type': 'hashtag', 'text': '#...</td>\n",
       "      <td>[{'type': 'plain', 'text': 'Job title: '}, {'t...</td>\n",
       "      <td>Job title: #Employees for Operations Departmen...</td>\n",
       "      <td>job_post</td>\n",
       "      <td>Job Vacancy Employees for Operations Departmen...</td>\n",
       "      <td>Job title: #Employees for Operations Departmen...</td>\n",
       "      <td>\\nCompany Name: None\\nSalary: None\\nYears of E...</td>\n",
       "      <td>operations department</td>\n",
       "      <td>NaN</td>\n",
       "      <td>NaN</td>\n",
       "      <td>on: #Damascus</td>\n",
       "      <td>#Full_Time</td>\n",
       "      <td>NaN</td>\n",
       "      <td>perfect knowledge &amp; use for english, basic com...</td>\n",
       "      <td>operations department</td>\n",
       "      <td>NaN</td>\n",
       "    </tr>\n",
       "    <tr>\n",
       "      <th>4</th>\n",
       "      <td>1571</td>\n",
       "      <td>2022-01-03 19:16:11</td>\n",
       "      <td>photos/photo_1209@03-01-2022_19-16-11.jpg</td>\n",
       "      <td>[{'type': 'link', 'text': 'https://www.faceboo...</td>\n",
       "      <td>[{'type': 'link', 'text': 'https://www.faceboo...</td>\n",
       "      <td>https://www.facebook.com/384708578676644/posts...</td>\n",
       "      <td>link</td>\n",
       "      <td>Jmloi AWASOL Developer Remotely Send your CV t...</td>\n",
       "      <td>https://www.facebook.com/384708578676644/posts...</td>\n",
       "      <td>\\nJob Title: AWASOL Developer \\nCompany Name: ...</td>\n",
       "      <td>awasol developer</td>\n",
       "      <td>smartech-sy</td>\n",
       "      <td>NaN</td>\n",
       "      <td>remotely</td>\n",
       "      <td>NaN</td>\n",
       "      <td>NaN</td>\n",
       "      <td>NaN</td>\n",
       "      <td>awasol developer</td>\n",
       "      <td>NaN</td>\n",
       "    </tr>\n",
       "  </tbody>\n",
       "</table>\n",
       "</div>"
      ],
      "text/plain": [
       "     id                 date                                      photo  \\\n",
       "0  1567  2022-01-02 13:46:28  photos/photo_1205@02-01-2022_13-46-28.jpg   \n",
       "1  1568  2022-01-03 11:09:36  photos/photo_1206@03-01-2022_11-09-36.jpg   \n",
       "2  1569  2022-01-03 14:28:11  photos/photo_1207@03-01-2022_14-28-11.jpg   \n",
       "3  1570  2022-01-03 17:12:13  photos/photo_1208@03-01-2022_17-12-13.jpg   \n",
       "4  1571  2022-01-03 19:16:11  photos/photo_1209@03-01-2022_19-16-11.jpg   \n",
       "\n",
       "                                                text  \\\n",
       "0  ['Job Title:', {'type': 'hashtag', 'text': '#s...   \n",
       "1  ['Job Title:', {'type': 'hashtag', 'text': '#c...   \n",
       "2  ['Company: ', {'type': 'hashtag', 'text': '#Na...   \n",
       "3  ['Job title: ', {'type': 'hashtag', 'text': '#...   \n",
       "4  [{'type': 'link', 'text': 'https://www.faceboo...   \n",
       "\n",
       "                                       text_entities  \\\n",
       "0  [{'type': 'plain', 'text': 'Job Title:'}, {'ty...   \n",
       "1  [{'type': 'plain', 'text': 'Job Title:'}, {'ty...   \n",
       "2  [{'type': 'plain', 'text': 'Company: '}, {'typ...   \n",
       "3  [{'type': 'plain', 'text': 'Job title: '}, {'t...   \n",
       "4  [{'type': 'link', 'text': 'https://www.faceboo...   \n",
       "\n",
       "                                            raw_text      type  \\\n",
       "0  Job Title:#senior and a junior #developer\\n \\n...  job_post   \n",
       "1  Job Title:#cashier\\nJob Type: #full_time\\n \\nش...  job_post   \n",
       "2  Company: #National_Technology_Group #NTG)\\nJob...  job_post   \n",
       "3  Job title: #Employees for Operations Departmen...  job_post   \n",
       "4  https://www.facebook.com/384708578676644/posts...      link   \n",
       "\n",
       "                                             ocr_res  \\\n",
       "0  We are on the hunt for a JUNIOR/SENIOR Develop...   \n",
       "1  Jolgi Job Type:Full Time Send your CV to m.jaw...   \n",
       "2  JOIN OURTEAM We're Hiring. NET DEVELOPER +lyea...   \n",
       "3  Job Vacancy Employees for Operations Departmen...   \n",
       "4  Jmloi AWASOL Developer Remotely Send your CV t...   \n",
       "\n",
       "                                           full_text  \\\n",
       "0  Job Title:#senior and a junior #developer\\n \\n...   \n",
       "1  Job Title:#cashier\\nJob Type: #full_time\\n \\nش...   \n",
       "2  Company: #National_Technology_Group #NTG)\\nJob...   \n",
       "3  Job title: #Employees for Operations Departmen...   \n",
       "4  https://www.facebook.com/384708578676644/posts...   \n",
       "\n",
       "                                         description                job_title  \\\n",
       "0  \\nJob Title: Junior/Senior Developer\\nCompany ...  junior/senior developer   \n",
       "1  \\nJob Title: Cashier\\nCompany Name: Euroline-R...                  cashier   \n",
       "2  \\nJob title: .NET Developer\\nCompany Name: Nat...           .net developer   \n",
       "3  \\nCompany Name: None\\nSalary: None\\nYears of E...    operations department   \n",
       "4  \\nJob Title: AWASOL Developer \\nCompany Name: ...         awasol developer   \n",
       "\n",
       "                      company_name salary       location          job_type  \\\n",
       "0                              NaN    NaN            NaN         full-time   \n",
       "1                    euroline-rent    NaN       damascus         full time   \n",
       "2  national technology group (ntg)    NaN       damascus  full time onsite   \n",
       "3                              NaN    NaN  on: #Damascus        #Full_Time   \n",
       "4                      smartech-sy    NaN       remotely               NaN   \n",
       "\n",
       "  years_of_experience                                             skills  \\\n",
       "0           extensive  php, laravel, sql, javascript, html5, css, boo...   \n",
       "1                   3  english language, jobseekers, jobseeker, inter...   \n",
       "2                   1                                  asp core, reactjs   \n",
       "3                 NaN  perfect knowledge & use for english, basic com...   \n",
       "4                 NaN                                                NaN   \n",
       "\n",
       "          abstract_title experience  \n",
       "0            / developer     senior  \n",
       "1                cashier        NaN  \n",
       "2         .net developer        NaN  \n",
       "3  operations department        NaN  \n",
       "4       awasol developer        NaN  "
      ]
     },
     "execution_count": 130,
     "metadata": {},
     "output_type": "execute_result"
    }
   ],
   "source": [
    "data.head()\n"
   ]
  },
  {
   "cell_type": "code",
   "execution_count": 131,
   "metadata": {},
   "outputs": [
    {
     "data": {
      "image/png": "[encoded data removed]",
      "text/plain": [
       "<PIL.Image.Image image mode=RGB size=400x200>"
      ]
     },
     "execution_count": 131,
     "metadata": {},
     "output_type": "execute_result"
    }
   ],
   "source": [
    "# creating word cloud to form a higher understanding of titles\n",
    "long_string = \",\".join(\n",
    "    list(\n",
    "        data.loc[data.abstract_title.notna()]\n",
    "        .abstract_title.apply(abstract_job_title)\n",
    "        .values\n",
    "    )\n",
    ")\n",
    "\n",
    "wordcloud = WordCloud(\n",
    "    background_color=\"white\", max_words=5000, contour_width=3, contour_color=\"steelblue\"\n",
    ")\n",
    "\n",
    "wordcloud.generate(long_string)\n",
    "\n",
    "wordcloud.to_image()\n"
   ]
  },
  {
   "cell_type": "markdown",
   "metadata": {},
   "source": [
    "as the word cloud shows, **front-end** , **back-end**, **ui-ux designer** and **full-stack** are the top words in job posts title <br>\n",
    "\n",
    "we can see also keywords such as software developer, graphic designer, and mobile app\n"
   ]
  },
  {
   "cell_type": "code",
   "execution_count": 132,
   "metadata": {},
   "outputs": [],
   "source": [
    "data.to_csv(\"../data/data_v6.csv\", index=False)\n"
   ]
  },
  {
   "cell_type": "markdown",
   "metadata": {},
   "source": [
    "### Conclusion\n",
    "\n",
    "- job titles were cleaned\n",
    "- new _experience_ column was created\n",
    "- new _abstract_title_ column was created\n"
   ]
  },
  {
   "attachments": {},
   "cell_type": "markdown",
   "metadata": {},
   "source": [
    "## Cleaning Salary Column\n"
   ]
  },
  {
   "cell_type": "code",
   "execution_count": 3,
   "metadata": {},
   "outputs": [],
   "source": [
    "data = pd.read_csv(\"../data/data_v6.csv\")\n"
   ]
  },
  {
   "cell_type": "code",
   "execution_count": 4,
   "metadata": {},
   "outputs": [
    {
     "data": {
      "text/plain": [
       "101"
      ]
     },
     "execution_count": 4,
     "metadata": {},
     "output_type": "execute_result"
    }
   ],
   "source": [
    "data.salary.nunique()\n"
   ]
  },
  {
   "cell_type": "code",
   "execution_count": 5,
   "metadata": {},
   "outputs": [],
   "source": [
    "def contains_digit(string):\n",
    "    return any(char.isdigit() for char in string)\n"
   ]
  },
  {
   "cell_type": "code",
   "execution_count": 7,
   "metadata": {},
   "outputs": [],
   "source": [
    "pattern = r\"syp|sp|l\\.s|syrian lira\"\n",
    "digits = r\"\\d+\"\n",
    "dollar = r\"dollar|usd\"\n"
   ]
  },
  {
   "cell_type": "code",
   "execution_count": 9,
   "metadata": {
    "collapsed": true,
    "jupyter": {
     "outputs_hidden": true
    },
    "tags": []
   },
   "outputs": [
    {
     "name": "stdout",
     "output_type": "stream",
     "text": [
      "https://www.facebook.com/384708578676644/posts/1272217216592438/\n",
      "WE ARE HIRING Graphic designer info@vtech-soft.com Job code GR-D 800103\n",
      "Salary: 800103\n",
      "Type: link\n"
     ]
    },
    {
     "name": "stdout",
     "output_type": "stream",
     "text": [
      " none\n"
     ]
    },
    {
     "name": "stdout",
     "output_type": "stream",
     "text": [
      "****************************************\n",
      "🔵Company: #Scandinavia Tech.\n",
      "Address: #Syria- Damascus- Kasaa Street, opposite of Al Zahrawi hospital.\n",
      "Position: #Front End #ReactJs Developer\n",
      "Job type: #Full Time\n",
      "#Salary Range: Starting from 1.5 million\n",
      "1 Year experience is needed.\n",
      "Vacation: 14 days paid vacation per year\n",
      "📑Job Description:\n",
      "📌Translating designs and wireframes into high-quality code\n",
      "📌Building reusable components and front-end libraries for future use.\n",
      "📌Optimizing components for maximum performance across a vast array of web-capable devices and browsers.\n",
      "📤Job Requirements:\n",
      "📌Strong knowledge of #HTML5, #CSS3, #JS, #ES6 and #TypeScript.\n",
      "📌Strong knowledge of ReactJS (NextJS is a big plus).\n",
      "📌Good knowledge of UI libraries and system design (Material UI or TailwindCss is a plus).\n",
      "📌Good knowledge of state management solutions (Redux toolkit or Zustand is a plus).\n",
      "📌Good experience in Git source control.\n",
      "📌Good understanding of Agile methodologies.\n",
      "📌Understanding of SEO principles.\n",
      "Familiarity with RESTful APIs.  \n",
      "\n",
      "📮Send CV to: \n",
      "Hr@scandinaviatech.com\n",
      "SCANDINAUIA TECH WEAREHIRING! FRONT-END-DEVELOPER/S React is JS TS Typescript Redux Scandinavia tech hr@scandinaviatech.com Qassa,damascus,syria\n",
      "Salary: starting from 1.5 million\n",
      "Type: job_post\n"
     ]
    },
    {
     "name": "stdout",
     "output_type": "stream",
     "text": [
      " \n"
     ]
    },
    {
     "name": "stdout",
     "output_type": "stream",
     "text": [
      "****************************************\n",
      "🕹Job Title: #Flutter Developer\n",
      "Job Type: #Full Time\n",
      "Job Location: #Remotely or in #Damascus, Al-Jeser Al-Abead\n",
      "\n",
      "We are hiring ( flutter developer )\n",
      "\n",
      "📌 at least 3 years XP on android or ios\n",
      "📌 at least 2 years XP on flutter\n",
      "📌 full time only\n",
      "📌 advanced level in English\n",
      "📌Salary will be determined after the interview up to: 2000,000 SYP\n",
      "مكان العمل: في الشركة دمشق الجسر الأبيض أو عن بعد\n",
      "📮Send CV to: \n",
      "Career.solutions.fast@gmail.com\n",
      "\n",
      "#تواصل #فرص #عمل #توظيف #شاغر\n",
      "#Tawasol #Tawasol_Job\n",
      "#Hiring  #job #developer\n",
      "#Tawasol #Tawasol_Job\n",
      "#jobseekers #jobseeker #interview #covid #recruiter #jobsearching #engineer #hiringnow\n",
      "Jploi TAWASOL job vacancy Flutter Developer 11:22 Tuesday,Sep17 Full Time Remotely/ at the company office in Damascus Salary Up to:2000,000SYP Send yourCV to: Career.solutions.fast@gmail.com 0992081792 Jnlgi Jialgi\n",
      "Salary: up to: 2000,000 syp\n",
      "Type: job_post\n"
     ]
    },
    {
     "name": "stdout",
     "output_type": "stream",
     "text": [
      " \n"
     ]
    },
    {
     "name": "stdout",
     "output_type": "stream",
     "text": [
      "****************************************\n",
      "🎖Job Title: #IOS Developer\n",
      "Job Type: #Full_Time\n",
      "#remotly or in office\n",
      "\n",
      "We are hiring professional ios developer \n",
      "\n",
      "- at least 5 years XP in Swift/Objective-C\n",
      "- strong OOP knowledge\n",
      "- SOLID & Clean Principles\n",
      "- full time only\n",
      "- advanced level in English\n",
      "- remotly or in office\n",
      " - salary according to experience up to 2,500,000 \n",
      "\n",
      "📮Career.solutions.fast@gmail.com\n",
      "\n",
      "#Tawasol #Tawasol_Job\n",
      "#jobseekers #jobseeker #interview #covid #education #recruiter #jobsearching #engineer #hiringnow #employmentopportunities  #vacancy\n",
      "Jnloi AWASOT job vacancy IOS Developer 1122 Tuesday Sep 17 Remotely/or in office Salary Up to: 2,500,000SYP Send yourCVto Career.solutions.fast@gmail.com 0992081792 Jnlgi oigi\n",
      "Salary: up to 2,500,000syp\n",
      "Type: job_post\n"
     ]
    },
    {
     "name": "stdout",
     "output_type": "stream",
     "text": [
      " \n"
     ]
    },
    {
     "name": "stdout",
     "output_type": "stream",
     "text": [
      "****************************************\n",
      "https://www.facebook.com/384708578676644/posts/1294265341054292/\n",
      "Jploi We're hiring Backend/Frontend Developers C++ CSS HTML FRONT BACK Starting Salary: END END 1,500,000 SYP JAVA PHP Full Time/ Remote Send Your CV to: It.department@nestech.org Jmlgi 0992081792 Jalgi\n",
      "Salary: 1,500,000 syp\n",
      "Type: link\n"
     ]
    },
    {
     "name": "stdout",
     "output_type": "stream",
     "text": [
      " \n"
     ]
    },
    {
     "name": "stdout",
     "output_type": "stream",
     "text": [
      "****************************************\n",
      "🔴Company: #Ridgetech\n",
      "Job Title: #Backend #Laravel #Developer\n",
      "Job Type: Office #Full_time / 10am-5pm / Sunday- Thursday\n",
      "Job location: #Halboni, #Damascus \n",
      "Ridgetech a Syrian Software Company is looking for a motivated Backend Laravel developer to join our team TODAY!\n",
      "\n",
      "🗂Requirements:\n",
      "👉Has great working experience in developing websites at least 3-4 projects application and 1-2 years of experience.\n",
      "👉Great Knowledge in REST API.\n",
      "👉Great Knowledge in mySQL data base\n",
      "👉Has Knowledge in Flutter and React js or Vue js (+plus).\n",
      "👉Able to integrate and work within collaborative and distinctive team.\n",
      "👉Ensure HTML, CSS, jquery, and blade\n",
      "👉Experience with Git\n",
      "👉Basic knowledge in docker\n",
      "👉Creative and efficient problem solver\n",
      "👉Team work\n",
      "\n",
      "⛳️Salary: Starting 600,000 syp + depending on experience\n",
      "\n",
      "📮If you find yourself qualified for position, don't hesitate\n",
      "to contact with us and send your CV to Whatsapp 0940204205 \n",
      "\n",
      " #Tawasol #Tawasol_Job\n",
      "#Software #Multimedia  #JobOpening\n",
      "Backend Laravel Developer Ful Time/Damascus Send your CV to: 0940204205 Jplgi 0992081792 Jalgi\n",
      "Salary: 600,000 syp\n",
      "Type: job_post\n"
     ]
    },
    {
     "name": "stdout",
     "output_type": "stream",
     "text": [
      " \n"
     ]
    },
    {
     "name": "stdout",
     "output_type": "stream",
     "text": [
      "****************************************\n",
      "🔵Company: #qtechit\n",
      "Job title: #Backend Developer\n",
      "\n",
      "Backend\n",
      "📑Requirements:\n",
      "👉 Over two year's developing PHP Laravel.\n",
      "👉Write “clean”, well-designed code.\n",
      "👉Strong knowledge of OOP / Solid principles.\n",
      "👉High level of database management.\n",
      "👉 Good knowledge of bootstrap and Jquery\n",
      "Experienced in database design and mysql.\n",
      "👉Strong knowledge in Restful API \n",
      "\n",
      "📮Send resumes to: \n",
      "careers@qtechit.com\n",
      "\n",
      "#Tawasol #Tawasol_Job\n",
      "#Software #Multimedia #Marketing #JobOpening\n",
      "#Damascus #Syria \n",
      "#jobseekers #jobseeker #interview #covid #education #recruiter #jobsearching #engineer #hiringnow #employmentopportunities  #vacancy\n",
      "0101000111000 Tech 1900001 8 .0 GROUP 0100 .0 NOW HIRING 91 8 0 .0 01100100 0 BackendDeveloper Attachedisanoverviewofpastwork Please send yourcVto theemail:careers@gtechit.com\n",
      "Salary: 1900001\n",
      "Type: job_post\n"
     ]
    },
    {
     "name": "stdout",
     "output_type": "stream",
     "text": [
      " none\n"
     ]
    },
    {
     "name": "stdout",
     "output_type": "stream",
     "text": [
      "****************************************\n",
      "🕹Job Title: #Graphic designer\n",
      "Job Type: #Full_Time\n",
      "Job Location: #Damascus\n",
      "\n",
      "مكتب طباعة يطلب مصمم خبرة بتصميم المطبوعات .. \n",
      "\n",
      "⛳️دمشق .. شارع العابد .. \n",
      "\n",
      "⛳️رنج الراتب 500 --> 700 ..\n",
      "\n",
      "⛳️دوام كامل .\n",
      "📮ايميل التواصل:\n",
      " design@ways-bs.com\n",
      "\n",
      "#Tawasol #Tawasol_Job\n",
      "#Software #Marketing #JobOpening #Syria \n",
      "#jobseekers #jobseeker #interview #covid #education #recruiter #jobsearching #engineer #hiringnow   #vacancy\n",
      "We are Jnloi HIRING... Graphic Designer Damascus Send your CV to: design@ways-bs.com 0992081792 Uaigj\n",
      "Salary: 500-700\n",
      "Type: job_post\n"
     ]
    },
    {
     "name": "stdout",
     "output_type": "stream",
     "text": [
      " \n"
     ]
    },
    {
     "name": "stdout",
     "output_type": "stream",
     "text": [
      "****************************************\n",
      "🔴Company: #zero1soft\n",
      "Job Title: #IT Support \n",
      "Location: #Remotely\n",
      "Job Type: #Full_Time\n",
      "\n",
      "مطلوب موظف/ة دعم فني / IT للعمل من المنزل. \n",
      "خبرة بالبرامج وتنزيلها ولبق/ة بالتحدث مع العملاء \n",
      "📝المتطلبات الفنية :\n",
      "📌العمل من المنزل بدون ضوضاء \n",
      "انترنت 4 ميغا فما فوق. \n",
      "📌كهرباء متوفرة من الساعة 9-5 (بطارية او طاقة )\n",
      "📌الراتب 350000 ل.س اول 4 شهور\n",
      "📮التواصل على الايميل:\n",
      "info@zero1soft.com\n",
      "\n",
      "#Tawasol #Tawasol_job\n",
      "#Software #Marketing\n",
      "#Design #Application #Website\n",
      "#Programming #JobOpening\n",
      "#Damascus #Syria\n",
      "We Are IT Support Hiring TECHNICAL SUPPORT Full Time Remotely S Send your CV to: info@zero1soft.com ZERO ONE 0992081792 Ualgi\n",
      "Salary: 350000\n",
      "Type: job_post\n"
     ]
    },
    {
     "name": "stdout",
     "output_type": "stream",
     "text": [
      " \n"
     ]
    },
    {
     "name": "stdout",
     "output_type": "stream",
     "text": [
      "****************************************\n",
      "💎Company: #SawafTECH\n",
      "Job Title: #Full stack Developer (#Laravel + #Vue.JS)\n",
      "Job Type: #Full_Time\n",
      "Job Location: #Remotely work for a company located in #Istanbul, Turkey.\n",
      "📑 Requirements:\n",
      "📍- 2+ years of experience in PHP, Laravel framework.\n",
      "📍- 2+ years of experience in VueJs.\n",
      "📍- Degree in Computer Science or related fields\n",
      "📍- Strong knowledge of OOP and Design Patterns.\n",
      "👉 Benefits:\n",
      "🔸Working remotely allows for better work-life balance.\n",
      "🔸2 days off per week.\n",
      "🔸Salary range 700,000 to 1,500,000 SP\n",
      "🗂 Application:\n",
      "- CV in PDF Format.\n",
      "- Candidate GitHub profile if available.\n",
      "- Candidate reference projects.\n",
      "📫Apply through this e-mail:\n",
      "hr@sawaftech.com\n",
      "\n",
      "#Tawasol #Tawasol_Job\n",
      "#Software #Multimedia #Marketing #JobOpening\n",
      "#Damascus #Syria \n",
      "#jobseekers #jobseeker #interview #covid #education #recruiter #jobsearching #engineer #hiringnow #employmentopportunities  #vacancy\n",
      "TAWAF JOINOUR TEAM EKIBIMIZEKATILIN Please sendyour C.Vto: hr@sawaftech.com Senior(Laravel+ Vue.Js) Developer +905528888787 www.sawaftech.com O@Osawaftech\n",
      "Salary: 700,000 to 1,500,000 sp\n",
      "Type: job_post\n"
     ]
    },
    {
     "name": "stdout",
     "output_type": "stream",
     "text": [
      " \n"
     ]
    },
    {
     "name": "stdout",
     "output_type": "stream",
     "text": [
      "****************************************\n",
      "https://www.facebook.com/384708578676644/posts/1318859651928194/\n",
      "one Full Time Backe-End Tech Lead Salary range is 3,5-7MillionSYP Apply Online Js 0992081792 Jaigi\n",
      "Salary: 3.5-7 million syp\n",
      "Type: link\n"
     ]
    },
    {
     "name": "stdout",
     "output_type": "stream",
     "text": [
      " \n"
     ]
    },
    {
     "name": "stdout",
     "output_type": "stream",
     "text": [
      "****************************************\n",
      "💎Job Title: #odoo DEVELOPER\n",
      "Job type: #Remotly\n",
      "Location: #Damascus \n",
      "\n",
      "📝WE'RE HIRING \n",
      " \n",
      "1 to 2  year experience in odoo development \n",
      "\n",
      "⛳️Salary: \n",
      "Starts from 2,000,000 SYP\n",
      "\n",
      "\n",
      "📮Drop your resume at \n",
      "odooxhub@gmail.com\n",
      " \n",
      "#Tawasol #Tawasol_Job\n",
      "#Hiring\n",
      "#jobseekers #jobseeker #interview #covid  #education #recruiter #jobsearching  #hiringnow #employmentopportunities  #vacancy\n",
      "WE'RE HIRING REMOTELY OOOODEVELOPER 1to 2-year experience in Odoo development Location:Damascus,Syria SalaryStarts from 2M JOIN OUR TEAM Drop yourresume at odooxhub@gmail.com\n",
      "Salary: 2,000,000 syp\n",
      "Type: job_post\n"
     ]
    },
    {
     "name": "stdout",
     "output_type": "stream",
     "text": [
      " \n"
     ]
    },
    {
     "name": "stdout",
     "output_type": "stream",
     "text": [
      "****************************************\n",
      "Drop your resume at \n",
      "odooxhub@gmail.com\n",
      "WE'RE HIRING REMOTELY OOOO DEVELOPER 1to 2-year experience in Odoo development Location:Damascus,Syria SalaryStarts from 2M S.P JOIN OUR TEAM Drop your resume at odooxhub@gmail.com\n",
      "Salary: 2m s.p\n",
      "Type: others\n"
     ]
    },
    {
     "name": "stdout",
     "output_type": "stream",
     "text": [
      " \n"
     ]
    },
    {
     "name": "stdout",
     "output_type": "stream",
     "text": [
      "****************************************\n",
      "https://www.facebook.com/384708578676644/posts/1334105593736933/\n",
      "Job Vacancy SeniorDevOps Engineer Dubai Office DEV 8 OPS 000 Send CV and 0900 portfolio to: ashraf@teamhome.ae Jnlgi 0992081792 Jalgi\n",
      "Salary: dev 8 ops 000\n",
      "Type: link\n"
     ]
    },
    {
     "name": "stdout",
     "output_type": "stream",
     "text": [
      " none\n"
     ]
    },
    {
     "name": "stdout",
     "output_type": "stream",
     "text": [
      "****************************************\n",
      "⛳️We are looking for a Wordpress Developer.\n",
      "\n",
      "Company: #Mapcp\n",
      "Job Title: #Wordpress Developer.\n",
      "Job Type: #Full Time.\n",
      "Job Location: #Remotly.\n",
      "👉Salary: 600,000 ~ 1,000,000 SYP.\n",
      "📮Send your CV to: careers@mapcp.in\n",
      "Note: include the job title in the subject of the email.\n",
      "\n",
      "😁Requirements:\n",
      "\n",
      "✔️2+ years working in web development with Wordpress.\n",
      "✔️Knowledge of multiple front-end languages (JavaScript, HTML, CSS) and their libraries.\n",
      "✔️Ability to handle and manage projects.\n",
      "✔️Experience in building both front-end and back-end of the website\n",
      "✔️Developing and converting designs into themes\n",
      "✔️Knowledge of WordPress Plugins\n",
      "✔️Good understanding of Web architecture\n",
      "✔️Good understanding of SEO.\n",
      "\n",
      "✔️Ability to understand business requirements and translate them into technical requirements.\n",
      "✔️A team player with excellent communication skills.\n",
      "✔️Preferred degree in Computer Science, Information Technology or similar.\n",
      "  \n",
      "\n",
      "#Tawasol #Tawasol_job\n",
      "#Software #Marketing\n",
      "#Design #Application #Website\n",
      "#Programming #JobOpening\n",
      "#Damascus\n",
      "Mapcp We're Hiring Open Position: Wordpress Developer Remotely Send your CV to: Apply Now! careers@mapcp.in\n",
      "Salary: 600,000 ~ 1,000,000 syp\n",
      "Type: job_post\n"
     ]
    },
    {
     "name": "stdout",
     "output_type": "stream",
     "text": [
      " \n"
     ]
    },
    {
     "name": "stdout",
     "output_type": "stream",
     "text": [
      "****************************************\n",
      "💎 Company: #Redeemly\n",
      "Job Title: #Frontend Engineer\n",
      "\n",
      "👉 Salary starts from: 2M SYP\n",
      "\n",
      "📮Drop your CV to integration@redeemly.com\n",
      "\n",
      "#تواصل #فرص #عمل\n",
      " #job #Tawasol #Tawasol_Job #Engineer\n",
      "#jobseekers #jobseeker #front-end #developer #interview #covid #education #recruiter #jobsearching #engineer #hiringnow  #VacancyNews\n",
      "redeerJly WE ARE HIRING!! FrontEnd Engineer 2M Salary starts from S.P HTML JS CSS Drop your CV to integration@redeemly.com\n",
      "Salary: 2m syp\n",
      "Type: job_post\n"
     ]
    },
    {
     "name": "stdout",
     "output_type": "stream",
     "text": [
      " \n"
     ]
    },
    {
     "name": "stdout",
     "output_type": "stream",
     "text": [
      "****************************************\n",
      "يعلن #معهد_التميز_التعليمي\n",
      "عن جلسات #امتحانية لطلاب #التاسع الأساسي\n",
      "☎️ 011- 6563361\n",
      "0935376961\n",
      "SAghall jyill sgenByla! wy Jiaill ngA 2022aiiolLll Cuogill awjll 6.sla.ll 9-7ggl 4000 5/27a1 1.30-11.30 alcliol 4000 5/28l 6-3=plc 4000 5/30 4000 aolepgle 6-3g 5/31 6-3 8000 6/3 09.lo 100 8000 2-11 6/4 Cll 8000 SLg 6-2 6/61 7000 6-2 6/8LV1 eaellst 8000 H9.f ule 6-2 6/12 aellaoll 8000 6-4 6/14 6563361-0935376961\n",
      "Salary: 4000, 8000\n",
      "Type: others\n"
     ]
    },
    {
     "name": "stdout",
     "output_type": "stream",
     "text": [
      " none\n"
     ]
    },
    {
     "name": "stdout",
     "output_type": "stream",
     "text": [
      "****************************************\n",
      "يعلن #معهد_التميز_التعليمي\n",
      "عن جلسات #امتحانية لطلاب #الثالث الثانوي #العلمي و #الأدبي\n",
      "☎️ 011- 6563361\n",
      "0935376961\n",
      "Pruyll Uujal astall 15000 63 5/29 10000 Aglall c 52 5/29 anulo 12000 1.00 6/1Ln1 UolcSuno 6l1230t 12500 6/4 aliol) 6ala12J 12500 6/5 10000 63 6/4 agolyna 63 12000 6/7 63 6/11ll 8000 $ale 63 6/15all 8000 63 6/13 8000 agilbg 6/15 63 8000 AaelJosl jioill=ao 00 62 12000 6/18 Soglaall SHS! 62 12000 /20 SHlor JOs :Cilaglrallgasja 6563361-0935376961\n",
      "Salary: 15000, 10000, 12000, 12500, 10000, 8000, 8000, 8000, 12000, 12000\n",
      "Type: others\n"
     ]
    },
    {
     "name": "stdout",
     "output_type": "stream",
     "text": [
      " none\n"
     ]
    },
    {
     "name": "stdout",
     "output_type": "stream",
     "text": [
      "****************************************\n",
      "🟣 Company: #Newsifier\n",
      "Job Title: #Digital marketer\n",
      "Job Type: #Remotely\n",
      "\n",
      "📊Skills: \n",
      "\n",
      "🖍- Speak and write English fluently ( Advanced Level is required )\n",
      "🖍- Have experience with digital marketing\n",
      "🖍- Fast learner \n",
      "\n",
      "✅Benefits\n",
      "🎖🎖- Very Competitive salary between 2,000,000 SYP and 3,500,000 SYP\n",
      "✔️- The opportunity to work in a fast-growing company where you will learn a lot about growing an online business and online marketing\n",
      "✔️- Work aside the CEO who has 15 years of experience in online marketing and growing companies\n",
      "\n",
      "\n",
      "👉Full description and how to apply\n",
      "\n",
      "https://newsifier.homerun.co/digital-marketing/en?token=4746083f302a3d09cb5bf4d32030fad9\n",
      "\n",
      "#تواصل #فرص #عمل\n",
      "#job #Tawasol #Tawasol_Job #Engineer\n",
      "#jobseekers #jobseeker #interview #covid #education #recruiter #jobsearching #engineer #hiringnow  #VacancyNews\n",
      "Jn!gi TAWASOI Digital Marketer Salary between: 2,000,000 and 3,500,000 (SYP) Applying online Remotely Job 0992 081 792 Jolgs\n",
      "Salary: 2,000,000 - 3,500,000 syp\n",
      "Type: job_post\n"
     ]
    },
    {
     "name": "stdout",
     "output_type": "stream",
     "text": [
      " \n"
     ]
    },
    {
     "name": "stdout",
     "output_type": "stream",
     "text": [
      "****************************************\n",
      "🔴 Company: #softwarus\n",
      "Job Title: #FrontEnd Engineer\n",
      "\n",
      "⛳️3+ Years Experience \n",
      "⛳️The minimum Salary is 2 Millions SP \n",
      "\n",
      "📮Send CV to:\n",
      " hr@softwarus.com \n",
      "\n",
      "#تواصل #فرص #عمل\n",
      "#job #Tawasol #Tawasol_Job #Engineer\n",
      "#jobseekers #jobseeker #interview #covid #education #recruiter #jobsearching #engineer #hiringnow  #VacancyNews\n",
      "SWus WE ARE HIRING FrontEnd lEngineer CSS BUILD HTML IS 3+ Years Experience The minimum Salary is 2 Millions SP Send CV to hr@softwarus.com\n",
      "Salary: 2 millions sp\n",
      "Type: job_post\n"
     ]
    },
    {
     "name": "stdout",
     "output_type": "stream",
     "text": [
      " \n"
     ]
    },
    {
     "name": "stdout",
     "output_type": "stream",
     "text": [
      "****************************************\n",
      "🔴 Company: #softwarus\n",
      "Job Title: #Team Leader \n",
      "\n",
      " WE ARE HIRING \n",
      "\n",
      "🎖3+ Years Experience \n",
      "🎖The minimum Salary is 2 Millions SP \n",
      "📮Send CV to hr@softwarus.com \n",
      "\n",
      "#تواصل #فرص #عمل\n",
      "#job #Tawasol #Tawasol_Job #Engineer\n",
      "#jobseekers #jobseeker #interview #covid #education #recruiter #jobsearching #engineer #hiringnow  #VacancyNews\n",
      "SWus WE ARE HIRING Team Leader JHT 3+ Years Experience The minimum Salary is 2 Millions SP Send CV to hr@softwarus.com\n",
      "Salary: 2 millions sp\n",
      "Type: job_post\n"
     ]
    },
    {
     "name": "stdout",
     "output_type": "stream",
     "text": [
      " \n"
     ]
    },
    {
     "name": "stdout",
     "output_type": "stream",
     "text": [
      "****************************************\n",
      "🔴 Company: #softwarus\n",
      "Job Title: #Full Stack web developer\n",
      "\n",
      " WE ARE HIRING \n",
      "\n",
      "🎖3+ Years Experience \n",
      "🎖The minimum Salary is 2 Millions SP \n",
      "📮Send CV to hr@softwarus.com \n",
      "\n",
      "#تواصل #فرص #عمل\n",
      "#job #Tawasol #Tawasol_Job #Engineer\n",
      "#jobseekers #jobseeker #interview #covid #education #recruiter #jobsearching #engineer #hiringnow  #VacancyNews\n",
      "SWus WE ARE HIRING Full Stack Web Developer CSS 0. Js PHP 10 3+ Years Experience The minimum Salary is 2 Millions SP Send CV to hr@softwarus.com\n",
      "Salary: 2 millions sp\n",
      "Type: job_post\n"
     ]
    },
    {
     "name": "stdout",
     "output_type": "stream",
     "text": [
      " \n"
     ]
    },
    {
     "name": "stdout",
     "output_type": "stream",
     "text": [
      "****************************************\n",
      "🔴 Company: #Limusoft\n",
      "Job Title: #Frontend Engineer\n",
      "Job Type: #full time \n",
      "Job location: #Remotely\n",
      "\n",
      "We're a newly established solution provider startup company, looking to build a strong team, guide them to take their career to next level by working remotely on various projects.\n",
      "👉Job description:\n",
      "As a Frontend Engineer, you will be responsible for building new user interfaces as well as enhance and maintain the already existing ones. You'll have to interact with engineers, designers and clients to assure the best collaboration. \n",
      "✅Requirements:\n",
      "🔹- Experience with Javascript\n",
      "🔹- Experience with ReactJs\n",
      "🔹- Good English communication and technical writing \n",
      "🔹- Git\n",
      "🔹- Full time (Flexible)\n",
      "🔹- Salary range: 800 000 SP to 1 500 000 SP\n",
      "🔹- Progressive Salary\n",
      "🔹- Long term\n",
      "\n",
      "📮To apply please send resume to careers@limusoft.com\n",
      "\n",
      "#تواصل #فرص #عمل\n",
      "#job #Tawasol #Tawasol_Job #Engineer\n",
      "#jobseekers #jobseeker #interview #covid #education #recruiter #jobsearching #engineer #hiringnow  #VacancyNews\n",
      "Remotely We are seeking for a talented Front-end'Engineer Full Time If you are interested,please send yourCV to Careers@limusoft.com Jnlgi 0992081792 Jalg'\n",
      "Salary: 800 000 sp to 1 500 000 sp\n",
      "Type: job_post\n"
     ]
    },
    {
     "name": "stdout",
     "output_type": "stream",
     "text": [
      " \n"
     ]
    },
    {
     "name": "stdout",
     "output_type": "stream",
     "text": [
      "****************************************\n",
      "💎Company: #Deal App\n",
      "Job title: #Graphic_Designer \n",
      "Job Type: #Part_Time\n",
      "Job location: #Damascus\n",
      "شركة Deal App.\n",
      "المقر: دمشق.\n",
      "مطلوب Graphic Designer للعمل بشكل جزئي part time لشركة تطبيق موبايل.\n",
      "(تُحدَّد ساعات العمل بالاتفاق أثناء المقابلة بما يناسب الطرفين)\n",
      "📝المهام الوظيفية:\n",
      "🔹- تصميم الحملات الدعائية والهوية البصرية للشركة.\n",
      "تصميم صور وفيديوهات و stories لمنشورات السوشال ميديا تجذب انتباه المستخدم لزيادة تفاعلهم لحملات التسويق عبر شبكات التواصل الاجتماعي.\n",
      "🔹_ معرفة بالتصاميم الخاصة بالطباعة وتصاميم السوشال ميديا\n",
      "🔹_ السرعة والدقة في أداء العمل \n",
      "🔹_الدوام جزئي Part Time.\n",
      "🔹اللغة: العربية، English.\n",
      "🔹الراتب: 400000 s.p\n",
      "🔹العنوان : مزة ڤيلات غربية\n",
      "⛳️البرامج المطلوبة: \n",
      "Adobe Photoshop, Illustrator, Indesign, Adobe illustrator.\n",
      "Sound knowledge of Motion Graphic and Animation.\n",
      "📮للتواصل إرسال السيرة الذاتية مع نماذج الأعمال السابقة على الرقم التالي : 0994598209\n",
      "\n",
      "\n",
      "#Design \n",
      "#Software #Multimedia #Marketing\n",
      "#Programming #Job_opening \n",
      "#Work #Vacancy  \n",
      "#Damascus #Syria \n",
      "#Tawasol #Tawasol_Job\n",
      "#Hiring\n",
      "Graphic Designer Part Time Send your CV to: 0994598209 Syria - Damascus Jnlgi 0992081792 Jalg'i\n",
      "Salary: #400000 s.p\n",
      "Type: job_post\n"
     ]
    },
    {
     "name": "stdout",
     "output_type": "stream",
     "text": [
      " \n"
     ]
    },
    {
     "name": "stdout",
     "output_type": "stream",
     "text": [
      "****************************************\n",
      "Company: #flexsolution\n",
      "Job Title: #Social Media Specialist \n",
      "\n",
      "تبحث شركة الحلول المرنة عن موظف سوشل ميديا للانضمام الى فريقها\n",
      "يمتلك المواصفات والمؤهلات التالية:\n",
      "\n",
      "- معرفة جيدة بمواقع التواصل الاجتماعي.\n",
      "- ‏خبرة سنة في إدارة صفحات سوشل ميديا.\n",
      "-مستوى جيد باللغة الانكليزية.\n",
      "-مهارات بالتواصل\n",
      "-مستوى جيد ببرامج word وexcel\n",
      "-القدرة على الابتكار وايجاد الحلول المناسبة.\n",
      "-القدرة على العمل ضمن فريق.\n",
      "-مهارة جيدة في تنظيم وإدارة الوقت.\n",
      "\n",
      "اذا كنت تملك المواصفات التالية ومهتماً بالانضمام الى فريقنا\n",
      "📮يرجى ارسال السيرة الذاتية على البريد الالكتروني:\n",
      "hr@flexsolution.biz\n",
      "الموضوع :\"SM\"\n",
      "\n",
      "#Tawasol #Tawasol_job\n",
      "#Software #Marketing\n",
      "#Design #Application #Website\n",
      "#Programming #JobOpening\n",
      "#Damascus #Syria\n",
      "FLEX SOLUTIONS Social Media Specialist WE ARE HIRING 1K send your CV to hr@flexsolution.biz\n",
      "Salary: 1k\n",
      "Type: job_post\n"
     ]
    },
    {
     "name": "stdout",
     "output_type": "stream",
     "text": [
      " none\n"
     ]
    },
    {
     "name": "stdout",
     "output_type": "stream",
     "text": [
      "****************************************\n",
      "💎 Company: #Deal App\n",
      "Job Title: SALES \n",
      "Job Type: #Full_Time\n",
      "شركة Deal App \n",
      "تبحث عن مسؤول مبيعات لخدمات تطبيق موبايل \n",
      "التوصيف الوظيفي:\n",
      "هو المسؤول عن التواصل مع العملاء بالإضافة لجمع معلوماتهم.\n",
      "المهام الوظيفية لمسؤول المبيعات :\n",
      "🔸•جمع المعلومات المطلوبة عن العملاء الخاصة بالتطبيق .\n",
      "🔸• بالإضافة للتواصل مع العملاء من خلال الاتصال او زيارتهم.\n",
      "🔸•متابعة الأهداف الشهرية للمبيعات والعمل على تحقيقها.\n",
      "🔸•تقديم تقارير دورية عن العمل.\n",
      "📑المهارات اللازمة لوظيفة مسؤول المبيعات :\n",
      "📍•امتلاك مهارات في الإقناع والتفاوض.\n",
      "📍•القدرة على إدارة الوقت .\n",
      "📍•حسن المظهر والثقة بالنفس واللباقة في الحديث. \n",
      "📝متطلبات العمل في وظيفة مندوب التسويق:\n",
      "📌•شهادة جامعية أو شهادة ثانوية كحد أدنى.\n",
      "📌•الخبرة السابقة في مجال التسويق للتطبيقات. \n",
      "⛳مكان: مزة غربية\n",
      "⛳وقت الدوام: الاحد للخميس من ٩ ص حتى ٥م\n",
      "⛳المعاش: ابتداء من 350000  ل.س \n",
      "📮يرجى  إرسال الCV على الرقم الآنسة مارلا 0965065209\n",
      "\n",
      "\n",
      " #JobAlert #hiring   #React #vacancy #jobopportunity #developer #office #fulltime\n",
      "#تواصل #فرص #عمل\n",
      "#job #Tawasol #Tawasol_Job\n",
      "Job Vacancy bvo J9gwo Full Time Send CV on WhatsApp 0965065209 Jnlgi 0992081792 Jialg\n",
      "Salary: 350000  l.s.\n",
      "Type: job_post\n"
     ]
    },
    {
     "name": "stdout",
     "output_type": "stream",
     "text": [
      " \n"
     ]
    },
    {
     "name": "stdout",
     "output_type": "stream",
     "text": [
      "****************************************\n",
      "Job Title: #backend developer \n",
      "Job Type: #Full_Time\n",
      "Job location: #Damascus/ remotly \n",
      "\n",
      "- Bachelor’s degree in computer science, information technology, or a similar field.\n",
      "- 2+ years Experience      web-devlopment\n",
      "- Proficiency with c/c#/java\n",
      "- Eager to learn python\n",
      "- Good problem-solving skills.\n",
      "- Attention to detail.\n",
      "- salary range : 2 / 3 million \n",
      "\n",
      "Working days: from Sunday to Thursday \n",
      "📮Interested candidates please send your c.v to  \n",
      "Career.solutions.fast@gmail.com.\n",
      "\n",
      "#Tawasol #Tawasol_Job\n",
      "#Software #Multimedia #Marketing #JobOpening\n",
      "#Damascus #Syria \n",
      "#jobseekers #jobseeker #interview #covid #education #recruiter #jobsearching #engineer #hiringnow #employmentopportunities  #vacancy\n",
      "Job Vacancy Backend Developer Salary range 2/3 Million FullTime/Remotely Send CV to: Career.solutions.fast@gmail.com 0992081792 Jnlgi Jalgi\n",
      "Salary: 2/3 million\n",
      "Type: job_post\n"
     ]
    },
    {
     "name": "stdout",
     "output_type": "stream",
     "text": [
      " \n"
     ]
    },
    {
     "name": "stdout",
     "output_type": "stream",
     "text": [
      "****************************************\n",
      "Company: #SAWA ISP\n",
      "Worktime: Sunday-Thursday (8:30AM - 4:30PM) \n",
      "working style: Office #full time\n",
      "Location: #Damascus, Free Zone\n",
      "\n",
      "We are hiring *programmer* to join our team with Responsibilities:\n",
      "\n",
      "👉-3+ years work experience with PHP and the Laravel framework\n",
      "👉-Experience with writing and scaling REST APIs returning JSON\n",
      "👉-Strong understanding of API authentication mechanisms and scoping.\n",
      "👉-Deep understanding of Object Oriented Programming\n",
      "👉-Strong knowledge of MySQL, Postgres - writing and reviewing complex queries and performance tuning\n",
      "👉-Experience with front end(HTML, Css, Javascript, Jquery, Bootstrap), Blade \n",
      "\n",
      "📮To join our team, please send your resume at hr@sawa-isp.sy\n",
      "\n",
      "#تواصل #فرص #عمل\n",
      "#job #Tawasol #Tawasol_Job\n",
      "#jobseekers #jobseeker #interview #covid #education #recruiter #jobsearching #engineer #hiringnow  #VacancyNews\n",
      "SAWA <title/>HelloSyrians</title <body/> {We Are Hiring Programmer} Iposition:permanent sytlebold type:awesome} </body> 19000 00 00 01 10 000 100 0 100 017 OOIOD 07 000110 100110010 000010100\n",
      "Salary: 19000\n",
      "Type: job_post\n"
     ]
    },
    {
     "name": "stdout",
     "output_type": "stream",
     "text": [
      " none\n"
     ]
    },
    {
     "name": "stdout",
     "output_type": "stream",
     "text": [
      "****************************************\n",
      "💎Company: #Newsifier\n",
      "Job title: #Senior #Full stack developer\n",
      "Job Type: #Remotely\n",
      "\n",
      "👉Minimum experience: 3 years.\n",
      "\n",
      "🗂Skills:\n",
      "📌- You have at least 3 years of proven experience in full stack development and preferably +5 years.\n",
      "📌- You’re comfortable working with both front- and back-end technologies. ( with more focus on the backend )\n",
      "📌- You have deep knowledge of PHP ( Laravel ) and JS ( Node js )\n",
      "📌- You know how to do front-end changes( HTML, CSS, and JavaScript).\n",
      "📌- You’re experienced with relational database design (MySQL).\n",
      "Benefits\n",
      "🎖Competitive salary. [ 2,450,000 SYP - 6,300,000 SYP ] depending on the experience\n",
      "Unique opportunity to work on a SaaS system that is serving plus 50 million users monthly, and the ability to make an impact on our products.\n",
      "Paid vacations.\n",
      "📮Full description and how to apply\n",
      "https://jobs.newsifier.com/full-stack-developer/en?token=b40c972a74a9a5a4d7022f08bf403d97\n",
      "\n",
      "#Tawasol #Tawasol_Job\n",
      "#Software #Multimedia #Marketing #JobOpening\n",
      "#Damascus #Syria\n",
      "Remotely Senior Full Stack Developer Salary Range: (2,450,000-6,300,000SYP Apply Online 0992081792 Jolgi Joigi\n",
      "Salary: 2,450,000 syp - 6,300,000 syp\n",
      "Type: job_post\n"
     ]
    },
    {
     "name": "stdout",
     "output_type": "stream",
     "text": [
      " \n"
     ]
    },
    {
     "name": "stdout",
     "output_type": "stream",
     "text": [
      "****************************************\n",
      "💎Job Title: #React.js Developer\n",
      "Job Type: #Full_Time\n",
      "Job location: #Damascus\n",
      "\n",
      "We are hiring a #React.js Developer\n",
      "Working full-time from office,5 days per week; 2 days off (Friday, Saturday).\n",
      "Our office in Damascus Almalky\n",
      "📑Responsibilities:\n",
      "🔸Meeting with the development team to discuss user interface ideas and applications.\n",
      "🔸Reviewing application requirements and interface designs.\n",
      "🔸Identifying web-based user interactions.\n",
      "🔸Developing and implementing highly responsive user interface components using react concepts.\n",
      "🔸Writing application interface codes using JavaScript following react.js workflows.\n",
      "🔸Troubleshooting interface software and debugging application codes.\n",
      "🔸Developing and implementing front-end architecture to support user interface concepts.\n",
      "🔸Monitoring and improving front-end performance.\n",
      "🔸Documenting application changes and developing updates.\n",
      "🗂Requirements:\n",
      "✔️Bachelor’s degree in computer science, information technology, or a similar field.\n",
      "✔️Previous experience working as a react.js developer.\n",
      "In-depth knowledge of JavaScript, CSS, HTML, and front-end languages.\n",
      "✔️2 years of experience in the same field up to 3 years\n",
      "Benefits:\n",
      "✔️Salary: start with 800000 or 1000000 according to your experience.\n",
      "✔️Periodic increases every 4 months.\n",
      "✔️Transfer compensation.\n",
      "✔️Flexible working hours.\n",
      "✔️15 days of paid vacation and 15 public holidays\n",
      "📮if you are interested to join us, kindly send your cv to: jobs@workwithnerds.ca\n",
      "\n",
      "#Tawasol #Tawasol_Job\n",
      "#Software #Multimedia #Marketing #JobOpening\n",
      "#Damascus #Syria \n",
      "#jobseekers #jobseeker #interview #education #recruiter #jobsearching #engineer #hiringnow #vacancy\n",
      "\n",
      "Salary: 800000 - 1000000\n",
      "Type: job_post\n"
     ]
    },
    {
     "name": "stdout",
     "output_type": "stream",
     "text": [
      " \n"
     ]
    },
    {
     "name": "stdout",
     "output_type": "stream",
     "text": [
      "****************************************\n",
      "💎Job Title: #Software Quality Control Engineer\n",
      "Job Type: #Full_Time\n",
      "Job location: #Damascus, Adnan Almalky square.\n",
      "\n",
      "We are hiring a  Software Quality Control Engineer\n",
      "Company: Work with Nerds.\n",
      "\n",
      "We are looking for a Software #Tester to be responsible for designing and running tests on software products. The software tester will conduct tests, analyze the results, and report observations to the team. Also, interact with clients in order to understand the requirements of the product. Should have good communications skills, and up to date knowledge of software programming and software test design\n",
      "Software Tester Responsibilities :\n",
      " . Reviewing software requirements and preparing test scenarios or test cases.\n",
      " . Executing tests on software usability. Analyzing test results, errors or bugs, and usability.\n",
      " . Preparing daily test reports, and interacting with clients to understand product requirements. \n",
      " . Report all defects or bugs based on user stories.\n",
      " . Should have strong knowledge of support production Issues.\n",
      " . Should be aware of agile methodology.\n",
      " . Also aware of testing tools and methods.\n",
      " Skills :\n",
      "  . Perform black-box testing. \n",
      "  . Experience in writing clear test cases.\n",
      "  . Knowledge about test plans, Perform web application testing.\n",
      "  . Perform mobile application testing, perform integration testing.\n",
      "  . Logging defects on testing tools.\n",
      "✅Benefits:\n",
      "✔️Salary: start with 800000 or 1000000 according to your experience.\n",
      "✔️Periodic increases every 4 months.\n",
      "✔️Transfer compensation.\n",
      "✔️Flexible working hours.\n",
      "✔️15 days paid vacation and 15 public holidays\n",
      "✔️if you are excited to be part of a winning team, Work with Nerds is a great place to grow your career.\n",
      "📮please submit your CV to jobs@workwithnerds.ca with the subject: Tester.\n",
      "\n",
      "#Tawasol #Tawasol_Job\n",
      "#Software #Multimedia #Marketing #JobOpening\n",
      "#Damascus #Syria \n",
      "#jobseekers #jobseeker #interview #education #recruiter #jobsearching #engineer #hiringnow #vacancy\n",
      "\n",
      "Salary: 800000 - 1000000\n",
      "Type: job_post\n"
     ]
    },
    {
     "name": "stdout",
     "output_type": "stream",
     "text": [
      " \n"
     ]
    },
    {
     "name": "stdout",
     "output_type": "stream",
     "text": [
      "****************************************\n",
      "فرصتك اليوم لتحويل الحلم إلى حقيقة\n",
      "\n",
      "فكرة ريادية + تنفيذ وجهد كبير + فرصة مناسبة = شركة ناجحة\n",
      "\n",
      "فإذا كان عندك الفكرة الريادية والهمة العالية لتنفيذ الفكرة فالفرصة متاحة إلك اليوم للمشاركة بالمسابقة الوطنية لكأس ريادة الأعمال.\n",
      "\n",
      "المسابقة رح تقدملك كل الموارد اللازمة للنجاح من جلسات استشارة وإرشاد وتشبيك مع مستثمرين ورح يكون عندك فرصة التأهل للمسابقة العالمية والتنافس للحصول على جوائز نقدية بقيمة مليون دولار.\n",
      "\n",
      "#EWC_2022\n",
      "المنظم المحلي صندوق الأمم المتحدة الإنمائي\n",
      "\n",
      "https://fb.watch/eTxFRDeJB1/\n",
      "\n",
      "Salary: 1 million dollars\n",
      "Type: others\n"
     ]
    },
    {
     "name": "stdout",
     "output_type": "stream",
     "text": [
      " none\n"
     ]
    },
    {
     "name": "stdout",
     "output_type": "stream",
     "text": [
      "****************************************\n",
      "💎 Job Title: #Developers\n",
      "Job location: #Damascus\n",
      "\n",
      "شركة في دمشق  بحاجة الى مبرمجين بالمواصفات التالية                                                                                          •                            Proficient in C# and/or VB.NET, React.js, HTML5-CSS, JavaScript and jQuery.\n",
      "• Experience in .NET (Framework and Core).\n",
      "• Strong knowledge of the ASP.NET framework.\n",
      "• Familiarity with different design/architectural patterns (REST, RPC and MVC).\n",
      "• Ability to write complex and optimized SQL queries for both MSSQL Server and ORACLE Database engines.\n",
      "• Understanding of Agile project management methodologies.\n",
      "• Excellent troubleshooting and communication skills.\n",
      "• Minimum of 3 years of experience is required.\n",
      "\n",
      "  \n",
      "📮يرجى ارسال السيرة الذاتية إلى الايميل التالي\n",
      "Hrtech638@gmail.com                                                                          \n",
      "علما ان الرواتب تبدأ من ٣ مليون ليرة\n",
      "\n",
      "#تواصل #فرص #عمل #توظيف #شاغر  #JobOpening \n",
      "#Tawasol #Tawasol_Job\n",
      "#Hiring\n",
      "#jobseekers #jobseeker #interview #covid\n",
      "Developers Damascus Salary starts from: 3M SYP Send yourCV to: Hrtech638@gmail.com 0992081792 Jnlgi Jolgi\n",
      "Salary: 3m syp\n",
      "Type: job_post\n"
     ]
    },
    {
     "name": "stdout",
     "output_type": "stream",
     "text": [
      " \n"
     ]
    },
    {
     "name": "stdout",
     "output_type": "stream",
     "text": [
      "****************************************\n",
      "💎Job Title: #Software Quality Control Engineer\n",
      "Job Type: #Full_Time\n",
      "Job location: #Damascus, Adnan Almalky square.\n",
      "\n",
      "We are hiring a  Software Quality Control Engineer\n",
      "Company: Work with Nerds.\n",
      "\n",
      "We are looking for a Software #Tester to be responsible for designing and running tests on software products. The software tester will conduct tests, analyze the results, and report observations to the team. Also, interact with clients in order to understand the requirements of the product. Should have good communications skills, and up to date knowledge of software programming and software test design\n",
      "Software Tester Responsibilities :\n",
      " . Reviewing software requirements and preparing test scenarios or test cases.\n",
      " . Executing tests on software usability. Analyzing test results, errors or bugs, and usability.\n",
      " . Preparing daily test reports, and interacting with clients to understand product requirements. \n",
      " . Report all defects or bugs based on user stories.\n",
      " . Should have strong knowledge of support production Issues.\n",
      " . Should be aware of agile methodology.\n",
      " . Also aware of testing tools and methods.\n",
      " Skills :\n",
      "  . Perform black-box testing. \n",
      "  . Experience in writing clear test cases.\n",
      "  . Knowledge about test plans, Perform web application testing.\n",
      "  . Perform mobile application testing, perform integration testing.\n",
      "  . Logging defects on testing tools.\n",
      "✅Benefits:\n",
      "✔️Salary: start with 800000 or 1000000 according to your experience.\n",
      "✔️Periodic increases every 4 months.\n",
      "✔️Transfer compensation.\n",
      "✔️Flexible working hours.\n",
      "✔️15 days paid vacation and 15 public holidays\n",
      "✔️if you are excited to be part of a winning team, Work with Nerds is a great place to grow your career.\n",
      "📮please submit your CV to jobs@workwithnerds.ca with the subject: Tester.\n",
      "\n",
      "#Tawasol #Tawasol_Job\n",
      "#Software #Multimedia #Marketing #JobOpening\n",
      "#Damascus #Syria \n",
      "#jobseekers #jobseeker #interview #education #recruiter #jobsearching #engineer #hiringnow #vacancy\n",
      "\n",
      "Salary: 800000 - 1000000\n",
      "Type: job_post\n"
     ]
    },
    {
     "name": "stdout",
     "output_type": "stream",
     "text": [
      " \n"
     ]
    },
    {
     "name": "stdout",
     "output_type": "stream",
     "text": [
      "****************************************\n",
      "💎 Company: #Xten\n",
      "Job Title: #Senior Flutter Developer\n",
      "Job Type: #Full_time\n",
      "#remote_work\n",
      "\n",
      "We are looking for a senior Flutter developer:\n",
      "📝Job Requirements\n",
      "✔️• 3+ years of experience Flutter/Dart mobile app development\n",
      "✔️• experience in designing, building, refactoring and releasing native apps on Android or iOS.\n",
      "✔️• Experience in Agile/Scrum methodologies and working in Agile teams is desirable\n",
      "✔️• Able to own a feature of an Android or iOS application and develop it fully.\n",
      "⛳️ -Salary: up to 2500.000\n",
      "\n",
      "📮If you feel excited about our upcoming challenges, we encourage you to apply now! \n",
      "Please share send your CV to: hr@xten.app\n",
      "\n",
      "\n",
      "\n",
      "#Hiring #flutter #flutterdev #remote #remotely #job #developer \n",
      "#Tawasol #Tawasol_Job\n",
      "#health  #Marketing #JobOpening #Syria \n",
      "#jobseekers #interview #education #recruiter #jobsearching #engineer #hiringnow\n",
      "We're Hiring! Senior flutter Developer\n",
      "Salary: up to 2500.000\n",
      "Type: job_post\n"
     ]
    },
    {
     "name": "stdout",
     "output_type": "stream",
     "text": [
      " \n"
     ]
    },
    {
     "name": "stdout",
     "output_type": "stream",
     "text": [
      "****************************************\n",
      "🪀 Company: #Qtech\n",
      "Job Title: #Websites Developer\n",
      "Job Type: #Full/Part Time, #Remotely\n",
      "\n",
      "\n",
      "#شركة برمجية  Qtech#\n",
      "تطلب موظف/ة للعمل كمطور مواقع\n",
      "نوع العمل: #عن_بعد #دوام_كامل #دوام_جزئي\n",
      "العنوان : دمشق - مزة جبل - ساحة الهدى\n",
      "على أن يكون لديه خبرة لاتقول عن 2 سنوات في مايلي:\n",
      "‏- Web Developer Responsive Design \n",
      "‏– PHP \n",
      "‏- Laravel Framework \n",
      "‏–JavaScript \n",
      "‏– CSS3\n",
      "يرجى ارسال السيرة الذاتية على الايميل :\n",
      "Careers@qtechit.com\n",
      "للاستفسار الاتصال على الرقم : 0989200360\n",
      "\n",
      "#Tawasol #Tawasol_Job\n",
      "#social  #Marketing #JobOpening #Syria \n",
      "#jobseekers #interview #education #recruiter #jobsearching #engineer #hiringnow\n",
      "Tech 8 .0 ROUP 100 .0 NOW HIRING 0 .0 01100100 0 BackendDeveloper Attached is an overview of past work Please send yourCvto the email:careers@gtechit.com\n",
      "Salary: 100.0\n",
      "Type: job_post\n"
     ]
    },
    {
     "name": "stdout",
     "output_type": "stream",
     "text": [
      " none\n"
     ]
    },
    {
     "name": "stdout",
     "output_type": "stream",
     "text": [
      "****************************************\n",
      "💎Company: #Newsifier\n",
      "Job title: #Senior #Full stack developer\n",
      "Job Type: #Remotely\n",
      "\n",
      "👉Minimum experience: 3 years.\n",
      "\n",
      "⛳️Skills:\n",
      "- You have at least 3 years of proven experience in full stack development and preferably +5 years.\n",
      "- You’re comfortable working with both front- and back-end technologies. ( with more focus on the backend )\n",
      "- You have deep knowledge of PHP ( Laravel ) and JS ( Node js )\n",
      "- You know how to do front-end changes( HTML, CSS, and JavaScript).\n",
      "- You’re experienced with relational database design (MySQL).\n",
      "Benefits\n",
      "Competitive salary. [ 2,450,000 SYP - 7,200,000 SYP ] depending on the experience\n",
      "Unique opportunity to work on a SaaS system that is serving plus 50 million users monthly, and the ability to make an impact on our products.\n",
      "Paid vacations.\n",
      "📮Full description and how to apply\n",
      "\n",
      "https://jobs.newsifier.com/full-stack-developer-2 \n",
      "\n",
      "#Tawasol #Tawasol_Job\n",
      "#Software #Multimedia #Marketing #JobOpening\n",
      "#Damascus #Syria\n",
      "Remotely Jnloi Senior Full Stack Developer Salary Range: (2,450,000-7,200,000) SYP Apply Online 0992081792 Jnlgi Jialg'i\n",
      "Salary: 2,450,000-7,200,000 syp\n",
      "Type: job_post\n"
     ]
    },
    {
     "name": "stdout",
     "output_type": "stream",
     "text": [
      " \n"
     ]
    },
    {
     "name": "stdout",
     "output_type": "stream",
     "text": [
      "****************************************\n",
      "🔴Designation: #Senior #Graphic Designer\n",
      "Vacancy Type: #Full time\n",
      "Job Location: #Damascus, Syria\n",
      "Salary: 1,500,000 to 3,000,000 per month\n",
      "A new tech startup is looking for a Senior Graphic Designer to create fresh and compelling digital and print designs. This position requires a creative thinker who loves to execute their creative vision with perfectionism.\n",
      "✅WHAT YOU DO\n",
      "📍 Produce creative designs for various projects including websites, social media posts, collaterals, advertisement materials, and videos.\n",
      "📍Manage graphic designs from conception to delivery.\n",
      "📍Ensure design is compliant with the brand’s identity and ensure brand consistency throughout various projects.\n",
      "📍Keep up with the latest national and global trends.\n",
      "📑WHO YOU ARE\n",
      "📌You are very confident in using Adobe Creative Cloud, especially Illustrator, and Photoshop.\n",
      "📌You have the ability and talent to bring a brand to life through visuals.\n",
      "📌You have an understanding of briefings and have a proactive personality.\n",
      "📌Detail-oriented and a self-starter.\n",
      "OUR PERKS:\n",
      "* A positive working atmosphere with an open feedback culture.\n",
      "* Flexible workplace and hours to maintain a work/life balance.\n",
      "* Paid time off - up to 30 days per year.\n",
      "* Transparent career path.\n",
      "📫Interested in working with us?\n",
      "hr@techteek.co\n",
      "\n",
      "#Tawasol #Tawasol_Job\n",
      "#social  #Marketing #Senior #Developer \n",
      "#hiring #Odoo #odoodeveloper #remotejobs #remotely #job #IT #fulltime #education #recruiter #jobsearching #engineer #hiringnow\n",
      "\n",
      "Salary: 1,500,000 to 3,000,000 per month\n",
      "Type: job_post\n"
     ]
    },
    {
     "name": "stdout",
     "output_type": "stream",
     "text": [
      " \n"
     ]
    },
    {
     "name": "stdout",
     "output_type": "stream",
     "text": [
      "****************************************\n",
      "\n",
      "Senior Graphic Designer Full Time/Damascus Salary Range: 1,500,000 to 3,000,000SYP Send CV to: hr@techteek.co Jp!gi 0992081792 Joigi AWASO\n",
      "Salary: 1,500,000 to 3,000,000syp\n",
      "Type: empty\n"
     ]
    },
    {
     "name": "stdout",
     "output_type": "stream",
     "text": [
      " \n"
     ]
    },
    {
     "name": "stdout",
     "output_type": "stream",
     "text": [
      "****************************************\n",
      "🔴 Job Title: #Front-End #Developer \n",
      "\n",
      "شركة ناشئة في سوريا تعمل في مجال التجارة الإلكترونية تبحث عن مبرمج فرونت ايند بخبرة لا تقل عن 4 سنوات باستخدام angular# \n",
      "🔸براتب يبدء من 2 مليون ليرة سورية. \n",
      "📮يرجى ارسال السيرة الذاتية وأمثلة عن أعمال سابقة لمشاريع حقيقية فقط:\n",
      "واتس ( 0981435969)\n",
      "smartjobs.2030@gmail.com\n",
      " \n",
      "#Tawasol #Tawasol_Job\n",
      "#Hiring\n",
      "#jobseekers #jobseeker #interview #covid  #education #recruiter #jobsearching  #hiringnow #employmentopportunities  #vacancy\n",
      "Jblgi Front Developer (Angular) Send your CV to: Smartjobs.2030@gmail.com Jplgi Q992Q81792 Lalq\n",
      "Salary: 2 million syrian lira\n",
      "Type: job_post\n"
     ]
    },
    {
     "name": "stdout",
     "output_type": "stream",
     "text": [
      " \n"
     ]
    },
    {
     "name": "stdout",
     "output_type": "stream",
     "text": [
      "****************************************\n",
      "🔴Job Title: #Angular Developer\n",
      "Job Type: #Remotely\n",
      "\n",
      "مطلوب مبرمج Angular بخبرة لا تقل عن ثلاث سنوات عمل فعلية في الشركات البرمجية. \n",
      "🔹مع الإلمام بمكتبة Angular Materail UI.\n",
      "🔹العمل عن بعد.\n",
      "🔹 عدد ساعات العمل اليومية 5 ساعات بشرط التواجد online والعمل ضمن المدة و يتم الاتفاق على المواعيد لاحقا .\n",
      "🔹الراتب 600,000 ليرة سورية.\n",
      "📮الرجاء ارسال السيرة الذاتية على هذا الرقم 0955349309 وتس أو تلغرام.\n",
      "\n",
      "#Tawasol #Tawasol_Job\n",
      "#social  #Marketing #Senior #Developer \n",
      "#hiring  #remotejobs #remotely #job #IT #fulltime #education #recruiter #jobsearching #engineer #hiringnow\n",
      "WEAREHIRING ANGULARDEVELOPER 0955349309\n",
      "Salary: 600,000 syrian pounds\n",
      "Type: job_post\n"
     ]
    },
    {
     "name": "stdout",
     "output_type": "stream",
     "text": [
      " \n"
     ]
    },
    {
     "name": "stdout",
     "output_type": "stream",
     "text": [
      "****************************************\n",
      "🪀 Company: #YAFA Cloud Services\n",
      "Job Title: #React Developer\n",
      "Job Type: #Full time / contractor 8hrs,\n",
      "#Remote / on-site (according to needs)\n",
      "Job Location: #Dubai, United Arab #Emirates\n",
      " \n",
      "👉Mid to senior level\n",
      "\n",
      "💎 Salary: 1000$\n",
      "\n",
      "👉We are looking for a skilled react.js developer to join our front-end development team. In this role, you will be responsible for developing and implementing user interface components using React.js concepts and workflows such as Redux, material ui , and Webpack. You will also be responsible for profiling and improving front-end performance and documenting our front-end codebase.\n",
      "\n",
      "To ensure success as a react.js developer, you should have in-depth knowledge of JavaScript and React concepts, excellent front-end coding skills, and a good understanding of progressive web applications. Ultimately, a top-class react.js developer should be able to design and build modern user interface components to enhance application performance.\n",
      "\n",
      "📝React.js Developer Responsibilities:\n",
      "\n",
      "📍Meeting with the development team to discuss user interface ideas and applications.\n",
      "📍Reviewing application requirements and interface designs.\n",
      "📍Identifying web-based user interactions.\n",
      "📍Developing and implementing highly responsive user interface components using react concepts.\n",
      "📍Writing application interface codes using JavaScript following react.js workflows.\n",
      "📍Troubleshooting interface software and debugging application codes.\n",
      "📍Developing and implementing front-end architecture to support user interface concepts.\n",
      "📍Monitoring and improving front-end performance.\n",
      "Documenting application changes and developing updates.\n",
      "\n",
      "📑React.js Developer Requirements:\n",
      "\n",
      "📌Bachelor’s degree in computer science, information technology, or a similar field.\n",
      "📌Previous experience working as a react.js developer.\n",
      "📌In-depth knowledge of JavaScript, CSS, HTML, and front-end languages.\n",
      "📌Knowledge of REACT tools including React.js, Webpack, Enzyme, Redux, and Material ui .\n",
      "📌Experience with user interface design.\n",
      "📌Knowledge of performance testing frameworks including Mocha and Jest.\n",
      "📌Experience with browser-based debugging and performance testing software.\n",
      "📌Excellent troubleshooting skills.\n",
      "📌Good project management skills.\n",
      "\n",
      "📮Send CV to:\n",
      "hr@yafa.tech\n",
      "\n",
      "#Tawasol #Tawasol_Job\n",
      "#social  # #Senior #Developer \n",
      "#hiring  #remotejobs #remotely #job #IT #fulltime #education #recruiter #jobsearching #engineer #hiringnow\n",
      "\n",
      "Salary: 1000$\n",
      "Type: job_post\n"
     ]
    },
    {
     "name": "stdout",
     "output_type": "stream",
     "text": [
      " \n"
     ]
    },
    {
     "name": "stdout",
     "output_type": "stream",
     "text": [
      "****************************************\n",
      "💎Job Title: #Back-end Developer \n",
      "Job Title: #Remotely\n",
      "\n",
      "شركة ناشئة في سوريا تعمل في مجال التجارة الإلكترونية تبحث عن مبرمج باك ايند للعمل رموتلي بخبرة لا تقل عن 4 سنوات باستخدام asp.net براتب يبدء من 2 مليون ليرة سورية.\n",
      "📌يرجى ارسال السيرة الذاتية وأمثلة عن أعمال سابقة لمشاريع في مرحلة البرودكشن فقط\n",
      "📮واتس\n",
      " ( 0981435969)\n",
      "smartjobs.2030@gmail.com\n",
      " \n",
      "#Tawasol #Tawasol_Job\n",
      "#Hiring\n",
      "#jobseekers #jobseeker #interview #covid  #education #recruiter #jobsearching  #hiringnow #employmentopportunities  #vacancy\n",
      "Job Vacancy 001100010100 101001 Back-end 100011000 DO 0010100100 Developer Remotely Send CV to: smartjobs.2030@gmail.com 0992081792 Jplgi olg\n",
      "Salary: 2 million syrian lira\n",
      "Type: job_post\n"
     ]
    },
    {
     "name": "stdout",
     "output_type": "stream",
     "text": [
      " \n"
     ]
    },
    {
     "name": "stdout",
     "output_type": "stream",
     "text": [
      "****************************************\n",
      "🟡 Company: #Expentech\n",
      "#Job title: Senior #Full_Stack Developer.\n",
      "Job Location: #Damascus\n",
      "Job Type: #Full-Time\n",
      "Working Days: Sunday-Thursday\n",
      "Working Hours: 9:00 – 17:00\n",
      "salary start from: #2000,000\n",
      "\n",
      "📝The Job Overview\n",
      "We are seeking a dedicated full-stack developer to join our growing company. You will be tasked with taking website template files from a designer and creating fully functional websites from them, including developing all of the necessary functionality. Responsibilities include ensuring all relevant website functionality works as expected and that the website displays well on a range of screen resolutions, from mobile to desktop.\n",
      "\n",
      "As a full-stack developer, you will work as part of a team to implement new features, as well as make modifications and fix bugs in existing code. Your duties will include designing and developing layouts, writing code to power the underlying functionality of the website, and developing tests for the code you write.\n",
      "\n",
      "📑Responsibilities\n",
      "• Below are some of the responsibilities a full-stack developer is expected to assume in their position:  \n",
      "• Architect brand-new software solutions to fulfill project requirements\n",
      "• Create, design, and implement layouts for new and existing web pages\n",
      "• Create and maintain database designs for data storage and processing\n",
      "• Maintain legacy code written by other developers, including bug fixes\n",
      "• Integrate external software libraries and APIs into existing projects\n",
      "\n",
      "🗂Job Qualifications and Skill Sets\n",
      "Below are the qualifications and skills that are expected of a full-stack developer:\n",
      "• Bachelor’s degree in computer science, engineering, or a related technical field\n",
      "• Excellent knowledge of front-end web programming languages, such as HTML, CSS, JavaScript, and AngularJS, with ability to render server-side and client-side content\n",
      "• Excellent knowledge of one or more back-end programming languages (PHP, Java, jQuery, C#) \n",
      "• Excellent knowledge of Laravel framework.\n",
      "• Familiarity with common programming design patterns and best practices \n",
      "\n",
      "📮Send your CV to: hr@expentech.com\n",
      "Email subject: SFSD-1\n",
      "Only applicants nominated for interviews will be contacted\n",
      "\n",
      "#Tawasol #Tawasol_Job\n",
      " #accounting  \n",
      "#hiring  #remotejobs #job #IT #fulltime #education #recruiter #jobsearching #engineer #hiringnow\n",
      "\n",
      "Salary: 2000,000\n",
      "Type: job_post\n"
     ]
    },
    {
     "name": "stdout",
     "output_type": "stream",
     "text": [
      " \n"
     ]
    },
    {
     "name": "stdout",
     "output_type": "stream",
     "text": [
      "****************************************\n",
      "💎Job Title: #Angular Developer \n",
      "Job Type: #Full_Time \n",
      "Job Location: #Remotely, Aleppo\n",
      "شركة برمجية في حلب ترغب برفد كودارها بمبرمج Angular محترف بخبرة ممتازة.\n",
      "📍 مع الإلمام التام Angular Materail UI. \n",
      "📍ويفضل أن يكون له تجارب سابقة في العمل في برامج HR.\n",
      "📍العمل عن بعد ويفضل أن يكون مكان التواجد في مدينة #حلب.\n",
      " 📍عدد ساعات العمل اليومية 8 ساعات.\n",
      "📍الراتب يبدأ من 800000- 1200000\n",
      "📮الرجاء ارسال السيرة الذاتية على هذا الرقم 0955349309 واتس أو تلغرام.\n",
      "\n",
      "#Tawasol #Tawasol_Job\n",
      " #Damascus #Alepoo #develope\n",
      "#hiring  #job #fulltime #education #recruiter #jobsearching #engineer #hiringnow\n",
      "WEAREHIRING ANGULARDEVELOPER 0955349309\n",
      "Salary: 800000-1200000\n",
      "Type: job_post\n"
     ]
    },
    {
     "name": "stdout",
     "output_type": "stream",
     "text": [
      " \n"
     ]
    },
    {
     "name": "stdout",
     "output_type": "stream",
     "text": [
      "****************************************\n",
      "\n",
      "Nasca-Sy 0000 www.nasca-sy.com 6000 WE'RE HIRING JOIN OUR TEAM FlutterDeveloper Scalable Apps Responsive UI MVVM-MVC Push Notifications Email your Resume: JOIN US hr@nasca-sy.com\n",
      "Salary: 6000\n",
      "Type: empty\n"
     ]
    },
    {
     "name": "stdout",
     "output_type": "stream",
     "text": [
      " none\n"
     ]
    },
    {
     "name": "stdout",
     "output_type": "stream",
     "text": [
      "****************************************\n",
      "🔵Job Title:#Angular Front-end Developer\n",
      "Job Type: #Full_Time #Remotely\n",
      "Job Location: #Damascus\n",
      "مكتب برمجي في دمشق يبحث عن مبرمج فرونت ايند  للعمل ريموتلي , بخبرة لا تقل عن 4 سنوات باستخدام angular براتب يبدء من 2 مليون ليرة سورية. \n",
      "يرجى ارسال السيرة الذاتية وأمثلة عن أعمال سابقة لمشاريع حقيقية فقط.\n",
      "يفضل من لديه إمكانية مباشرة العمل فورا.\n",
      " \n",
      "📮واتس ( 0981435969)\n",
      "go.smaaart@gmail.com\n",
      "\n",
      "\n",
      "#Tawasol #Tawasol_Job #Damascus #develope\n",
      "#hiring  #job #fulltime #education #recruiter #jobsearching #engineer #hiringnow\n",
      "Full Time/Remotely Jnlgi Angular Front-End Developer Sond yourcVcode sample andproviousprojecton Go.smaaart@gmail.com Jplgi 0992081792 Jalgj\n",
      "Salary: 2 million syrian lira\n",
      "Type: job_post\n"
     ]
    },
    {
     "name": "stdout",
     "output_type": "stream",
     "text": [
      " \n"
     ]
    },
    {
     "name": "stdout",
     "output_type": "stream",
     "text": [
      "****************************************\n",
      "🕹 Company: #RawiPlatform\n",
      "Job_Title: #C++ developer\n",
      "Job Location: #Damascus, 80% Home Office.\n",
      "Job Type: #Full time: 5 days/8 hours.\n",
      "\n",
      "🎖Salary: starts at 1'600'000\n",
      "\n",
      "About the company : RawiPlatform is a startup for managing finance, human resources and documents.  \n",
      "\n",
      "📝Job Description :\n",
      "The main responsibilities of the C++ programmer would be to make various modules for our solutions, design new features with other programmers, improve the existing code.\n",
      "\n",
      "👉What you'll do :\n",
      ". Create and design new components to improve user experience.\n",
      ". Write Clean, reusable and robust code.\n",
      ". Optimizing, maintaining and debugging existing code.\n",
      ". Help team members to improve the solution quality by providing new ideas.\n",
      "\n",
      "👉Qualifications :\n",
      "📍. Bachelor/Diploma Degree in Computer Science or and related field of study.\n",
      "📍. Strong C++ 14/17 experience.\n",
      "📍. You are convinced that documentation, testing and reusability is the best way your code will be useful.\n",
      "📍. Good debugging and problem solving skills.\n",
      "📍. Experience with Qt framework (Nice to have).\n",
      "📍. Experience with SQL especially PostgreSQL (Nice to have).\n",
      "📍. Experience with REST API (Nice to have).\n",
      "\n",
      "📮If you believe you have the required qualifications and you are interested kindly send your resume to hr@rawiplatform.com\n",
      "\n",
      "#Tawasol #Tawasol_Job #Damascus #develope\n",
      "#hiring  #job #fulltime #education #recruiter #jobsearching #engineer #hiringnow\n",
      "\n",
      "Salary: 1'600'000\n",
      "Type: job_post\n"
     ]
    },
    {
     "name": "stdout",
     "output_type": "stream",
     "text": [
      " \n"
     ]
    },
    {
     "name": "stdout",
     "output_type": "stream",
     "text": [
      "****************************************\n",
      "Company: #SAFQA App\n",
      "Job Title: SALES \n",
      "Job Type: #Full_Time\n",
      "شركةSAFQA App  \n",
      "تبحث عن مندوب مبيعات لخدمات تطبيق موبايل (أنثى حصراً) \n",
      "التوصيف الوظيفي:\n",
      "هو المسؤول عن التواصل مع العملاء بالإضافة لجمع معلوماتهم.\n",
      "المهام الوظيفية لمسؤول المبيعات:\n",
      "🔸•جمع المعلومات المطلوبة عن العملاء الخاصة بالتطبيق.\n",
      "🔸• بالإضافة للتواصل مع العملاء من خلال الاتصال او زيارتهم.\n",
      "🔸•متابعة الأهداف الشهرية للمبيعات والعمل على تحقيقها.\n",
      "🔸•تقديم تقارير دورية عن العمل.\n",
      "📑المهارات اللازمة لوظيفة مسؤول المبيعات:\n",
      "📍•امتلاك مهارات في الإقناع والتفاوض.\n",
      "📍•القدرة على إدارة الوقت.\n",
      "📍•حسن المظهر والثقة بالنفس واللباقة في الحديث. \n",
      "📝متطلبات العمل في وظيفة مندوب التسويق:\n",
      "📌•شهادة جامعية أو شهادة ثانوية كحد أدنى.\n",
      "📌•الخبرة السابقة في مجال التسويق للتطبيقات. \n",
      "⛳️مكان العمل: مزة غربية\n",
      "⛳️وقت الدوام: الاحد للخميس من ٩ ص حتى ٥م\n",
      "⛳️الراتب: ابتداء من 350000 ل.س \n",
      "📮يرجى إرسال الـ CV على رقم الواتساب 0993174158\n",
      "\n",
      "#Tawasol #Tawasol_Job\n",
      "#Software #Multimedia #Marketing #JobOpening\n",
      "#Damascus #Syria \n",
      "#jobseekers #jobseeker #interview #covid #education #recruiter   #vacancy\n",
      "Sales Representative Full Time Damascus Send CV to: 0993174158 Jnloi 0992081792 Jolg\n",
      "Salary: 350000\n",
      "Type: job_post\n"
     ]
    },
    {
     "name": "stdout",
     "output_type": "stream",
     "text": [
      " \n"
     ]
    },
    {
     "name": "stdout",
     "output_type": "stream",
     "text": [
      "****************************************\n",
      "Job Title: #Android Developer \n",
      "\n",
      "تحياتي للشباب والصبايا بالمجموعة 💐\n",
      "⬅️ شركتنا بدبي عندها فرصة عمل لمطور اندرويد (kotlin, java) للعمل اونلاين (اذا كنت مطور باختصاص تاني أو حتى مصمم لا مانع من المراسلة لحين ورود فرصة)\n",
      "⬅️ شركتنا هي ستارت أب ولسا ببدايتها وبهيك نوع من الشركات بكون التمويل محدود بالبدايات والرواتب قليلة لكن ممكن يصير نمو كبير وتضرب متل ما بقولو وتصير الرواتب عالية \n",
      "⬅️ والنهج يلي عم تتبعو شركتنا بسبب قلة الرواتب انو توظف الخريجين الجدد او قليلي الخبرة عموما يلي عندن طموح ورغبة ليتطورو وعنا حاليا تقريباً 10 موظفين\n",
      "⬅️ يتم تدريب المهندس لمدة معينة على التقنيات المطلوبة\n",
      "⬅️ المهندس بعد عدة اشهر بصير جاهز للانتاجية وبتستفيد منو شركتنا بعقد وبراتب قليل نسبيا (يعني فيد واستفيد)\n",
      "⬆️ واذا نجحت الشركة بالسوق في امارة دبي واثبتت نفسها الشخص بكون حجز لنفسو مقعد بشركة كبيرة وبرواتب من الافضل بالسوق. وفي حال الله كتب ومانجحت بكون الشخص حصل على تدريب وشهادة خبرة\n",
      "شروط العمل:\n",
      "أقل مدة التزام هي سنتين (عقد) بنفس الراتب على الاقل مع فترة انذار شهرين\n",
      "النجاح في المقابلة\n",
      "الراتب بحدود 100 دولار قابل للتطور حسب الخبرة وقدرة الشركة\n",
      "للمهتمين ارسال السيرة الشخصية على الايميل وذكر الاختصاص\n",
      "00971504754775 واتس أب \n",
      "الفرصة الحالية لمطورين الاندرويد\n",
      "لكن لا مانع ترسل اذا كان عندك اختصاص تاني ويب باك اند (nodejs) او فرونت (Vue, Nuxt) او مصمم ui ux اوswift ios او اي اختصاص\n",
      "بس اذكر اختصاصك المفضل بالايميل\n",
      "\n",
      "#Tawasol #Tawasol_Job\n",
      "#Software #Multimedia #Marketing #JobOpening\n",
      "#Dubai #Syria \n",
      "#jobseekers #jobseeker #interview #covid #education #recruiter #jobsearching #engineer #hiringnow #employmentopportunities  #vacancy\n",
      "\n",
      "Salary: 100 usd\n",
      "Type: job_post\n"
     ]
    },
    {
     "name": "stdout",
     "output_type": "stream",
     "text": [
      " \n"
     ]
    },
    {
     "name": "stdout",
     "output_type": "stream",
     "text": [
      "****************************************\n",
      "\n",
      "Jnloi TAWASOL job vacancy Full Stack Developer React/Laravel Salary range: 1000-4000S Send CV to: careers@lisan.ai Jblg'i 0992081792 Jialgi\n",
      "Salary: 1000-4000s\n",
      "Type: empty\n"
     ]
    },
    {
     "name": "stdout",
     "output_type": "stream",
     "text": [
      " \n"
     ]
    },
    {
     "name": "stdout",
     "output_type": "stream",
     "text": [
      "****************************************\n",
      "مكان العمل\n",
      "يوجد ٤ مكاتب\n",
      "مكتب دمشق\n",
      "مكتب دبي\n",
      "مكتب بغداد\n",
      "مكتب الرياض\n",
      "\n",
      "يستطيع الشخص اختيار المكتب المناسب.\n",
      "==============\n",
      "الراتب\n",
      "١٠٠٠ إلى ٤٠٠٠ دولار بحسب الخبرة ومكان العمل. \n",
      "بالإضافة إلى اسهم في الشركة بضعف قيمة الراتب. \n",
      "بالإضافة إلى تأمين طبي\n",
      "\n",
      "Salary: 1000 - 4000 usd\n",
      "Type: others\n"
     ]
    },
    {
     "name": "stdout",
     "output_type": "stream",
     "text": [
      " \n"
     ]
    },
    {
     "name": "stdout",
     "output_type": "stream",
     "text": [
      "****************************************\n",
      "\n",
      "AWAF TECH JOIN OUR TEAM EKIBIMIZE KATILIN PLEASEAPPLY THROUGH THEWEBSITE SAWAFTECH.COM/JOBS OR SCANTHEQR SENIOR (LARAVEL+VUE.JS) DEVELOPER +905528888787 @www.sawaftech.com Oosawaftech\n",
      "Salary: +905528888787\n",
      "Type: empty\n"
     ]
    },
    {
     "name": "stdout",
     "output_type": "stream",
     "text": [
      " none\n"
     ]
    },
    {
     "name": "stdout",
     "output_type": "stream",
     "text": [
      "****************************************\n",
      "🔵Job Title: #React JS Developer\n",
      "Job location: #Aleppo\n",
      "#Salary : 1,000,000 to 2,000,000 depending on the experience level.  \n",
      "We are looking for a React JS Developer to join our team.\n",
      "🎯Qualifications: \n",
      "📍Experience in Javascript.\n",
      "📍Experience in HTML, CSS, React.js and Next.js at least 3 year.\n",
      "📍Familiar with known libraries like MaterialUI and Tailwind.\n",
      "📍Experience with responsive and adaptive design.\n",
      "📍Experience with building apps using React Native\n",
      "📍Know how to call and consume REST APIs\n",
      "📍Know how to use git to manage the code\n",
      "📍Good to have interest in web standards, accessibility, SEO, and industry trends.\n",
      "\n",
      "📮How to Apply:\n",
      "Send your CV to : hrcct2022@gmail.com\n",
      "\n",
      "#Tawasol #Tawasol_job\n",
      "#Software #Marketing #Application #Website\n",
      "#Programming #JobOpening #Syria\n",
      "Jnloi TAWASOL Jcanji React JS Developer Salary range: 1-2Million SYP 1 Send CV to: hrcct2022@gmail.com 0992081792 Jnlgi Jolgi\n",
      "Salary: 1,000,000 to 2,000,000 syp\n",
      "Type: job_post\n"
     ]
    },
    {
     "name": "stdout",
     "output_type": "stream",
     "text": [
      " \n"
     ]
    },
    {
     "name": "stdout",
     "output_type": "stream",
     "text": [
      "****************************************\n"
     ]
    }
   ],
   "source": [
    "manual_input = []\n",
    "salaries = data[data.salary.notna() & data.salary.str.contains(digits)][\n",
    "    [\"full_text\", \"salary\", \"type\"]\n",
    "]\n",
    "for i in range(salaries.shape[0]):\n",
    "    item = salaries.iloc[i]\n",
    "    print(item.full_text)\n",
    "    print(f\"Salary: {item.salary}\")\n",
    "    print(f'Type: {item[\"type\"]}')\n",
    "    user_input = input()\n",
    "    if user_input == \"\":\n",
    "        user_input = item.salary\n",
    "    manual_input.append(user_input)\n",
    "    print(\"*\" * 40)\n"
   ]
  },
  {
   "cell_type": "code",
   "execution_count": 14,
   "metadata": {},
   "outputs": [],
   "source": [
    "actual_salaries = list(map(lambda x: x != \"none\", manual_input))\n"
   ]
  },
  {
   "cell_type": "code",
   "execution_count": 15,
   "metadata": {},
   "outputs": [],
   "source": [
    "data[\"is_salary\"] = False\n"
   ]
  },
  {
   "cell_type": "code",
   "execution_count": 21,
   "metadata": {},
   "outputs": [],
   "source": [
    "data.loc[\n",
    "    data.salary.notna() & data.salary.str.contains(digits), \"is_salary\"\n",
    "] = actual_salaries\n"
   ]
  },
  {
   "cell_type": "code",
   "execution_count": 149,
   "metadata": {
    "collapsed": true,
    "jupyter": {
     "outputs_hidden": true
    },
    "tags": []
   },
   "outputs": [
    {
     "data": {
      "text/plain": [
       "25              15000000 SYP\n",
       "26               2000000 SYP\n",
       "67               2500000 SYP\n",
       "81               1500000 SYP\n",
       "83                600000 SYP\n",
       "136            500 - 700 USD\n",
       "144               350000 SYP\n",
       "155     700000 - 1500000 SYP\n",
       "187    3500000 - 7000000 SYP\n",
       "189              2000000 SYP\n",
       "216              2000000 SYP\n",
       "237       600000 1000000 SYP\n",
       "272              2000000 SYP\n",
       "322    2000000 - 3500000 SYP\n",
       "327              2000000 SYP\n",
       "328              2000000 SYP\n",
       "329              2000000 SYP\n",
       "340     800000 - 1500000 SYP\n",
       "371               400000 SYP\n",
       "389               350000 SYP\n",
       "422    2000000 - 3000000 SYP\n",
       "462    2450000 - 6300000 SYP\n",
       "468     800000 - 1000000 SYP\n",
       "470     800000 - 1000000 SYP\n",
       "511              3000000 SYP\n",
       "519     800000 - 1000000 SYP\n",
       "531              2500000 SYP\n",
       "610    2450000 - 7200000 SYP\n",
       "630    1500000 - 3000000 SYP\n",
       "631    1500000 - 3000000 SYP\n",
       "642              2000000 SYP\n",
       "643               600000 SYP\n",
       "650                 1000 USD\n",
       "655              2000000 SYP\n",
       "661              2000000 SYP\n",
       "677     800000 - 1200000 SYP\n",
       "757              2000000 SYP\n",
       "796              1600000 SYP\n",
       "814               350000 SYP\n",
       "818                  100 USD\n",
       "864           1000 - 400 USD\n",
       "865          1000 - 4000 USD\n",
       "873    1000000 - 2000000 SYP\n",
       "Name: salary, dtype: object"
      ]
     },
     "execution_count": 149,
     "metadata": {},
     "output_type": "execute_result"
    }
   ],
   "source": [
    "def fix_salary(salary):\n",
    "    salary = re.sub(r\"syp|sp|l\\.s|syrian lira|syrian pound(s)?|s\\.p\", \" SYP\", salary)\n",
    "    salary = re.sub(r\"dollar|usd|\\$|\\ds$\", \" USD\", salary)\n",
    "    salary = re.sub(r\",|#|~|'|\\.|:\", \"\", salary)\n",
    "    salary = re.sub(r\" million(s)?|(?<=\\d)m\", \"000000\", salary)\n",
    "    salary = re.sub(r\"(?<=\\d)\\s+(?=\\d{3}\\s)\", \"\", salary)\n",
    "    salary = re.sub(r\"per month|starting from|up to\", \"\", salary)\n",
    "    salary = salary.strip()\n",
    "    salary = re.sub(r\"(?<=0{3})$\", \" SYP\", salary)\n",
    "    salary = re.sub(r\"(?<=0{2})$\", \" USD\", salary)\n",
    "    salary = re.sub(r\"SYP\\s+\", \"\", salary)\n",
    "    salary = re.sub(\"to|-|/\", \" - \", salary)\n",
    "    salary = re.sub(r\"\\s+\", \" \", salary)\n",
    "    salary = re.sub(r\"(?<=^\\d{2})\\s(?=-)\", \"00000 \", salary)\n",
    "    salary = re.sub(r\"(?<=^\\d{1})\\s(?=-)\", \"000000 \", salary)\n",
    "\n",
    "    return salary\n",
    "\n",
    "\n",
    "data[data.is_salary].salary.apply(fix_salary)\n"
   ]
  },
  {
   "cell_type": "code",
   "execution_count": 150,
   "metadata": {},
   "outputs": [],
   "source": [
    "data.to_csv(\"../data/data_v6.2.csv\", index=False)\n"
   ]
  },
  {
   "cell_type": "code",
   "execution_count": null,
   "metadata": {
    "collapsed": true,
    "jupyter": {
     "outputs_hidden": true
    },
    "tags": []
   },
   "outputs": [
    {
     "data": {
      "text/html": [
       "<div>\n",
       "<style scoped>\n",
       "    .dataframe tbody tr th:only-of-type {\n",
       "        vertical-align: middle;\n",
       "    }\n",
       "\n",
       "    .dataframe tbody tr th {\n",
       "        vertical-align: top;\n",
       "    }\n",
       "\n",
       "    .dataframe thead th {\n",
       "        text-align: right;\n",
       "    }\n",
       "</style>\n",
       "<table border=\"1\" class=\"dataframe\">\n",
       "  <thead>\n",
       "    <tr style=\"text-align: right;\">\n",
       "      <th></th>\n",
       "      <th>full_text</th>\n",
       "      <th>salary</th>\n",
       "    </tr>\n",
       "  </thead>\n",
       "  <tbody>\n",
       "    <tr>\n",
       "      <th>12</th>\n",
       "      <td>Job Title: #Full_stack_developer\\nJob Type: #f...</td>\n",
       "      <td>ex. according to experience</td>\n",
       "    </tr>\n",
       "    <tr>\n",
       "      <th>13</th>\n",
       "      <td>Job Title: #UI_UX_designer\\nJob Type: #full-ti...</td>\n",
       "      <td>according to experience</td>\n",
       "    </tr>\n",
       "    <tr>\n",
       "      <th>14</th>\n",
       "      <td>🔵#Company: L-One\\n#Job_Type: Full-time\\n#Job_T...</td>\n",
       "      <td>very competitive</td>\n",
       "    </tr>\n",
       "    <tr>\n",
       "      <th>23</th>\n",
       "      <td>Job Title: #Delivery center coordinator \\nJob ...</td>\n",
       "      <td>fixed monthly salary</td>\n",
       "    </tr>\n",
       "    <tr>\n",
       "      <th>27</th>\n",
       "      <td>🎖اليوم في بوست تعريفي عن شركة L-One# من أهم ال...</td>\n",
       "      <td>competitive + benefits</td>\n",
       "    </tr>\n",
       "    <tr>\n",
       "      <th>...</th>\n",
       "      <td>...</td>\n",
       "      <td>...</td>\n",
       "    </tr>\n",
       "    <tr>\n",
       "      <th>853</th>\n",
       "      <td>🎲#Company: L-One \\n#Job_Type: Full-time \\n#Job...</td>\n",
       "      <td>very competitive salary</td>\n",
       "    </tr>\n",
       "    <tr>\n",
       "      <th>862</th>\n",
       "      <td>🔵Company: kiddo \\nJob Title: #2D Animator \\nJo...</td>\n",
       "      <td>good</td>\n",
       "    </tr>\n",
       "    <tr>\n",
       "      <th>863</th>\n",
       "      <td>🎲Company name: #Lisan\\nJob Title: #Full stack ...</td>\n",
       "      <td>generous salary package</td>\n",
       "    </tr>\n",
       "    <tr>\n",
       "      <th>869</th>\n",
       "      <td>🔵#Company: Perla-Tech\\n#Job_Type: Full-time\\n#...</td>\n",
       "      <td>very competitive salary</td>\n",
       "    </tr>\n",
       "    <tr>\n",
       "      <th>875</th>\n",
       "      <td>🧩Company: #YouTube group \\nJob title: #YouTube...</td>\n",
       "      <td>good with great benefits</td>\n",
       "    </tr>\n",
       "  </tbody>\n",
       "</table>\n",
       "<p>127 rows × 2 columns</p>\n",
       "</div>"
      ],
      "text/plain": [
       "                                             full_text  \\\n",
       "12   Job Title: #Full_stack_developer\\nJob Type: #f...   \n",
       "13   Job Title: #UI_UX_designer\\nJob Type: #full-ti...   \n",
       "14   🔵#Company: L-One\\n#Job_Type: Full-time\\n#Job_T...   \n",
       "23   Job Title: #Delivery center coordinator \\nJob ...   \n",
       "27   🎖اليوم في بوست تعريفي عن شركة L-One# من أهم ال...   \n",
       "..                                                 ...   \n",
       "853  🎲#Company: L-One \\n#Job_Type: Full-time \\n#Job...   \n",
       "862  🔵Company: kiddo \\nJob Title: #2D Animator \\nJo...   \n",
       "863  🎲Company name: #Lisan\\nJob Title: #Full stack ...   \n",
       "869  🔵#Company: Perla-Tech\\n#Job_Type: Full-time\\n#...   \n",
       "875  🧩Company: #YouTube group \\nJob title: #YouTube...   \n",
       "\n",
       "                          salary  \n",
       "12   ex. according to experience  \n",
       "13       according to experience  \n",
       "14              very competitive  \n",
       "23          fixed monthly salary  \n",
       "27        competitive + benefits  \n",
       "..                           ...  \n",
       "853      very competitive salary  \n",
       "862                         good  \n",
       "863      generous salary package  \n",
       "869      very competitive salary  \n",
       "875     good with great benefits  \n",
       "\n",
       "[127 rows x 2 columns]"
      ]
     },
     "execution_count": 103,
     "metadata": {},
     "output_type": "execute_result"
    }
   ],
   "source": [
    "data[data.salary.notna() & ~(data.salary.str.contains(digits, na=False))][\n",
    "    [\"full_text\", \"salary\"]\n",
    "]\n"
   ]
  },
  {
   "cell_type": "code",
   "execution_count": null,
   "metadata": {
    "collapsed": true,
    "jupyter": {
     "outputs_hidden": true
    },
    "tags": []
   },
   "outputs": [
    {
     "data": {
      "text/plain": [
       "0      False\n",
       "1      False\n",
       "2      False\n",
       "3      False\n",
       "4      False\n",
       "       ...  \n",
       "872    False\n",
       "873     True\n",
       "874    False\n",
       "875    False\n",
       "876    False\n",
       "Name: salary, Length: 877, dtype: bool"
      ]
     },
     "execution_count": 102,
     "metadata": {},
     "output_type": "execute_result"
    }
   ],
   "source": [
    "data.salary.str.contains(digits, na=False)\n"
   ]
  },
  {
   "attachments": {},
   "cell_type": "markdown",
   "metadata": {},
   "source": [
    "### Fixing location\n"
   ]
  },
  {
   "cell_type": "code",
   "execution_count": 12,
   "metadata": {},
   "outputs": [],
   "source": [
    "data = pd.read_csv(\"../data/data_v6.2.csv\")\n"
   ]
  },
  {
   "cell_type": "code",
   "execution_count": 13,
   "metadata": {},
   "outputs": [
    {
     "data": {
      "text/plain": [
       "106"
      ]
     },
     "execution_count": 13,
     "metadata": {},
     "output_type": "execute_result"
    }
   ],
   "source": [
    "data.location.nunique()\n"
   ]
  },
  {
   "cell_type": "code",
   "execution_count": 16,
   "metadata": {},
   "outputs": [],
   "source": [
    "import spacy\n",
    "\n",
    "nlp = spacy.load(\"en_core_web_sm\")\n"
   ]
  },
  {
   "cell_type": "code",
   "execution_count": 39,
   "metadata": {},
   "outputs": [],
   "source": [
    "# Process the string with the loaded model\n",
    "def fix_location(location):\n",
    "    if location == np.nan:\n",
    "        return location\n",
    "    loc = \"\"\n",
    "\n",
    "    if \"remote\" in location:\n",
    "        loc = \"remotely\"\n",
    "\n",
    "    doc = nlp(location)\n",
    "    for ent in doc.ents:\n",
    "        if ent.label_ == \"GPE\":\n",
    "            if loc == \"remotely\":\n",
    "                loc = \"(hybrid) remotely\"\n",
    "            loc += \" \" + ent.text\n",
    "\n",
    "    return loc.strip()\n",
    "\n",
    "\n",
    "# fixed_locations = data[data.location.notna()].location.apply(fix_location)\n",
    "# print(fixed_locations.nunique())\n",
    "# fixed_locations.unique()\n"
   ]
  },
  {
   "cell_type": "code",
   "execution_count": 38,
   "metadata": {},
   "outputs": [
    {
     "name": "stdout",
     "output_type": "stream",
     "text": [
      "<class 'str'>\n",
      "<class 'str'>\n",
      "<class 'str'>\n",
      "<class 'str'>\n",
      "<class 'str'>\n",
      "<class 'str'>\n",
      "<class 'str'>\n",
      "<class 'str'>\n",
      "<class 'str'>\n",
      "<class 'str'>\n",
      "<class 'str'>\n",
      "<class 'str'>\n",
      "<class 'str'>\n",
      "<class 'str'>\n",
      "<class 'str'>\n",
      "<class 'str'>\n",
      "<class 'str'>\n",
      "<class 'str'>\n",
      "<class 'str'>\n",
      "<class 'str'>\n",
      "<class 'str'>\n",
      "<class 'str'>\n",
      "<class 'str'>\n",
      "<class 'str'>\n",
      "<class 'str'>\n",
      "<class 'str'>\n",
      "<class 'str'>\n",
      "<class 'str'>\n",
      "<class 'str'>\n",
      "<class 'str'>\n",
      "<class 'str'>\n",
      "<class 'str'>\n",
      "<class 'str'>\n",
      "<class 'str'>\n",
      "<class 'str'>\n",
      "<class 'str'>\n",
      "<class 'str'>\n",
      "<class 'str'>\n",
      "<class 'str'>\n",
      "<class 'str'>\n",
      "<class 'str'>\n",
      "<class 'str'>\n",
      "<class 'str'>\n",
      "<class 'str'>\n",
      "<class 'str'>\n",
      "<class 'str'>\n",
      "<class 'str'>\n",
      "<class 'str'>\n",
      "<class 'str'>\n",
      "<class 'str'>\n",
      "<class 'str'>\n",
      "<class 'str'>\n",
      "<class 'str'>\n",
      "<class 'str'>\n",
      "<class 'str'>\n",
      "<class 'str'>\n",
      "<class 'str'>\n",
      "<class 'str'>\n",
      "<class 'str'>\n",
      "<class 'str'>\n",
      "<class 'str'>\n",
      "<class 'str'>\n",
      "<class 'str'>\n",
      "<class 'str'>\n",
      "<class 'str'>\n",
      "<class 'str'>\n",
      "<class 'str'>\n",
      "<class 'str'>\n",
      "<class 'str'>\n",
      "<class 'str'>\n",
      "<class 'str'>\n",
      "<class 'str'>\n",
      "<class 'str'>\n",
      "<class 'str'>\n",
      "<class 'str'>\n",
      "<class 'str'>\n",
      "<class 'str'>\n",
      "<class 'str'>\n",
      "<class 'str'>\n",
      "<class 'str'>\n",
      "<class 'str'>\n",
      "<class 'str'>\n",
      "<class 'str'>\n",
      "<class 'str'>\n",
      "<class 'str'>\n",
      "<class 'str'>\n",
      "<class 'str'>\n",
      "<class 'str'>\n",
      "<class 'str'>\n",
      "<class 'str'>\n",
      "<class 'str'>\n",
      "<class 'str'>\n",
      "<class 'str'>\n",
      "<class 'str'>\n",
      "<class 'str'>\n",
      "<class 'str'>\n",
      "<class 'str'>\n",
      "<class 'str'>\n",
      "<class 'str'>\n",
      "<class 'str'>\n",
      "<class 'str'>\n",
      "<class 'str'>\n",
      "<class 'str'>\n",
      "<class 'str'>\n",
      "<class 'str'>\n",
      "<class 'str'>\n",
      "<class 'str'>\n",
      "<class 'str'>\n",
      "<class 'str'>\n",
      "<class 'str'>\n",
      "<class 'str'>\n",
      "<class 'str'>\n",
      "<class 'str'>\n",
      "<class 'str'>\n",
      "<class 'str'>\n",
      "<class 'str'>\n",
      "<class 'str'>\n",
      "<class 'str'>\n",
      "<class 'str'>\n",
      "<class 'str'>\n",
      "<class 'str'>\n",
      "<class 'str'>\n",
      "<class 'str'>\n",
      "<class 'str'>\n",
      "<class 'str'>\n",
      "<class 'str'>\n",
      "<class 'str'>\n",
      "<class 'str'>\n",
      "<class 'str'>\n",
      "<class 'str'>\n",
      "<class 'str'>\n",
      "<class 'str'>\n",
      "<class 'str'>\n",
      "<class 'str'>\n",
      "<class 'str'>\n",
      "<class 'str'>\n",
      "<class 'str'>\n",
      "<class 'str'>\n",
      "<class 'str'>\n",
      "<class 'str'>\n",
      "<class 'str'>\n",
      "<class 'str'>\n",
      "<class 'str'>\n",
      "<class 'str'>\n",
      "<class 'str'>\n",
      "<class 'str'>\n",
      "<class 'str'>\n",
      "<class 'str'>\n",
      "<class 'str'>\n",
      "<class 'str'>\n",
      "<class 'str'>\n",
      "<class 'str'>\n",
      "<class 'str'>\n",
      "<class 'str'>\n",
      "<class 'str'>\n",
      "<class 'str'>\n",
      "<class 'str'>\n",
      "<class 'str'>\n",
      "<class 'str'>\n",
      "<class 'str'>\n",
      "<class 'str'>\n",
      "<class 'str'>\n",
      "<class 'str'>\n",
      "<class 'str'>\n",
      "<class 'str'>\n",
      "<class 'str'>\n",
      "<class 'str'>\n",
      "<class 'str'>\n",
      "<class 'str'>\n",
      "<class 'str'>\n",
      "<class 'str'>\n",
      "<class 'str'>\n",
      "<class 'str'>\n",
      "<class 'str'>\n",
      "<class 'str'>\n",
      "<class 'str'>\n",
      "<class 'str'>\n",
      "<class 'str'>\n",
      "<class 'str'>\n",
      "<class 'str'>\n",
      "<class 'str'>\n",
      "<class 'str'>\n",
      "<class 'str'>\n",
      "<class 'str'>\n",
      "<class 'str'>\n",
      "<class 'str'>\n",
      "<class 'str'>\n",
      "<class 'str'>\n",
      "<class 'str'>\n",
      "<class 'str'>\n",
      "<class 'str'>\n",
      "<class 'str'>\n",
      "<class 'str'>\n",
      "<class 'str'>\n",
      "<class 'str'>\n",
      "<class 'str'>\n",
      "<class 'str'>\n",
      "<class 'str'>\n",
      "<class 'str'>\n",
      "<class 'str'>\n",
      "<class 'str'>\n",
      "<class 'str'>\n",
      "<class 'str'>\n",
      "<class 'str'>\n",
      "<class 'str'>\n",
      "<class 'str'>\n",
      "<class 'str'>\n",
      "<class 'str'>\n",
      "<class 'str'>\n",
      "<class 'str'>\n",
      "<class 'str'>\n",
      "<class 'str'>\n",
      "<class 'str'>\n",
      "<class 'str'>\n",
      "<class 'str'>\n",
      "<class 'str'>\n",
      "<class 'str'>\n",
      "<class 'str'>\n",
      "<class 'str'>\n",
      "<class 'str'>\n",
      "<class 'str'>\n",
      "<class 'str'>\n",
      "<class 'str'>\n",
      "<class 'str'>\n",
      "<class 'str'>\n",
      "<class 'str'>\n",
      "<class 'str'>\n",
      "<class 'str'>\n",
      "<class 'str'>\n",
      "<class 'str'>\n",
      "<class 'str'>\n",
      "<class 'str'>\n",
      "<class 'str'>\n",
      "<class 'str'>\n",
      "<class 'str'>\n",
      "<class 'str'>\n",
      "<class 'str'>\n",
      "<class 'str'>\n",
      "<class 'str'>\n",
      "<class 'str'>\n",
      "<class 'str'>\n",
      "<class 'str'>\n",
      "<class 'str'>\n",
      "<class 'str'>\n",
      "<class 'str'>\n",
      "<class 'str'>\n",
      "<class 'str'>\n",
      "<class 'str'>\n",
      "<class 'str'>\n",
      "<class 'str'>\n",
      "<class 'str'>\n",
      "<class 'str'>\n",
      "<class 'str'>\n",
      "<class 'str'>\n",
      "<class 'str'>\n",
      "<class 'str'>\n",
      "<class 'str'>\n",
      "<class 'str'>\n",
      "<class 'str'>\n",
      "<class 'str'>\n",
      "<class 'str'>\n",
      "<class 'str'>\n",
      "<class 'str'>\n",
      "<class 'str'>\n",
      "<class 'str'>\n",
      "<class 'str'>\n",
      "<class 'str'>\n",
      "<class 'str'>\n",
      "<class 'str'>\n",
      "<class 'str'>\n",
      "<class 'str'>\n",
      "<class 'str'>\n",
      "<class 'str'>\n",
      "<class 'str'>\n",
      "<class 'str'>\n",
      "<class 'str'>\n",
      "<class 'str'>\n",
      "<class 'str'>\n",
      "<class 'str'>\n",
      "<class 'str'>\n",
      "<class 'str'>\n",
      "<class 'str'>\n",
      "<class 'str'>\n",
      "<class 'str'>\n",
      "<class 'str'>\n",
      "<class 'str'>\n",
      "<class 'str'>\n",
      "<class 'str'>\n",
      "<class 'str'>\n",
      "<class 'str'>\n",
      "<class 'str'>\n",
      "<class 'str'>\n",
      "<class 'str'>\n",
      "<class 'str'>\n",
      "<class 'str'>\n",
      "<class 'str'>\n",
      "<class 'str'>\n",
      "<class 'str'>\n",
      "<class 'str'>\n",
      "<class 'str'>\n",
      "<class 'str'>\n",
      "<class 'str'>\n",
      "<class 'str'>\n",
      "<class 'str'>\n",
      "<class 'str'>\n",
      "<class 'str'>\n",
      "<class 'str'>\n",
      "<class 'str'>\n",
      "<class 'str'>\n",
      "<class 'str'>\n",
      "<class 'str'>\n",
      "<class 'str'>\n",
      "<class 'str'>\n",
      "<class 'str'>\n",
      "<class 'str'>\n",
      "<class 'str'>\n",
      "<class 'str'>\n",
      "<class 'str'>\n",
      "<class 'str'>\n",
      "<class 'str'>\n",
      "<class 'str'>\n",
      "<class 'str'>\n",
      "<class 'str'>\n",
      "<class 'str'>\n",
      "<class 'str'>\n",
      "<class 'str'>\n",
      "<class 'str'>\n",
      "<class 'str'>\n",
      "<class 'str'>\n",
      "<class 'str'>\n",
      "<class 'str'>\n",
      "<class 'str'>\n",
      "<class 'str'>\n",
      "<class 'str'>\n",
      "<class 'str'>\n",
      "<class 'str'>\n",
      "<class 'str'>\n",
      "<class 'str'>\n",
      "<class 'str'>\n",
      "<class 'str'>\n",
      "<class 'str'>\n",
      "<class 'str'>\n",
      "<class 'str'>\n",
      "<class 'str'>\n",
      "<class 'str'>\n",
      "<class 'str'>\n",
      "<class 'str'>\n",
      "<class 'str'>\n",
      "<class 'str'>\n",
      "<class 'str'>\n",
      "<class 'str'>\n",
      "<class 'str'>\n",
      "<class 'str'>\n",
      "<class 'str'>\n",
      "<class 'str'>\n",
      "<class 'str'>\n",
      "<class 'str'>\n",
      "<class 'str'>\n",
      "<class 'str'>\n",
      "<class 'str'>\n",
      "<class 'str'>\n",
      "<class 'str'>\n",
      "<class 'str'>\n",
      "<class 'str'>\n",
      "<class 'str'>\n",
      "<class 'str'>\n",
      "<class 'str'>\n",
      "<class 'str'>\n",
      "<class 'str'>\n",
      "<class 'str'>\n",
      "<class 'str'>\n",
      "<class 'str'>\n",
      "<class 'str'>\n",
      "<class 'str'>\n",
      "<class 'str'>\n",
      "<class 'str'>\n",
      "<class 'str'>\n",
      "<class 'str'>\n",
      "<class 'str'>\n",
      "<class 'str'>\n",
      "<class 'str'>\n",
      "<class 'str'>\n",
      "<class 'str'>\n",
      "<class 'str'>\n",
      "<class 'str'>\n",
      "<class 'str'>\n",
      "<class 'str'>\n",
      "<class 'str'>\n",
      "<class 'str'>\n",
      "<class 'str'>\n",
      "<class 'str'>\n",
      "<class 'str'>\n",
      "<class 'str'>\n",
      "<class 'str'>\n",
      "<class 'str'>\n",
      "<class 'str'>\n",
      "<class 'str'>\n",
      "<class 'str'>\n",
      "<class 'str'>\n",
      "<class 'str'>\n",
      "<class 'str'>\n",
      "<class 'str'>\n",
      "<class 'str'>\n",
      "<class 'str'>\n",
      "<class 'str'>\n",
      "<class 'str'>\n",
      "<class 'str'>\n",
      "<class 'str'>\n",
      "<class 'str'>\n",
      "<class 'str'>\n",
      "<class 'str'>\n",
      "<class 'str'>\n",
      "<class 'str'>\n",
      "<class 'str'>\n",
      "<class 'str'>\n",
      "<class 'str'>\n",
      "<class 'str'>\n",
      "<class 'str'>\n",
      "<class 'str'>\n",
      "<class 'str'>\n",
      "<class 'str'>\n",
      "<class 'str'>\n",
      "<class 'str'>\n",
      "<class 'str'>\n",
      "<class 'str'>\n",
      "<class 'str'>\n",
      "<class 'str'>\n",
      "<class 'str'>\n",
      "<class 'str'>\n",
      "<class 'str'>\n",
      "<class 'str'>\n",
      "<class 'str'>\n",
      "<class 'str'>\n",
      "<class 'str'>\n",
      "<class 'str'>\n",
      "<class 'str'>\n",
      "<class 'str'>\n",
      "<class 'str'>\n",
      "<class 'str'>\n",
      "<class 'str'>\n",
      "<class 'str'>\n",
      "<class 'str'>\n",
      "<class 'str'>\n",
      "<class 'str'>\n",
      "<class 'str'>\n",
      "<class 'str'>\n",
      "<class 'str'>\n",
      "<class 'str'>\n",
      "<class 'str'>\n",
      "<class 'str'>\n",
      "<class 'str'>\n",
      "<class 'str'>\n",
      "<class 'str'>\n",
      "<class 'str'>\n",
      "<class 'str'>\n",
      "<class 'str'>\n",
      "<class 'str'>\n",
      "<class 'str'>\n",
      "<class 'str'>\n",
      "<class 'str'>\n",
      "<class 'str'>\n",
      "<class 'str'>\n",
      "<class 'str'>\n",
      "<class 'str'>\n",
      "<class 'str'>\n",
      "<class 'str'>\n",
      "<class 'str'>\n",
      "<class 'str'>\n",
      "<class 'str'>\n",
      "<class 'str'>\n",
      "<class 'str'>\n",
      "<class 'str'>\n",
      "<class 'str'>\n",
      "<class 'str'>\n",
      "<class 'str'>\n",
      "<class 'str'>\n",
      "<class 'str'>\n",
      "<class 'str'>\n",
      "<class 'str'>\n",
      "<class 'str'>\n",
      "<class 'str'>\n",
      "<class 'str'>\n",
      "<class 'str'>\n",
      "<class 'str'>\n",
      "<class 'str'>\n",
      "<class 'str'>\n",
      "<class 'str'>\n",
      "<class 'str'>\n",
      "<class 'str'>\n",
      "<class 'str'>\n",
      "<class 'str'>\n",
      "<class 'str'>\n",
      "<class 'str'>\n",
      "<class 'str'>\n",
      "<class 'str'>\n",
      "<class 'str'>\n",
      "<class 'str'>\n",
      "<class 'str'>\n",
      "<class 'str'>\n",
      "<class 'str'>\n",
      "<class 'str'>\n",
      "<class 'str'>\n",
      "<class 'str'>\n",
      "<class 'str'>\n",
      "<class 'str'>\n",
      "<class 'str'>\n",
      "<class 'str'>\n",
      "<class 'str'>\n",
      "<class 'str'>\n",
      "<class 'str'>\n",
      "<class 'str'>\n",
      "<class 'str'>\n",
      "<class 'str'>\n",
      "<class 'str'>\n",
      "<class 'str'>\n",
      "<class 'str'>\n",
      "<class 'str'>\n",
      "<class 'str'>\n",
      "<class 'str'>\n",
      "<class 'str'>\n",
      "<class 'str'>\n",
      "<class 'str'>\n",
      "<class 'str'>\n",
      "<class 'str'>\n",
      "<class 'str'>\n",
      "<class 'str'>\n",
      "<class 'str'>\n",
      "<class 'str'>\n",
      "<class 'str'>\n",
      "<class 'str'>\n",
      "<class 'str'>\n",
      "<class 'str'>\n",
      "<class 'str'>\n",
      "<class 'str'>\n",
      "<class 'str'>\n",
      "<class 'str'>\n",
      "<class 'str'>\n",
      "<class 'str'>\n",
      "<class 'str'>\n",
      "<class 'str'>\n",
      "<class 'str'>\n",
      "<class 'str'>\n",
      "<class 'str'>\n",
      "<class 'str'>\n",
      "<class 'str'>\n",
      "<class 'str'>\n",
      "<class 'str'>\n",
      "<class 'str'>\n",
      "<class 'str'>\n",
      "<class 'str'>\n",
      "<class 'str'>\n",
      "<class 'str'>\n",
      "<class 'str'>\n",
      "<class 'str'>\n",
      "<class 'str'>\n",
      "<class 'str'>\n",
      "<class 'str'>\n",
      "<class 'str'>\n",
      "<class 'str'>\n",
      "<class 'str'>\n",
      "<class 'str'>\n",
      "<class 'str'>\n",
      "<class 'str'>\n",
      "<class 'str'>\n",
      "<class 'str'>\n",
      "<class 'str'>\n",
      "<class 'str'>\n",
      "<class 'str'>\n",
      "<class 'str'>\n",
      "<class 'str'>\n",
      "<class 'str'>\n",
      "<class 'str'>\n",
      "<class 'str'>\n",
      "<class 'str'>\n",
      "<class 'str'>\n",
      "<class 'str'>\n",
      "<class 'str'>\n",
      "<class 'str'>\n",
      "<class 'str'>\n",
      "<class 'str'>\n",
      "<class 'str'>\n",
      "<class 'str'>\n",
      "<class 'str'>\n",
      "<class 'str'>\n",
      "<class 'str'>\n",
      "<class 'str'>\n",
      "<class 'str'>\n",
      "<class 'str'>\n",
      "<class 'str'>\n",
      "<class 'str'>\n",
      "<class 'str'>\n",
      "<class 'str'>\n",
      "<class 'str'>\n",
      "<class 'str'>\n",
      "<class 'str'>\n",
      "<class 'str'>\n",
      "<class 'str'>\n",
      "<class 'str'>\n",
      "<class 'str'>\n",
      "<class 'str'>\n",
      "<class 'str'>\n",
      "<class 'str'>\n",
      "<class 'str'>\n",
      "<class 'str'>\n",
      "<class 'str'>\n",
      "<class 'str'>\n",
      "<class 'str'>\n",
      "<class 'str'>\n",
      "<class 'str'>\n",
      "<class 'str'>\n",
      "<class 'str'>\n",
      "<class 'str'>\n",
      "<class 'str'>\n",
      "<class 'str'>\n",
      "<class 'str'>\n",
      "<class 'str'>\n",
      "<class 'str'>\n",
      "<class 'str'>\n",
      "<class 'str'>\n",
      "<class 'str'>\n",
      "<class 'str'>\n",
      "<class 'str'>\n",
      "<class 'str'>\n",
      "<class 'str'>\n",
      "<class 'str'>\n",
      "<class 'str'>\n",
      "<class 'str'>\n",
      "<class 'str'>\n",
      "<class 'str'>\n",
      "<class 'str'>\n",
      "<class 'str'>\n",
      "<class 'str'>\n",
      "<class 'str'>\n",
      "<class 'str'>\n",
      "<class 'str'>\n",
      "<class 'str'>\n",
      "<class 'str'>\n",
      "<class 'str'>\n",
      "<class 'str'>\n",
      "<class 'str'>\n",
      "<class 'str'>\n",
      "<class 'str'>\n",
      "<class 'str'>\n",
      "<class 'str'>\n",
      "<class 'str'>\n",
      "<class 'str'>\n",
      "<class 'str'>\n",
      "<class 'str'>\n",
      "<class 'str'>\n",
      "<class 'str'>\n",
      "<class 'str'>\n",
      "<class 'str'>\n",
      "<class 'str'>\n",
      "<class 'str'>\n",
      "<class 'str'>\n",
      "<class 'str'>\n",
      "<class 'str'>\n",
      "<class 'str'>\n",
      "<class 'str'>\n",
      "<class 'str'>\n",
      "<class 'str'>\n",
      "<class 'str'>\n",
      "<class 'str'>\n",
      "<class 'str'>\n",
      "<class 'str'>\n",
      "<class 'str'>\n",
      "<class 'str'>\n",
      "<class 'str'>\n",
      "<class 'str'>\n",
      "<class 'str'>\n",
      "<class 'str'>\n",
      "<class 'str'>\n",
      "<class 'str'>\n",
      "<class 'str'>\n",
      "<class 'str'>\n",
      "<class 'str'>\n",
      "<class 'str'>\n",
      "<class 'str'>\n",
      "<class 'str'>\n",
      "<class 'str'>\n",
      "<class 'str'>\n",
      "<class 'str'>\n",
      "<class 'str'>\n",
      "<class 'str'>\n",
      "<class 'str'>\n",
      "<class 'str'>\n",
      "<class 'str'>\n",
      "<class 'str'>\n",
      "<class 'str'>\n",
      "<class 'str'>\n",
      "<class 'str'>\n",
      "<class 'str'>\n",
      "<class 'str'>\n",
      "<class 'str'>\n",
      "<class 'str'>\n",
      "<class 'str'>\n",
      "<class 'str'>\n",
      "<class 'str'>\n",
      "<class 'str'>\n",
      "<class 'str'>\n",
      "<class 'str'>\n",
      "<class 'str'>\n",
      "<class 'str'>\n",
      "<class 'str'>\n",
      "<class 'str'>\n",
      "<class 'str'>\n",
      "<class 'str'>\n",
      "<class 'str'>\n",
      "<class 'str'>\n",
      "<class 'str'>\n",
      "<class 'str'>\n",
      "<class 'str'>\n",
      "<class 'str'>\n",
      "<class 'str'>\n",
      "<class 'str'>\n",
      "<class 'str'>\n",
      "<class 'str'>\n",
      "<class 'str'>\n",
      "<class 'str'>\n",
      "<class 'str'>\n",
      "<class 'str'>\n",
      "<class 'str'>\n",
      "<class 'str'>\n",
      "<class 'str'>\n",
      "<class 'str'>\n",
      "<class 'str'>\n",
      "<class 'str'>\n",
      "<class 'str'>\n",
      "<class 'str'>\n",
      "<class 'str'>\n",
      "<class 'str'>\n",
      "<class 'str'>\n",
      "<class 'str'>\n",
      "<class 'str'>\n",
      "<class 'str'>\n",
      "<class 'str'>\n",
      "<class 'str'>\n",
      "<class 'str'>\n",
      "<class 'str'>\n",
      "<class 'str'>\n",
      "<class 'str'>\n",
      "<class 'str'>\n",
      "<class 'str'>\n",
      "<class 'str'>\n",
      "<class 'str'>\n",
      "<class 'str'>\n",
      "<class 'str'>\n",
      "<class 'str'>\n",
      "<class 'str'>\n",
      "<class 'str'>\n",
      "<class 'str'>\n",
      "<class 'str'>\n",
      "<class 'str'>\n",
      "<class 'str'>\n",
      "<class 'str'>\n",
      "<class 'str'>\n",
      "<class 'str'>\n",
      "<class 'str'>\n",
      "<class 'str'>\n",
      "<class 'str'>\n",
      "<class 'str'>\n",
      "<class 'str'>\n",
      "<class 'str'>\n",
      "<class 'str'>\n",
      "<class 'str'>\n",
      "<class 'str'>\n",
      "<class 'str'>\n",
      "<class 'str'>\n",
      "<class 'str'>\n",
      "<class 'str'>\n",
      "<class 'str'>\n",
      "<class 'str'>\n",
      "<class 'str'>\n",
      "<class 'str'>\n",
      "<class 'str'>\n",
      "<class 'str'>\n",
      "<class 'str'>\n",
      "<class 'str'>\n",
      "<class 'str'>\n",
      "<class 'str'>\n",
      "<class 'str'>\n",
      "<class 'str'>\n",
      "<class 'str'>\n",
      "<class 'str'>\n",
      "<class 'str'>\n",
      "<class 'str'>\n",
      "<class 'str'>\n",
      "<class 'str'>\n",
      "<class 'str'>\n",
      "<class 'str'>\n",
      "<class 'str'>\n",
      "<class 'str'>\n",
      "<class 'str'>\n",
      "<class 'str'>\n",
      "<class 'str'>\n",
      "<class 'str'>\n",
      "<class 'str'>\n",
      "<class 'str'>\n",
      "<class 'str'>\n",
      "<class 'str'>\n",
      "<class 'str'>\n",
      "<class 'str'>\n",
      "<class 'str'>\n",
      "<class 'str'>\n",
      "<class 'str'>\n",
      "<class 'str'>\n",
      "<class 'str'>\n",
      "<class 'str'>\n",
      "<class 'str'>\n",
      "<class 'str'>\n",
      "<class 'str'>\n",
      "<class 'str'>\n",
      "<class 'str'>\n",
      "<class 'str'>\n",
      "<class 'str'>\n",
      "<class 'str'>\n",
      "<class 'str'>\n",
      "<class 'str'>\n",
      "<class 'str'>\n",
      "<class 'str'>\n",
      "<class 'str'>\n",
      "<class 'str'>\n",
      "<class 'str'>\n",
      "<class 'str'>\n",
      "<class 'str'>\n",
      "<class 'str'>\n",
      "<class 'str'>\n",
      "<class 'str'>\n",
      "<class 'str'>\n",
      "<class 'str'>\n",
      "<class 'str'>\n",
      "<class 'str'>\n",
      "<class 'str'>\n",
      "<class 'str'>\n",
      "<class 'str'>\n",
      "<class 'str'>\n",
      "<class 'str'>\n",
      "<class 'str'>\n",
      "<class 'str'>\n",
      "<class 'str'>\n",
      "<class 'str'>\n",
      "<class 'str'>\n",
      "<class 'str'>\n",
      "<class 'str'>\n",
      "<class 'str'>\n",
      "<class 'str'>\n",
      "<class 'str'>\n",
      "<class 'str'>\n",
      "<class 'str'>\n",
      "<class 'str'>\n",
      "<class 'str'>\n",
      "<class 'str'>\n",
      "<class 'str'>\n",
      "<class 'str'>\n",
      "<class 'str'>\n",
      "<class 'str'>\n",
      "<class 'str'>\n",
      "<class 'str'>\n",
      "<class 'str'>\n",
      "<class 'str'>\n",
      "<class 'str'>\n",
      "<class 'str'>\n",
      "<class 'str'>\n",
      "<class 'str'>\n",
      "<class 'str'>\n",
      "<class 'str'>\n",
      "<class 'str'>\n",
      "<class 'str'>\n",
      "<class 'str'>\n",
      "<class 'str'>\n",
      "<class 'str'>\n",
      "<class 'str'>\n",
      "<class 'str'>\n",
      "<class 'str'>\n",
      "<class 'str'>\n",
      "<class 'str'>\n",
      "<class 'str'>\n"
     ]
    }
   ],
   "source": [
    "data.location = data.location.astype(\"str\").apply(fix_location)\n"
   ]
  },
  {
   "cell_type": "code",
   "execution_count": 40,
   "metadata": {},
   "outputs": [
    {
     "data": {
      "text/plain": [
       "array(['nan', 'damascus', 'Damascus', 'remotely', '',\n",
       "       '(hybrid) remotely damascus', 'qassa damascus syria',\n",
       "       '(hybrid) remotely istanbul turkey', 'Iraq', 'damascus syria',\n",
       "       'syria', 'Syria', 'dubai', 'lebanon', 'syria damascus',\n",
       "       'damascus baghdad', 'damascus latakia', 'damascus adnan',\n",
       "       '(hybrid) remotely lebanon syria egypt turkey', 'germany',\n",
       "       'damascus syria syria', 'damascus dubai baghdad'], dtype=object)"
      ]
     },
     "execution_count": 40,
     "metadata": {},
     "output_type": "execute_result"
    }
   ],
   "source": [
    "data.location.unique()\n"
   ]
  },
  {
   "cell_type": "code",
   "execution_count": 41,
   "metadata": {},
   "outputs": [],
   "source": [
    "data.to_csv(\"../data/data_v6.3.csv\", index=False)\n"
   ]
  },
  {
   "cell_type": "code",
   "execution_count": 42,
   "metadata": {},
   "outputs": [
    {
     "data": {
      "text/plain": [
       "Index(['id', 'date', 'photo', 'text', 'text_entities', 'raw_text', 'type',\n",
       "       'ocr_res', 'full_text', 'description', 'job_title', 'company_name',\n",
       "       'salary', 'location', 'job_type', 'years_of_experience', 'skills',\n",
       "       'abstract_title', 'experience', 'is_salary'],\n",
       "      dtype='object')"
      ]
     },
     "execution_count": 42,
     "metadata": {},
     "output_type": "execute_result"
    }
   ],
   "source": [
    "data.columns\n"
   ]
  },
  {
   "attachments": {},
   "cell_type": "markdown",
   "metadata": {},
   "source": [
    "### Fixing Years of Experience column\n"
   ]
  },
  {
   "cell_type": "code",
   "execution_count": 76,
   "metadata": {},
   "outputs": [
    {
     "data": {
      "text/plain": [
       "134"
      ]
     },
     "execution_count": 76,
     "metadata": {},
     "output_type": "execute_result"
    }
   ],
   "source": [
    "data.years_of_experience.nunique()\n"
   ]
  },
  {
   "cell_type": "code",
   "execution_count": 212,
   "metadata": {},
   "outputs": [
    {
     "data": {
      "text/plain": [
       "13"
      ]
     },
     "execution_count": 212,
     "metadata": {},
     "output_type": "execute_result"
    }
   ],
   "source": [
    "def fix_experience_years(text):\n",
    "    if text is np.nan:\n",
    "        return text\n",
    "    numbers = {\n",
    "        \"one \": \"1 \",\n",
    "        \"two \": \"2 \",\n",
    "        \"three\": \"3\",\n",
    "        \"four \": \"4 \",\n",
    "        \"five \": \"5 \",\n",
    "        \"six \": \"6 \",\n",
    "        \"seven \": \"7 \",\n",
    "        \"eight \": \"8 \",\n",
    "        \"nine \": \"9 \",\n",
    "        \"ten \": \"10 \",\n",
    "    }\n",
    "    numbers_re = re.compile(\"|\".join(numbers.keys()))\n",
    "\n",
    "    text = numbers_re.sub(lambda x: numbers[x.group()], text)\n",
    "    text = re.sub(\"fresh \", \"0 year\", text)\n",
    "\n",
    "    if not re.search(\"\\d\", text):\n",
    "        return np.nan\n",
    "\n",
    "    match = re.findall(r\"\\b\\d+\\b\", text)\n",
    "    if match:\n",
    "        numbers_set = np.array(list(set(match)), dtype=\"int32\")\n",
    "        return np.floor(numbers_set.mean())\n",
    "    return np.nan\n",
    "\n",
    "    # text = re.sub('#|\\+|\\(|\\)|<|>' , '' , text)\n",
    "    # text = re.sub('(?<=\\d) to (?=\\d)' , '-', text)\n",
    "    # text = re.sub('(\\d+-\\d+\\s)(years?)' , r'\\1' , text)\n",
    "\n",
    "    # #match = re.search('(\\d+\\s)(years?)',text)\n",
    "\n",
    "    # match = re.search('(\\d+)(?=\\syear)' , text)\n",
    "    # if match:\n",
    "    #     text = match.group()\n",
    "\n",
    "    return text\n",
    "\n",
    "\n",
    "data.loc[data.years_of_experience.notna()].years_of_experience.apply(\n",
    "    fix_experience_years\n",
    ").nunique()\n"
   ]
  },
  {
   "cell_type": "code",
   "execution_count": 202,
   "metadata": {},
   "outputs": [
    {
     "name": "stdout",
     "output_type": "stream",
     "text": [
      "extensive  ::  nan\n",
      "3  ::  3.0\n",
      "1  ::  1.0\n",
      "2+  ::  2.0\n",
      "fresh graduated  ::  0.0\n",
      "1-2  ::  1.0\n",
      "0-2  ::  1.0\n",
      "+2 years  ::  2.0\n",
      "5+  ::  5.0\n",
      "prior experience as a python developer  ::  nan\n",
      "2  ::  2.0\n",
      "1 year  ::  1.0\n",
      "at least 3 years xp on android or ios and at least 2 years xp on flutter  ::  2.0\n",
      "+3 years  ::  3.0\n",
      "5  ::  5.0\n",
      "required  ::  nan\n",
      "4  ::  4.0\n",
      "4+  ::  4.0\n",
      "7+  ::  7.0\n",
      " 2 years  ::  2.0\n",
      "2+ years of experience in php, laravel framework, 2+ years of experience in vuejs, 2+ years of experience in javascript.  ::  2.0\n",
      "#3+  ::  3.0\n",
      "at least 2 years  ::  2.0\n",
      "more than 2 years  ::  2.0\n",
      "ee  ::  nan\n",
      "#4 years +  ::  4.0\n",
      "3+  ::  3.0\n",
      "at least 5 years xp in swift/objective-c  ::  5.0\n",
      "#not specified  ::  nan\n",
      "1+  ::  1.0\n",
      "3 years  ::  3.0\n",
      "1-2 years  ::  1.0\n",
      "4+ years  ::  4.0\n",
      "preferably with prior experience in electronic maintenance  ::  nan\n",
      "over two year's developing php laravel  ::  2.0\n",
      "at least one year  ::  1.0\n",
      "minimum 2 years  ::  2.0\n",
      "1 year with laravel php or similar technologies  ::  1.0\n",
      "2+ years of experience in php, laravel framework, 2+ years of experience in vuejs, 2+ years of experience in javascript  ::  2.0\n",
      "#none  ::  nan\n",
      "#2+  ::  2.0\n",
      "#3  ::  3.0\n",
      "10+ years for ios and android, 2 years for flutter  ::  6.0\n",
      "experience in php, laravel framework, vuejs, oop and design patterns.  ::  nan\n",
      "7-10 years  ::  8.0\n",
      "5-7  ::  6.0\n",
      "ios team leader - xp in swift/objective-c, android team leader - 2 years experience in flutter with native ex in ios and android, flutter team leader - 2 years experience in flutter with native ex in ios and android  ::  2.0\n",
      "1 to 2  ::  1.0\n",
      "1 year or less  ::  1.0\n",
      "good experience in microsoft .net platform, database: sql server, good experience devexpress library  ::  nan\n",
      "4+ years experience of python coding skills, 1+ years experience with the django framework  ::  2.0\n",
      "<1  ::  1.0\n",
      "2+ years  ::  2.0\n",
      "#1 year (for sales employee)  ::  1.0\n",
      "#at least 3 years  ::  3.0\n",
      "1+ year  ::  1.0\n",
      "30  ::  30.0\n",
      "#good office experience  ::  nan\n",
      "15 years  ::  15.0\n",
      " 3 years  ::  3.0\n",
      "bachelor's degree in information technology, software development management, software engineering, computer science, or a related field.  ::  nan\n",
      "at least 1 year  ::  1.0\n",
      "bachelor’s degree in communications, marketing, journalism, or related field.  ::  nan\n",
      "+5years experience after graduation  ::  nan\n",
      "#good  ::  nan\n",
      "php - 3 years, java - good knowledge  ::  3.0\n",
      "at least 3 years  ::  3.0\n",
      "#1 year  ::  1.0\n",
      "3+ years of experience with php as web developer, 2+ years of experience with magento 2  ::  2.0\n",
      "proven work experience with php and wordpress themes & plugins  ::  nan\n",
      "good  ::  nan\n",
      "2-3  ::  2.0\n",
      "2 years  ::  2.0\n",
      "one year  ::  1.0\n",
      "+3 years' experience after graduation  ::  3.0\n",
      "1+ years  ::  1.0\n",
      "mid/senior level  ::  nan\n",
      "1 year experience with ionic+ angular or similar technologies  ::  1.0\n",
      "good experience in laboratories  ::  nan\n",
      "high  ::  nan\n",
      "good experience in video editing and design  ::  nan\n",
      "minimum 1-2 years  ::  1.0\n",
      "> 5 years  ::  5.0\n",
      "2 - 3 years  ::  2.0\n",
      "must have worked on live projects  ::  nan\n",
      "er year   ::  nan\n",
      "proven work experience in software development and software quality assurance  ::  nan\n",
      "0-2 years  ::  1.0\n",
      "#at least 2 years  ::  2.0\n",
      "1 year or more  ::  1.0\n",
      "3+ years  ::  3.0\n",
      "3 years of asp.net core experience, 3 years of ms sql server & mysql  ::  3.0\n",
      "fresh it graduate  ::  0.0\n",
      "bachelor’s degree in computer programming, computer science, or a related field.  ::  nan\n",
      "+1 year of experience in asp core and +1 year of experience in reactjs  ::  1.0\n",
      "more than 2 years experience nodejs, more than 2 years experience angular  ::  2.0\n",
      "#2-4  ::  3.0\n",
      "minimum 1 year  ::  1.0\n",
      "(4-6) years  ::  5.0\n",
      "10  ::  10.0\n",
      "5 years of experience in front-end and 2 years of experience in vuejs  ::  3.0\n",
      "ba degree in computer science or similar relevant field.  ::  nan\n",
      "9  ::  9.0\n",
      "er year.  ::  nan\n",
      "5 years in programming, 2 years as team leader  ::  3.0\n",
      "minimum 3 years  ::  3.0\n",
      "#expert(+2 years)  ::  2.0\n",
      "previous experience in auditing is preferred  ::  nan\n",
      "mid to senior level  ::  nan\n",
      "not required  ::  nan\n",
      "bachelor's degree in computer science, engineering, or a related technical field  ::  nan\n",
      "proven seo and sem experience  ::  nan\n",
      "experience in conducting automated testing.  ::  nan\n",
      "at least two years  ::  2.0\n",
      "minimum of two years of experience in accounting and bookkeeping.  ::  2.0\n",
      "2 years in low current, 1 year in mobile maintenance  ::  1.0\n",
      "5+ years php backend development, 3+ years' experience with linux servers  ::  4.0\n",
      "5+ years  ::  5.0\n",
      "experience of development and customization of business applications on zoho creator is a must  ::  nan\n",
      "proven work experience as a manager, team leader or supervisor  ::  nan\n",
      "bachelor/diploma degree in computer science or and related field of study.  ::  nan\n",
      "3-5  ::  4.0\n",
      "three  ::  3.0\n",
      "api rest, git  ::  nan\n",
      "2-5 years  ::  3.0\n",
      "minimum 2 years after graduation  ::  2.0\n",
      "two to four years  ::  3.0\n",
      "strong analytical problem solving, must have worked on live projects  ::  nan\n",
      "proven work experience as a user experience designer or a similar role  ::  nan\n",
      "proven experience working as a doctor  ::  nan\n",
      "preferable to have one year working experience  ::  1.0\n",
      "2 years after graduation  ::  2.0\n",
      "proven graphic designing experience  ::  nan\n",
      "experience in php, laravel framework, experience in vuejs, degree in computer science or related fields, strong knowledge of oop and design patterns.  ::  nan\n"
     ]
    }
   ],
   "source": [
    "unique_values = data.loc[data.years_of_experience.notna()].years_of_experience.unique()\n",
    "for v in unique_values:\n",
    "    print(v, \" :: \", fix_experience_years(v))\n"
   ]
  },
  {
   "cell_type": "code",
   "execution_count": 204,
   "metadata": {},
   "outputs": [
    {
     "data": {
      "text/plain": [
       "array([nan,  3.,  1.,  2.,  0.,  5.,  4.,  7.,  6.,  8., 30., 15., 10.,\n",
       "        9.])"
      ]
     },
     "execution_count": 204,
     "metadata": {},
     "output_type": "execute_result"
    }
   ],
   "source": [
    "data.loc[data.years_of_experience.notna()].years_of_experience.apply(\n",
    "    fix_experience_years\n",
    ").unique()\n"
   ]
  },
  {
   "cell_type": "code",
   "execution_count": 215,
   "metadata": {},
   "outputs": [],
   "source": [
    "data[\"avg_exp_years\"] = data.years_of_experience.apply(fix_experience_years)\n"
   ]
  },
  {
   "cell_type": "code",
   "execution_count": 216,
   "metadata": {},
   "outputs": [],
   "source": [
    "data.to_csv(\"../data/data_v6.4.csv\", index=False)\n"
   ]
  },
  {
   "cell_type": "code",
   "execution_count": 217,
   "metadata": {},
   "outputs": [
    {
     "data": {
      "text/plain": [
       "Index(['id', 'date', 'photo', 'text', 'text_entities', 'raw_text', 'type',\n",
       "       'ocr_res', 'full_text', 'description', 'job_title', 'company_name',\n",
       "       'salary', 'location', 'job_type', 'years_of_experience', 'skills',\n",
       "       'abstract_title', 'experience', 'is_salary', 'avg_exp_years'],\n",
       "      dtype='object')"
      ]
     },
     "execution_count": 217,
     "metadata": {},
     "output_type": "execute_result"
    }
   ],
   "source": [
    "data.columns"
   ]
  },
  {
   "attachments": {},
   "cell_type": "markdown",
   "metadata": {},
   "source": [
    "### Fixing Job Type column"
   ]
  },
  {
   "cell_type": "code",
   "execution_count": 264,
   "metadata": {},
   "outputs": [
    {
     "name": "stdout",
     "output_type": "stream",
     "text": [
      "7\n"
     ]
    }
   ],
   "source": [
    "def fix_job_type(text):\n",
    "    if text is np.nan:\n",
    "        return text\n",
    "\n",
    "    text = text.lower().strip()\n",
    "    text = re.sub(r\"#|_\", \"\", text)\n",
    "    text = re.sub(r\"(full time)|(fulltime)|(full_time)\", \"full-time\", text)\n",
    "    text = re.sub(r\"(part time)|(parttime)|(part_time)\", \"part-time\", text)\n",
    "\n",
    "    res = \"\"\n",
    "    if \"full-time\" in text:\n",
    "        res += \"full-time \"\n",
    "    if \"part-time\" in text:\n",
    "        res += \"part-time \"\n",
    "    if \"freelance\" in text:\n",
    "        res += \"freelance\"\n",
    "    if \"train\" in text:\n",
    "        res += \"training \"\n",
    "    if \"free time\" in text or \"task bas\" in text:\n",
    "        res += \"task based \"\n",
    "\n",
    "    if res == \"\":\n",
    "        return np.nan\n",
    "\n",
    "    return res.strip()\n",
    "\n",
    "\n",
    "print(data.job_type.apply(fix_job_type).nunique())\n"
   ]
  },
  {
   "cell_type": "code",
   "execution_count": 265,
   "metadata": {},
   "outputs": [
    {
     "data": {
      "text/plain": [
       "651"
      ]
     },
     "execution_count": 265,
     "metadata": {},
     "output_type": "execute_result"
    }
   ],
   "source": [
    "data.job_type.apply(fix_job_type).notna().sum()"
   ]
  },
  {
   "cell_type": "code",
   "execution_count": 266,
   "metadata": {},
   "outputs": [],
   "source": [
    "data['job_type'] = data.job_type.apply(fix_job_type)"
   ]
  },
  {
   "cell_type": "code",
   "execution_count": 267,
   "metadata": {},
   "outputs": [
    {
     "data": {
      "text/plain": [
       "7"
      ]
     },
     "execution_count": 267,
     "metadata": {},
     "output_type": "execute_result"
    }
   ],
   "source": [
    "data.job_type.nunique()"
   ]
  },
  {
   "cell_type": "code",
   "execution_count": 268,
   "metadata": {},
   "outputs": [
    {
     "data": {
      "text/plain": [
       "226"
      ]
     },
     "execution_count": 268,
     "metadata": {},
     "output_type": "execute_result"
    }
   ],
   "source": [
    "data.job_type.isna().sum()\n"
   ]
  },
  {
   "cell_type": "code",
   "execution_count": null,
   "metadata": {},
   "outputs": [],
   "source": []
  },
  {
   "cell_type": "code",
   "execution_count": null,
   "metadata": {},
   "outputs": [],
   "source": []
  },
  {
   "cell_type": "code",
   "execution_count": null,
   "metadata": {},
   "outputs": [
    {
     "data": {
      "text/plain": [
       "array(['mobile app developer', 'back-end', 'software engineer ( and )'],\n",
       "      dtype=object)"
      ]
     },
     "execution_count": 440,
     "metadata": {},
     "output_type": "execute_result"
    }
   ],
   "source": [
    "data.loc[\n",
    "    data.job_title.notna() & data.job_title.str.contains(\"software engineer \")\n",
    "].job_title.apply(abstract_job_title).unique()\n"
   ]
  },
  {
   "cell_type": "code",
   "execution_count": null,
   "metadata": {
    "collapsed": true,
    "jupyter": {
     "outputs_hidden": true
    },
    "tags": []
   },
   "outputs": [
    {
     "data": {
      "text/plain": [
       "array(['html5, css3, typescript, javascript frameworks (angular 2+ and query), configuration management, client-side building, cross-browser compatibility, partial page updates, ajax, asynchronous request handling, seo principles, wordpress, oral and written communication skills, interpersonal skills, problem-solving skills, code versioning tools (git), challenging mentality, self-motivated, agile methodology, scrum.'],\n",
       "      dtype=object)"
      ]
     },
     "execution_count": 384,
     "metadata": {},
     "output_type": "execute_result"
    }
   ],
   "source": [
    "data.loc[\n",
    "    data.job_title.notna() & data.job_title.str.contains(\"front developer\")\n",
    "].skills.values\n"
   ]
  },
  {
   "cell_type": "code",
   "execution_count": null,
   "metadata": {},
   "outputs": [
    {
     "name": "stdout",
     "output_type": "stream",
     "text": [
      "software engineer (mobile)  :: mobile app developer\n",
      "software engineer (backend)  :: back-end\n",
      "software engineer ( and )  :: software engineer ( and )\n"
     ]
    }
   ],
   "source": [
    "for v in data.loc[\n",
    "    data.job_title.notna() & data.job_title.str.contains(\"software engineer \")\n",
    "].job_title.unique():\n",
    "    print(v, \" ::\", abstract_job_title(v))\n"
   ]
  },
  {
   "cell_type": "code",
   "execution_count": null,
   "metadata": {},
   "outputs": [],
   "source": []
  },
  {
   "cell_type": "code",
   "execution_count": null,
   "metadata": {
    "collapsed": true,
    "jupyter": {
     "outputs_hidden": true
    },
    "tags": []
   },
   "outputs": [
    {
     "name": "stdout",
     "output_type": "stream",
     "text": [
      "front-end developer & wordpress\n",
      "front-end developer & wordpress\n",
      "front-end developer\n",
      "front end reactjs developer\n",
      "front-end js developer\n",
      "front-end developer\n",
      "backend/frontend developers\n",
      "backend/frontend developers\n",
      "backend/frontend developers\n",
      "front-end tech lead\n",
      "front-end developer & wordpress\n",
      "frontend developer\n",
      "front-end developer & wordpress\n",
      "frontend developer\n",
      "front-end developer\n",
      "frontend web developer\n",
      "frontend developer\n",
      "front-end developer\n",
      "frontend developer flutter developer\n",
      "frontend developer\n",
      "frontend web developer\n",
      "front-end developer\n",
      "front-end web developer\n",
      "front-end developer\n",
      "front-end js developer\n",
      "android developer, web developer, front-end developer\n",
      "frontend web developer\n",
      "frontend developer\n",
      "front-end developer with reactjs experience\n",
      "frontend engineer\n",
      "frontend engineer\n",
      "front-end developer\n",
      "frontend engineer\n",
      "front-end developer\n",
      "front-end developer\n",
      "frontend developer\n",
      "front end developer (react)\n",
      "full stack developer & front end developer\n",
      "frontend developer, react js\n",
      "front end developer\n",
      "full stack developer, frontend developer\n",
      "frontend developer\n",
      "front end developer\n",
      "frontend developer\n",
      "frontend developer\n",
      "frontend developer\n",
      "frontend developer\n",
      "frontend developers\n",
      "front-end developer\n",
      "front-end web developer, backend developer, full stack developer, mobile application developer, system administrator, network administrator, system analyst, it support, graphic design, digital marketing\n",
      "front-end developer\n",
      "front-end developer\n",
      "front developer\n",
      "front-end react js developer\n",
      "frontend developer\n",
      "front-end react.js developer\n",
      "front-end developer\n",
      "front-end developer\n",
      "angular front-end developer\n",
      "frontend developer\n",
      "frontend developer\n",
      "frontend developer\n",
      "frontend developer - angular\n",
      "frontend001\n",
      "frontend developer\n",
      "front-end react js developer\n"
     ]
    },
    {
     "data": {
      "text/plain": [
       "0      0.0\n",
       "1      0.0\n",
       "2      0.0\n",
       "3      0.0\n",
       "4      0.0\n",
       "      ... \n",
       "869    NaN\n",
       "870    0.0\n",
       "871    0.0\n",
       "873    0.0\n",
       "875    0.0\n",
       "Name: job_title, Length: 832, dtype: float64"
      ]
     },
     "execution_count": 29,
     "metadata": {},
     "output_type": "execute_result"
    }
   ],
   "source": [
    "data.loc[data.job_title.notna()].job_title.apply(\n",
    "    lambda x: print(x) if x and \"front\" in x else 0\n",
    ")\n"
   ]
  }
 ],
 "metadata": {
  "kernelspec": {
   "display_name": ".venv",
   "language": "python",
   "name": ".venv"
  },
  "language_info": {
   "codemirror_mode": {
    "name": "ipython",
    "version": 3
   },
   "file_extension": ".py",
   "mimetype": "text/x-python",
   "name": "python",
   "nbconvert_exporter": "python",
   "pygments_lexer": "ipython3",
   "version": "3.9.7"
  },
  "vscode": {
   "interpreter": {
    "hash": "0f1b3ad10751f8a1907d8ad058bc41b16e54a41930ed7864c21be18142c16aeb"
   }
  }
 },
 "nbformat": 4,
 "nbformat_minor": 4
}
