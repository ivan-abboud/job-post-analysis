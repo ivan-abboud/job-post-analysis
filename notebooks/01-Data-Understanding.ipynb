{
 "cells": [
  {
   "cell_type": "code",
   "execution_count": 105,
   "metadata": {},
   "outputs": [],
   "source": [
    "import pandas as pd\n",
    "import numpy as np\n",
    "import re\n"
   ]
  },
  {
   "cell_type": "code",
   "execution_count": 2,
   "metadata": {},
   "outputs": [],
   "source": [
    "# Reading Data\n",
    "data = pd.read_json(\"../data/result.json\")"
   ]
  },
  {
   "cell_type": "code",
   "execution_count": 4,
   "metadata": {},
   "outputs": [
    {
     "data": {
      "text/html": [
       "<div>\n",
       "<style scoped>\n",
       "    .dataframe tbody tr th:only-of-type {\n",
       "        vertical-align: middle;\n",
       "    }\n",
       "\n",
       "    .dataframe tbody tr th {\n",
       "        vertical-align: top;\n",
       "    }\n",
       "\n",
       "    .dataframe thead th {\n",
       "        text-align: right;\n",
       "    }\n",
       "</style>\n",
       "<table border=\"1\" class=\"dataframe\">\n",
       "  <thead>\n",
       "    <tr style=\"text-align: right;\">\n",
       "      <th></th>\n",
       "      <th>name</th>\n",
       "      <th>type</th>\n",
       "      <th>id</th>\n",
       "      <th>messages</th>\n",
       "    </tr>\n",
       "  </thead>\n",
       "  <tbody>\n",
       "    <tr>\n",
       "      <th>0</th>\n",
       "      <td>تواصل</td>\n",
       "      <td>public_channel</td>\n",
       "      <td>1357097719</td>\n",
       "      <td>{'id': 1567, 'type': 'message', 'date': '2022-...</td>\n",
       "    </tr>\n",
       "    <tr>\n",
       "      <th>1</th>\n",
       "      <td>تواصل</td>\n",
       "      <td>public_channel</td>\n",
       "      <td>1357097719</td>\n",
       "      <td>{'id': 1568, 'type': 'message', 'date': '2022-...</td>\n",
       "    </tr>\n",
       "    <tr>\n",
       "      <th>2</th>\n",
       "      <td>تواصل</td>\n",
       "      <td>public_channel</td>\n",
       "      <td>1357097719</td>\n",
       "      <td>{'id': 1569, 'type': 'message', 'date': '2022-...</td>\n",
       "    </tr>\n",
       "    <tr>\n",
       "      <th>3</th>\n",
       "      <td>تواصل</td>\n",
       "      <td>public_channel</td>\n",
       "      <td>1357097719</td>\n",
       "      <td>{'id': 1570, 'type': 'message', 'date': '2022-...</td>\n",
       "    </tr>\n",
       "    <tr>\n",
       "      <th>4</th>\n",
       "      <td>تواصل</td>\n",
       "      <td>public_channel</td>\n",
       "      <td>1357097719</td>\n",
       "      <td>{'id': 1571, 'type': 'message', 'date': '2022-...</td>\n",
       "    </tr>\n",
       "  </tbody>\n",
       "</table>\n",
       "</div>"
      ],
      "text/plain": [
       "    name            type          id  \\\n",
       "0  تواصل  public_channel  1357097719   \n",
       "1  تواصل  public_channel  1357097719   \n",
       "2  تواصل  public_channel  1357097719   \n",
       "3  تواصل  public_channel  1357097719   \n",
       "4  تواصل  public_channel  1357097719   \n",
       "\n",
       "                                            messages  \n",
       "0  {'id': 1567, 'type': 'message', 'date': '2022-...  \n",
       "1  {'id': 1568, 'type': 'message', 'date': '2022-...  \n",
       "2  {'id': 1569, 'type': 'message', 'date': '2022-...  \n",
       "3  {'id': 1570, 'type': 'message', 'date': '2022-...  \n",
       "4  {'id': 1571, 'type': 'message', 'date': '2022-...  "
      ]
     },
     "execution_count": 4,
     "metadata": {},
     "output_type": "execute_result"
    }
   ],
   "source": [
    "data.head()"
   ]
  },
  {
   "attachments": {},
   "cell_type": "markdown",
   "metadata": {},
   "source": [
    "as we can see, our main data is contained in the messages column, it's also embeded as json inside the column\n"
   ]
  },
  {
   "cell_type": "code",
   "execution_count": 9,
   "metadata": {},
   "outputs": [
    {
     "data": {
      "text/html": [
       "<div>\n",
       "<style scoped>\n",
       "    .dataframe tbody tr th:only-of-type {\n",
       "        vertical-align: middle;\n",
       "    }\n",
       "\n",
       "    .dataframe tbody tr th {\n",
       "        vertical-align: top;\n",
       "    }\n",
       "\n",
       "    .dataframe thead th {\n",
       "        text-align: right;\n",
       "    }\n",
       "</style>\n",
       "<table border=\"1\" class=\"dataframe\">\n",
       "  <thead>\n",
       "    <tr style=\"text-align: right;\">\n",
       "      <th></th>\n",
       "      <th>id</th>\n",
       "      <th>type</th>\n",
       "      <th>date</th>\n",
       "      <th>date_unixtime</th>\n",
       "      <th>from</th>\n",
       "      <th>from_id</th>\n",
       "      <th>photo</th>\n",
       "      <th>width</th>\n",
       "      <th>height</th>\n",
       "      <th>text</th>\n",
       "      <th>text_entities</th>\n",
       "      <th>edited</th>\n",
       "      <th>edited_unixtime</th>\n",
       "      <th>file</th>\n",
       "      <th>thumbnail</th>\n",
       "      <th>mime_type</th>\n",
       "      <th>media_type</th>\n",
       "      <th>duration_seconds</th>\n",
       "      <th>forwarded_from</th>\n",
       "    </tr>\n",
       "  </thead>\n",
       "  <tbody>\n",
       "    <tr>\n",
       "      <th>0</th>\n",
       "      <td>1567</td>\n",
       "      <td>message</td>\n",
       "      <td>2022-01-02T13:46:28</td>\n",
       "      <td>1641123988</td>\n",
       "      <td>تواصل</td>\n",
       "      <td>channel1357097719</td>\n",
       "      <td>photos/photo_1205@02-01-2022_13-46-28.jpg</td>\n",
       "      <td>800</td>\n",
       "      <td>419</td>\n",
       "      <td>[Job Title:, {'type': 'hashtag', 'text': '#sen...</td>\n",
       "      <td>[{'type': 'plain', 'text': 'Job Title:'}, {'ty...</td>\n",
       "      <td>NaN</td>\n",
       "      <td>NaN</td>\n",
       "      <td>NaN</td>\n",
       "      <td>NaN</td>\n",
       "      <td>NaN</td>\n",
       "      <td>NaN</td>\n",
       "      <td>NaN</td>\n",
       "      <td>NaN</td>\n",
       "    </tr>\n",
       "    <tr>\n",
       "      <th>1</th>\n",
       "      <td>1568</td>\n",
       "      <td>message</td>\n",
       "      <td>2022-01-03T11:09:36</td>\n",
       "      <td>1641200976</td>\n",
       "      <td>تواصل</td>\n",
       "      <td>channel1357097719</td>\n",
       "      <td>photos/photo_1206@03-01-2022_11-09-36.jpg</td>\n",
       "      <td>1110</td>\n",
       "      <td>1124</td>\n",
       "      <td>[Job Title:, {'type': 'hashtag', 'text': '#cas...</td>\n",
       "      <td>[{'type': 'plain', 'text': 'Job Title:'}, {'ty...</td>\n",
       "      <td>NaN</td>\n",
       "      <td>NaN</td>\n",
       "      <td>NaN</td>\n",
       "      <td>NaN</td>\n",
       "      <td>NaN</td>\n",
       "      <td>NaN</td>\n",
       "      <td>NaN</td>\n",
       "      <td>NaN</td>\n",
       "    </tr>\n",
       "    <tr>\n",
       "      <th>2</th>\n",
       "      <td>1569</td>\n",
       "      <td>message</td>\n",
       "      <td>2022-01-03T14:28:11</td>\n",
       "      <td>1641212891</td>\n",
       "      <td>تواصل</td>\n",
       "      <td>channel1357097719</td>\n",
       "      <td>photos/photo_1207@03-01-2022_14-28-11.jpg</td>\n",
       "      <td>1280</td>\n",
       "      <td>1267</td>\n",
       "      <td>[Company: , {'type': 'hashtag', 'text': '#Nati...</td>\n",
       "      <td>[{'type': 'plain', 'text': 'Company: '}, {'typ...</td>\n",
       "      <td>NaN</td>\n",
       "      <td>NaN</td>\n",
       "      <td>NaN</td>\n",
       "      <td>NaN</td>\n",
       "      <td>NaN</td>\n",
       "      <td>NaN</td>\n",
       "      <td>NaN</td>\n",
       "      <td>NaN</td>\n",
       "    </tr>\n",
       "    <tr>\n",
       "      <th>3</th>\n",
       "      <td>1570</td>\n",
       "      <td>message</td>\n",
       "      <td>2022-01-03T17:12:13</td>\n",
       "      <td>1641222733</td>\n",
       "      <td>تواصل</td>\n",
       "      <td>channel1357097719</td>\n",
       "      <td>photos/photo_1208@03-01-2022_17-12-13.jpg</td>\n",
       "      <td>1014</td>\n",
       "      <td>1124</td>\n",
       "      <td>[Job title: , {'type': 'hashtag', 'text': '#Em...</td>\n",
       "      <td>[{'type': 'plain', 'text': 'Job title: '}, {'t...</td>\n",
       "      <td>NaN</td>\n",
       "      <td>NaN</td>\n",
       "      <td>NaN</td>\n",
       "      <td>NaN</td>\n",
       "      <td>NaN</td>\n",
       "      <td>NaN</td>\n",
       "      <td>NaN</td>\n",
       "      <td>NaN</td>\n",
       "    </tr>\n",
       "    <tr>\n",
       "      <th>4</th>\n",
       "      <td>1571</td>\n",
       "      <td>message</td>\n",
       "      <td>2022-01-03T19:16:11</td>\n",
       "      <td>1641230171</td>\n",
       "      <td>تواصل</td>\n",
       "      <td>channel1357097719</td>\n",
       "      <td>photos/photo_1209@03-01-2022_19-16-11.jpg</td>\n",
       "      <td>1062</td>\n",
       "      <td>1125</td>\n",
       "      <td>[{'type': 'link', 'text': 'https://www.faceboo...</td>\n",
       "      <td>[{'type': 'link', 'text': 'https://www.faceboo...</td>\n",
       "      <td>NaN</td>\n",
       "      <td>NaN</td>\n",
       "      <td>NaN</td>\n",
       "      <td>NaN</td>\n",
       "      <td>NaN</td>\n",
       "      <td>NaN</td>\n",
       "      <td>NaN</td>\n",
       "      <td>NaN</td>\n",
       "    </tr>\n",
       "  </tbody>\n",
       "</table>\n",
       "</div>"
      ],
      "text/plain": [
       "     id     type                 date date_unixtime   from            from_id  \\\n",
       "0  1567  message  2022-01-02T13:46:28    1641123988  تواصل  channel1357097719   \n",
       "1  1568  message  2022-01-03T11:09:36    1641200976  تواصل  channel1357097719   \n",
       "2  1569  message  2022-01-03T14:28:11    1641212891  تواصل  channel1357097719   \n",
       "3  1570  message  2022-01-03T17:12:13    1641222733  تواصل  channel1357097719   \n",
       "4  1571  message  2022-01-03T19:16:11    1641230171  تواصل  channel1357097719   \n",
       "\n",
       "                                       photo width height  \\\n",
       "0  photos/photo_1205@02-01-2022_13-46-28.jpg   800    419   \n",
       "1  photos/photo_1206@03-01-2022_11-09-36.jpg  1110   1124   \n",
       "2  photos/photo_1207@03-01-2022_14-28-11.jpg  1280   1267   \n",
       "3  photos/photo_1208@03-01-2022_17-12-13.jpg  1014   1124   \n",
       "4  photos/photo_1209@03-01-2022_19-16-11.jpg  1062   1125   \n",
       "\n",
       "                                                text  \\\n",
       "0  [Job Title:, {'type': 'hashtag', 'text': '#sen...   \n",
       "1  [Job Title:, {'type': 'hashtag', 'text': '#cas...   \n",
       "2  [Company: , {'type': 'hashtag', 'text': '#Nati...   \n",
       "3  [Job title: , {'type': 'hashtag', 'text': '#Em...   \n",
       "4  [{'type': 'link', 'text': 'https://www.faceboo...   \n",
       "\n",
       "                                       text_entities edited edited_unixtime  \\\n",
       "0  [{'type': 'plain', 'text': 'Job Title:'}, {'ty...    NaN             NaN   \n",
       "1  [{'type': 'plain', 'text': 'Job Title:'}, {'ty...    NaN             NaN   \n",
       "2  [{'type': 'plain', 'text': 'Company: '}, {'typ...    NaN             NaN   \n",
       "3  [{'type': 'plain', 'text': 'Job title: '}, {'t...    NaN             NaN   \n",
       "4  [{'type': 'link', 'text': 'https://www.faceboo...    NaN             NaN   \n",
       "\n",
       "  file thumbnail mime_type media_type duration_seconds forwarded_from  \n",
       "0  NaN       NaN       NaN        NaN              NaN            NaN  \n",
       "1  NaN       NaN       NaN        NaN              NaN            NaN  \n",
       "2  NaN       NaN       NaN        NaN              NaN            NaN  \n",
       "3  NaN       NaN       NaN        NaN              NaN            NaN  \n",
       "4  NaN       NaN       NaN        NaN              NaN            NaN  "
      ]
     },
     "execution_count": 9,
     "metadata": {},
     "output_type": "execute_result"
    }
   ],
   "source": [
    "messages = data.messages.to_json()\n",
    "messages = pd.read_json(messages).T\n",
    "messages.head()"
   ]
  },
  {
   "cell_type": "code",
   "execution_count": 10,
   "metadata": {},
   "outputs": [
    {
     "data": {
      "text/plain": [
       "(923, 19)"
      ]
     },
     "execution_count": 10,
     "metadata": {},
     "output_type": "execute_result"
    }
   ],
   "source": [
    "messages.shape"
   ]
  },
  {
   "cell_type": "code",
   "execution_count": 11,
   "metadata": {},
   "outputs": [
    {
     "name": "stdout",
     "output_type": "stream",
     "text": [
      "<class 'pandas.core.frame.DataFrame'>\n",
      "Int64Index: 923 entries, 0 to 922\n",
      "Data columns (total 19 columns):\n",
      " #   Column            Non-Null Count  Dtype \n",
      "---  ------            --------------  ----- \n",
      " 0   id                923 non-null    object\n",
      " 1   type              923 non-null    object\n",
      " 2   date              923 non-null    object\n",
      " 3   date_unixtime     923 non-null    object\n",
      " 4   from              923 non-null    object\n",
      " 5   from_id           923 non-null    object\n",
      " 6   photo             726 non-null    object\n",
      " 7   width             758 non-null    object\n",
      " 8   height            758 non-null    object\n",
      " 9   text              923 non-null    object\n",
      " 10  text_entities     923 non-null    object\n",
      " 11  edited            131 non-null    object\n",
      " 12  edited_unixtime   131 non-null    object\n",
      " 13  file              32 non-null     object\n",
      " 14  thumbnail         32 non-null     object\n",
      " 15  mime_type         32 non-null     object\n",
      " 16  media_type        1 non-null      object\n",
      " 17  duration_seconds  1 non-null      object\n",
      " 18  forwarded_from    4 non-null      object\n",
      "dtypes: object(19)\n",
      "memory usage: 176.5+ KB\n"
     ]
    }
   ],
   "source": [
    "messages.info()"
   ]
  },
  {
   "cell_type": "code",
   "execution_count": 13,
   "metadata": {},
   "outputs": [
    {
     "data": {
      "text/html": [
       "<div>\n",
       "<style scoped>\n",
       "    .dataframe tbody tr th:only-of-type {\n",
       "        vertical-align: middle;\n",
       "    }\n",
       "\n",
       "    .dataframe tbody tr th {\n",
       "        vertical-align: top;\n",
       "    }\n",
       "\n",
       "    .dataframe thead th {\n",
       "        text-align: right;\n",
       "    }\n",
       "</style>\n",
       "<table border=\"1\" class=\"dataframe\">\n",
       "  <thead>\n",
       "    <tr style=\"text-align: right;\">\n",
       "      <th></th>\n",
       "      <th>id</th>\n",
       "      <th>type</th>\n",
       "      <th>date</th>\n",
       "      <th>date_unixtime</th>\n",
       "      <th>from</th>\n",
       "      <th>from_id</th>\n",
       "      <th>photo</th>\n",
       "      <th>width</th>\n",
       "      <th>height</th>\n",
       "      <th>text</th>\n",
       "      <th>text_entities</th>\n",
       "      <th>edited</th>\n",
       "      <th>edited_unixtime</th>\n",
       "      <th>file</th>\n",
       "      <th>thumbnail</th>\n",
       "      <th>mime_type</th>\n",
       "      <th>media_type</th>\n",
       "      <th>duration_seconds</th>\n",
       "      <th>forwarded_from</th>\n",
       "    </tr>\n",
       "  </thead>\n",
       "  <tbody>\n",
       "    <tr>\n",
       "      <th>count</th>\n",
       "      <td>923</td>\n",
       "      <td>923</td>\n",
       "      <td>923</td>\n",
       "      <td>923</td>\n",
       "      <td>923</td>\n",
       "      <td>923</td>\n",
       "      <td>726</td>\n",
       "      <td>758</td>\n",
       "      <td>758</td>\n",
       "      <td>923</td>\n",
       "      <td>923</td>\n",
       "      <td>131</td>\n",
       "      <td>131</td>\n",
       "      <td>32</td>\n",
       "      <td>32</td>\n",
       "      <td>32</td>\n",
       "      <td>1</td>\n",
       "      <td>1</td>\n",
       "      <td>4</td>\n",
       "    </tr>\n",
       "    <tr>\n",
       "      <th>unique</th>\n",
       "      <td>923</td>\n",
       "      <td>1</td>\n",
       "      <td>892</td>\n",
       "      <td>892</td>\n",
       "      <td>1</td>\n",
       "      <td>1</td>\n",
       "      <td>692</td>\n",
       "      <td>201</td>\n",
       "      <td>195</td>\n",
       "      <td>683</td>\n",
       "      <td>683</td>\n",
       "      <td>131</td>\n",
       "      <td>131</td>\n",
       "      <td>1</td>\n",
       "      <td>1</td>\n",
       "      <td>3</td>\n",
       "      <td>1</td>\n",
       "      <td>1</td>\n",
       "      <td>1</td>\n",
       "    </tr>\n",
       "    <tr>\n",
       "      <th>top</th>\n",
       "      <td>1567</td>\n",
       "      <td>message</td>\n",
       "      <td>2022-11-16T11:40:21</td>\n",
       "      <td>1668591621</td>\n",
       "      <td>تواصل</td>\n",
       "      <td>channel1357097719</td>\n",
       "      <td>photos/photo_1649@23-07-2022_16-18-54.jpg</td>\n",
       "      <td>720</td>\n",
       "      <td>1280</td>\n",
       "      <td></td>\n",
       "      <td>[]</td>\n",
       "      <td>2022-01-11T16:38:33</td>\n",
       "      <td>1641911913</td>\n",
       "      <td>(File not included. Change data exporting sett...</td>\n",
       "      <td>(File not included. Change data exporting sett...</td>\n",
       "      <td>image/jpeg</td>\n",
       "      <td>video_file</td>\n",
       "      <td>8</td>\n",
       "      <td>تواصل</td>\n",
       "    </tr>\n",
       "    <tr>\n",
       "      <th>freq</th>\n",
       "      <td>1</td>\n",
       "      <td>923</td>\n",
       "      <td>8</td>\n",
       "      <td>8</td>\n",
       "      <td>923</td>\n",
       "      <td>923</td>\n",
       "      <td>4</td>\n",
       "      <td>134</td>\n",
       "      <td>166</td>\n",
       "      <td>169</td>\n",
       "      <td>169</td>\n",
       "      <td>1</td>\n",
       "      <td>1</td>\n",
       "      <td>32</td>\n",
       "      <td>32</td>\n",
       "      <td>28</td>\n",
       "      <td>1</td>\n",
       "      <td>1</td>\n",
       "      <td>4</td>\n",
       "    </tr>\n",
       "  </tbody>\n",
       "</table>\n",
       "</div>"
      ],
      "text/plain": [
       "          id     type                 date date_unixtime   from  \\\n",
       "count    923      923                  923           923    923   \n",
       "unique   923        1                  892           892      1   \n",
       "top     1567  message  2022-11-16T11:40:21    1668591621  تواصل   \n",
       "freq       1      923                    8             8    923   \n",
       "\n",
       "                  from_id                                      photo  width  \\\n",
       "count                 923                                        726    758   \n",
       "unique                  1                                        692    201   \n",
       "top     channel1357097719  photos/photo_1649@23-07-2022_16-18-54.jpg    720   \n",
       "freq                  923                                          4    134   \n",
       "\n",
       "        height text text_entities               edited edited_unixtime  \\\n",
       "count      758  923           923                  131             131   \n",
       "unique     195  683           683                  131             131   \n",
       "top       1280                 []  2022-01-11T16:38:33      1641911913   \n",
       "freq       166  169           169                    1               1   \n",
       "\n",
       "                                                     file  \\\n",
       "count                                                  32   \n",
       "unique                                                  1   \n",
       "top     (File not included. Change data exporting sett...   \n",
       "freq                                                   32   \n",
       "\n",
       "                                                thumbnail   mime_type  \\\n",
       "count                                                  32          32   \n",
       "unique                                                  1           3   \n",
       "top     (File not included. Change data exporting sett...  image/jpeg   \n",
       "freq                                                   32          28   \n",
       "\n",
       "        media_type  duration_seconds forwarded_from  \n",
       "count            1                 1              4  \n",
       "unique           1                 1              1  \n",
       "top     video_file                 8          تواصل  \n",
       "freq             1                 1              4  "
      ]
     },
     "execution_count": 13,
     "metadata": {},
     "output_type": "execute_result"
    }
   ],
   "source": [
    "messages.describe(include='O')"
   ]
  },
  {
   "attachments": {},
   "cell_type": "markdown",
   "metadata": {},
   "source": [
    "### Initial Data Cleaning"
   ]
  },
  {
   "cell_type": "code",
   "execution_count": 19,
   "metadata": {},
   "outputs": [
    {
     "data": {
      "text/plain": [
       "array(['message'], dtype=object)"
      ]
     },
     "execution_count": 19,
     "metadata": {},
     "output_type": "execute_result"
    }
   ],
   "source": [
    "messages.type.unique()"
   ]
  },
  {
   "cell_type": "code",
   "execution_count": 17,
   "metadata": {},
   "outputs": [
    {
     "data": {
      "text/plain": [
       "array(['تواصل'], dtype=object)"
      ]
     },
     "execution_count": 17,
     "metadata": {},
     "output_type": "execute_result"
    }
   ],
   "source": [
    "messages['from'].unique()"
   ]
  },
  {
   "cell_type": "code",
   "execution_count": 18,
   "metadata": {},
   "outputs": [
    {
     "data": {
      "text/plain": [
       "array(['channel1357097719'], dtype=object)"
      ]
     },
     "execution_count": 18,
     "metadata": {},
     "output_type": "execute_result"
    }
   ],
   "source": [
    "messages['from_id'].unique()"
   ]
  },
  {
   "attachments": {},
   "cell_type": "markdown",
   "metadata": {},
   "source": [
    "the following columns: *type*, *from*, *from_id* have only one value each, <br>\n",
    "that make sense, as the data was extracted from a public channel and only admin can send messages, so *from* and *from_id* values will always be the same.<br>\n",
    "these columns are not useful for our analysis so we will drop them."
   ]
  },
  {
   "cell_type": "code",
   "execution_count": 20,
   "metadata": {},
   "outputs": [],
   "source": [
    "messages.drop(columns=['type' , 'from' , 'from_id'] , inplace=True)"
   ]
  },
  {
   "attachments": {},
   "cell_type": "markdown",
   "metadata": {},
   "source": [
    "### Creating new Column\n",
    "create a **raw_text** column that contains the message text as a raw string"
   ]
  },
  {
   "cell_type": "code",
   "execution_count": 27,
   "metadata": {},
   "outputs": [],
   "source": [
    "def convert_to_raw_text(text_entities):\n",
    "    raw_text = \"\"\n",
    "    for item in text_entities:\n",
    "        raw_text += item[\"text\"]\n",
    "    return raw_text"
   ]
  },
  {
   "cell_type": "code",
   "execution_count": 28,
   "metadata": {},
   "outputs": [],
   "source": [
    "raw_text_messages = messages.text_entities.apply(convert_to_raw_text)"
   ]
  },
  {
   "cell_type": "code",
   "execution_count": 157,
   "metadata": {},
   "outputs": [
    {
     "data": {
      "text/plain": [
       "0      Job Title:#senior and a junior #developer\\n \\n...\n",
       "1      Job Title:#cashier\\nJob Type: #full_time\\n \\nش...\n",
       "2      Company: #National_Technology_Group #NTG)\\nJob...\n",
       "3      Job title: #Employees for Operations Departmen...\n",
       "4      https://www.facebook.com/384708578676644/posts...\n",
       "                             ...                        \n",
       "918                                                     \n",
       "919    🎲 Company: #kasroad\\nJob Title:#UI/UX Designer...\n",
       "920    🎲 Company: #kasroad\\nJob Title: #PHP backend d...\n",
       "921    🎲 Company: #kasroad\\nJob Title: #frontend Deve...\n",
       "922    📊Job Title: #Social media specialist\\nJob loca...\n",
       "Name: text_entities, Length: 923, dtype: object"
      ]
     },
     "execution_count": 157,
     "metadata": {},
     "output_type": "execute_result"
    }
   ],
   "source": [
    "raw_text_messages"
   ]
  },
  {
   "cell_type": "code",
   "execution_count": 30,
   "metadata": {},
   "outputs": [],
   "source": [
    "messages[\"raw_text\"] = raw_text_messages"
   ]
  },
  {
   "cell_type": "code",
   "execution_count": 61,
   "metadata": {},
   "outputs": [
    {
     "name": "stdout",
     "output_type": "stream",
     "text": [
      "['💎 Job Title: #JAVA Programmer & #PHP programmer ', 'Job Type: #Full_Time', 'Job location: #Damascus', 'مهندس مبرمج (PHP) + مهندس مبرمج (JAVA)', '⛳️مهندس مبرمج (PHP) ', 'خبرة لا تقل عن ثلاث سنوات متمرس في: ', 'API + SQL SERVER + MYSQL ', '', '⛳️مهندس مبرمج (JAVA) ذو خبرة جيدة:', 'Spring FrameWork ', '✔️Javascript ', '✔️MySQL ', '✔️Good Knowledge of English ', '✔️Mongo DB ', 'Send CV to:', 'job@e-sdra.com', '#تواصل #فرص #عمل', '#job #Tawasol #Tawasol_Job #Engineer', '#jobseekers #jobseeker #interview #covid #education #recruiter #jobsearching #engineer #hiringnow  #VacancyNews']\n"
     ]
    }
   ],
   "source": [
    "# Looking at a random text from messages\n",
    "print(raw_text_messages[np.random.randint(0,len(raw_text_messages)-1)].split('\\n'))"
   ]
  },
  {
   "cell_type": "code",
   "execution_count": 58,
   "metadata": {},
   "outputs": [
    {
     "data": {
      "text/html": [
       "<div>\n",
       "<style scoped>\n",
       "    .dataframe tbody tr th:only-of-type {\n",
       "        vertical-align: middle;\n",
       "    }\n",
       "\n",
       "    .dataframe tbody tr th {\n",
       "        vertical-align: top;\n",
       "    }\n",
       "\n",
       "    .dataframe thead th {\n",
       "        text-align: right;\n",
       "    }\n",
       "</style>\n",
       "<table border=\"1\" class=\"dataframe\">\n",
       "  <thead>\n",
       "    <tr style=\"text-align: right;\">\n",
       "      <th></th>\n",
       "      <th>id</th>\n",
       "      <th>date</th>\n",
       "      <th>date_unixtime</th>\n",
       "      <th>photo</th>\n",
       "      <th>width</th>\n",
       "      <th>height</th>\n",
       "      <th>text</th>\n",
       "      <th>text_entities</th>\n",
       "      <th>edited</th>\n",
       "      <th>edited_unixtime</th>\n",
       "      <th>file</th>\n",
       "      <th>thumbnail</th>\n",
       "      <th>mime_type</th>\n",
       "      <th>media_type</th>\n",
       "      <th>duration_seconds</th>\n",
       "      <th>forwarded_from</th>\n",
       "      <th>raw_text</th>\n",
       "    </tr>\n",
       "  </thead>\n",
       "  <tbody>\n",
       "    <tr>\n",
       "      <th>464</th>\n",
       "      <td>2035</td>\n",
       "      <td>2022-07-27T18:25:45</td>\n",
       "      <td>1658935545</td>\n",
       "      <td>photos/photo_1662@27-07-2022_18-25-45.jpg</td>\n",
       "      <td>720</td>\n",
       "      <td>754</td>\n",
       "      <td></td>\n",
       "      <td>[]</td>\n",
       "      <td>NaN</td>\n",
       "      <td>NaN</td>\n",
       "      <td>NaN</td>\n",
       "      <td>NaN</td>\n",
       "      <td>NaN</td>\n",
       "      <td>NaN</td>\n",
       "      <td>NaN</td>\n",
       "      <td>NaN</td>\n",
       "      <td></td>\n",
       "    </tr>\n",
       "    <tr>\n",
       "      <th>467</th>\n",
       "      <td>2038</td>\n",
       "      <td>2022-07-28T13:17:15</td>\n",
       "      <td>1659003435</td>\n",
       "      <td>photos/photo_1664@28-07-2022_13-17-15.jpg</td>\n",
       "      <td>798</td>\n",
       "      <td>999</td>\n",
       "      <td></td>\n",
       "      <td>[]</td>\n",
       "      <td>NaN</td>\n",
       "      <td>NaN</td>\n",
       "      <td>NaN</td>\n",
       "      <td>NaN</td>\n",
       "      <td>NaN</td>\n",
       "      <td>NaN</td>\n",
       "      <td>NaN</td>\n",
       "      <td>NaN</td>\n",
       "      <td></td>\n",
       "    </tr>\n",
       "    <tr>\n",
       "      <th>469</th>\n",
       "      <td>2040</td>\n",
       "      <td>2022-07-28T15:13:50</td>\n",
       "      <td>1659010430</td>\n",
       "      <td>photos/photo_1665@28-07-2022_15-13-50.jpg</td>\n",
       "      <td>785</td>\n",
       "      <td>955</td>\n",
       "      <td></td>\n",
       "      <td>[]</td>\n",
       "      <td>NaN</td>\n",
       "      <td>NaN</td>\n",
       "      <td>NaN</td>\n",
       "      <td>NaN</td>\n",
       "      <td>NaN</td>\n",
       "      <td>NaN</td>\n",
       "      <td>NaN</td>\n",
       "      <td>NaN</td>\n",
       "      <td></td>\n",
       "    </tr>\n",
       "    <tr>\n",
       "      <th>471</th>\n",
       "      <td>2042</td>\n",
       "      <td>2022-07-30T18:09:13</td>\n",
       "      <td>1659193753</td>\n",
       "      <td>photos/photo_1666@30-07-2022_18-09-13.jpg</td>\n",
       "      <td>905</td>\n",
       "      <td>1280</td>\n",
       "      <td></td>\n",
       "      <td>[]</td>\n",
       "      <td>NaN</td>\n",
       "      <td>NaN</td>\n",
       "      <td>NaN</td>\n",
       "      <td>NaN</td>\n",
       "      <td>NaN</td>\n",
       "      <td>NaN</td>\n",
       "      <td>NaN</td>\n",
       "      <td>NaN</td>\n",
       "      <td></td>\n",
       "    </tr>\n",
       "    <tr>\n",
       "      <th>474</th>\n",
       "      <td>2045</td>\n",
       "      <td>2022-07-31T20:53:46</td>\n",
       "      <td>1659290026</td>\n",
       "      <td>photos/photo_1667@31-07-2022_20-53-46.jpg</td>\n",
       "      <td>1080</td>\n",
       "      <td>970</td>\n",
       "      <td></td>\n",
       "      <td>[]</td>\n",
       "      <td>NaN</td>\n",
       "      <td>NaN</td>\n",
       "      <td>NaN</td>\n",
       "      <td>NaN</td>\n",
       "      <td>NaN</td>\n",
       "      <td>NaN</td>\n",
       "      <td>NaN</td>\n",
       "      <td>NaN</td>\n",
       "      <td></td>\n",
       "    </tr>\n",
       "    <tr>\n",
       "      <th>...</th>\n",
       "      <td>...</td>\n",
       "      <td>...</td>\n",
       "      <td>...</td>\n",
       "      <td>...</td>\n",
       "      <td>...</td>\n",
       "      <td>...</td>\n",
       "      <td>...</td>\n",
       "      <td>...</td>\n",
       "      <td>...</td>\n",
       "      <td>...</td>\n",
       "      <td>...</td>\n",
       "      <td>...</td>\n",
       "      <td>...</td>\n",
       "      <td>...</td>\n",
       "      <td>...</td>\n",
       "      <td>...</td>\n",
       "      <td>...</td>\n",
       "    </tr>\n",
       "    <tr>\n",
       "      <th>903</th>\n",
       "      <td>2486</td>\n",
       "      <td>2023-01-05T09:04:40</td>\n",
       "      <td>1672902280</td>\n",
       "      <td>photos/photo_1918@05-01-2023_09-04-40.jpg</td>\n",
       "      <td>1040</td>\n",
       "      <td>1125</td>\n",
       "      <td></td>\n",
       "      <td>[]</td>\n",
       "      <td>NaN</td>\n",
       "      <td>NaN</td>\n",
       "      <td>NaN</td>\n",
       "      <td>NaN</td>\n",
       "      <td>NaN</td>\n",
       "      <td>NaN</td>\n",
       "      <td>NaN</td>\n",
       "      <td>NaN</td>\n",
       "      <td></td>\n",
       "    </tr>\n",
       "    <tr>\n",
       "      <th>905</th>\n",
       "      <td>2489</td>\n",
       "      <td>2023-01-05T10:31:04</td>\n",
       "      <td>1672907464</td>\n",
       "      <td>photos/photo_1919@05-01-2023_10-31-04.jpg</td>\n",
       "      <td>1156</td>\n",
       "      <td>1280</td>\n",
       "      <td></td>\n",
       "      <td>[]</td>\n",
       "      <td>NaN</td>\n",
       "      <td>NaN</td>\n",
       "      <td>NaN</td>\n",
       "      <td>NaN</td>\n",
       "      <td>NaN</td>\n",
       "      <td>NaN</td>\n",
       "      <td>NaN</td>\n",
       "      <td>NaN</td>\n",
       "      <td></td>\n",
       "    </tr>\n",
       "    <tr>\n",
       "      <th>907</th>\n",
       "      <td>2491</td>\n",
       "      <td>2023-01-05T13:09:18</td>\n",
       "      <td>1672916958</td>\n",
       "      <td>photos/photo_1920@05-01-2023_13-09-18.jpg</td>\n",
       "      <td>1069</td>\n",
       "      <td>1280</td>\n",
       "      <td></td>\n",
       "      <td>[]</td>\n",
       "      <td>NaN</td>\n",
       "      <td>NaN</td>\n",
       "      <td>NaN</td>\n",
       "      <td>NaN</td>\n",
       "      <td>NaN</td>\n",
       "      <td>NaN</td>\n",
       "      <td>NaN</td>\n",
       "      <td>NaN</td>\n",
       "      <td></td>\n",
       "    </tr>\n",
       "    <tr>\n",
       "      <th>912</th>\n",
       "      <td>2496</td>\n",
       "      <td>2023-01-07T17:20:47</td>\n",
       "      <td>1673104847</td>\n",
       "      <td>photos/photo_1923@07-01-2023_17-20-47.jpg</td>\n",
       "      <td>1280</td>\n",
       "      <td>1113</td>\n",
       "      <td></td>\n",
       "      <td>[]</td>\n",
       "      <td>NaN</td>\n",
       "      <td>NaN</td>\n",
       "      <td>NaN</td>\n",
       "      <td>NaN</td>\n",
       "      <td>NaN</td>\n",
       "      <td>NaN</td>\n",
       "      <td>NaN</td>\n",
       "      <td>NaN</td>\n",
       "      <td></td>\n",
       "    </tr>\n",
       "    <tr>\n",
       "      <th>918</th>\n",
       "      <td>2502</td>\n",
       "      <td>2023-01-08T09:37:53</td>\n",
       "      <td>1673163473</td>\n",
       "      <td>photos/photo_1926@08-01-2023_09-37-53.jpg</td>\n",
       "      <td>1280</td>\n",
       "      <td>941</td>\n",
       "      <td></td>\n",
       "      <td>[]</td>\n",
       "      <td>2023-01-08T10:42:41</td>\n",
       "      <td>1673167361</td>\n",
       "      <td>NaN</td>\n",
       "      <td>NaN</td>\n",
       "      <td>NaN</td>\n",
       "      <td>NaN</td>\n",
       "      <td>NaN</td>\n",
       "      <td>NaN</td>\n",
       "      <td></td>\n",
       "    </tr>\n",
       "  </tbody>\n",
       "</table>\n",
       "<p>169 rows × 17 columns</p>\n",
       "</div>"
      ],
      "text/plain": [
       "       id                 date date_unixtime  \\\n",
       "464  2035  2022-07-27T18:25:45    1658935545   \n",
       "467  2038  2022-07-28T13:17:15    1659003435   \n",
       "469  2040  2022-07-28T15:13:50    1659010430   \n",
       "471  2042  2022-07-30T18:09:13    1659193753   \n",
       "474  2045  2022-07-31T20:53:46    1659290026   \n",
       "..    ...                  ...           ...   \n",
       "903  2486  2023-01-05T09:04:40    1672902280   \n",
       "905  2489  2023-01-05T10:31:04    1672907464   \n",
       "907  2491  2023-01-05T13:09:18    1672916958   \n",
       "912  2496  2023-01-07T17:20:47    1673104847   \n",
       "918  2502  2023-01-08T09:37:53    1673163473   \n",
       "\n",
       "                                         photo width height text  \\\n",
       "464  photos/photo_1662@27-07-2022_18-25-45.jpg   720    754        \n",
       "467  photos/photo_1664@28-07-2022_13-17-15.jpg   798    999        \n",
       "469  photos/photo_1665@28-07-2022_15-13-50.jpg   785    955        \n",
       "471  photos/photo_1666@30-07-2022_18-09-13.jpg   905   1280        \n",
       "474  photos/photo_1667@31-07-2022_20-53-46.jpg  1080    970        \n",
       "..                                         ...   ...    ...  ...   \n",
       "903  photos/photo_1918@05-01-2023_09-04-40.jpg  1040   1125        \n",
       "905  photos/photo_1919@05-01-2023_10-31-04.jpg  1156   1280        \n",
       "907  photos/photo_1920@05-01-2023_13-09-18.jpg  1069   1280        \n",
       "912  photos/photo_1923@07-01-2023_17-20-47.jpg  1280   1113        \n",
       "918  photos/photo_1926@08-01-2023_09-37-53.jpg  1280    941        \n",
       "\n",
       "    text_entities               edited edited_unixtime file thumbnail  \\\n",
       "464            []                  NaN             NaN  NaN       NaN   \n",
       "467            []                  NaN             NaN  NaN       NaN   \n",
       "469            []                  NaN             NaN  NaN       NaN   \n",
       "471            []                  NaN             NaN  NaN       NaN   \n",
       "474            []                  NaN             NaN  NaN       NaN   \n",
       "..            ...                  ...             ...  ...       ...   \n",
       "903            []                  NaN             NaN  NaN       NaN   \n",
       "905            []                  NaN             NaN  NaN       NaN   \n",
       "907            []                  NaN             NaN  NaN       NaN   \n",
       "912            []                  NaN             NaN  NaN       NaN   \n",
       "918            []  2023-01-08T10:42:41      1673167361  NaN       NaN   \n",
       "\n",
       "    mime_type media_type duration_seconds forwarded_from raw_text  \n",
       "464       NaN        NaN              NaN            NaN           \n",
       "467       NaN        NaN              NaN            NaN           \n",
       "469       NaN        NaN              NaN            NaN           \n",
       "471       NaN        NaN              NaN            NaN           \n",
       "474       NaN        NaN              NaN            NaN           \n",
       "..        ...        ...              ...            ...      ...  \n",
       "903       NaN        NaN              NaN            NaN           \n",
       "905       NaN        NaN              NaN            NaN           \n",
       "907       NaN        NaN              NaN            NaN           \n",
       "912       NaN        NaN              NaN            NaN           \n",
       "918       NaN        NaN              NaN            NaN           \n",
       "\n",
       "[169 rows x 17 columns]"
      ]
     },
     "execution_count": 58,
     "metadata": {},
     "output_type": "execute_result"
    }
   ],
   "source": [
    "messages.loc[messages.text == '']"
   ]
  },
  {
   "cell_type": "code",
   "execution_count": 59,
   "metadata": {},
   "outputs": [],
   "source": [
    "messages.to_csv(\"../data/messages.csv\" , index=False)"
   ]
  },
  {
   "attachments": {},
   "cell_type": "markdown",
   "metadata": {},
   "source": [
    "## Seperating Job Post messages and others\n",
    "\n",
    "messages do not always contain a job post info, it may contain an image only, or a link, or it may be empty"
   ]
  },
  {
   "attachments": {},
   "cell_type": "markdown",
   "metadata": {},
   "source": [
    "we will assume the following:\n",
    "- if a message contain any of the following keywords *job title* *company* *job type* *job location* then it's a job post\n",
    "- otherwise, we will assume (just for now) that this message is a non-job post message"
   ]
  },
  {
   "cell_type": "code",
   "execution_count": 185,
   "metadata": {},
   "outputs": [],
   "source": [
    "messages = pd.read_csv(\"../data/messages.csv\")\n",
    "messages.raw_text.fillna('', inplace=True)\n",
    "messages[\"date\"] = pd.to_datetime(messages[\"date\"])"
   ]
  },
  {
   "cell_type": "code",
   "execution_count": 187,
   "metadata": {},
   "outputs": [],
   "source": [
    "# keep only job posts that was published between 1-1-2022 and 31-1-2023\n",
    "messages = messages.loc[(messages.date < '2023-01-01') & (messages.date >= '2022-01-01') ]"
   ]
  },
  {
   "cell_type": "code",
   "execution_count": 209,
   "metadata": {},
   "outputs": [],
   "source": [
    "eng_keywords = ['job title' , 'job location' , 'job type' , 'company', 'job_title', 'title']\n",
    "arabic_keywords = ['فرصة_تدريب','فرصة_توظيف' , 'فرصة_عمل']\n",
    "job_post_keywords = eng_keywords + arabic_keywords\n",
    "\n",
    "job_post = messages.raw_text.apply(lambda text: True if any(x in text.lower() for x in job_post_keywords) else False)"
   ]
  },
  {
   "cell_type": "code",
   "execution_count": 210,
   "metadata": {},
   "outputs": [
    {
     "data": {
      "text/plain": [
       "(535, 59.97757847533632)"
      ]
     },
     "execution_count": 210,
     "metadata": {},
     "output_type": "execute_result"
    }
   ],
   "source": [
    "job_post.sum() , job_post.sum()/messages.shape[0]*100"
   ]
  },
  {
   "attachments": {},
   "cell_type": "markdown",
   "metadata": {},
   "source": [
    "535 (59%) of messages contains previous keywords <br>\n",
    "let's investigate other messages"
   ]
  },
  {
   "attachments": {},
   "cell_type": "markdown",
   "metadata": {},
   "source": [
    "let's gradually build our job posts"
   ]
  },
  {
   "cell_type": "code",
   "execution_count": 211,
   "metadata": {},
   "outputs": [],
   "source": [
    "non_job_posts = ~job_post\n",
    "non_job_posts.sum()"
   ]
  },
  {
   "cell_type": "code",
   "execution_count": 213,
   "metadata": {},
   "outputs": [
    {
     "data": {
      "text/plain": [
       "160"
      ]
     },
     "execution_count": 213,
     "metadata": {},
     "output_type": "execute_result"
    }
   ],
   "source": [
    "empty_message = (messages.raw_text == '')\n",
    "empty_message.sum()"
   ]
  },
  {
   "cell_type": "code",
   "execution_count": 215,
   "metadata": {},
   "outputs": [
    {
     "data": {
      "text/plain": [
       "164"
      ]
     },
     "execution_count": 215,
     "metadata": {},
     "output_type": "execute_result"
    }
   ],
   "source": [
    "url_regex = r\"(?i)\\b((?:https?://|www\\d{0,3}[.]|[a-z0-9.\\-]+[.][a-z]{2,4}/)(?:[^\\s()<>]+|\\(([^\\s()<>]+|(\\([^\\s()<>]+\\)))*\\))+(?:\\(([^\\s()<>]+|(\\([^\\s()<>]+\\)))*\\)|[^\\s`!()\\[\\]{};:'\\\".,<>?«»“”‘’]))\"\n",
    "only_links = messages.raw_text.apply(lambda text: True if re.match(url_regex, text) else False)\n",
    "only_links.sum()"
   ]
  },
  {
   "cell_type": "code",
   "execution_count": 223,
   "metadata": {},
   "outputs": [],
   "source": [
    "messages['type'] = np.nan\n",
    "messages.loc[job_post , 'type'] = 'job_post'\n",
    "messages.loc[empty_message , 'type'] = 'empty'\n",
    "messages.loc[only_links , 'type'] = 'link'\n",
    "messages['type'].fillna(\"others\" ,inplace=True )\n"
   ]
  },
  {
   "cell_type": "code",
   "execution_count": 224,
   "metadata": {},
   "outputs": [
    {
     "data": {
      "text/plain": [
       "job_post    535\n",
       "link        164\n",
       "empty       160\n",
       "others       33\n",
       "Name: type, dtype: int64"
      ]
     },
     "execution_count": 224,
     "metadata": {},
     "output_type": "execute_result"
    }
   ],
   "source": [
    "messages['type'].value_counts()"
   ]
  },
  {
   "cell_type": "code",
   "execution_count": 225,
   "metadata": {},
   "outputs": [
    {
     "data": {
      "text/html": [
       "<div>\n",
       "<style scoped>\n",
       "    .dataframe tbody tr th:only-of-type {\n",
       "        vertical-align: middle;\n",
       "    }\n",
       "\n",
       "    .dataframe tbody tr th {\n",
       "        vertical-align: top;\n",
       "    }\n",
       "\n",
       "    .dataframe thead th {\n",
       "        text-align: right;\n",
       "    }\n",
       "</style>\n",
       "<table border=\"1\" class=\"dataframe\">\n",
       "  <thead>\n",
       "    <tr style=\"text-align: right;\">\n",
       "      <th></th>\n",
       "      <th>id</th>\n",
       "      <th>date</th>\n",
       "      <th>date_unixtime</th>\n",
       "      <th>photo</th>\n",
       "      <th>width</th>\n",
       "      <th>height</th>\n",
       "      <th>text</th>\n",
       "      <th>text_entities</th>\n",
       "      <th>edited</th>\n",
       "      <th>edited_unixtime</th>\n",
       "      <th>file</th>\n",
       "      <th>thumbnail</th>\n",
       "      <th>mime_type</th>\n",
       "      <th>media_type</th>\n",
       "      <th>duration_seconds</th>\n",
       "      <th>forwarded_from</th>\n",
       "      <th>raw_text</th>\n",
       "      <th>type</th>\n",
       "    </tr>\n",
       "  </thead>\n",
       "  <tbody>\n",
       "    <tr>\n",
       "      <th>0</th>\n",
       "      <td>1567</td>\n",
       "      <td>2022-01-02 13:46:28</td>\n",
       "      <td>1641123988</td>\n",
       "      <td>photos/photo_1205@02-01-2022_13-46-28.jpg</td>\n",
       "      <td>800.0</td>\n",
       "      <td>419.0</td>\n",
       "      <td>['Job Title:', {'type': 'hashtag', 'text': '#s...</td>\n",
       "      <td>[{'type': 'plain', 'text': 'Job Title:'}, {'ty...</td>\n",
       "      <td>NaN</td>\n",
       "      <td>NaN</td>\n",
       "      <td>NaN</td>\n",
       "      <td>NaN</td>\n",
       "      <td>NaN</td>\n",
       "      <td>NaN</td>\n",
       "      <td>NaN</td>\n",
       "      <td>NaN</td>\n",
       "      <td>Job Title:#senior and a junior #developer\\n \\n...</td>\n",
       "      <td>job_post</td>\n",
       "    </tr>\n",
       "    <tr>\n",
       "      <th>1</th>\n",
       "      <td>1568</td>\n",
       "      <td>2022-01-03 11:09:36</td>\n",
       "      <td>1641200976</td>\n",
       "      <td>photos/photo_1206@03-01-2022_11-09-36.jpg</td>\n",
       "      <td>1110.0</td>\n",
       "      <td>1124.0</td>\n",
       "      <td>['Job Title:', {'type': 'hashtag', 'text': '#c...</td>\n",
       "      <td>[{'type': 'plain', 'text': 'Job Title:'}, {'ty...</td>\n",
       "      <td>NaN</td>\n",
       "      <td>NaN</td>\n",
       "      <td>NaN</td>\n",
       "      <td>NaN</td>\n",
       "      <td>NaN</td>\n",
       "      <td>NaN</td>\n",
       "      <td>NaN</td>\n",
       "      <td>NaN</td>\n",
       "      <td>Job Title:#cashier\\nJob Type: #full_time\\n \\nش...</td>\n",
       "      <td>job_post</td>\n",
       "    </tr>\n",
       "    <tr>\n",
       "      <th>2</th>\n",
       "      <td>1569</td>\n",
       "      <td>2022-01-03 14:28:11</td>\n",
       "      <td>1641212891</td>\n",
       "      <td>photos/photo_1207@03-01-2022_14-28-11.jpg</td>\n",
       "      <td>1280.0</td>\n",
       "      <td>1267.0</td>\n",
       "      <td>['Company: ', {'type': 'hashtag', 'text': '#Na...</td>\n",
       "      <td>[{'type': 'plain', 'text': 'Company: '}, {'typ...</td>\n",
       "      <td>NaN</td>\n",
       "      <td>NaN</td>\n",
       "      <td>NaN</td>\n",
       "      <td>NaN</td>\n",
       "      <td>NaN</td>\n",
       "      <td>NaN</td>\n",
       "      <td>NaN</td>\n",
       "      <td>NaN</td>\n",
       "      <td>Company: #National_Technology_Group #NTG)\\nJob...</td>\n",
       "      <td>job_post</td>\n",
       "    </tr>\n",
       "    <tr>\n",
       "      <th>3</th>\n",
       "      <td>1570</td>\n",
       "      <td>2022-01-03 17:12:13</td>\n",
       "      <td>1641222733</td>\n",
       "      <td>photos/photo_1208@03-01-2022_17-12-13.jpg</td>\n",
       "      <td>1014.0</td>\n",
       "      <td>1124.0</td>\n",
       "      <td>['Job title: ', {'type': 'hashtag', 'text': '#...</td>\n",
       "      <td>[{'type': 'plain', 'text': 'Job title: '}, {'t...</td>\n",
       "      <td>NaN</td>\n",
       "      <td>NaN</td>\n",
       "      <td>NaN</td>\n",
       "      <td>NaN</td>\n",
       "      <td>NaN</td>\n",
       "      <td>NaN</td>\n",
       "      <td>NaN</td>\n",
       "      <td>NaN</td>\n",
       "      <td>Job title: #Employees for Operations Departmen...</td>\n",
       "      <td>job_post</td>\n",
       "    </tr>\n",
       "    <tr>\n",
       "      <th>4</th>\n",
       "      <td>1571</td>\n",
       "      <td>2022-01-03 19:16:11</td>\n",
       "      <td>1641230171</td>\n",
       "      <td>photos/photo_1209@03-01-2022_19-16-11.jpg</td>\n",
       "      <td>1062.0</td>\n",
       "      <td>1125.0</td>\n",
       "      <td>[{'type': 'link', 'text': 'https://www.faceboo...</td>\n",
       "      <td>[{'type': 'link', 'text': 'https://www.faceboo...</td>\n",
       "      <td>NaN</td>\n",
       "      <td>NaN</td>\n",
       "      <td>NaN</td>\n",
       "      <td>NaN</td>\n",
       "      <td>NaN</td>\n",
       "      <td>NaN</td>\n",
       "      <td>NaN</td>\n",
       "      <td>NaN</td>\n",
       "      <td>https://www.facebook.com/384708578676644/posts...</td>\n",
       "      <td>link</td>\n",
       "    </tr>\n",
       "  </tbody>\n",
       "</table>\n",
       "</div>"
      ],
      "text/plain": [
       "     id                date  date_unixtime  \\\n",
       "0  1567 2022-01-02 13:46:28     1641123988   \n",
       "1  1568 2022-01-03 11:09:36     1641200976   \n",
       "2  1569 2022-01-03 14:28:11     1641212891   \n",
       "3  1570 2022-01-03 17:12:13     1641222733   \n",
       "4  1571 2022-01-03 19:16:11     1641230171   \n",
       "\n",
       "                                       photo   width  height  \\\n",
       "0  photos/photo_1205@02-01-2022_13-46-28.jpg   800.0   419.0   \n",
       "1  photos/photo_1206@03-01-2022_11-09-36.jpg  1110.0  1124.0   \n",
       "2  photos/photo_1207@03-01-2022_14-28-11.jpg  1280.0  1267.0   \n",
       "3  photos/photo_1208@03-01-2022_17-12-13.jpg  1014.0  1124.0   \n",
       "4  photos/photo_1209@03-01-2022_19-16-11.jpg  1062.0  1125.0   \n",
       "\n",
       "                                                text  \\\n",
       "0  ['Job Title:', {'type': 'hashtag', 'text': '#s...   \n",
       "1  ['Job Title:', {'type': 'hashtag', 'text': '#c...   \n",
       "2  ['Company: ', {'type': 'hashtag', 'text': '#Na...   \n",
       "3  ['Job title: ', {'type': 'hashtag', 'text': '#...   \n",
       "4  [{'type': 'link', 'text': 'https://www.faceboo...   \n",
       "\n",
       "                                       text_entities edited  edited_unixtime  \\\n",
       "0  [{'type': 'plain', 'text': 'Job Title:'}, {'ty...    NaN              NaN   \n",
       "1  [{'type': 'plain', 'text': 'Job Title:'}, {'ty...    NaN              NaN   \n",
       "2  [{'type': 'plain', 'text': 'Company: '}, {'typ...    NaN              NaN   \n",
       "3  [{'type': 'plain', 'text': 'Job title: '}, {'t...    NaN              NaN   \n",
       "4  [{'type': 'link', 'text': 'https://www.faceboo...    NaN              NaN   \n",
       "\n",
       "  file thumbnail mime_type media_type  duration_seconds forwarded_from  \\\n",
       "0  NaN       NaN       NaN        NaN               NaN            NaN   \n",
       "1  NaN       NaN       NaN        NaN               NaN            NaN   \n",
       "2  NaN       NaN       NaN        NaN               NaN            NaN   \n",
       "3  NaN       NaN       NaN        NaN               NaN            NaN   \n",
       "4  NaN       NaN       NaN        NaN               NaN            NaN   \n",
       "\n",
       "                                            raw_text      type  \n",
       "0  Job Title:#senior and a junior #developer\\n \\n...  job_post  \n",
       "1  Job Title:#cashier\\nJob Type: #full_time\\n \\nش...  job_post  \n",
       "2  Company: #National_Technology_Group #NTG)\\nJob...  job_post  \n",
       "3  Job title: #Employees for Operations Departmen...  job_post  \n",
       "4  https://www.facebook.com/384708578676644/posts...      link  "
      ]
     },
     "execution_count": 225,
     "metadata": {},
     "output_type": "execute_result"
    }
   ],
   "source": [
    "messages.head()"
   ]
  },
  {
   "attachments": {},
   "cell_type": "markdown",
   "metadata": {},
   "source": [
    "some columns are not useful for our analysis so we will drop them <br>\n",
    "\n",
    "*[edited, edited_unixtime, file, thumbnail, mime_type, media_type, duration_seconds, forwarded_from]*"
   ]
  },
  {
   "cell_type": "code",
   "execution_count": 235,
   "metadata": {},
   "outputs": [],
   "source": [
    "messages.drop(columns=[\"edited\", \"edited_unixtime\", \"file\", \"thumbnail\",\n",
    "\"mime_type\", \"media_type\", \"duration_seconds\", \"forwarded_from\"], inplace=True)"
   ]
  },
  {
   "attachments": {},
   "cell_type": "markdown",
   "metadata": {},
   "source": [
    "## Check for duplicate job posts"
   ]
  },
  {
   "cell_type": "code",
   "execution_count": 258,
   "metadata": {},
   "outputs": [],
   "source": [
    "dups = messages[messages.raw_text != ''].duplicated(subset='raw_text')"
   ]
  },
  {
   "cell_type": "code",
   "execution_count": 260,
   "metadata": {},
   "outputs": [
    {
     "data": {
      "text/plain": [
       "(72, 10)"
      ]
     },
     "execution_count": 260,
     "metadata": {},
     "output_type": "execute_result"
    }
   ],
   "source": [
    "messages[(messages.raw_text != '') & dups].shape"
   ]
  },
  {
   "attachments": {},
   "cell_type": "markdown",
   "metadata": {},
   "source": [
    "some job vacancies are posted multiple times <br>\n",
    "it may be an indicator for a low hitrate of the company <br>\n",
    "we will keep those duplicates for now, in order to perform some further analysis on them"
   ]
  },
  {
   "cell_type": "code",
   "execution_count": 261,
   "metadata": {},
   "outputs": [],
   "source": [
    "messages.to_csv('../data/cleaned_data.csv' , index=False)"
   ]
  },
  {
   "cell_type": "code",
   "execution_count": 262,
   "metadata": {},
   "outputs": [
    {
     "data": {
      "image/png": "[encoded data removed]",
      "text/plain": [
       "<PIL.Image.Image image mode=RGB size=400x200>"
      ]
     },
     "execution_count": 262,
     "metadata": {},
     "output_type": "execute_result"
    }
   ],
   "source": [
    "# Import the wordcloud library\n",
    "from wordcloud import WordCloud\n",
    "# Join the different processed titles together.\n",
    "long_string = ','.join(list(messages['raw_text'].values))\n",
    "\n",
    "# Create a WordCloud object\n",
    "wordcloud = WordCloud(background_color=\"white\", max_words=5000, contour_width=3, contour_color='steelblue')\n",
    "# Generate a word cloud\n",
    "wordcloud.generate(long_string)\n",
    "# Visualize the word cloud\n",
    "wordcloud.to_image()"
   ]
  },
  {
   "cell_type": "code",
   "execution_count": null,
   "metadata": {},
   "outputs": [],
   "source": []
  }
 ],
 "metadata": {
  "kernelspec": {
   "display_name": "Python 3.10.4 ('.venv': venv)",
   "language": "python",
   "name": "python3"
  },
  "language_info": {
   "codemirror_mode": {
    "name": "ipython",
    "version": 3
   },
   "file_extension": ".py",
   "mimetype": "text/x-python",
   "name": "python",
   "nbconvert_exporter": "python",
   "pygments_lexer": "ipython3",
   "version": "3.10.4"
  },
  "orig_nbformat": 4,
  "vscode": {
   "interpreter": {
    "hash": "0f1b3ad10751f8a1907d8ad058bc41b16e54a41930ed7864c21be18142c16aeb"
   }
  }
 },
 "nbformat": 4,
 "nbformat_minor": 2
}
