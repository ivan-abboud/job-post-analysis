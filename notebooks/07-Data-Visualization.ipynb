{
 "cells": [
  {
   "cell_type": "code",
   "execution_count": 1,
   "metadata": {},
   "outputs": [],
   "source": [
    "import pandas as pd\n",
    "import plotly.express as px"
   ]
  },
  {
   "cell_type": "code",
   "execution_count": 2,
   "metadata": {},
   "outputs": [],
   "source": [
    "data = pd.read_csv(\"../data/data_v6.9.csv\")\n",
    "data.date = pd.to_datetime(data.date).dt.date"
   ]
  },
  {
   "cell_type": "code",
   "execution_count": 7,
   "metadata": {},
   "outputs": [
    {
     "data": {
      "text/html": [
       "<div>\n",
       "<style scoped>\n",
       "    .dataframe tbody tr th:only-of-type {\n",
       "        vertical-align: middle;\n",
       "    }\n",
       "\n",
       "    .dataframe tbody tr th {\n",
       "        vertical-align: top;\n",
       "    }\n",
       "\n",
       "    .dataframe thead th {\n",
       "        text-align: right;\n",
       "    }\n",
       "</style>\n",
       "<table border=\"1\" class=\"dataframe\">\n",
       "  <thead>\n",
       "    <tr style=\"text-align: right;\">\n",
       "      <th></th>\n",
       "      <th>id</th>\n",
       "      <th>date</th>\n",
       "      <th>photo</th>\n",
       "      <th>text</th>\n",
       "      <th>text_entities</th>\n",
       "      <th>raw_text</th>\n",
       "      <th>type</th>\n",
       "      <th>ocr_res</th>\n",
       "      <th>full_text</th>\n",
       "      <th>description</th>\n",
       "      <th>job_title</th>\n",
       "      <th>company_name</th>\n",
       "      <th>salary</th>\n",
       "      <th>location</th>\n",
       "      <th>job_type</th>\n",
       "      <th>years_of_experience</th>\n",
       "      <th>skills</th>\n",
       "      <th>abstract_title</th>\n",
       "      <th>experience</th>\n",
       "      <th>avg_exp_years</th>\n",
       "    </tr>\n",
       "  </thead>\n",
       "  <tbody>\n",
       "    <tr>\n",
       "      <th>0</th>\n",
       "      <td>1567</td>\n",
       "      <td>2022-01-02</td>\n",
       "      <td>photos/photo_1205@02-01-2022_13-46-28.jpg</td>\n",
       "      <td>['Job Title:', {'type': 'hashtag', 'text': '#s...</td>\n",
       "      <td>[{'type': 'plain', 'text': 'Job Title:'}, {'ty...</td>\n",
       "      <td>Job Title:#senior and a junior #developer\\n \\n...</td>\n",
       "      <td>job_post</td>\n",
       "      <td>We are on the hunt for a JUNIOR/SENIOR Develop...</td>\n",
       "      <td>Job Title:#senior and a junior #developer\\n \\n...</td>\n",
       "      <td>\\nJob Title: Junior/Senior Developer\\nCompany ...</td>\n",
       "      <td>junior/senior developer</td>\n",
       "      <td>NaN</td>\n",
       "      <td>NaN</td>\n",
       "      <td>NaN</td>\n",
       "      <td>full-time</td>\n",
       "      <td>extensive</td>\n",
       "      <td>php, laravel, sql, javascript, html5, css, boo...</td>\n",
       "      <td>/ developer</td>\n",
       "      <td>senior</td>\n",
       "      <td>NaN</td>\n",
       "    </tr>\n",
       "    <tr>\n",
       "      <th>1</th>\n",
       "      <td>1568</td>\n",
       "      <td>2022-01-03</td>\n",
       "      <td>photos/photo_1206@03-01-2022_11-09-36.jpg</td>\n",
       "      <td>['Job Title:', {'type': 'hashtag', 'text': '#c...</td>\n",
       "      <td>[{'type': 'plain', 'text': 'Job Title:'}, {'ty...</td>\n",
       "      <td>Job Title:#cashier\\nJob Type: #full_time\\n \\nش...</td>\n",
       "      <td>job_post</td>\n",
       "      <td>Jolgi Job Type:Full Time Send your CV to m.jaw...</td>\n",
       "      <td>Job Title:#cashier\\nJob Type: #full_time\\n \\nش...</td>\n",
       "      <td>\\nJob Title: Cashier\\nCompany Name: Euroline-R...</td>\n",
       "      <td>cashier</td>\n",
       "      <td>euroline-rent</td>\n",
       "      <td>NaN</td>\n",
       "      <td>damascus</td>\n",
       "      <td>full-time</td>\n",
       "      <td>3</td>\n",
       "      <td>english language, jobseekers, jobseeker, inter...</td>\n",
       "      <td>cashier</td>\n",
       "      <td>NaN</td>\n",
       "      <td>3.0</td>\n",
       "    </tr>\n",
       "    <tr>\n",
       "      <th>2</th>\n",
       "      <td>1569</td>\n",
       "      <td>2022-01-03</td>\n",
       "      <td>photos/photo_1207@03-01-2022_14-28-11.jpg</td>\n",
       "      <td>['Company: ', {'type': 'hashtag', 'text': '#Na...</td>\n",
       "      <td>[{'type': 'plain', 'text': 'Company: '}, {'typ...</td>\n",
       "      <td>Company: #National_Technology_Group #NTG)\\nJob...</td>\n",
       "      <td>job_post</td>\n",
       "      <td>JOIN OURTEAM We're Hiring. NET DEVELOPER +lyea...</td>\n",
       "      <td>Company: #National_Technology_Group #NTG)\\nJob...</td>\n",
       "      <td>\\nJob title: .NET Developer\\nCompany Name: Nat...</td>\n",
       "      <td>.net developer</td>\n",
       "      <td>national technology group (ntg)</td>\n",
       "      <td>NaN</td>\n",
       "      <td>damascus</td>\n",
       "      <td>full-time</td>\n",
       "      <td>1</td>\n",
       "      <td>asp core, reactjs</td>\n",
       "      <td>.net developer</td>\n",
       "      <td>NaN</td>\n",
       "      <td>1.0</td>\n",
       "    </tr>\n",
       "    <tr>\n",
       "      <th>3</th>\n",
       "      <td>1570</td>\n",
       "      <td>2022-01-03</td>\n",
       "      <td>photos/photo_1208@03-01-2022_17-12-13.jpg</td>\n",
       "      <td>['Job title: ', {'type': 'hashtag', 'text': '#...</td>\n",
       "      <td>[{'type': 'plain', 'text': 'Job title: '}, {'t...</td>\n",
       "      <td>Job title: #Employees for Operations Departmen...</td>\n",
       "      <td>job_post</td>\n",
       "      <td>Job Vacancy Employees for Operations Departmen...</td>\n",
       "      <td>Job title: #Employees for Operations Departmen...</td>\n",
       "      <td>\\nCompany Name: None\\nSalary: None\\nYears of E...</td>\n",
       "      <td>operations department</td>\n",
       "      <td>NaN</td>\n",
       "      <td>NaN</td>\n",
       "      <td>damascus</td>\n",
       "      <td>full-time</td>\n",
       "      <td>NaN</td>\n",
       "      <td>perfect knowledge &amp; use for english, basic com...</td>\n",
       "      <td>operations department</td>\n",
       "      <td>NaN</td>\n",
       "      <td>NaN</td>\n",
       "    </tr>\n",
       "    <tr>\n",
       "      <th>4</th>\n",
       "      <td>1571</td>\n",
       "      <td>2022-01-03</td>\n",
       "      <td>photos/photo_1209@03-01-2022_19-16-11.jpg</td>\n",
       "      <td>[{'type': 'link', 'text': 'https://www.faceboo...</td>\n",
       "      <td>[{'type': 'link', 'text': 'https://www.faceboo...</td>\n",
       "      <td>https://www.facebook.com/384708578676644/posts...</td>\n",
       "      <td>link</td>\n",
       "      <td>Jmloi AWASOL Developer Remotely Send your CV t...</td>\n",
       "      <td>https://www.facebook.com/384708578676644/posts...</td>\n",
       "      <td>\\nJob Title: AWASOL Developer \\nCompany Name: ...</td>\n",
       "      <td>awasol developer</td>\n",
       "      <td>smartech-sy</td>\n",
       "      <td>NaN</td>\n",
       "      <td>remotely</td>\n",
       "      <td>NaN</td>\n",
       "      <td>NaN</td>\n",
       "      <td>NaN</td>\n",
       "      <td>awasol developer</td>\n",
       "      <td>NaN</td>\n",
       "      <td>NaN</td>\n",
       "    </tr>\n",
       "  </tbody>\n",
       "</table>\n",
       "</div>"
      ],
      "text/plain": [
       "     id        date                                      photo  \\\n",
       "0  1567  2022-01-02  photos/photo_1205@02-01-2022_13-46-28.jpg   \n",
       "1  1568  2022-01-03  photos/photo_1206@03-01-2022_11-09-36.jpg   \n",
       "2  1569  2022-01-03  photos/photo_1207@03-01-2022_14-28-11.jpg   \n",
       "3  1570  2022-01-03  photos/photo_1208@03-01-2022_17-12-13.jpg   \n",
       "4  1571  2022-01-03  photos/photo_1209@03-01-2022_19-16-11.jpg   \n",
       "\n",
       "                                                text  \\\n",
       "0  ['Job Title:', {'type': 'hashtag', 'text': '#s...   \n",
       "1  ['Job Title:', {'type': 'hashtag', 'text': '#c...   \n",
       "2  ['Company: ', {'type': 'hashtag', 'text': '#Na...   \n",
       "3  ['Job title: ', {'type': 'hashtag', 'text': '#...   \n",
       "4  [{'type': 'link', 'text': 'https://www.faceboo...   \n",
       "\n",
       "                                       text_entities  \\\n",
       "0  [{'type': 'plain', 'text': 'Job Title:'}, {'ty...   \n",
       "1  [{'type': 'plain', 'text': 'Job Title:'}, {'ty...   \n",
       "2  [{'type': 'plain', 'text': 'Company: '}, {'typ...   \n",
       "3  [{'type': 'plain', 'text': 'Job title: '}, {'t...   \n",
       "4  [{'type': 'link', 'text': 'https://www.faceboo...   \n",
       "\n",
       "                                            raw_text      type  \\\n",
       "0  Job Title:#senior and a junior #developer\\n \\n...  job_post   \n",
       "1  Job Title:#cashier\\nJob Type: #full_time\\n \\nش...  job_post   \n",
       "2  Company: #National_Technology_Group #NTG)\\nJob...  job_post   \n",
       "3  Job title: #Employees for Operations Departmen...  job_post   \n",
       "4  https://www.facebook.com/384708578676644/posts...      link   \n",
       "\n",
       "                                             ocr_res  \\\n",
       "0  We are on the hunt for a JUNIOR/SENIOR Develop...   \n",
       "1  Jolgi Job Type:Full Time Send your CV to m.jaw...   \n",
       "2  JOIN OURTEAM We're Hiring. NET DEVELOPER +lyea...   \n",
       "3  Job Vacancy Employees for Operations Departmen...   \n",
       "4  Jmloi AWASOL Developer Remotely Send your CV t...   \n",
       "\n",
       "                                           full_text  \\\n",
       "0  Job Title:#senior and a junior #developer\\n \\n...   \n",
       "1  Job Title:#cashier\\nJob Type: #full_time\\n \\nش...   \n",
       "2  Company: #National_Technology_Group #NTG)\\nJob...   \n",
       "3  Job title: #Employees for Operations Departmen...   \n",
       "4  https://www.facebook.com/384708578676644/posts...   \n",
       "\n",
       "                                         description                job_title  \\\n",
       "0  \\nJob Title: Junior/Senior Developer\\nCompany ...  junior/senior developer   \n",
       "1  \\nJob Title: Cashier\\nCompany Name: Euroline-R...                  cashier   \n",
       "2  \\nJob title: .NET Developer\\nCompany Name: Nat...           .net developer   \n",
       "3  \\nCompany Name: None\\nSalary: None\\nYears of E...    operations department   \n",
       "4  \\nJob Title: AWASOL Developer \\nCompany Name: ...         awasol developer   \n",
       "\n",
       "                      company_name salary  location   job_type  \\\n",
       "0                              NaN    NaN       NaN  full-time   \n",
       "1                    euroline-rent    NaN  damascus  full-time   \n",
       "2  national technology group (ntg)    NaN  damascus  full-time   \n",
       "3                              NaN    NaN  damascus  full-time   \n",
       "4                      smartech-sy    NaN  remotely        NaN   \n",
       "\n",
       "  years_of_experience                                             skills  \\\n",
       "0           extensive  php, laravel, sql, javascript, html5, css, boo...   \n",
       "1                   3  english language, jobseekers, jobseeker, inter...   \n",
       "2                   1                                  asp core, reactjs   \n",
       "3                 NaN  perfect knowledge & use for english, basic com...   \n",
       "4                 NaN                                                NaN   \n",
       "\n",
       "          abstract_title experience  avg_exp_years  \n",
       "0            / developer     senior            NaN  \n",
       "1                cashier        NaN            3.0  \n",
       "2         .net developer        NaN            1.0  \n",
       "3  operations department        NaN            NaN  \n",
       "4       awasol developer        NaN            NaN  "
      ]
     },
     "execution_count": 7,
     "metadata": {},
     "output_type": "execute_result"
    }
   ],
   "source": [
    "data.head()"
   ]
  },
  {
   "cell_type": "code",
   "execution_count": 3,
   "metadata": {},
   "outputs": [
    {
     "data": {
      "application/vnd.plotly.v1+json": {
       "config": {
        "plotlyServerURL": "https://plot.ly"
       },
       "data": [
        {
         "hovertemplate": "date=%{x}<br>size=%{y}<extra></extra>",
         "legendgroup": "",
         "line": {
          "color": "#636efa",
          "dash": "solid"
         },
         "marker": {
          "symbol": "circle"
         },
         "mode": "lines",
         "name": "",
         "orientation": "v",
         "showlegend": false,
         "type": "scatter",
         "x": [
          "2022-01-02",
          "2022-01-03",
          "2022-01-04",
          "2022-01-05",
          "2022-01-07",
          "2022-01-08",
          "2022-01-09",
          "2022-01-10",
          "2022-01-11",
          "2022-01-12",
          "2022-01-13",
          "2022-01-14",
          "2022-01-15",
          "2022-01-16",
          "2022-01-17",
          "2022-01-18",
          "2022-01-22",
          "2022-01-23",
          "2022-01-24",
          "2022-01-26",
          "2022-01-28",
          "2022-01-29",
          "2022-01-30",
          "2022-01-31",
          "2022-02-01",
          "2022-02-02",
          "2022-02-03",
          "2022-02-04",
          "2022-02-06",
          "2022-02-07",
          "2022-02-08",
          "2022-02-09",
          "2022-02-10",
          "2022-02-11",
          "2022-02-12",
          "2022-02-13",
          "2022-02-14",
          "2022-02-15",
          "2022-02-16",
          "2022-02-17",
          "2022-02-19",
          "2022-02-20",
          "2022-02-21",
          "2022-02-22",
          "2022-02-23",
          "2022-02-24",
          "2022-02-25",
          "2022-02-27",
          "2022-02-28",
          "2022-03-01",
          "2022-03-02",
          "2022-03-03",
          "2022-03-04",
          "2022-03-05",
          "2022-03-06",
          "2022-03-07",
          "2022-03-08",
          "2022-03-09",
          "2022-03-10",
          "2022-03-12",
          "2022-03-13",
          "2022-03-14",
          "2022-03-15",
          "2022-03-16",
          "2022-03-17",
          "2022-03-18",
          "2022-03-19",
          "2022-03-20",
          "2022-03-21",
          "2022-03-22",
          "2022-03-23",
          "2022-03-24",
          "2022-03-30",
          "2022-03-31",
          "2022-04-02",
          "2022-04-03",
          "2022-04-04",
          "2022-04-05",
          "2022-04-07",
          "2022-04-08",
          "2022-04-09",
          "2022-04-10",
          "2022-04-11",
          "2022-04-12",
          "2022-04-13",
          "2022-04-14",
          "2022-04-15",
          "2022-04-16",
          "2022-04-17",
          "2022-04-20",
          "2022-04-21",
          "2022-04-22",
          "2022-04-23",
          "2022-04-24",
          "2022-04-26",
          "2022-04-27",
          "2022-04-28",
          "2022-04-29",
          "2022-04-30",
          "2022-05-01",
          "2022-05-02",
          "2022-05-05",
          "2022-05-07",
          "2022-05-08",
          "2022-05-09",
          "2022-05-10",
          "2022-05-11",
          "2022-05-12",
          "2022-05-14",
          "2022-05-15",
          "2022-05-16",
          "2022-05-17",
          "2022-05-18",
          "2022-05-19",
          "2022-05-20",
          "2022-05-21",
          "2022-05-22",
          "2022-05-23",
          "2022-05-24",
          "2022-05-25",
          "2022-05-26",
          "2022-05-28",
          "2022-05-29",
          "2022-05-30",
          "2022-06-04",
          "2022-06-06",
          "2022-06-07",
          "2022-06-08",
          "2022-06-09",
          "2022-06-10",
          "2022-06-11",
          "2022-06-12",
          "2022-06-13",
          "2022-06-14",
          "2022-06-15",
          "2022-06-16",
          "2022-06-18",
          "2022-06-19",
          "2022-06-20",
          "2022-06-21",
          "2022-06-22",
          "2022-06-23",
          "2022-06-24",
          "2022-06-25",
          "2022-06-27",
          "2022-06-29",
          "2022-07-02",
          "2022-07-03",
          "2022-07-04",
          "2022-07-05",
          "2022-07-06",
          "2022-07-07",
          "2022-07-08",
          "2022-07-09",
          "2022-07-12",
          "2022-07-13",
          "2022-07-14",
          "2022-07-15",
          "2022-07-16",
          "2022-07-17",
          "2022-07-18",
          "2022-07-19",
          "2022-07-20",
          "2022-07-21",
          "2022-07-23",
          "2022-07-24",
          "2022-07-25",
          "2022-07-27",
          "2022-07-28",
          "2022-07-30",
          "2022-07-31",
          "2022-08-01",
          "2022-08-03",
          "2022-08-04",
          "2022-08-05",
          "2022-08-06",
          "2022-08-07",
          "2022-08-08",
          "2022-08-09",
          "2022-08-10",
          "2022-08-11",
          "2022-08-13",
          "2022-08-14",
          "2022-08-15",
          "2022-08-16",
          "2022-08-17",
          "2022-08-18",
          "2022-08-19",
          "2022-08-20",
          "2022-08-21",
          "2022-08-22",
          "2022-08-23",
          "2022-08-25",
          "2022-08-26",
          "2022-08-27",
          "2022-08-28",
          "2022-08-30",
          "2022-08-31",
          "2022-09-01",
          "2022-09-02",
          "2022-09-03",
          "2022-09-05",
          "2022-09-06",
          "2022-09-08",
          "2022-09-09",
          "2022-09-10",
          "2022-09-11",
          "2022-09-12",
          "2022-09-14",
          "2022-09-17",
          "2022-09-19",
          "2022-09-21",
          "2022-09-22",
          "2022-09-23",
          "2022-09-24",
          "2022-09-25",
          "2022-09-27",
          "2022-09-28",
          "2022-09-29",
          "2022-09-30",
          "2022-10-01",
          "2022-10-02",
          "2022-10-03",
          "2022-10-04",
          "2022-10-07",
          "2022-10-08",
          "2022-10-10",
          "2022-10-11",
          "2022-10-13",
          "2022-10-16",
          "2022-10-17",
          "2022-10-19",
          "2022-10-20",
          "2022-10-22",
          "2022-10-23",
          "2022-10-25",
          "2022-10-27",
          "2022-10-28",
          "2022-10-30",
          "2022-10-31",
          "2022-11-01",
          "2022-11-02",
          "2022-11-03",
          "2022-11-04",
          "2022-11-05",
          "2022-11-06",
          "2022-11-07",
          "2022-11-08",
          "2022-11-09",
          "2022-11-10",
          "2022-11-11",
          "2022-11-12",
          "2022-11-14",
          "2022-11-15",
          "2022-11-16",
          "2022-11-17",
          "2022-11-18",
          "2022-11-19",
          "2022-11-20",
          "2022-11-22",
          "2022-11-23",
          "2022-11-24",
          "2022-11-25",
          "2022-11-26",
          "2022-11-27",
          "2022-11-28",
          "2022-11-29",
          "2022-11-30",
          "2022-12-01",
          "2022-12-02",
          "2022-12-04",
          "2022-12-05",
          "2022-12-06",
          "2022-12-07",
          "2022-12-08",
          "2022-12-09",
          "2022-12-10",
          "2022-12-11",
          "2022-12-12",
          "2022-12-14",
          "2022-12-16",
          "2022-12-17",
          "2022-12-18",
          "2022-12-19",
          "2022-12-21",
          "2022-12-22",
          "2022-12-23",
          "2022-12-26",
          "2022-12-27",
          "2022-12-28"
         ],
         "xaxis": "x",
         "y": [
          1,
          5,
          3,
          1,
          1,
          1,
          5,
          3,
          1,
          3,
          4,
          2,
          3,
          1,
          4,
          3,
          2,
          3,
          1,
          1,
          2,
          3,
          3,
          2,
          4,
          2,
          4,
          3,
          1,
          5,
          3,
          3,
          4,
          3,
          5,
          5,
          1,
          3,
          1,
          4,
          3,
          4,
          6,
          4,
          8,
          3,
          1,
          2,
          1,
          2,
          1,
          1,
          1,
          3,
          3,
          1,
          3,
          3,
          2,
          5,
          4,
          1,
          6,
          3,
          3,
          1,
          1,
          3,
          1,
          1,
          2,
          2,
          5,
          1,
          2,
          3,
          4,
          1,
          1,
          3,
          1,
          2,
          3,
          3,
          4,
          5,
          3,
          5,
          4,
          4,
          4,
          3,
          4,
          6,
          3,
          3,
          4,
          2,
          7,
          1,
          1,
          1,
          4,
          5,
          3,
          1,
          6,
          4,
          2,
          5,
          4,
          2,
          3,
          2,
          3,
          3,
          5,
          2,
          4,
          2,
          3,
          2,
          3,
          3,
          1,
          6,
          4,
          2,
          1,
          3,
          1,
          2,
          1,
          1,
          2,
          2,
          1,
          4,
          2,
          6,
          1,
          2,
          1,
          2,
          1,
          2,
          1,
          4,
          3,
          1,
          2,
          1,
          2,
          1,
          1,
          4,
          2,
          3,
          3,
          1,
          5,
          3,
          3,
          2,
          5,
          3,
          7,
          3,
          5,
          2,
          2,
          1,
          6,
          3,
          4,
          2,
          1,
          1,
          2,
          3,
          1,
          4,
          7,
          2,
          3,
          1,
          4,
          1,
          3,
          3,
          3,
          4,
          2,
          6,
          1,
          1,
          1,
          4,
          5,
          2,
          5,
          3,
          1,
          1,
          2,
          1,
          8,
          3,
          2,
          1,
          7,
          3,
          8,
          3,
          1,
          4,
          1,
          4,
          2,
          5,
          3,
          3,
          2,
          1,
          4,
          4,
          1,
          2,
          1,
          2,
          3,
          4,
          6,
          1,
          1,
          1,
          5,
          1,
          4,
          2,
          2,
          3,
          5,
          3,
          2,
          6,
          4,
          3,
          26,
          4,
          3,
          9,
          15,
          1,
          8,
          2,
          2,
          12,
          3,
          1,
          1,
          1,
          1,
          4,
          1,
          4,
          3,
          6,
          4,
          3,
          2,
          4,
          3,
          3,
          3,
          3,
          6,
          10,
          5,
          2,
          1,
          1,
          1,
          1,
          1,
          2,
          7,
          4,
          1,
          3
         ],
         "yaxis": "y"
        }
       ],
       "layout": {
        "legend": {
         "tracegroupgap": 0
        },
        "margin": {
         "t": 60
        },
        "template": {
         "data": {
          "bar": [
           {
            "error_x": {
             "color": "#2a3f5f"
            },
            "error_y": {
             "color": "#2a3f5f"
            },
            "marker": {
             "line": {
              "color": "#E5ECF6",
              "width": 0.5
             },
             "pattern": {
              "fillmode": "overlay",
              "size": 10,
              "solidity": 0.2
             }
            },
            "type": "bar"
           }
          ],
          "barpolar": [
           {
            "marker": {
             "line": {
              "color": "#E5ECF6",
              "width": 0.5
             },
             "pattern": {
              "fillmode": "overlay",
              "size": 10,
              "solidity": 0.2
             }
            },
            "type": "barpolar"
           }
          ],
          "carpet": [
           {
            "aaxis": {
             "endlinecolor": "#2a3f5f",
             "gridcolor": "white",
             "linecolor": "white",
             "minorgridcolor": "white",
             "startlinecolor": "#2a3f5f"
            },
            "baxis": {
             "endlinecolor": "#2a3f5f",
             "gridcolor": "white",
             "linecolor": "white",
             "minorgridcolor": "white",
             "startlinecolor": "#2a3f5f"
            },
            "type": "carpet"
           }
          ],
          "choropleth": [
           {
            "colorbar": {
             "outlinewidth": 0,
             "ticks": ""
            },
            "type": "choropleth"
           }
          ],
          "contour": [
           {
            "colorbar": {
             "outlinewidth": 0,
             "ticks": ""
            },
            "colorscale": [
             [
              0,
              "#0d0887"
             ],
             [
              0.1111111111111111,
              "#46039f"
             ],
             [
              0.2222222222222222,
              "#7201a8"
             ],
             [
              0.3333333333333333,
              "#9c179e"
             ],
             [
              0.4444444444444444,
              "#bd3786"
             ],
             [
              0.5555555555555556,
              "#d8576b"
             ],
             [
              0.6666666666666666,
              "#ed7953"
             ],
             [
              0.7777777777777778,
              "#fb9f3a"
             ],
             [
              0.8888888888888888,
              "#fdca26"
             ],
             [
              1,
              "#f0f921"
             ]
            ],
            "type": "contour"
           }
          ],
          "contourcarpet": [
           {
            "colorbar": {
             "outlinewidth": 0,
             "ticks": ""
            },
            "type": "contourcarpet"
           }
          ],
          "heatmap": [
           {
            "colorbar": {
             "outlinewidth": 0,
             "ticks": ""
            },
            "colorscale": [
             [
              0,
              "#0d0887"
             ],
             [
              0.1111111111111111,
              "#46039f"
             ],
             [
              0.2222222222222222,
              "#7201a8"
             ],
             [
              0.3333333333333333,
              "#9c179e"
             ],
             [
              0.4444444444444444,
              "#bd3786"
             ],
             [
              0.5555555555555556,
              "#d8576b"
             ],
             [
              0.6666666666666666,
              "#ed7953"
             ],
             [
              0.7777777777777778,
              "#fb9f3a"
             ],
             [
              0.8888888888888888,
              "#fdca26"
             ],
             [
              1,
              "#f0f921"
             ]
            ],
            "type": "heatmap"
           }
          ],
          "heatmapgl": [
           {
            "colorbar": {
             "outlinewidth": 0,
             "ticks": ""
            },
            "colorscale": [
             [
              0,
              "#0d0887"
             ],
             [
              0.1111111111111111,
              "#46039f"
             ],
             [
              0.2222222222222222,
              "#7201a8"
             ],
             [
              0.3333333333333333,
              "#9c179e"
             ],
             [
              0.4444444444444444,
              "#bd3786"
             ],
             [
              0.5555555555555556,
              "#d8576b"
             ],
             [
              0.6666666666666666,
              "#ed7953"
             ],
             [
              0.7777777777777778,
              "#fb9f3a"
             ],
             [
              0.8888888888888888,
              "#fdca26"
             ],
             [
              1,
              "#f0f921"
             ]
            ],
            "type": "heatmapgl"
           }
          ],
          "histogram": [
           {
            "marker": {
             "pattern": {
              "fillmode": "overlay",
              "size": 10,
              "solidity": 0.2
             }
            },
            "type": "histogram"
           }
          ],
          "histogram2d": [
           {
            "colorbar": {
             "outlinewidth": 0,
             "ticks": ""
            },
            "colorscale": [
             [
              0,
              "#0d0887"
             ],
             [
              0.1111111111111111,
              "#46039f"
             ],
             [
              0.2222222222222222,
              "#7201a8"
             ],
             [
              0.3333333333333333,
              "#9c179e"
             ],
             [
              0.4444444444444444,
              "#bd3786"
             ],
             [
              0.5555555555555556,
              "#d8576b"
             ],
             [
              0.6666666666666666,
              "#ed7953"
             ],
             [
              0.7777777777777778,
              "#fb9f3a"
             ],
             [
              0.8888888888888888,
              "#fdca26"
             ],
             [
              1,
              "#f0f921"
             ]
            ],
            "type": "histogram2d"
           }
          ],
          "histogram2dcontour": [
           {
            "colorbar": {
             "outlinewidth": 0,
             "ticks": ""
            },
            "colorscale": [
             [
              0,
              "#0d0887"
             ],
             [
              0.1111111111111111,
              "#46039f"
             ],
             [
              0.2222222222222222,
              "#7201a8"
             ],
             [
              0.3333333333333333,
              "#9c179e"
             ],
             [
              0.4444444444444444,
              "#bd3786"
             ],
             [
              0.5555555555555556,
              "#d8576b"
             ],
             [
              0.6666666666666666,
              "#ed7953"
             ],
             [
              0.7777777777777778,
              "#fb9f3a"
             ],
             [
              0.8888888888888888,
              "#fdca26"
             ],
             [
              1,
              "#f0f921"
             ]
            ],
            "type": "histogram2dcontour"
           }
          ],
          "mesh3d": [
           {
            "colorbar": {
             "outlinewidth": 0,
             "ticks": ""
            },
            "type": "mesh3d"
           }
          ],
          "parcoords": [
           {
            "line": {
             "colorbar": {
              "outlinewidth": 0,
              "ticks": ""
             }
            },
            "type": "parcoords"
           }
          ],
          "pie": [
           {
            "automargin": true,
            "type": "pie"
           }
          ],
          "scatter": [
           {
            "fillpattern": {
             "fillmode": "overlay",
             "size": 10,
             "solidity": 0.2
            },
            "type": "scatter"
           }
          ],
          "scatter3d": [
           {
            "line": {
             "colorbar": {
              "outlinewidth": 0,
              "ticks": ""
             }
            },
            "marker": {
             "colorbar": {
              "outlinewidth": 0,
              "ticks": ""
             }
            },
            "type": "scatter3d"
           }
          ],
          "scattercarpet": [
           {
            "marker": {
             "colorbar": {
              "outlinewidth": 0,
              "ticks": ""
             }
            },
            "type": "scattercarpet"
           }
          ],
          "scattergeo": [
           {
            "marker": {
             "colorbar": {
              "outlinewidth": 0,
              "ticks": ""
             }
            },
            "type": "scattergeo"
           }
          ],
          "scattergl": [
           {
            "marker": {
             "colorbar": {
              "outlinewidth": 0,
              "ticks": ""
             }
            },
            "type": "scattergl"
           }
          ],
          "scattermapbox": [
           {
            "marker": {
             "colorbar": {
              "outlinewidth": 0,
              "ticks": ""
             }
            },
            "type": "scattermapbox"
           }
          ],
          "scatterpolar": [
           {
            "marker": {
             "colorbar": {
              "outlinewidth": 0,
              "ticks": ""
             }
            },
            "type": "scatterpolar"
           }
          ],
          "scatterpolargl": [
           {
            "marker": {
             "colorbar": {
              "outlinewidth": 0,
              "ticks": ""
             }
            },
            "type": "scatterpolargl"
           }
          ],
          "scatterternary": [
           {
            "marker": {
             "colorbar": {
              "outlinewidth": 0,
              "ticks": ""
             }
            },
            "type": "scatterternary"
           }
          ],
          "surface": [
           {
            "colorbar": {
             "outlinewidth": 0,
             "ticks": ""
            },
            "colorscale": [
             [
              0,
              "#0d0887"
             ],
             [
              0.1111111111111111,
              "#46039f"
             ],
             [
              0.2222222222222222,
              "#7201a8"
             ],
             [
              0.3333333333333333,
              "#9c179e"
             ],
             [
              0.4444444444444444,
              "#bd3786"
             ],
             [
              0.5555555555555556,
              "#d8576b"
             ],
             [
              0.6666666666666666,
              "#ed7953"
             ],
             [
              0.7777777777777778,
              "#fb9f3a"
             ],
             [
              0.8888888888888888,
              "#fdca26"
             ],
             [
              1,
              "#f0f921"
             ]
            ],
            "type": "surface"
           }
          ],
          "table": [
           {
            "cells": {
             "fill": {
              "color": "#EBF0F8"
             },
             "line": {
              "color": "white"
             }
            },
            "header": {
             "fill": {
              "color": "#C8D4E3"
             },
             "line": {
              "color": "white"
             }
            },
            "type": "table"
           }
          ]
         },
         "layout": {
          "annotationdefaults": {
           "arrowcolor": "#2a3f5f",
           "arrowhead": 0,
           "arrowwidth": 1
          },
          "autotypenumbers": "strict",
          "coloraxis": {
           "colorbar": {
            "outlinewidth": 0,
            "ticks": ""
           }
          },
          "colorscale": {
           "diverging": [
            [
             0,
             "#8e0152"
            ],
            [
             0.1,
             "#c51b7d"
            ],
            [
             0.2,
             "#de77ae"
            ],
            [
             0.3,
             "#f1b6da"
            ],
            [
             0.4,
             "#fde0ef"
            ],
            [
             0.5,
             "#f7f7f7"
            ],
            [
             0.6,
             "#e6f5d0"
            ],
            [
             0.7,
             "#b8e186"
            ],
            [
             0.8,
             "#7fbc41"
            ],
            [
             0.9,
             "#4d9221"
            ],
            [
             1,
             "#276419"
            ]
           ],
           "sequential": [
            [
             0,
             "#0d0887"
            ],
            [
             0.1111111111111111,
             "#46039f"
            ],
            [
             0.2222222222222222,
             "#7201a8"
            ],
            [
             0.3333333333333333,
             "#9c179e"
            ],
            [
             0.4444444444444444,
             "#bd3786"
            ],
            [
             0.5555555555555556,
             "#d8576b"
            ],
            [
             0.6666666666666666,
             "#ed7953"
            ],
            [
             0.7777777777777778,
             "#fb9f3a"
            ],
            [
             0.8888888888888888,
             "#fdca26"
            ],
            [
             1,
             "#f0f921"
            ]
           ],
           "sequentialminus": [
            [
             0,
             "#0d0887"
            ],
            [
             0.1111111111111111,
             "#46039f"
            ],
            [
             0.2222222222222222,
             "#7201a8"
            ],
            [
             0.3333333333333333,
             "#9c179e"
            ],
            [
             0.4444444444444444,
             "#bd3786"
            ],
            [
             0.5555555555555556,
             "#d8576b"
            ],
            [
             0.6666666666666666,
             "#ed7953"
            ],
            [
             0.7777777777777778,
             "#fb9f3a"
            ],
            [
             0.8888888888888888,
             "#fdca26"
            ],
            [
             1,
             "#f0f921"
            ]
           ]
          },
          "colorway": [
           "#636efa",
           "#EF553B",
           "#00cc96",
           "#ab63fa",
           "#FFA15A",
           "#19d3f3",
           "#FF6692",
           "#B6E880",
           "#FF97FF",
           "#FECB52"
          ],
          "font": {
           "color": "#2a3f5f"
          },
          "geo": {
           "bgcolor": "white",
           "lakecolor": "white",
           "landcolor": "#E5ECF6",
           "showlakes": true,
           "showland": true,
           "subunitcolor": "white"
          },
          "hoverlabel": {
           "align": "left"
          },
          "hovermode": "closest",
          "mapbox": {
           "style": "light"
          },
          "paper_bgcolor": "white",
          "plot_bgcolor": "#E5ECF6",
          "polar": {
           "angularaxis": {
            "gridcolor": "white",
            "linecolor": "white",
            "ticks": ""
           },
           "bgcolor": "#E5ECF6",
           "radialaxis": {
            "gridcolor": "white",
            "linecolor": "white",
            "ticks": ""
           }
          },
          "scene": {
           "xaxis": {
            "backgroundcolor": "#E5ECF6",
            "gridcolor": "white",
            "gridwidth": 2,
            "linecolor": "white",
            "showbackground": true,
            "ticks": "",
            "zerolinecolor": "white"
           },
           "yaxis": {
            "backgroundcolor": "#E5ECF6",
            "gridcolor": "white",
            "gridwidth": 2,
            "linecolor": "white",
            "showbackground": true,
            "ticks": "",
            "zerolinecolor": "white"
           },
           "zaxis": {
            "backgroundcolor": "#E5ECF6",
            "gridcolor": "white",
            "gridwidth": 2,
            "linecolor": "white",
            "showbackground": true,
            "ticks": "",
            "zerolinecolor": "white"
           }
          },
          "shapedefaults": {
           "line": {
            "color": "#2a3f5f"
           }
          },
          "ternary": {
           "aaxis": {
            "gridcolor": "white",
            "linecolor": "white",
            "ticks": ""
           },
           "baxis": {
            "gridcolor": "white",
            "linecolor": "white",
            "ticks": ""
           },
           "bgcolor": "#E5ECF6",
           "caxis": {
            "gridcolor": "white",
            "linecolor": "white",
            "ticks": ""
           }
          },
          "title": {
           "x": 0.05
          },
          "xaxis": {
           "automargin": true,
           "gridcolor": "white",
           "linecolor": "white",
           "ticks": "",
           "title": {
            "standoff": 15
           },
           "zerolinecolor": "white",
           "zerolinewidth": 2
          },
          "yaxis": {
           "automargin": true,
           "gridcolor": "white",
           "linecolor": "white",
           "ticks": "",
           "title": {
            "standoff": 15
           },
           "zerolinecolor": "white",
           "zerolinewidth": 2
          }
         }
        },
        "xaxis": {
         "anchor": "y",
         "domain": [
          0,
          1
         ],
         "title": {
          "text": "date"
         }
        },
        "yaxis": {
         "anchor": "x",
         "domain": [
          0,
          1
         ],
         "title": {
          "text": "size"
         }
        }
       }
      }
     },
     "metadata": {},
     "output_type": "display_data"
    }
   ],
   "source": [
    "px.line(data.groupby(\"date\",as_index=False).size(),x='date',y='size' )"
   ]
  },
  {
   "cell_type": "code",
   "execution_count": 5,
   "metadata": {},
   "outputs": [
    {
     "data": {
      "application/vnd.plotly.v1+json": {
       "config": {
        "plotlyServerURL": "https://plot.ly"
       },
       "data": [
        {
         "alignmentgroup": "True",
         "bingroup": "x",
         "hovertemplate": "variable=salary<br>value=%{x}<br>count=%{y}<extra></extra>",
         "legendgroup": "salary",
         "marker": {
          "color": "#636efa",
          "pattern": {
           "shape": ""
          }
         },
         "name": "salary",
         "offsetgroup": "salary",
         "orientation": "v",
         "showlegend": true,
         "type": "histogram",
         "x": [
          null,
          null,
          null,
          null,
          null,
          null,
          null,
          null,
          null,
          null,
          null,
          null,
          null,
          null,
          null,
          null,
          null,
          null,
          null,
          null,
          null,
          null,
          null,
          null,
          null,
          "15000000 SYP",
          "2000000 SYP",
          null,
          null,
          null,
          null,
          null,
          null,
          null,
          null,
          null,
          null,
          null,
          null,
          null,
          null,
          null,
          null,
          null,
          null,
          null,
          null,
          null,
          null,
          null,
          null,
          null,
          null,
          null,
          null,
          null,
          null,
          null,
          null,
          null,
          null,
          null,
          null,
          null,
          null,
          null,
          null,
          "2500000 SYP",
          null,
          null,
          null,
          null,
          null,
          null,
          null,
          null,
          null,
          null,
          null,
          null,
          null,
          "1500000 SYP",
          null,
          "600000 SYP",
          null,
          null,
          null,
          null,
          null,
          null,
          null,
          null,
          null,
          null,
          null,
          null,
          null,
          null,
          null,
          null,
          null,
          null,
          null,
          null,
          null,
          null,
          null,
          null,
          null,
          null,
          null,
          null,
          null,
          null,
          null,
          null,
          null,
          null,
          null,
          null,
          null,
          null,
          null,
          null,
          null,
          null,
          null,
          null,
          null,
          null,
          null,
          null,
          null,
          null,
          null,
          null,
          "500 - 700 USD",
          null,
          null,
          null,
          null,
          null,
          null,
          null,
          "350000 SYP",
          null,
          null,
          null,
          null,
          null,
          null,
          null,
          null,
          null,
          null,
          "700000 - 1500000 SYP",
          null,
          null,
          null,
          null,
          null,
          null,
          null,
          null,
          null,
          null,
          null,
          null,
          null,
          null,
          null,
          null,
          null,
          null,
          null,
          null,
          null,
          null,
          null,
          null,
          null,
          null,
          null,
          null,
          null,
          null,
          null,
          "3500000 - 7000000 SYP",
          null,
          "2000000 SYP",
          null,
          null,
          null,
          null,
          null,
          null,
          null,
          null,
          null,
          null,
          null,
          null,
          null,
          null,
          null,
          null,
          null,
          null,
          null,
          null,
          null,
          null,
          null,
          null,
          null,
          null,
          "2000000 SYP",
          null,
          null,
          null,
          null,
          null,
          null,
          null,
          null,
          null,
          null,
          null,
          null,
          null,
          null,
          null,
          null,
          null,
          null,
          null,
          null,
          "600000 1000000 SYP",
          null,
          null,
          null,
          null,
          null,
          null,
          null,
          null,
          null,
          null,
          null,
          null,
          null,
          null,
          null,
          null,
          null,
          null,
          null,
          null,
          null,
          null,
          null,
          null,
          null,
          null,
          null,
          null,
          null,
          null,
          null,
          null,
          null,
          null,
          "2000000 SYP",
          null,
          null,
          null,
          null,
          null,
          null,
          null,
          null,
          null,
          null,
          null,
          null,
          null,
          null,
          null,
          null,
          null,
          null,
          null,
          null,
          null,
          null,
          null,
          null,
          null,
          null,
          null,
          null,
          null,
          null,
          null,
          null,
          null,
          null,
          null,
          null,
          null,
          null,
          null,
          null,
          null,
          null,
          null,
          null,
          null,
          null,
          null,
          null,
          null,
          "2000000 - 3500000 SYP",
          null,
          null,
          null,
          null,
          "2000000 SYP",
          "2000000 SYP",
          "2000000 SYP",
          null,
          null,
          null,
          null,
          null,
          null,
          null,
          null,
          null,
          null,
          "800000 - 1500000 SYP",
          null,
          null,
          null,
          null,
          null,
          null,
          null,
          null,
          null,
          null,
          null,
          null,
          null,
          null,
          null,
          null,
          null,
          null,
          null,
          null,
          null,
          null,
          null,
          null,
          null,
          null,
          null,
          null,
          null,
          null,
          "400000 SYP",
          null,
          null,
          null,
          null,
          null,
          null,
          null,
          null,
          null,
          null,
          null,
          null,
          null,
          null,
          null,
          null,
          null,
          "350000 SYP",
          null,
          null,
          null,
          null,
          null,
          null,
          null,
          null,
          null,
          null,
          null,
          null,
          null,
          null,
          null,
          null,
          null,
          null,
          null,
          null,
          null,
          null,
          null,
          null,
          null,
          null,
          null,
          null,
          null,
          null,
          null,
          null,
          "2000000 - 3000000 SYP",
          null,
          null,
          null,
          null,
          null,
          null,
          null,
          null,
          null,
          null,
          null,
          null,
          null,
          null,
          null,
          null,
          null,
          null,
          null,
          null,
          null,
          null,
          null,
          null,
          null,
          null,
          null,
          null,
          null,
          null,
          null,
          null,
          null,
          null,
          null,
          null,
          null,
          null,
          null,
          "2450000 - 6300000 SYP",
          null,
          null,
          null,
          null,
          null,
          "800000 - 1000000 SYP",
          null,
          "800000 - 1000000 SYP",
          null,
          null,
          null,
          null,
          null,
          null,
          null,
          null,
          null,
          null,
          null,
          null,
          null,
          null,
          null,
          null,
          null,
          null,
          null,
          null,
          null,
          null,
          null,
          null,
          null,
          null,
          null,
          null,
          null,
          null,
          null,
          null,
          null,
          null,
          "1000000 USDs",
          null,
          null,
          null,
          null,
          null,
          "3000000 SYP",
          null,
          null,
          null,
          null,
          null,
          null,
          null,
          "800000 - 1000000 SYP",
          null,
          null,
          null,
          null,
          null,
          null,
          null,
          null,
          null,
          null,
          null,
          "2500000 SYP",
          null,
          null,
          null,
          null,
          null,
          null,
          null,
          null,
          null,
          null,
          null,
          null,
          null,
          null,
          null,
          null,
          null,
          null,
          null,
          null,
          null,
          null,
          null,
          null,
          null,
          null,
          null,
          null,
          null,
          null,
          null,
          null,
          null,
          null,
          null,
          null,
          null,
          null,
          null,
          null,
          null,
          null,
          null,
          null,
          null,
          null,
          null,
          null,
          null,
          null,
          null,
          null,
          null,
          null,
          null,
          null,
          null,
          null,
          null,
          null,
          null,
          null,
          null,
          null,
          null,
          null,
          null,
          null,
          null,
          null,
          null,
          null,
          null,
          null,
          null,
          null,
          null,
          null,
          "2450000 - 7200000 SYP",
          null,
          null,
          null,
          null,
          null,
          null,
          null,
          null,
          null,
          null,
          null,
          null,
          null,
          null,
          null,
          null,
          null,
          null,
          null,
          "1500000 - 3000000 SYP",
          "1500000 - 3000000 SYP",
          null,
          null,
          null,
          null,
          null,
          null,
          null,
          null,
          null,
          null,
          "2000000 SYP",
          "600000 SYP",
          null,
          null,
          null,
          null,
          null,
          null,
          "1000 USD",
          null,
          null,
          null,
          null,
          "2000000 SYP",
          null,
          null,
          null,
          null,
          null,
          "2000000 SYP",
          null,
          null,
          null,
          null,
          null,
          null,
          null,
          null,
          null,
          null,
          null,
          null,
          null,
          null,
          null,
          "800000 - 1200000 SYP",
          null,
          null,
          null,
          null,
          null,
          null,
          null,
          null,
          null,
          null,
          null,
          null,
          null,
          null,
          null,
          null,
          null,
          null,
          null,
          null,
          null,
          null,
          null,
          null,
          null,
          null,
          null,
          null,
          null,
          null,
          null,
          null,
          null,
          null,
          null,
          null,
          null,
          null,
          null,
          null,
          null,
          null,
          null,
          null,
          null,
          null,
          null,
          null,
          null,
          null,
          null,
          null,
          null,
          null,
          null,
          null,
          null,
          null,
          null,
          null,
          null,
          null,
          null,
          null,
          null,
          null,
          null,
          null,
          null,
          null,
          null,
          null,
          null,
          null,
          null,
          null,
          null,
          null,
          null,
          "2000000 SYP",
          null,
          null,
          null,
          null,
          null,
          null,
          null,
          null,
          null,
          null,
          null,
          null,
          null,
          null,
          null,
          null,
          null,
          null,
          null,
          null,
          null,
          null,
          null,
          null,
          null,
          null,
          null,
          null,
          null,
          null,
          null,
          null,
          null,
          null,
          null,
          null,
          null,
          null,
          "1600000 SYP",
          null,
          null,
          null,
          null,
          null,
          null,
          null,
          null,
          null,
          null,
          null,
          null,
          null,
          null,
          null,
          null,
          null,
          "350000 SYP",
          null,
          null,
          null,
          "100 USD",
          null,
          null,
          null,
          null,
          null,
          null,
          null,
          null,
          null,
          null,
          null,
          null,
          null,
          null,
          null,
          null,
          null,
          null,
          null,
          null,
          null,
          null,
          null,
          null,
          null,
          null,
          null,
          null,
          null,
          null,
          null,
          null,
          null,
          null,
          null,
          null,
          null,
          null,
          null,
          null,
          null,
          null,
          null,
          null,
          null,
          "1000 - 400 USD",
          "1000 - 4000 USD",
          null,
          null,
          null,
          null,
          null,
          null,
          null,
          "1000000 - 2000000 SYP",
          null,
          null,
          null
         ],
         "xaxis": "x",
         "yaxis": "y"
        }
       ],
       "layout": {
        "barmode": "relative",
        "legend": {
         "title": {
          "text": "variable"
         },
         "tracegroupgap": 0
        },
        "margin": {
         "t": 60
        },
        "template": {
         "data": {
          "bar": [
           {
            "error_x": {
             "color": "#2a3f5f"
            },
            "error_y": {
             "color": "#2a3f5f"
            },
            "marker": {
             "line": {
              "color": "#E5ECF6",
              "width": 0.5
             },
             "pattern": {
              "fillmode": "overlay",
              "size": 10,
              "solidity": 0.2
             }
            },
            "type": "bar"
           }
          ],
          "barpolar": [
           {
            "marker": {
             "line": {
              "color": "#E5ECF6",
              "width": 0.5
             },
             "pattern": {
              "fillmode": "overlay",
              "size": 10,
              "solidity": 0.2
             }
            },
            "type": "barpolar"
           }
          ],
          "carpet": [
           {
            "aaxis": {
             "endlinecolor": "#2a3f5f",
             "gridcolor": "white",
             "linecolor": "white",
             "minorgridcolor": "white",
             "startlinecolor": "#2a3f5f"
            },
            "baxis": {
             "endlinecolor": "#2a3f5f",
             "gridcolor": "white",
             "linecolor": "white",
             "minorgridcolor": "white",
             "startlinecolor": "#2a3f5f"
            },
            "type": "carpet"
           }
          ],
          "choropleth": [
           {
            "colorbar": {
             "outlinewidth": 0,
             "ticks": ""
            },
            "type": "choropleth"
           }
          ],
          "contour": [
           {
            "colorbar": {
             "outlinewidth": 0,
             "ticks": ""
            },
            "colorscale": [
             [
              0,
              "#0d0887"
             ],
             [
              0.1111111111111111,
              "#46039f"
             ],
             [
              0.2222222222222222,
              "#7201a8"
             ],
             [
              0.3333333333333333,
              "#9c179e"
             ],
             [
              0.4444444444444444,
              "#bd3786"
             ],
             [
              0.5555555555555556,
              "#d8576b"
             ],
             [
              0.6666666666666666,
              "#ed7953"
             ],
             [
              0.7777777777777778,
              "#fb9f3a"
             ],
             [
              0.8888888888888888,
              "#fdca26"
             ],
             [
              1,
              "#f0f921"
             ]
            ],
            "type": "contour"
           }
          ],
          "contourcarpet": [
           {
            "colorbar": {
             "outlinewidth": 0,
             "ticks": ""
            },
            "type": "contourcarpet"
           }
          ],
          "heatmap": [
           {
            "colorbar": {
             "outlinewidth": 0,
             "ticks": ""
            },
            "colorscale": [
             [
              0,
              "#0d0887"
             ],
             [
              0.1111111111111111,
              "#46039f"
             ],
             [
              0.2222222222222222,
              "#7201a8"
             ],
             [
              0.3333333333333333,
              "#9c179e"
             ],
             [
              0.4444444444444444,
              "#bd3786"
             ],
             [
              0.5555555555555556,
              "#d8576b"
             ],
             [
              0.6666666666666666,
              "#ed7953"
             ],
             [
              0.7777777777777778,
              "#fb9f3a"
             ],
             [
              0.8888888888888888,
              "#fdca26"
             ],
             [
              1,
              "#f0f921"
             ]
            ],
            "type": "heatmap"
           }
          ],
          "heatmapgl": [
           {
            "colorbar": {
             "outlinewidth": 0,
             "ticks": ""
            },
            "colorscale": [
             [
              0,
              "#0d0887"
             ],
             [
              0.1111111111111111,
              "#46039f"
             ],
             [
              0.2222222222222222,
              "#7201a8"
             ],
             [
              0.3333333333333333,
              "#9c179e"
             ],
             [
              0.4444444444444444,
              "#bd3786"
             ],
             [
              0.5555555555555556,
              "#d8576b"
             ],
             [
              0.6666666666666666,
              "#ed7953"
             ],
             [
              0.7777777777777778,
              "#fb9f3a"
             ],
             [
              0.8888888888888888,
              "#fdca26"
             ],
             [
              1,
              "#f0f921"
             ]
            ],
            "type": "heatmapgl"
           }
          ],
          "histogram": [
           {
            "marker": {
             "pattern": {
              "fillmode": "overlay",
              "size": 10,
              "solidity": 0.2
             }
            },
            "type": "histogram"
           }
          ],
          "histogram2d": [
           {
            "colorbar": {
             "outlinewidth": 0,
             "ticks": ""
            },
            "colorscale": [
             [
              0,
              "#0d0887"
             ],
             [
              0.1111111111111111,
              "#46039f"
             ],
             [
              0.2222222222222222,
              "#7201a8"
             ],
             [
              0.3333333333333333,
              "#9c179e"
             ],
             [
              0.4444444444444444,
              "#bd3786"
             ],
             [
              0.5555555555555556,
              "#d8576b"
             ],
             [
              0.6666666666666666,
              "#ed7953"
             ],
             [
              0.7777777777777778,
              "#fb9f3a"
             ],
             [
              0.8888888888888888,
              "#fdca26"
             ],
             [
              1,
              "#f0f921"
             ]
            ],
            "type": "histogram2d"
           }
          ],
          "histogram2dcontour": [
           {
            "colorbar": {
             "outlinewidth": 0,
             "ticks": ""
            },
            "colorscale": [
             [
              0,
              "#0d0887"
             ],
             [
              0.1111111111111111,
              "#46039f"
             ],
             [
              0.2222222222222222,
              "#7201a8"
             ],
             [
              0.3333333333333333,
              "#9c179e"
             ],
             [
              0.4444444444444444,
              "#bd3786"
             ],
             [
              0.5555555555555556,
              "#d8576b"
             ],
             [
              0.6666666666666666,
              "#ed7953"
             ],
             [
              0.7777777777777778,
              "#fb9f3a"
             ],
             [
              0.8888888888888888,
              "#fdca26"
             ],
             [
              1,
              "#f0f921"
             ]
            ],
            "type": "histogram2dcontour"
           }
          ],
          "mesh3d": [
           {
            "colorbar": {
             "outlinewidth": 0,
             "ticks": ""
            },
            "type": "mesh3d"
           }
          ],
          "parcoords": [
           {
            "line": {
             "colorbar": {
              "outlinewidth": 0,
              "ticks": ""
             }
            },
            "type": "parcoords"
           }
          ],
          "pie": [
           {
            "automargin": true,
            "type": "pie"
           }
          ],
          "scatter": [
           {
            "fillpattern": {
             "fillmode": "overlay",
             "size": 10,
             "solidity": 0.2
            },
            "type": "scatter"
           }
          ],
          "scatter3d": [
           {
            "line": {
             "colorbar": {
              "outlinewidth": 0,
              "ticks": ""
             }
            },
            "marker": {
             "colorbar": {
              "outlinewidth": 0,
              "ticks": ""
             }
            },
            "type": "scatter3d"
           }
          ],
          "scattercarpet": [
           {
            "marker": {
             "colorbar": {
              "outlinewidth": 0,
              "ticks": ""
             }
            },
            "type": "scattercarpet"
           }
          ],
          "scattergeo": [
           {
            "marker": {
             "colorbar": {
              "outlinewidth": 0,
              "ticks": ""
             }
            },
            "type": "scattergeo"
           }
          ],
          "scattergl": [
           {
            "marker": {
             "colorbar": {
              "outlinewidth": 0,
              "ticks": ""
             }
            },
            "type": "scattergl"
           }
          ],
          "scattermapbox": [
           {
            "marker": {
             "colorbar": {
              "outlinewidth": 0,
              "ticks": ""
             }
            },
            "type": "scattermapbox"
           }
          ],
          "scatterpolar": [
           {
            "marker": {
             "colorbar": {
              "outlinewidth": 0,
              "ticks": ""
             }
            },
            "type": "scatterpolar"
           }
          ],
          "scatterpolargl": [
           {
            "marker": {
             "colorbar": {
              "outlinewidth": 0,
              "ticks": ""
             }
            },
            "type": "scatterpolargl"
           }
          ],
          "scatterternary": [
           {
            "marker": {
             "colorbar": {
              "outlinewidth": 0,
              "ticks": ""
             }
            },
            "type": "scatterternary"
           }
          ],
          "surface": [
           {
            "colorbar": {
             "outlinewidth": 0,
             "ticks": ""
            },
            "colorscale": [
             [
              0,
              "#0d0887"
             ],
             [
              0.1111111111111111,
              "#46039f"
             ],
             [
              0.2222222222222222,
              "#7201a8"
             ],
             [
              0.3333333333333333,
              "#9c179e"
             ],
             [
              0.4444444444444444,
              "#bd3786"
             ],
             [
              0.5555555555555556,
              "#d8576b"
             ],
             [
              0.6666666666666666,
              "#ed7953"
             ],
             [
              0.7777777777777778,
              "#fb9f3a"
             ],
             [
              0.8888888888888888,
              "#fdca26"
             ],
             [
              1,
              "#f0f921"
             ]
            ],
            "type": "surface"
           }
          ],
          "table": [
           {
            "cells": {
             "fill": {
              "color": "#EBF0F8"
             },
             "line": {
              "color": "white"
             }
            },
            "header": {
             "fill": {
              "color": "#C8D4E3"
             },
             "line": {
              "color": "white"
             }
            },
            "type": "table"
           }
          ]
         },
         "layout": {
          "annotationdefaults": {
           "arrowcolor": "#2a3f5f",
           "arrowhead": 0,
           "arrowwidth": 1
          },
          "autotypenumbers": "strict",
          "coloraxis": {
           "colorbar": {
            "outlinewidth": 0,
            "ticks": ""
           }
          },
          "colorscale": {
           "diverging": [
            [
             0,
             "#8e0152"
            ],
            [
             0.1,
             "#c51b7d"
            ],
            [
             0.2,
             "#de77ae"
            ],
            [
             0.3,
             "#f1b6da"
            ],
            [
             0.4,
             "#fde0ef"
            ],
            [
             0.5,
             "#f7f7f7"
            ],
            [
             0.6,
             "#e6f5d0"
            ],
            [
             0.7,
             "#b8e186"
            ],
            [
             0.8,
             "#7fbc41"
            ],
            [
             0.9,
             "#4d9221"
            ],
            [
             1,
             "#276419"
            ]
           ],
           "sequential": [
            [
             0,
             "#0d0887"
            ],
            [
             0.1111111111111111,
             "#46039f"
            ],
            [
             0.2222222222222222,
             "#7201a8"
            ],
            [
             0.3333333333333333,
             "#9c179e"
            ],
            [
             0.4444444444444444,
             "#bd3786"
            ],
            [
             0.5555555555555556,
             "#d8576b"
            ],
            [
             0.6666666666666666,
             "#ed7953"
            ],
            [
             0.7777777777777778,
             "#fb9f3a"
            ],
            [
             0.8888888888888888,
             "#fdca26"
            ],
            [
             1,
             "#f0f921"
            ]
           ],
           "sequentialminus": [
            [
             0,
             "#0d0887"
            ],
            [
             0.1111111111111111,
             "#46039f"
            ],
            [
             0.2222222222222222,
             "#7201a8"
            ],
            [
             0.3333333333333333,
             "#9c179e"
            ],
            [
             0.4444444444444444,
             "#bd3786"
            ],
            [
             0.5555555555555556,
             "#d8576b"
            ],
            [
             0.6666666666666666,
             "#ed7953"
            ],
            [
             0.7777777777777778,
             "#fb9f3a"
            ],
            [
             0.8888888888888888,
             "#fdca26"
            ],
            [
             1,
             "#f0f921"
            ]
           ]
          },
          "colorway": [
           "#636efa",
           "#EF553B",
           "#00cc96",
           "#ab63fa",
           "#FFA15A",
           "#19d3f3",
           "#FF6692",
           "#B6E880",
           "#FF97FF",
           "#FECB52"
          ],
          "font": {
           "color": "#2a3f5f"
          },
          "geo": {
           "bgcolor": "white",
           "lakecolor": "white",
           "landcolor": "#E5ECF6",
           "showlakes": true,
           "showland": true,
           "subunitcolor": "white"
          },
          "hoverlabel": {
           "align": "left"
          },
          "hovermode": "closest",
          "mapbox": {
           "style": "light"
          },
          "paper_bgcolor": "white",
          "plot_bgcolor": "#E5ECF6",
          "polar": {
           "angularaxis": {
            "gridcolor": "white",
            "linecolor": "white",
            "ticks": ""
           },
           "bgcolor": "#E5ECF6",
           "radialaxis": {
            "gridcolor": "white",
            "linecolor": "white",
            "ticks": ""
           }
          },
          "scene": {
           "xaxis": {
            "backgroundcolor": "#E5ECF6",
            "gridcolor": "white",
            "gridwidth": 2,
            "linecolor": "white",
            "showbackground": true,
            "ticks": "",
            "zerolinecolor": "white"
           },
           "yaxis": {
            "backgroundcolor": "#E5ECF6",
            "gridcolor": "white",
            "gridwidth": 2,
            "linecolor": "white",
            "showbackground": true,
            "ticks": "",
            "zerolinecolor": "white"
           },
           "zaxis": {
            "backgroundcolor": "#E5ECF6",
            "gridcolor": "white",
            "gridwidth": 2,
            "linecolor": "white",
            "showbackground": true,
            "ticks": "",
            "zerolinecolor": "white"
           }
          },
          "shapedefaults": {
           "line": {
            "color": "#2a3f5f"
           }
          },
          "ternary": {
           "aaxis": {
            "gridcolor": "white",
            "linecolor": "white",
            "ticks": ""
           },
           "baxis": {
            "gridcolor": "white",
            "linecolor": "white",
            "ticks": ""
           },
           "bgcolor": "#E5ECF6",
           "caxis": {
            "gridcolor": "white",
            "linecolor": "white",
            "ticks": ""
           }
          },
          "title": {
           "x": 0.05
          },
          "xaxis": {
           "automargin": true,
           "gridcolor": "white",
           "linecolor": "white",
           "ticks": "",
           "title": {
            "standoff": 15
           },
           "zerolinecolor": "white",
           "zerolinewidth": 2
          },
          "yaxis": {
           "automargin": true,
           "gridcolor": "white",
           "linecolor": "white",
           "ticks": "",
           "title": {
            "standoff": 15
           },
           "zerolinecolor": "white",
           "zerolinewidth": 2
          }
         }
        },
        "xaxis": {
         "anchor": "y",
         "domain": [
          0,
          1
         ],
         "title": {
          "text": "value"
         }
        },
        "yaxis": {
         "anchor": "x",
         "domain": [
          0,
          1
         ],
         "title": {
          "text": "count"
         }
        }
       }
      }
     },
     "metadata": {},
     "output_type": "display_data"
    }
   ],
   "source": [
    "px.histogram(data.salary)"
   ]
  },
  {
   "cell_type": "code",
   "execution_count": 6,
   "metadata": {},
   "outputs": [
    {
     "data": {
      "application/vnd.plotly.v1+json": {
       "config": {
        "plotlyServerURL": "https://plot.ly"
       },
       "data": [
        {
         "alignmentgroup": "True",
         "bingroup": "x",
         "hovertemplate": "location=%{x}<br>count=%{y}<extra></extra>",
         "legendgroup": "",
         "marker": {
          "color": "#636efa",
          "pattern": {
           "shape": ""
          }
         },
         "name": "",
         "offsetgroup": "",
         "orientation": "v",
         "showlegend": false,
         "type": "histogram",
         "x": [
          null,
          "damascus",
          "damascus",
          "damascus",
          "remotely",
          null,
          null,
          null,
          "damascus",
          "damascus",
          "damascus",
          "damascus",
          "damascus",
          "damascus",
          "damascus",
          "damascus",
          "damascus",
          "(hybrid) remotely damascus",
          "(hybrid) remotely damascus",
          null,
          "remotely",
          "damascus",
          null,
          "damascus",
          "damascus",
          "qassa damascus syria",
          "(hybrid) remotely damascus",
          "damascus",
          "damascus",
          null,
          "damascus",
          "remotely",
          null,
          null,
          null,
          null,
          null,
          null,
          null,
          "damascus",
          "damascus",
          "damascus",
          "damascus",
          "damascus",
          "remotely",
          "damascus",
          "(hybrid) remotely istanbul turkey",
          null,
          null,
          "damascus",
          null,
          null,
          "iraq",
          "damascus",
          null,
          "damascus",
          null,
          "damascus",
          "remotely",
          null,
          null,
          null,
          "damascus",
          "remotely",
          "damascus",
          "remotely",
          "remotely",
          "remotely",
          null,
          "damascus syria",
          "syria",
          "syria",
          "remotely",
          "damascus",
          "damascus",
          "damascus syria",
          "damascus",
          "remotely",
          null,
          "remotely",
          "damascus",
          "remotely",
          "damascus syria",
          "damascus",
          "damascus",
          null,
          "syria",
          "damascus",
          "damascus",
          "dubai",
          "(hybrid) remotely damascus",
          "damascus syria",
          "damascus syria",
          null,
          "damascus syria",
          null,
          "damascus syria",
          "damascus syria",
          "damascus syria",
          "damascus",
          "damascus syria",
          "damascus syria",
          "damascus syria",
          "damascus syria",
          "damascus syria",
          "remotely",
          "damascus syria",
          "damascus syria",
          "remotely",
          "damascus",
          "remotely",
          "damascus syria",
          "damascus",
          null,
          "lebanon",
          "remotely",
          null,
          "damascus",
          "damascus",
          "(hybrid) remotely istanbul turkey",
          "damascus",
          "damascus",
          "damascus",
          "damascus",
          "damascus syria",
          null,
          null,
          "damascus",
          null,
          null,
          null,
          "syria damascus",
          "syria damascus",
          "syria",
          "remotely",
          "damascus",
          "damascus",
          null,
          null,
          "damascus syria",
          "damascus",
          "damascus",
          "(hybrid) remotely damascus",
          null,
          "remotely",
          null,
          "lebanon",
          "remotely",
          null,
          "remotely",
          "damascus",
          null,
          "damascus",
          "damascus",
          "damascus",
          "(hybrid) remotely istanbul turkey",
          "damascus",
          "remotely",
          "remotely",
          "remotely",
          "remotely",
          "remotely",
          "remotely",
          "damascus syria",
          "damascus",
          "damascus",
          "damascus syria",
          "(hybrid) remotely istanbul turkey",
          "damascus syria",
          null,
          null,
          "damascus syria",
          "damascus syria",
          "damascus syria",
          "damascus syria",
          "damascus syria",
          "damascus syria",
          null,
          "remotely",
          "damascus syria",
          "damascus syria",
          "damascus",
          null,
          "damascus syria",
          "remotely",
          null,
          null,
          null,
          "remotely",
          "damascus syria",
          "remotely",
          "damascus",
          "damascus",
          null,
          "remotely",
          "remotely",
          "remotely",
          "remotely",
          "damascus",
          "remotely",
          "remotely",
          "damascus syria",
          "damascus syria",
          null,
          null,
          null,
          "damascus syria",
          "damascus",
          "damascus baghdad",
          "remotely",
          null,
          null,
          "damascus",
          "damascus",
          "(hybrid) remotely damascus",
          null,
          "damascus syria",
          "qassa damascus syria",
          "damascus syria",
          "damascus syria",
          null,
          null,
          "damascus syria",
          "dubai",
          null,
          "dubai",
          "remotely",
          "remotely",
          null,
          null,
          "lebanon",
          "remotely",
          "remotely",
          "remotely",
          "damascus",
          "remotely",
          "remotely",
          "remotely",
          "damascus",
          "damascus",
          "remotely",
          "damascus syria",
          "damascus syria",
          "damascus",
          null,
          null,
          "remotely",
          "damascus",
          "damascus",
          "damascus",
          "damascus",
          "damascus syria",
          "damascus",
          "remotely",
          null,
          null,
          "lebanon",
          null,
          "remotely",
          "remotely",
          "remotely",
          "remotely",
          "remotely",
          "damascus",
          "remotely",
          "damascus",
          "remotely",
          "damascus",
          "syria damascus",
          "damascus",
          null,
          null,
          null,
          "damascus",
          null,
          null,
          null,
          null,
          null,
          "remotely",
          "remotely",
          "remotely",
          null,
          null,
          "remotely",
          "damascus",
          "damascus",
          "remotely",
          "remotely",
          "remotely",
          null,
          null,
          "remotely",
          "lebanon",
          null,
          null,
          "damascus",
          null,
          null,
          "remotely",
          "damascus baghdad",
          "damascus",
          "damascus",
          "damascus",
          "(hybrid) remotely damascus",
          "damascus syria",
          null,
          null,
          null,
          null,
          null,
          null,
          "remotely",
          null,
          null,
          null,
          "damascus syria",
          "remotely",
          "remotely",
          null,
          null,
          null,
          "remotely",
          null,
          null,
          null,
          "damascus",
          null,
          null,
          null,
          "(hybrid) remotely damascus",
          "remotely",
          null,
          "remotely",
          null,
          "lebanon",
          "remotely",
          null,
          "(hybrid) remotely damascus",
          "remotely",
          "remotely",
          null,
          "damascus syria",
          "damascus",
          "damascus",
          "damascus",
          "damascus",
          null,
          null,
          "damascus",
          "damascus syria",
          "damascus",
          "damascus",
          "(hybrid) remotely damascus",
          null,
          "(hybrid) remotely damascus",
          null,
          "damascus",
          "damascus",
          "damascus",
          "remotely",
          null,
          null,
          null,
          null,
          null,
          "remotely",
          "remotely",
          "remotely",
          "damascus",
          "damascus",
          "damascus",
          null,
          null,
          "remotely",
          "lebanon",
          "remotely",
          "damascus",
          "damascus syria",
          "damascus",
          "syria",
          "damascus",
          "(hybrid) remotely damascus",
          "damascus",
          "damascus",
          "damascus syria",
          null,
          "damascus",
          "damascus syria",
          null,
          "remotely",
          null,
          null,
          "syria damascus",
          "damascus syria",
          "damascus syria",
          "damascus syria",
          null,
          "damascus syria",
          "damascus syria",
          "remotely",
          "(hybrid) remotely damascus",
          "damascus syria",
          "damascus syria",
          "damascus",
          "damascus",
          "remotely",
          null,
          "lebanon",
          "remotely",
          null,
          "damascus",
          "damascus",
          "damascus",
          "damascus syria",
          "damascus",
          "damascus",
          "damascus syria",
          "damascus",
          "damascus syria",
          "remotely",
          null,
          "(hybrid) remotely damascus",
          "remotely",
          null,
          "remotely",
          "remotely",
          "damascus",
          "remotely",
          null,
          "remotely",
          null,
          "damascus",
          "damascus latakia",
          "damascus",
          "damascus syria",
          "damascus syria",
          "damascus syria",
          "damascus syria",
          "damascus syria",
          "damascus syria",
          "damascus syria",
          "damascus",
          "damascus",
          "damascus syria",
          "damascus",
          "damascus",
          "damascus",
          "damascus syria",
          null,
          "remotely",
          null,
          "remotely",
          null,
          "damascus",
          "damascus",
          "remotely",
          "remotely",
          "damascus syria",
          null,
          "damascus",
          null,
          "damascus syria",
          "damascus syria",
          null,
          "syria",
          "damascus",
          "damascus",
          "damascus",
          "syria damascus",
          "damascus adnan",
          "damascus",
          "damascus",
          "damascus",
          null,
          "remotely",
          "damascus",
          "damascus",
          "remotely",
          "(hybrid) remotely lebanon syria egypt turkey",
          "remotely",
          "(hybrid) remotely lebanon syria egypt turkey",
          "remotely",
          "damascus",
          "syria",
          "remotely",
          null,
          "remotely",
          "remotely",
          null,
          "damascus syria",
          "damascus",
          "damascus",
          "remotely",
          "(hybrid) remotely lebanon syria egypt turkey",
          "damascus",
          null,
          "remotely",
          "damascus",
          "remotely",
          null,
          "remotely",
          "remotely",
          null,
          "damascus syria",
          null,
          null,
          null,
          null,
          null,
          "damascus syria",
          "damascus",
          "(hybrid) remotely damascus",
          "remotely",
          "remotely",
          "damascus",
          "damascus",
          "damascus",
          "syria damascus",
          "damascus adnan",
          null,
          "remotely",
          "remotely",
          "remotely",
          null,
          "damascus syria",
          "damascus",
          null,
          "damascus syria",
          null,
          null,
          "remotely",
          null,
          null,
          "damascus",
          "remotely",
          null,
          "damascus syria",
          null,
          "remotely",
          "remotely",
          "remotely",
          "damascus",
          "remotely",
          null,
          null,
          "damascus",
          null,
          null,
          "damascus",
          "syria",
          "syria",
          "damascus",
          "damascus",
          "remotely",
          "remotely",
          null,
          "remotely",
          null,
          "damascus syria",
          "syria",
          "damascus",
          null,
          null,
          "damascus",
          "damascus",
          null,
          "remotely",
          "remotely",
          "remotely",
          "remotely",
          null,
          "damascus syria",
          null,
          "remotely",
          "remotely",
          "damascus",
          "syria",
          null,
          "damascus",
          null,
          null,
          "damascus",
          null,
          "remotely",
          null,
          "damascus syria",
          "remotely",
          "remotely",
          "damascus",
          null,
          "damascus",
          "damascus",
          "damascus",
          "damascus",
          "damascus",
          "remotely",
          "remotely",
          "damascus",
          "damascus",
          null,
          null,
          "damascus",
          "damascus",
          "syria",
          "syria damascus",
          "damascus",
          "remotely",
          "remotely",
          null,
          "damascus syria",
          "syria damascus",
          "damascus",
          null,
          null,
          null,
          "germany",
          "remotely",
          "remotely",
          null,
          "damascus syria",
          null,
          "remotely",
          "remotely",
          "remotely",
          null,
          "remotely",
          "damascus",
          "damascus",
          null,
          "damascus syria",
          "damascus",
          "damascus",
          "damascus syria",
          "remotely",
          null,
          "remotely",
          "remotely",
          null,
          "damascus",
          "remotely",
          null,
          "syria",
          "remotely",
          "damascus",
          "damascus",
          "damascus",
          "damascus",
          "damascus",
          null,
          "dubai",
          null,
          "damascus",
          null,
          "damascus",
          "remotely",
          "remotely",
          "remotely",
          "remotely",
          "damascus",
          null,
          "damascus",
          "damascus",
          null,
          "damascus",
          "remotely",
          null,
          "remotely",
          "damascus",
          "damascus",
          null,
          "remotely",
          null,
          "remotely",
          null,
          "remotely",
          "damascus",
          null,
          null,
          null,
          null,
          null,
          null,
          "remotely",
          null,
          null,
          "damascus",
          "damascus",
          null,
          "damascus",
          null,
          null,
          null,
          "damascus",
          "damascus",
          "damascus",
          "damascus",
          "dubai",
          "damascus",
          null,
          "damascus",
          null,
          "(hybrid) remotely damascus",
          "(hybrid) remotely damascus",
          null,
          null,
          null,
          null,
          null,
          null,
          null,
          null,
          null,
          null,
          null,
          null,
          null,
          null,
          "damascus syria",
          null,
          null,
          null,
          null,
          "damascus",
          null,
          null,
          "remotely",
          null,
          "damascus",
          "damascus",
          "damascus",
          "damascus",
          null,
          "damascus",
          null,
          "remotely",
          null,
          "damascus syria",
          null,
          null,
          "remotely",
          "remotely",
          null,
          null,
          null,
          null,
          null,
          null,
          null,
          null,
          null,
          null,
          "damascus",
          "syria damascus",
          "damascus",
          "damascus",
          "remotely",
          "damascus",
          null,
          null,
          null,
          null,
          null,
          null,
          null,
          null,
          "damascus",
          "remotely",
          "remotely",
          "remotely",
          null,
          "damascus syria",
          null,
          "remotely",
          null,
          "damascus",
          null,
          "remotely",
          "damascus",
          "syria damascus",
          null,
          "damascus",
          "damascus",
          "remotely",
          null,
          "remotely",
          "damascus",
          "damascus",
          "remotely",
          "damascus",
          "damascus",
          "damascus syria",
          "remotely",
          "damascus",
          "damascus",
          "(hybrid) remotely damascus",
          "damascus",
          "damascus",
          "syria",
          "damascus",
          null,
          null,
          null,
          "damascus",
          "damascus",
          "damascus syria syria",
          "damascus",
          "remotely",
          "remotely",
          "damascus syria",
          "damascus syria",
          "damascus",
          "remotely",
          "remotely",
          "damascus",
          "damascus syria",
          "damascus syria",
          null,
          "dubai",
          "remotely",
          "damascus",
          "damascus",
          "damascus",
          "damascus",
          "damascus",
          null,
          "damascus syria",
          "damascus syria",
          "damascus",
          "damascus",
          "damascus",
          "damascus",
          "remotely",
          "remotely",
          null,
          "damascus syria",
          "damascus",
          null,
          "damascus",
          "damascus syria",
          null,
          "remotely",
          null,
          "remotely",
          null,
          "damascus",
          null,
          "damascus",
          null,
          "damascus syria",
          null,
          "remotely",
          "remotely",
          "damascus",
          "damascus",
          "damascus syria",
          "dubai",
          "(hybrid) remotely istanbul turkey",
          "damascus",
          "damascus syria",
          "remotely",
          "damascus syria",
          "remotely",
          "damascus syria",
          null,
          "damascus dubai baghdad",
          null,
          null,
          null,
          null,
          null,
          "(hybrid) remotely istanbul turkey",
          null,
          null,
          null,
          null,
          "damascus"
         ],
         "xaxis": "x",
         "yaxis": "y"
        }
       ],
       "layout": {
        "barmode": "relative",
        "legend": {
         "tracegroupgap": 0
        },
        "margin": {
         "t": 60
        },
        "template": {
         "data": {
          "bar": [
           {
            "error_x": {
             "color": "#2a3f5f"
            },
            "error_y": {
             "color": "#2a3f5f"
            },
            "marker": {
             "line": {
              "color": "#E5ECF6",
              "width": 0.5
             },
             "pattern": {
              "fillmode": "overlay",
              "size": 10,
              "solidity": 0.2
             }
            },
            "type": "bar"
           }
          ],
          "barpolar": [
           {
            "marker": {
             "line": {
              "color": "#E5ECF6",
              "width": 0.5
             },
             "pattern": {
              "fillmode": "overlay",
              "size": 10,
              "solidity": 0.2
             }
            },
            "type": "barpolar"
           }
          ],
          "carpet": [
           {
            "aaxis": {
             "endlinecolor": "#2a3f5f",
             "gridcolor": "white",
             "linecolor": "white",
             "minorgridcolor": "white",
             "startlinecolor": "#2a3f5f"
            },
            "baxis": {
             "endlinecolor": "#2a3f5f",
             "gridcolor": "white",
             "linecolor": "white",
             "minorgridcolor": "white",
             "startlinecolor": "#2a3f5f"
            },
            "type": "carpet"
           }
          ],
          "choropleth": [
           {
            "colorbar": {
             "outlinewidth": 0,
             "ticks": ""
            },
            "type": "choropleth"
           }
          ],
          "contour": [
           {
            "colorbar": {
             "outlinewidth": 0,
             "ticks": ""
            },
            "colorscale": [
             [
              0,
              "#0d0887"
             ],
             [
              0.1111111111111111,
              "#46039f"
             ],
             [
              0.2222222222222222,
              "#7201a8"
             ],
             [
              0.3333333333333333,
              "#9c179e"
             ],
             [
              0.4444444444444444,
              "#bd3786"
             ],
             [
              0.5555555555555556,
              "#d8576b"
             ],
             [
              0.6666666666666666,
              "#ed7953"
             ],
             [
              0.7777777777777778,
              "#fb9f3a"
             ],
             [
              0.8888888888888888,
              "#fdca26"
             ],
             [
              1,
              "#f0f921"
             ]
            ],
            "type": "contour"
           }
          ],
          "contourcarpet": [
           {
            "colorbar": {
             "outlinewidth": 0,
             "ticks": ""
            },
            "type": "contourcarpet"
           }
          ],
          "heatmap": [
           {
            "colorbar": {
             "outlinewidth": 0,
             "ticks": ""
            },
            "colorscale": [
             [
              0,
              "#0d0887"
             ],
             [
              0.1111111111111111,
              "#46039f"
             ],
             [
              0.2222222222222222,
              "#7201a8"
             ],
             [
              0.3333333333333333,
              "#9c179e"
             ],
             [
              0.4444444444444444,
              "#bd3786"
             ],
             [
              0.5555555555555556,
              "#d8576b"
             ],
             [
              0.6666666666666666,
              "#ed7953"
             ],
             [
              0.7777777777777778,
              "#fb9f3a"
             ],
             [
              0.8888888888888888,
              "#fdca26"
             ],
             [
              1,
              "#f0f921"
             ]
            ],
            "type": "heatmap"
           }
          ],
          "heatmapgl": [
           {
            "colorbar": {
             "outlinewidth": 0,
             "ticks": ""
            },
            "colorscale": [
             [
              0,
              "#0d0887"
             ],
             [
              0.1111111111111111,
              "#46039f"
             ],
             [
              0.2222222222222222,
              "#7201a8"
             ],
             [
              0.3333333333333333,
              "#9c179e"
             ],
             [
              0.4444444444444444,
              "#bd3786"
             ],
             [
              0.5555555555555556,
              "#d8576b"
             ],
             [
              0.6666666666666666,
              "#ed7953"
             ],
             [
              0.7777777777777778,
              "#fb9f3a"
             ],
             [
              0.8888888888888888,
              "#fdca26"
             ],
             [
              1,
              "#f0f921"
             ]
            ],
            "type": "heatmapgl"
           }
          ],
          "histogram": [
           {
            "marker": {
             "pattern": {
              "fillmode": "overlay",
              "size": 10,
              "solidity": 0.2
             }
            },
            "type": "histogram"
           }
          ],
          "histogram2d": [
           {
            "colorbar": {
             "outlinewidth": 0,
             "ticks": ""
            },
            "colorscale": [
             [
              0,
              "#0d0887"
             ],
             [
              0.1111111111111111,
              "#46039f"
             ],
             [
              0.2222222222222222,
              "#7201a8"
             ],
             [
              0.3333333333333333,
              "#9c179e"
             ],
             [
              0.4444444444444444,
              "#bd3786"
             ],
             [
              0.5555555555555556,
              "#d8576b"
             ],
             [
              0.6666666666666666,
              "#ed7953"
             ],
             [
              0.7777777777777778,
              "#fb9f3a"
             ],
             [
              0.8888888888888888,
              "#fdca26"
             ],
             [
              1,
              "#f0f921"
             ]
            ],
            "type": "histogram2d"
           }
          ],
          "histogram2dcontour": [
           {
            "colorbar": {
             "outlinewidth": 0,
             "ticks": ""
            },
            "colorscale": [
             [
              0,
              "#0d0887"
             ],
             [
              0.1111111111111111,
              "#46039f"
             ],
             [
              0.2222222222222222,
              "#7201a8"
             ],
             [
              0.3333333333333333,
              "#9c179e"
             ],
             [
              0.4444444444444444,
              "#bd3786"
             ],
             [
              0.5555555555555556,
              "#d8576b"
             ],
             [
              0.6666666666666666,
              "#ed7953"
             ],
             [
              0.7777777777777778,
              "#fb9f3a"
             ],
             [
              0.8888888888888888,
              "#fdca26"
             ],
             [
              1,
              "#f0f921"
             ]
            ],
            "type": "histogram2dcontour"
           }
          ],
          "mesh3d": [
           {
            "colorbar": {
             "outlinewidth": 0,
             "ticks": ""
            },
            "type": "mesh3d"
           }
          ],
          "parcoords": [
           {
            "line": {
             "colorbar": {
              "outlinewidth": 0,
              "ticks": ""
             }
            },
            "type": "parcoords"
           }
          ],
          "pie": [
           {
            "automargin": true,
            "type": "pie"
           }
          ],
          "scatter": [
           {
            "fillpattern": {
             "fillmode": "overlay",
             "size": 10,
             "solidity": 0.2
            },
            "type": "scatter"
           }
          ],
          "scatter3d": [
           {
            "line": {
             "colorbar": {
              "outlinewidth": 0,
              "ticks": ""
             }
            },
            "marker": {
             "colorbar": {
              "outlinewidth": 0,
              "ticks": ""
             }
            },
            "type": "scatter3d"
           }
          ],
          "scattercarpet": [
           {
            "marker": {
             "colorbar": {
              "outlinewidth": 0,
              "ticks": ""
             }
            },
            "type": "scattercarpet"
           }
          ],
          "scattergeo": [
           {
            "marker": {
             "colorbar": {
              "outlinewidth": 0,
              "ticks": ""
             }
            },
            "type": "scattergeo"
           }
          ],
          "scattergl": [
           {
            "marker": {
             "colorbar": {
              "outlinewidth": 0,
              "ticks": ""
             }
            },
            "type": "scattergl"
           }
          ],
          "scattermapbox": [
           {
            "marker": {
             "colorbar": {
              "outlinewidth": 0,
              "ticks": ""
             }
            },
            "type": "scattermapbox"
           }
          ],
          "scatterpolar": [
           {
            "marker": {
             "colorbar": {
              "outlinewidth": 0,
              "ticks": ""
             }
            },
            "type": "scatterpolar"
           }
          ],
          "scatterpolargl": [
           {
            "marker": {
             "colorbar": {
              "outlinewidth": 0,
              "ticks": ""
             }
            },
            "type": "scatterpolargl"
           }
          ],
          "scatterternary": [
           {
            "marker": {
             "colorbar": {
              "outlinewidth": 0,
              "ticks": ""
             }
            },
            "type": "scatterternary"
           }
          ],
          "surface": [
           {
            "colorbar": {
             "outlinewidth": 0,
             "ticks": ""
            },
            "colorscale": [
             [
              0,
              "#0d0887"
             ],
             [
              0.1111111111111111,
              "#46039f"
             ],
             [
              0.2222222222222222,
              "#7201a8"
             ],
             [
              0.3333333333333333,
              "#9c179e"
             ],
             [
              0.4444444444444444,
              "#bd3786"
             ],
             [
              0.5555555555555556,
              "#d8576b"
             ],
             [
              0.6666666666666666,
              "#ed7953"
             ],
             [
              0.7777777777777778,
              "#fb9f3a"
             ],
             [
              0.8888888888888888,
              "#fdca26"
             ],
             [
              1,
              "#f0f921"
             ]
            ],
            "type": "surface"
           }
          ],
          "table": [
           {
            "cells": {
             "fill": {
              "color": "#EBF0F8"
             },
             "line": {
              "color": "white"
             }
            },
            "header": {
             "fill": {
              "color": "#C8D4E3"
             },
             "line": {
              "color": "white"
             }
            },
            "type": "table"
           }
          ]
         },
         "layout": {
          "annotationdefaults": {
           "arrowcolor": "#2a3f5f",
           "arrowhead": 0,
           "arrowwidth": 1
          },
          "autotypenumbers": "strict",
          "coloraxis": {
           "colorbar": {
            "outlinewidth": 0,
            "ticks": ""
           }
          },
          "colorscale": {
           "diverging": [
            [
             0,
             "#8e0152"
            ],
            [
             0.1,
             "#c51b7d"
            ],
            [
             0.2,
             "#de77ae"
            ],
            [
             0.3,
             "#f1b6da"
            ],
            [
             0.4,
             "#fde0ef"
            ],
            [
             0.5,
             "#f7f7f7"
            ],
            [
             0.6,
             "#e6f5d0"
            ],
            [
             0.7,
             "#b8e186"
            ],
            [
             0.8,
             "#7fbc41"
            ],
            [
             0.9,
             "#4d9221"
            ],
            [
             1,
             "#276419"
            ]
           ],
           "sequential": [
            [
             0,
             "#0d0887"
            ],
            [
             0.1111111111111111,
             "#46039f"
            ],
            [
             0.2222222222222222,
             "#7201a8"
            ],
            [
             0.3333333333333333,
             "#9c179e"
            ],
            [
             0.4444444444444444,
             "#bd3786"
            ],
            [
             0.5555555555555556,
             "#d8576b"
            ],
            [
             0.6666666666666666,
             "#ed7953"
            ],
            [
             0.7777777777777778,
             "#fb9f3a"
            ],
            [
             0.8888888888888888,
             "#fdca26"
            ],
            [
             1,
             "#f0f921"
            ]
           ],
           "sequentialminus": [
            [
             0,
             "#0d0887"
            ],
            [
             0.1111111111111111,
             "#46039f"
            ],
            [
             0.2222222222222222,
             "#7201a8"
            ],
            [
             0.3333333333333333,
             "#9c179e"
            ],
            [
             0.4444444444444444,
             "#bd3786"
            ],
            [
             0.5555555555555556,
             "#d8576b"
            ],
            [
             0.6666666666666666,
             "#ed7953"
            ],
            [
             0.7777777777777778,
             "#fb9f3a"
            ],
            [
             0.8888888888888888,
             "#fdca26"
            ],
            [
             1,
             "#f0f921"
            ]
           ]
          },
          "colorway": [
           "#636efa",
           "#EF553B",
           "#00cc96",
           "#ab63fa",
           "#FFA15A",
           "#19d3f3",
           "#FF6692",
           "#B6E880",
           "#FF97FF",
           "#FECB52"
          ],
          "font": {
           "color": "#2a3f5f"
          },
          "geo": {
           "bgcolor": "white",
           "lakecolor": "white",
           "landcolor": "#E5ECF6",
           "showlakes": true,
           "showland": true,
           "subunitcolor": "white"
          },
          "hoverlabel": {
           "align": "left"
          },
          "hovermode": "closest",
          "mapbox": {
           "style": "light"
          },
          "paper_bgcolor": "white",
          "plot_bgcolor": "#E5ECF6",
          "polar": {
           "angularaxis": {
            "gridcolor": "white",
            "linecolor": "white",
            "ticks": ""
           },
           "bgcolor": "#E5ECF6",
           "radialaxis": {
            "gridcolor": "white",
            "linecolor": "white",
            "ticks": ""
           }
          },
          "scene": {
           "xaxis": {
            "backgroundcolor": "#E5ECF6",
            "gridcolor": "white",
            "gridwidth": 2,
            "linecolor": "white",
            "showbackground": true,
            "ticks": "",
            "zerolinecolor": "white"
           },
           "yaxis": {
            "backgroundcolor": "#E5ECF6",
            "gridcolor": "white",
            "gridwidth": 2,
            "linecolor": "white",
            "showbackground": true,
            "ticks": "",
            "zerolinecolor": "white"
           },
           "zaxis": {
            "backgroundcolor": "#E5ECF6",
            "gridcolor": "white",
            "gridwidth": 2,
            "linecolor": "white",
            "showbackground": true,
            "ticks": "",
            "zerolinecolor": "white"
           }
          },
          "shapedefaults": {
           "line": {
            "color": "#2a3f5f"
           }
          },
          "ternary": {
           "aaxis": {
            "gridcolor": "white",
            "linecolor": "white",
            "ticks": ""
           },
           "baxis": {
            "gridcolor": "white",
            "linecolor": "white",
            "ticks": ""
           },
           "bgcolor": "#E5ECF6",
           "caxis": {
            "gridcolor": "white",
            "linecolor": "white",
            "ticks": ""
           }
          },
          "title": {
           "x": 0.05
          },
          "xaxis": {
           "automargin": true,
           "gridcolor": "white",
           "linecolor": "white",
           "ticks": "",
           "title": {
            "standoff": 15
           },
           "zerolinecolor": "white",
           "zerolinewidth": 2
          },
          "yaxis": {
           "automargin": true,
           "gridcolor": "white",
           "linecolor": "white",
           "ticks": "",
           "title": {
            "standoff": 15
           },
           "zerolinecolor": "white",
           "zerolinewidth": 2
          }
         }
        },
        "xaxis": {
         "anchor": "y",
         "domain": [
          0,
          1
         ],
         "title": {
          "text": "location"
         }
        },
        "yaxis": {
         "anchor": "x",
         "domain": [
          0,
          1
         ],
         "title": {
          "text": "count"
         }
        }
       }
      }
     },
     "metadata": {},
     "output_type": "display_data"
    }
   ],
   "source": [
    "px.histogram(data,x='location')"
   ]
  },
  {
   "cell_type": "code",
   "execution_count": 10,
   "metadata": {},
   "outputs": [
    {
     "data": {
      "application/vnd.plotly.v1+json": {
       "config": {
        "plotlyServerURL": "https://plot.ly"
       },
       "data": [
        {
         "alignmentgroup": "True",
         "bingroup": "x",
         "hovertemplate": "abstract_title=%{x}<br>count=%{y}<extra></extra>",
         "legendgroup": "",
         "marker": {
          "color": "#636efa",
          "pattern": {
           "shape": ""
          }
         },
         "name": "",
         "offsetgroup": "",
         "orientation": "v",
         "showlegend": false,
         "type": "histogram",
         "x": [
          "/ developer",
          "cashier",
          ".net developer",
          "operations department",
          "awasol developer",
          "coaching scholarship",
          "sales",
          "graphic designer",
          "front-end",
          "social media manager",
          "telecommunication engineers and information technology engineers",
          "back-end",
          "full-stack",
          "ui/ux designer",
          "full-stack",
          "front-end",
          "social media manager",
          "front-end",
          "back-end",
          "python developer",
          "graphic designer",
          "react native developer",
          "mobile app developer",
          "delivery center coordinator",
          "full-stack",
          "front-end",
          "mobile app developer",
          null,
          "front-end",
          "business analyst",
          "mobile app developer",
          "mobile app developer",
          "devops and system administrator",
          "developer",
          "wordpress developer, seo & digital marketing specialist",
          "academic supervisor (tesol)",
          "network administrator",
          "help desk",
          "social media manager",
          "front-end",
          "timecoder of tv programs, translation quality controller",
          "software developer",
          "quality assurance",
          "erp developer",
          "java developer",
          ".net developer",
          "full-stack",
          "front-end",
          "accountant",
          "graphic designer",
          "sales",
          "front-end",
          "full-stack",
          "back-end",
          "front-end",
          ".net developer",
          "web developer",
          "network and system administrator",
          "system analyst",
          "system engineer",
          "mobile app developer",
          "back-end",
          "graphic designer",
          "software developer",
          "developers",
          "motion designer",
          "graphic designer",
          "mobile app developer",
          "mobile app developer",
          "executive assistant",
          "front-end",
          "commercial correspondence officer",
          "software developer",
          "mobile app developer",
          ".net developer",
          "full-stack",
          "content creator",
          "react developer",
          "ui/ux designer",
          "machine learning team leader",
          "data researcher",
          "front-end",
          "full-stack",
          "back-end",
          "back-end",
          "system engineer",
          "front-end",
          null,
          null,
          "full-stack",
          "back-end",
          "electronic maintenance technician",
          ".net developer",
          "front-end",
          "/ developer",
          "quality assurance",
          "web developer",
          "back-end",
          "mobile app developer",
          "front-end",
          "web developer",
          "front-end",
          "video editor",
          "social media manager",
          "car maintenance technician",
          "graphic designer",
          "sales",
          "content creator",
          "web developer",
          "front-end",
          "software developer",
          "graphic designer",
          "graphic designer",
          "ui/ux designer",
          "sales",
          "customer services agents",
          "business data analyst",
          "odoo app developer",
          "react native developer",
          "full-stack",
          "front-end",
          "ui/ux designer",
          "back-end",
          "graphic designer",
          "front-end",
          "technical support",
          "mobile app developer",
          "front-end",
          ".net developer",
          "graphic designer",
          "tesol specialist",
          "mobile app developer",
          "mobile app developer",
          "technical researcher and writer",
          "video montage",
          "mobile app developer",
          "graphic designer",
          "business analyst",
          ".net developer",
          "back-end",
          "human resources",
          "front-end",
          "back-end",
          "ui/ux designer",
          "it support",
          "ui/ux designer",
          "sales",
          "customer services agents",
          "business data analyst",
          "front-end",
          "accountant",
          "architect",
          "programming and development department manager",
          "back-end",
          "social media manager",
          "full-stack",
          "public health graduates",
          "full-stack",
          "front-end",
          "quality assurance",
          "graphic designer",
          "back-end",
          "security and networking consultant",
          "back-end",
          "secretary",
          "front-end",
          "mobile app developer",
          "full-stack",
          "front-end",
          null,
          "project manager",
          "automation engineer",
          "sales",
          "sales",
          "sales",
          "power engineer",
          "web developer",
          "social media manager",
          "mongodb node.js developer",
          "full-stack",
          "delivery center coordinator",
          "react developer",
          "plastic surgeon specialist",
          "ios team leader, android team leader, flutter team leader",
          "customer services agents",
          "full-stack",
          "developer",
          "back-end",
          "front-end",
          "odoo developer",
          "quality assurance",
          "front-end",
          "jblgi developer",
          "mobile app developer",
          "full-stack",
          "mobile app developer",
          "front-end",
          "full-stack",
          "mobile app developer",
          "mobile app developer",
          "back-end",
          "mobile app developer",
          "web developer",
          "mobile app developer",
          "devops engineer",
          "content creator",
          "graphic designer",
          "front-end",
          "web/desktop developer",
          "nursing graduate",
          "social media manager",
          "web penetration tester",
          "back-end",
          "web/desktop developers c#,asp.net sql server",
          "back-end",
          null,
          "odoo developer",
          "front-end",
          "cleaner",
          "administrative staff",
          "mobile app developer",
          "back-end",
          "turkish language translator",
          "devops engineer",
          "front-end",
          "integration developer",
          "social media manager",
          "software developer",
          "business data analyst",
          "ui/ux designer",
          "sales",
          "customer services agents",
          "sales",
          "data entry clerk",
          "assistant in the setup department",
          "front-end",
          "node.js developer",
          "wordpress developer",
          "front-end",
          "front-end",
          "cyber security",
          "mobile app developer",
          "full-stack",
          "sales",
          "mobile app developer",
          "ui/ux designer",
          "mobile app developer",
          "front-end",
          "web developer",
          "back-end",
          "full-stack",
          "mobile app developer",
          "field data collection",
          "software developer",
          "business data analyst",
          "ui/ux designer",
          "sales",
          null,
          "customer services agents",
          "sales",
          "data entry clerk",
          "full-stack",
          "front-end",
          "field data collection",
          "back-end",
          "assistant in the setup department",
          "blockchain expert",
          "front-end",
          "management assistant",
          "front-end",
          "ui/ux designer",
          "api integration specialist",
          "front-end",
          "full-stack",
          "product specialist",
          "sales",
          "customer services lead",
          "digital marketing",
          "ui/ux designer",
          "data entry clerk",
          "customer services agents",
          "software developer",
          "business data analyst",
          "ui/ux designer",
          "sales",
          "full-stack",
          "engineering manager",
          "data entry clerk",
          "customer services agents",
          "software developer",
          "business data analyst",
          "ui/ux designer",
          "sales",
          "sales",
          "ui/ux designer",
          "unity developer",
          "tv programmer",
          "full-stack",
          "veta for information technology",
          null,
          "web/desktop developer",
          "human resources",
          "business development",
          null,
          "back-end",
          "graphic designer",
          "react developer",
          "motion designer",
          "seo specialist",
          "full-stack",
          "امتحانية لطلاب التاسع الأساسي",
          "امتحانية لطلاب الثالث الثانوي العلمي والأدبي",
          "full-stack",
          "front-end",
          "full-stack",
          "mobile app developer",
          "web developer",
          "software developer",
          "ui/ux designer",
          "developer",
          "secretary",
          "mobile app developer",
          "digital marketing",
          "mobile app developer",
          "mobile app developer",
          "front-end",
          "software project manager",
          "front-end",
          "team leader",
          "full-stack",
          "ui/ux designer",
          "software developer",
          "business data analyst",
          "sales",
          "ui/ux designer",
          "sales",
          "customer services agents",
          "development team leader",
          "front-end",
          "content creator",
          "front-end",
          "secretary",
          "car maintenance technician",
          "front-end",
          ".net developer",
          "flutter / laravel / system analyst developer",
          "full-stack",
          null,
          null,
          "full-stack",
          "car maintenance technician",
          "drivers",
          "motion designer",
          "front-end",
          "graphic designer",
          "ui/ux designer",
          "digital marketing",
          "full-stack",
          "tv program employee",
          "java programmer & php programmer",
          "quality assurance",
          "front-end",
          "back-end",
          "accountant",
          "full-stack",
          "-level db admin",
          "3d modeler",
          "mobile app developer",
          "mobile app developer",
          "technical support",
          "mobile app developer",
          "graphic designer",
          "c job opportunities",
          "business data analyst",
          "customer services agents",
          "sales",
          "system analyst",
          "full-stack",
          "professional translator",
          "quality assurance",
          "magento developer",
          "back-end",
          "back-end",
          "full-stack",
          "quality assurance",
          "social media manager",
          "mvp expert",
          "ui/ux designer",
          "wordpress developer",
          "sales",
          "ionic developer",
          "technical support",
          "angular developer",
          "network and system administrator",
          "back-end",
          "front-end",
          "full-stack",
          "executive assistant",
          "web developer",
          "web developer",
          "full-stack",
          "back-end",
          "back-end",
          "car maintenance technician",
          "full-stack",
          "back-end",
          "customer services agents",
          "business data analyst",
          "sales",
          "software developer",
          null,
          "sales",
          "field data collection",
          "field purchasing manager",
          "ui/ux designer",
          "full-stack",
          "mobile app developer",
          "delivery captain",
          "mobile app developer",
          "web developer",
          "ionic developers",
          "ui/ux designer",
          "back-end",
          "software developer",
          "business data analyst",
          "customer services agents",
          "sales",
          "mobile app developer",
          "sales",
          "business data analyst",
          "software developer",
          "ui/ux designer",
          "secretary",
          "laboratory technician",
          "back-end",
          "graphic designer",
          "motion designer",
          "video editor & montage",
          "human resources",
          "mobile app developer",
          ".net developer",
          "ui/ux designer",
          "web developer",
          "front-end",
          "web developer",
          "front-end",
          ".net developer",
          "mobile app developer",
          "software engineer ( and )",
          "ui/ux designer",
          "software developer",
          "business data analyst",
          "coding and stem tutor",
          "waso system administrator",
          "programmer",
          "full-stack",
          "ui/ux designer",
          "ui/ux designer",
          "delivery center coordinator",
          "front-end",
          "mobile app developer",
          "mobile app developer",
          "full-stack",
          "human resources",
          null,
          "back-end",
          "graphic designer",
          "front-end",
          "front-end",
          "quality assurance",
          "quality assurance",
          "isp operation engineer",
          "isp operation engineer",
          "react developer",
          "react developer",
          "back-end",
          "back-end",
          "back-end",
          "mobile app developer",
          "mobile app developer",
          "back-end",
          "back-end",
          "full-stack",
          "full-stack",
          "react/react native developers",
          "business data analyst",
          "business data analyst",
          "software developer",
          "software developer",
          "ui/ux designer",
          "ui/ux designer",
          "front-end",
          "cms developer",
          "quality assurance",
          "quality assurance",
          "front-end",
          "developer",
          "sales",
          "front-end",
          "business data analyst",
          "business data analyst",
          "software developer",
          "software developer",
          "ui/ux designer",
          "ui/ux designer",
          null,
          "cms developer",
          "cms developer for wordpress magento platforms",
          "back-end",
          "back-end",
          "developer",
          "developers",
          "back-end",
          "java developer",
          "java developer",
          "accountant",
          "it auditor",
          "it auditor",
          "quality assurance",
          "quality assurance",
          "business data analyst",
          "mean, mern developers",
          "software developer",
          "software developer",
          "ui/ux designer",
          "ui/ux designer",
          "front-end",
          "developer",
          "coordinator, delivery center",
          "back-end",
          "back-end",
          "mobile app developer",
          "social media manager",
          "social media manager",
          "assistant in the setup department",
          "content creator",
          "ui/ux designer",
          "ui/ux designer",
          "business data analyst",
          "business data analyst",
          "software developer",
          "software developer",
          "graphic designer",
          "ui/ux designer",
          "back-end",
          "front-end",
          "front-end",
          "erp engineer, business information systems",
          "bis specialist",
          "operator - milling",
          "corporate support officer",
          "delivery captain",
          "full-stack",
          "full-stack",
          "software developer",
          "software developer",
          "business data analyst",
          "business data analyst",
          "ui/ux designer",
          "ui/ux designer",
          "python developer",
          ".net developer",
          "back-end",
          "back-end",
          "back-end",
          ".net developer",
          "ui/ux designer",
          "ui/ux designer",
          "developer",
          "software developer",
          "software developer",
          "ui/ux designer",
          "ui/ux designer",
          "business data analyst",
          "business data analyst",
          "business data analyst",
          "back-end",
          "graphic designer",
          "technical marketing specialist",
          "technical marketing specialist",
          "full-stack",
          "front-end",
          "network and system administrator",
          "business data analyst",
          "business data analyst",
          "ui/ux designer",
          "ui/ux designer",
          "software developer",
          "software developer",
          "marketing representatives specialist",
          "python developer",
          "tawasol tester",
          "tester",
          "back-end",
          "back-end",
          "technical support",
          "web developer",
          "web developer",
          "billing platform developer",
          "billing platform developer",
          "accountant",
          "accountant",
          "it solutions delivery manager",
          "it solution delivery manager",
          "front-end",
          "seo manager",
          "seo manager",
          "ui/ux designer",
          "ui/ux designer",
          "back-end",
          "full-stack",
          "network and system administrator",
          "network and system administrator",
          "full-stack",
          "software developer",
          "graphic designer",
          "mobile app developer",
          "software developer",
          "software developer",
          "ui/ux designer",
          "ui/ux designer",
          "business data analyst",
          "business data analyst",
          "social media manager",
          "odoo developer",
          "odoo developer",
          "wordpress developer",
          "back-end",
          "back-end",
          "mobile app developer",
          "graphic designer",
          "graphic designer",
          "software team leader",
          "programmer team leader",
          "back-end",
          "back-end",
          "social media manager",
          "content creator",
          "developer",
          "full-stack",
          ".net  developer",
          "graphic designer",
          "front-end",
          "angular developer",
          "back-end",
          "application auditor",
          "application auditor",
          "network and system administrator",
          "network and system administrator",
          null,
          "react developer",
          "front-end",
          "front-end",
          "back-end",
          "back-end",
          "back-end",
          "graphic designer",
          "ui/ux designer",
          "motion designer",
          "cashier",
          null,
          "full-stack",
          "full-stack",
          "quality assurance",
          "quality assurance",
          "javascript developer",
          "back-end",
          "back-end",
          ".net developer",
          ".net developer",
          "front-end",
          "front-end",
          "seo/sem specialist",
          "seo/sem specialist",
          "mobile app developer",
          "mobile app developer",
          "english teachers",
          "angular developer",
          "video editor",
          "video editor",
          "back-end",
          "mobile app developer",
          "front-end",
          "ui/ux designer",
          "ui/ux designer",
          "zoho creator",
          "zoho creatirs",
          "quality assurance",
          "quality assurance",
          "front-end",
          "front-end",
          "odoo developer",
          "odoo developer",
          "web developer",
          "portar (carrier)",
          "ui/ux designer",
          "graphic designer",
          "tourism agent",
          "accountant",
          "accountant",
          "cyber security operations analyst",
          "cybersecurity operations analyst",
          "full-stack",
          "full-stack",
          null,
          "jrlycailllouwljw!oigall",
          "digital marketing",
          null,
          "مدير المعلوماتيّة",
          "manager executive",
          "technician of low current",
          null,
          "secretary",
          null,
          "executive manager",
          null,
          "human resources",
          null,
          "secretary",
          null,
          "accountant",
          null,
          null,
          ".net developer",
          ".net developer",
          ".net developer",
          "full-stack",
          "mobile app developer",
          "back-end",
          "back-end",
          "mobile app developer",
          "zoho creatirs",
          "zoho creator",
          "quality assurance",
          "quality assurance",
          "business data analyst",
          "business data analyst",
          "ui/ux designer",
          "ui/ux designer",
          "ui/ux designer",
          "software developer",
          "software developer",
          null,
          null,
          null,
          null,
          "jrlycailllouwljw!oigall",
          null,
          null,
          null,
          null,
          "developer",
          "accountant",
          "devops engineer",
          "devops engineer",
          "front-end",
          "front-end",
          "front-end",
          "human resources",
          null,
          null,
          null,
          null,
          "jrlycailllouwljw!oigall",
          null,
          null,
          "data analyst",
          "data analyst",
          "software developer",
          "software developer",
          "ui/ux designer",
          "ui/ux designer",
          "zoho creator",
          "zoho creatirs",
          "quality assurance",
          "quality assurance",
          "business data analyst",
          "business data analyst",
          "network and system administrator",
          "network and system administrator",
          "quality assurance",
          "quality assurance",
          "editor and article writer",
          "social media manager",
          "wordpress developer",
          "content creator",
          "help desk specialist",
          "secretary",
          "business data analyst",
          "quality assurance",
          "zoho creatirs",
          "ui/ux designer",
          "sales",
          "product owner",
          "human resources",
          "front-end",
          "c++ developer",
          "front-end",
          "front-end",
          "front-end",
          "bi developer",
          "system administrator",
          "back-end",
          "front-end",
          "wordpress developer",
          "business operations coordinator",
          "digital marketing",
          "social media manager",
          "back-end",
          "web developer",
          "front-end",
          "mobile app developer",
          "software developer",
          "graphic designer",
          "sales",
          "developer",
          "accountant",
          "mobile app developer",
          "mobile app developer",
          "quality assurance",
          "java developer",
          "java developer",
          ".net developer",
          ".net developer",
          "digital marketing",
          "digital marketing",
          "sales",
          "developer",
          "developer",
          "ui/ux designer",
          "ui/ux designer",
          "full-stack",
          "software developer",
          "software developer",
          "remote doctor",
          "remote doctor",
          "web developer",
          "back-end",
          "back-end",
          "ui/ux designer",
          "ui/ux designer",
          "business data analyst",
          "business data analyst",
          "business data analyst",
          "business data analyst",
          "product owner",
          "product owner",
          "zoho creatirs",
          "zoho creator",
          "digital account manager",
          "quality assurance",
          "quality assurance",
          "quality assurance",
          "human resources",
          "human resources",
          "turkish translator",
          "front-end",
          "full-stack",
          "mobile app developer",
          "full-stack",
          "graphic designer",
          "graphic designer",
          "2d animator",
          "full-stack",
          "full-stack",
          null,
          null,
          null,
          null,
          "front-end",
          "full-stack",
          "full-stack",
          null,
          "front-end",
          null,
          "social media manager",
          null
         ],
         "xaxis": "x",
         "yaxis": "y"
        }
       ],
       "layout": {
        "barmode": "relative",
        "legend": {
         "tracegroupgap": 0
        },
        "margin": {
         "t": 60
        },
        "template": {
         "data": {
          "bar": [
           {
            "error_x": {
             "color": "#2a3f5f"
            },
            "error_y": {
             "color": "#2a3f5f"
            },
            "marker": {
             "line": {
              "color": "#E5ECF6",
              "width": 0.5
             },
             "pattern": {
              "fillmode": "overlay",
              "size": 10,
              "solidity": 0.2
             }
            },
            "type": "bar"
           }
          ],
          "barpolar": [
           {
            "marker": {
             "line": {
              "color": "#E5ECF6",
              "width": 0.5
             },
             "pattern": {
              "fillmode": "overlay",
              "size": 10,
              "solidity": 0.2
             }
            },
            "type": "barpolar"
           }
          ],
          "carpet": [
           {
            "aaxis": {
             "endlinecolor": "#2a3f5f",
             "gridcolor": "white",
             "linecolor": "white",
             "minorgridcolor": "white",
             "startlinecolor": "#2a3f5f"
            },
            "baxis": {
             "endlinecolor": "#2a3f5f",
             "gridcolor": "white",
             "linecolor": "white",
             "minorgridcolor": "white",
             "startlinecolor": "#2a3f5f"
            },
            "type": "carpet"
           }
          ],
          "choropleth": [
           {
            "colorbar": {
             "outlinewidth": 0,
             "ticks": ""
            },
            "type": "choropleth"
           }
          ],
          "contour": [
           {
            "colorbar": {
             "outlinewidth": 0,
             "ticks": ""
            },
            "colorscale": [
             [
              0,
              "#0d0887"
             ],
             [
              0.1111111111111111,
              "#46039f"
             ],
             [
              0.2222222222222222,
              "#7201a8"
             ],
             [
              0.3333333333333333,
              "#9c179e"
             ],
             [
              0.4444444444444444,
              "#bd3786"
             ],
             [
              0.5555555555555556,
              "#d8576b"
             ],
             [
              0.6666666666666666,
              "#ed7953"
             ],
             [
              0.7777777777777778,
              "#fb9f3a"
             ],
             [
              0.8888888888888888,
              "#fdca26"
             ],
             [
              1,
              "#f0f921"
             ]
            ],
            "type": "contour"
           }
          ],
          "contourcarpet": [
           {
            "colorbar": {
             "outlinewidth": 0,
             "ticks": ""
            },
            "type": "contourcarpet"
           }
          ],
          "heatmap": [
           {
            "colorbar": {
             "outlinewidth": 0,
             "ticks": ""
            },
            "colorscale": [
             [
              0,
              "#0d0887"
             ],
             [
              0.1111111111111111,
              "#46039f"
             ],
             [
              0.2222222222222222,
              "#7201a8"
             ],
             [
              0.3333333333333333,
              "#9c179e"
             ],
             [
              0.4444444444444444,
              "#bd3786"
             ],
             [
              0.5555555555555556,
              "#d8576b"
             ],
             [
              0.6666666666666666,
              "#ed7953"
             ],
             [
              0.7777777777777778,
              "#fb9f3a"
             ],
             [
              0.8888888888888888,
              "#fdca26"
             ],
             [
              1,
              "#f0f921"
             ]
            ],
            "type": "heatmap"
           }
          ],
          "heatmapgl": [
           {
            "colorbar": {
             "outlinewidth": 0,
             "ticks": ""
            },
            "colorscale": [
             [
              0,
              "#0d0887"
             ],
             [
              0.1111111111111111,
              "#46039f"
             ],
             [
              0.2222222222222222,
              "#7201a8"
             ],
             [
              0.3333333333333333,
              "#9c179e"
             ],
             [
              0.4444444444444444,
              "#bd3786"
             ],
             [
              0.5555555555555556,
              "#d8576b"
             ],
             [
              0.6666666666666666,
              "#ed7953"
             ],
             [
              0.7777777777777778,
              "#fb9f3a"
             ],
             [
              0.8888888888888888,
              "#fdca26"
             ],
             [
              1,
              "#f0f921"
             ]
            ],
            "type": "heatmapgl"
           }
          ],
          "histogram": [
           {
            "marker": {
             "pattern": {
              "fillmode": "overlay",
              "size": 10,
              "solidity": 0.2
             }
            },
            "type": "histogram"
           }
          ],
          "histogram2d": [
           {
            "colorbar": {
             "outlinewidth": 0,
             "ticks": ""
            },
            "colorscale": [
             [
              0,
              "#0d0887"
             ],
             [
              0.1111111111111111,
              "#46039f"
             ],
             [
              0.2222222222222222,
              "#7201a8"
             ],
             [
              0.3333333333333333,
              "#9c179e"
             ],
             [
              0.4444444444444444,
              "#bd3786"
             ],
             [
              0.5555555555555556,
              "#d8576b"
             ],
             [
              0.6666666666666666,
              "#ed7953"
             ],
             [
              0.7777777777777778,
              "#fb9f3a"
             ],
             [
              0.8888888888888888,
              "#fdca26"
             ],
             [
              1,
              "#f0f921"
             ]
            ],
            "type": "histogram2d"
           }
          ],
          "histogram2dcontour": [
           {
            "colorbar": {
             "outlinewidth": 0,
             "ticks": ""
            },
            "colorscale": [
             [
              0,
              "#0d0887"
             ],
             [
              0.1111111111111111,
              "#46039f"
             ],
             [
              0.2222222222222222,
              "#7201a8"
             ],
             [
              0.3333333333333333,
              "#9c179e"
             ],
             [
              0.4444444444444444,
              "#bd3786"
             ],
             [
              0.5555555555555556,
              "#d8576b"
             ],
             [
              0.6666666666666666,
              "#ed7953"
             ],
             [
              0.7777777777777778,
              "#fb9f3a"
             ],
             [
              0.8888888888888888,
              "#fdca26"
             ],
             [
              1,
              "#f0f921"
             ]
            ],
            "type": "histogram2dcontour"
           }
          ],
          "mesh3d": [
           {
            "colorbar": {
             "outlinewidth": 0,
             "ticks": ""
            },
            "type": "mesh3d"
           }
          ],
          "parcoords": [
           {
            "line": {
             "colorbar": {
              "outlinewidth": 0,
              "ticks": ""
             }
            },
            "type": "parcoords"
           }
          ],
          "pie": [
           {
            "automargin": true,
            "type": "pie"
           }
          ],
          "scatter": [
           {
            "fillpattern": {
             "fillmode": "overlay",
             "size": 10,
             "solidity": 0.2
            },
            "type": "scatter"
           }
          ],
          "scatter3d": [
           {
            "line": {
             "colorbar": {
              "outlinewidth": 0,
              "ticks": ""
             }
            },
            "marker": {
             "colorbar": {
              "outlinewidth": 0,
              "ticks": ""
             }
            },
            "type": "scatter3d"
           }
          ],
          "scattercarpet": [
           {
            "marker": {
             "colorbar": {
              "outlinewidth": 0,
              "ticks": ""
             }
            },
            "type": "scattercarpet"
           }
          ],
          "scattergeo": [
           {
            "marker": {
             "colorbar": {
              "outlinewidth": 0,
              "ticks": ""
             }
            },
            "type": "scattergeo"
           }
          ],
          "scattergl": [
           {
            "marker": {
             "colorbar": {
              "outlinewidth": 0,
              "ticks": ""
             }
            },
            "type": "scattergl"
           }
          ],
          "scattermapbox": [
           {
            "marker": {
             "colorbar": {
              "outlinewidth": 0,
              "ticks": ""
             }
            },
            "type": "scattermapbox"
           }
          ],
          "scatterpolar": [
           {
            "marker": {
             "colorbar": {
              "outlinewidth": 0,
              "ticks": ""
             }
            },
            "type": "scatterpolar"
           }
          ],
          "scatterpolargl": [
           {
            "marker": {
             "colorbar": {
              "outlinewidth": 0,
              "ticks": ""
             }
            },
            "type": "scatterpolargl"
           }
          ],
          "scatterternary": [
           {
            "marker": {
             "colorbar": {
              "outlinewidth": 0,
              "ticks": ""
             }
            },
            "type": "scatterternary"
           }
          ],
          "surface": [
           {
            "colorbar": {
             "outlinewidth": 0,
             "ticks": ""
            },
            "colorscale": [
             [
              0,
              "#0d0887"
             ],
             [
              0.1111111111111111,
              "#46039f"
             ],
             [
              0.2222222222222222,
              "#7201a8"
             ],
             [
              0.3333333333333333,
              "#9c179e"
             ],
             [
              0.4444444444444444,
              "#bd3786"
             ],
             [
              0.5555555555555556,
              "#d8576b"
             ],
             [
              0.6666666666666666,
              "#ed7953"
             ],
             [
              0.7777777777777778,
              "#fb9f3a"
             ],
             [
              0.8888888888888888,
              "#fdca26"
             ],
             [
              1,
              "#f0f921"
             ]
            ],
            "type": "surface"
           }
          ],
          "table": [
           {
            "cells": {
             "fill": {
              "color": "#EBF0F8"
             },
             "line": {
              "color": "white"
             }
            },
            "header": {
             "fill": {
              "color": "#C8D4E3"
             },
             "line": {
              "color": "white"
             }
            },
            "type": "table"
           }
          ]
         },
         "layout": {
          "annotationdefaults": {
           "arrowcolor": "#2a3f5f",
           "arrowhead": 0,
           "arrowwidth": 1
          },
          "autotypenumbers": "strict",
          "coloraxis": {
           "colorbar": {
            "outlinewidth": 0,
            "ticks": ""
           }
          },
          "colorscale": {
           "diverging": [
            [
             0,
             "#8e0152"
            ],
            [
             0.1,
             "#c51b7d"
            ],
            [
             0.2,
             "#de77ae"
            ],
            [
             0.3,
             "#f1b6da"
            ],
            [
             0.4,
             "#fde0ef"
            ],
            [
             0.5,
             "#f7f7f7"
            ],
            [
             0.6,
             "#e6f5d0"
            ],
            [
             0.7,
             "#b8e186"
            ],
            [
             0.8,
             "#7fbc41"
            ],
            [
             0.9,
             "#4d9221"
            ],
            [
             1,
             "#276419"
            ]
           ],
           "sequential": [
            [
             0,
             "#0d0887"
            ],
            [
             0.1111111111111111,
             "#46039f"
            ],
            [
             0.2222222222222222,
             "#7201a8"
            ],
            [
             0.3333333333333333,
             "#9c179e"
            ],
            [
             0.4444444444444444,
             "#bd3786"
            ],
            [
             0.5555555555555556,
             "#d8576b"
            ],
            [
             0.6666666666666666,
             "#ed7953"
            ],
            [
             0.7777777777777778,
             "#fb9f3a"
            ],
            [
             0.8888888888888888,
             "#fdca26"
            ],
            [
             1,
             "#f0f921"
            ]
           ],
           "sequentialminus": [
            [
             0,
             "#0d0887"
            ],
            [
             0.1111111111111111,
             "#46039f"
            ],
            [
             0.2222222222222222,
             "#7201a8"
            ],
            [
             0.3333333333333333,
             "#9c179e"
            ],
            [
             0.4444444444444444,
             "#bd3786"
            ],
            [
             0.5555555555555556,
             "#d8576b"
            ],
            [
             0.6666666666666666,
             "#ed7953"
            ],
            [
             0.7777777777777778,
             "#fb9f3a"
            ],
            [
             0.8888888888888888,
             "#fdca26"
            ],
            [
             1,
             "#f0f921"
            ]
           ]
          },
          "colorway": [
           "#636efa",
           "#EF553B",
           "#00cc96",
           "#ab63fa",
           "#FFA15A",
           "#19d3f3",
           "#FF6692",
           "#B6E880",
           "#FF97FF",
           "#FECB52"
          ],
          "font": {
           "color": "#2a3f5f"
          },
          "geo": {
           "bgcolor": "white",
           "lakecolor": "white",
           "landcolor": "#E5ECF6",
           "showlakes": true,
           "showland": true,
           "subunitcolor": "white"
          },
          "hoverlabel": {
           "align": "left"
          },
          "hovermode": "closest",
          "mapbox": {
           "style": "light"
          },
          "paper_bgcolor": "white",
          "plot_bgcolor": "#E5ECF6",
          "polar": {
           "angularaxis": {
            "gridcolor": "white",
            "linecolor": "white",
            "ticks": ""
           },
           "bgcolor": "#E5ECF6",
           "radialaxis": {
            "gridcolor": "white",
            "linecolor": "white",
            "ticks": ""
           }
          },
          "scene": {
           "xaxis": {
            "backgroundcolor": "#E5ECF6",
            "gridcolor": "white",
            "gridwidth": 2,
            "linecolor": "white",
            "showbackground": true,
            "ticks": "",
            "zerolinecolor": "white"
           },
           "yaxis": {
            "backgroundcolor": "#E5ECF6",
            "gridcolor": "white",
            "gridwidth": 2,
            "linecolor": "white",
            "showbackground": true,
            "ticks": "",
            "zerolinecolor": "white"
           },
           "zaxis": {
            "backgroundcolor": "#E5ECF6",
            "gridcolor": "white",
            "gridwidth": 2,
            "linecolor": "white",
            "showbackground": true,
            "ticks": "",
            "zerolinecolor": "white"
           }
          },
          "shapedefaults": {
           "line": {
            "color": "#2a3f5f"
           }
          },
          "ternary": {
           "aaxis": {
            "gridcolor": "white",
            "linecolor": "white",
            "ticks": ""
           },
           "baxis": {
            "gridcolor": "white",
            "linecolor": "white",
            "ticks": ""
           },
           "bgcolor": "#E5ECF6",
           "caxis": {
            "gridcolor": "white",
            "linecolor": "white",
            "ticks": ""
           }
          },
          "title": {
           "x": 0.05
          },
          "xaxis": {
           "automargin": true,
           "gridcolor": "white",
           "linecolor": "white",
           "ticks": "",
           "title": {
            "standoff": 15
           },
           "zerolinecolor": "white",
           "zerolinewidth": 2
          },
          "yaxis": {
           "automargin": true,
           "gridcolor": "white",
           "linecolor": "white",
           "ticks": "",
           "title": {
            "standoff": 15
           },
           "zerolinecolor": "white",
           "zerolinewidth": 2
          }
         }
        },
        "xaxis": {
         "anchor": "y",
         "categoryorder": "total descending",
         "domain": [
          0,
          1
         ],
         "title": {
          "text": "abstract_title"
         }
        },
        "yaxis": {
         "anchor": "x",
         "domain": [
          0,
          1
         ],
         "title": {
          "text": "count"
         }
        }
       }
      }
     },
     "metadata": {},
     "output_type": "display_data"
    }
   ],
   "source": [
    "px.histogram(data,x='abstract_title').update_xaxes(categoryorder=\"total descending\")"
   ]
  },
  {
   "cell_type": "code",
   "execution_count": 11,
   "metadata": {},
   "outputs": [
    {
     "data": {
      "application/vnd.plotly.v1+json": {
       "config": {
        "plotlyServerURL": "https://plot.ly"
       },
       "data": [
        {
         "alignmentgroup": "True",
         "bingroup": "x",
         "hovertemplate": "variable=avg_exp_years<br>value=%{x}<br>count=%{y}<extra></extra>",
         "legendgroup": "avg_exp_years",
         "marker": {
          "color": "#636efa",
          "pattern": {
           "shape": ""
          }
         },
         "name": "avg_exp_years",
         "offsetgroup": "avg_exp_years",
         "orientation": "v",
         "showlegend": true,
         "type": "histogram",
         "x": [
          null,
          3,
          1,
          null,
          null,
          null,
          null,
          null,
          2,
          2,
          0,
          1,
          null,
          1,
          2,
          2,
          2,
          5,
          5,
          null,
          2,
          2,
          null,
          1,
          null,
          1,
          2,
          null,
          3,
          5,
          null,
          2,
          null,
          null,
          null,
          null,
          4,
          5,
          1,
          2,
          4,
          5,
          4,
          7,
          null,
          2,
          2,
          null,
          null,
          3,
          null,
          null,
          3,
          null,
          1,
          2,
          2,
          null,
          null,
          null,
          4,
          null,
          2,
          null,
          4,
          3,
          3,
          5,
          4,
          2,
          3,
          null,
          null,
          2,
          1,
          2,
          null,
          3,
          null,
          null,
          null,
          null,
          2,
          1,
          2,
          null,
          3,
          null,
          null,
          null,
          4,
          null,
          2,
          null,
          null,
          null,
          2,
          2,
          2,
          2,
          1,
          3,
          1,
          1,
          3,
          2,
          null,
          null,
          1,
          2,
          null,
          3,
          3,
          null,
          null,
          null,
          null,
          1,
          1,
          2,
          1,
          1,
          null,
          1,
          2,
          null,
          null,
          1,
          null,
          null,
          null,
          2,
          2,
          null,
          null,
          1,
          null,
          5,
          2,
          1,
          null,
          null,
          3,
          null,
          null,
          null,
          null,
          null,
          null,
          null,
          3,
          null,
          5,
          null,
          null,
          2,
          null,
          null,
          null,
          null,
          3,
          null,
          null,
          null,
          null,
          null,
          6,
          null,
          null,
          null,
          8,
          5,
          3,
          5,
          6,
          5,
          2,
          null,
          null,
          null,
          1,
          1,
          null,
          2,
          null,
          null,
          null,
          null,
          null,
          1,
          1,
          null,
          null,
          null,
          null,
          null,
          null,
          null,
          2,
          2,
          3,
          null,
          2,
          null,
          null,
          null,
          1,
          null,
          null,
          null,
          null,
          2,
          1,
          null,
          2,
          null,
          1,
          null,
          null,
          null,
          null,
          null,
          null,
          null,
          1,
          null,
          null,
          null,
          null,
          null,
          null,
          null,
          null,
          null,
          3,
          null,
          null,
          2,
          2,
          3,
          null,
          null,
          null,
          1,
          null,
          null,
          null,
          null,
          null,
          5,
          null,
          1,
          null,
          null,
          null,
          null,
          null,
          null,
          null,
          null,
          null,
          null,
          null,
          null,
          3,
          3,
          null,
          null,
          null,
          2,
          null,
          1,
          null,
          30,
          null,
          null,
          null,
          null,
          null,
          null,
          null,
          null,
          null,
          null,
          null,
          1,
          null,
          null,
          null,
          null,
          null,
          null,
          null,
          null,
          null,
          null,
          null,
          null,
          null,
          null,
          null,
          null,
          null,
          null,
          4,
          3,
          null,
          null,
          null,
          null,
          null,
          null,
          2,
          null,
          null,
          null,
          2,
          2,
          null,
          null,
          1,
          1,
          15,
          null,
          null,
          3,
          null,
          3,
          3,
          3,
          null,
          null,
          null,
          null,
          null,
          null,
          null,
          null,
          1,
          null,
          null,
          1,
          3,
          null,
          null,
          1,
          null,
          null,
          null,
          5,
          3,
          3,
          2,
          1,
          2,
          null,
          1,
          null,
          null,
          3,
          1,
          null,
          null,
          null,
          null,
          2,
          null,
          3,
          null,
          1,
          null,
          null,
          null,
          null,
          null,
          null,
          null,
          4,
          null,
          null,
          2,
          2,
          1,
          null,
          null,
          1,
          null,
          1,
          null,
          null,
          null,
          null,
          null,
          null,
          1,
          2,
          1,
          null,
          2,
          3,
          2,
          1,
          1,
          3,
          3,
          1,
          null,
          null,
          null,
          null,
          null,
          null,
          null,
          null,
          null,
          1,
          2,
          null,
          null,
          1,
          1,
          null,
          2,
          null,
          null,
          null,
          null,
          2,
          null,
          null,
          null,
          null,
          null,
          null,
          2,
          null,
          null,
          null,
          2,
          null,
          1,
          null,
          null,
          2,
          2,
          3,
          1,
          null,
          null,
          null,
          null,
          null,
          null,
          null,
          3,
          3,
          null,
          3,
          1,
          null,
          1,
          null,
          3,
          null,
          null,
          5,
          1,
          null,
          2,
          null,
          null,
          1,
          null,
          null,
          null,
          null,
          null,
          null,
          null,
          5,
          null,
          3,
          null,
          1,
          3,
          null,
          null,
          null,
          null,
          null,
          null,
          null,
          null,
          null,
          null,
          2,
          null,
          2,
          3,
          null,
          null,
          null,
          null,
          null,
          null,
          null,
          2,
          null,
          null,
          1,
          5,
          3,
          null,
          null,
          2,
          2,
          null,
          1,
          null,
          null,
          null,
          1,
          null,
          null,
          null,
          null,
          1,
          null,
          1,
          null,
          1,
          3,
          null,
          null,
          3,
          null,
          null,
          null,
          null,
          null,
          null,
          null,
          1,
          2,
          3,
          null,
          2,
          0,
          0,
          null,
          2,
          null,
          null,
          2,
          null,
          null,
          null,
          null,
          null,
          null,
          3,
          1,
          null,
          null,
          null,
          1,
          null,
          2,
          1,
          null,
          null,
          null,
          null,
          null,
          null,
          null,
          2,
          null,
          null,
          1,
          2,
          2,
          null,
          null,
          null,
          null,
          null,
          null,
          null,
          3,
          null,
          null,
          2,
          3,
          null,
          1,
          null,
          5,
          null,
          5,
          1,
          null,
          null,
          10,
          3,
          null,
          2,
          4,
          null,
          null,
          3,
          null,
          5,
          null,
          3,
          1,
          3,
          null,
          null,
          null,
          null,
          null,
          null,
          1,
          3,
          null,
          null,
          null,
          4,
          9,
          null,
          null,
          3,
          3,
          4,
          null,
          null,
          null,
          null,
          null,
          3,
          2,
          4,
          3,
          2,
          null,
          null,
          null,
          null,
          null,
          null,
          5,
          1,
          1,
          1,
          4,
          2,
          1,
          1,
          null,
          null,
          null,
          2,
          null,
          1,
          null,
          null,
          3,
          4,
          null,
          null,
          3,
          null,
          null,
          null,
          4,
          1,
          null,
          null,
          2,
          3,
          3,
          3,
          3,
          null,
          null,
          null,
          null,
          null,
          null,
          null,
          3,
          null,
          2,
          null,
          null,
          3,
          2,
          2,
          null,
          2,
          null,
          5,
          null,
          null,
          null,
          3,
          null,
          null,
          3,
          1,
          null,
          5,
          null,
          3,
          null,
          3,
          null,
          3,
          null,
          3,
          null,
          null,
          null,
          null,
          null,
          4,
          null,
          5,
          null,
          null,
          null,
          null,
          null,
          null,
          null,
          null,
          null,
          null,
          null,
          null,
          null,
          null,
          null,
          null,
          null,
          null,
          null,
          null,
          null,
          null,
          null,
          null,
          1,
          1,
          1,
          null,
          4,
          5,
          null,
          null,
          null,
          null,
          null,
          null,
          null,
          null,
          null,
          null,
          null,
          null,
          null,
          null,
          null,
          null,
          null,
          null,
          null,
          5,
          null,
          null,
          1,
          null,
          4,
          null,
          null,
          2,
          1,
          null,
          null,
          null,
          null,
          null,
          1,
          null,
          3,
          null,
          1,
          2,
          2,
          4,
          5,
          1,
          2,
          null,
          3,
          2,
          1,
          3,
          2,
          null,
          2,
          null,
          1,
          null,
          null,
          3,
          null,
          1,
          2,
          3,
          null,
          3,
          null,
          2,
          null,
          null,
          null,
          null,
          null,
          null,
          1,
          null,
          null,
          null,
          null,
          null,
          1,
          null,
          null,
          null,
          null,
          null,
          null,
          null,
          1,
          1,
          null,
          null,
          1,
          null,
          2,
          2,
          3,
          null,
          null,
          2,
          null,
          null,
          3,
          null,
          null,
          2,
          3,
          null,
          null,
          null,
          null,
          null,
          3,
          null,
          null,
          null,
          3,
          null,
          null,
          null
         ],
         "xaxis": "x",
         "yaxis": "y"
        }
       ],
       "layout": {
        "barmode": "relative",
        "legend": {
         "title": {
          "text": "variable"
         },
         "tracegroupgap": 0
        },
        "margin": {
         "t": 60
        },
        "template": {
         "data": {
          "bar": [
           {
            "error_x": {
             "color": "#2a3f5f"
            },
            "error_y": {
             "color": "#2a3f5f"
            },
            "marker": {
             "line": {
              "color": "#E5ECF6",
              "width": 0.5
             },
             "pattern": {
              "fillmode": "overlay",
              "size": 10,
              "solidity": 0.2
             }
            },
            "type": "bar"
           }
          ],
          "barpolar": [
           {
            "marker": {
             "line": {
              "color": "#E5ECF6",
              "width": 0.5
             },
             "pattern": {
              "fillmode": "overlay",
              "size": 10,
              "solidity": 0.2
             }
            },
            "type": "barpolar"
           }
          ],
          "carpet": [
           {
            "aaxis": {
             "endlinecolor": "#2a3f5f",
             "gridcolor": "white",
             "linecolor": "white",
             "minorgridcolor": "white",
             "startlinecolor": "#2a3f5f"
            },
            "baxis": {
             "endlinecolor": "#2a3f5f",
             "gridcolor": "white",
             "linecolor": "white",
             "minorgridcolor": "white",
             "startlinecolor": "#2a3f5f"
            },
            "type": "carpet"
           }
          ],
          "choropleth": [
           {
            "colorbar": {
             "outlinewidth": 0,
             "ticks": ""
            },
            "type": "choropleth"
           }
          ],
          "contour": [
           {
            "colorbar": {
             "outlinewidth": 0,
             "ticks": ""
            },
            "colorscale": [
             [
              0,
              "#0d0887"
             ],
             [
              0.1111111111111111,
              "#46039f"
             ],
             [
              0.2222222222222222,
              "#7201a8"
             ],
             [
              0.3333333333333333,
              "#9c179e"
             ],
             [
              0.4444444444444444,
              "#bd3786"
             ],
             [
              0.5555555555555556,
              "#d8576b"
             ],
             [
              0.6666666666666666,
              "#ed7953"
             ],
             [
              0.7777777777777778,
              "#fb9f3a"
             ],
             [
              0.8888888888888888,
              "#fdca26"
             ],
             [
              1,
              "#f0f921"
             ]
            ],
            "type": "contour"
           }
          ],
          "contourcarpet": [
           {
            "colorbar": {
             "outlinewidth": 0,
             "ticks": ""
            },
            "type": "contourcarpet"
           }
          ],
          "heatmap": [
           {
            "colorbar": {
             "outlinewidth": 0,
             "ticks": ""
            },
            "colorscale": [
             [
              0,
              "#0d0887"
             ],
             [
              0.1111111111111111,
              "#46039f"
             ],
             [
              0.2222222222222222,
              "#7201a8"
             ],
             [
              0.3333333333333333,
              "#9c179e"
             ],
             [
              0.4444444444444444,
              "#bd3786"
             ],
             [
              0.5555555555555556,
              "#d8576b"
             ],
             [
              0.6666666666666666,
              "#ed7953"
             ],
             [
              0.7777777777777778,
              "#fb9f3a"
             ],
             [
              0.8888888888888888,
              "#fdca26"
             ],
             [
              1,
              "#f0f921"
             ]
            ],
            "type": "heatmap"
           }
          ],
          "heatmapgl": [
           {
            "colorbar": {
             "outlinewidth": 0,
             "ticks": ""
            },
            "colorscale": [
             [
              0,
              "#0d0887"
             ],
             [
              0.1111111111111111,
              "#46039f"
             ],
             [
              0.2222222222222222,
              "#7201a8"
             ],
             [
              0.3333333333333333,
              "#9c179e"
             ],
             [
              0.4444444444444444,
              "#bd3786"
             ],
             [
              0.5555555555555556,
              "#d8576b"
             ],
             [
              0.6666666666666666,
              "#ed7953"
             ],
             [
              0.7777777777777778,
              "#fb9f3a"
             ],
             [
              0.8888888888888888,
              "#fdca26"
             ],
             [
              1,
              "#f0f921"
             ]
            ],
            "type": "heatmapgl"
           }
          ],
          "histogram": [
           {
            "marker": {
             "pattern": {
              "fillmode": "overlay",
              "size": 10,
              "solidity": 0.2
             }
            },
            "type": "histogram"
           }
          ],
          "histogram2d": [
           {
            "colorbar": {
             "outlinewidth": 0,
             "ticks": ""
            },
            "colorscale": [
             [
              0,
              "#0d0887"
             ],
             [
              0.1111111111111111,
              "#46039f"
             ],
             [
              0.2222222222222222,
              "#7201a8"
             ],
             [
              0.3333333333333333,
              "#9c179e"
             ],
             [
              0.4444444444444444,
              "#bd3786"
             ],
             [
              0.5555555555555556,
              "#d8576b"
             ],
             [
              0.6666666666666666,
              "#ed7953"
             ],
             [
              0.7777777777777778,
              "#fb9f3a"
             ],
             [
              0.8888888888888888,
              "#fdca26"
             ],
             [
              1,
              "#f0f921"
             ]
            ],
            "type": "histogram2d"
           }
          ],
          "histogram2dcontour": [
           {
            "colorbar": {
             "outlinewidth": 0,
             "ticks": ""
            },
            "colorscale": [
             [
              0,
              "#0d0887"
             ],
             [
              0.1111111111111111,
              "#46039f"
             ],
             [
              0.2222222222222222,
              "#7201a8"
             ],
             [
              0.3333333333333333,
              "#9c179e"
             ],
             [
              0.4444444444444444,
              "#bd3786"
             ],
             [
              0.5555555555555556,
              "#d8576b"
             ],
             [
              0.6666666666666666,
              "#ed7953"
             ],
             [
              0.7777777777777778,
              "#fb9f3a"
             ],
             [
              0.8888888888888888,
              "#fdca26"
             ],
             [
              1,
              "#f0f921"
             ]
            ],
            "type": "histogram2dcontour"
           }
          ],
          "mesh3d": [
           {
            "colorbar": {
             "outlinewidth": 0,
             "ticks": ""
            },
            "type": "mesh3d"
           }
          ],
          "parcoords": [
           {
            "line": {
             "colorbar": {
              "outlinewidth": 0,
              "ticks": ""
             }
            },
            "type": "parcoords"
           }
          ],
          "pie": [
           {
            "automargin": true,
            "type": "pie"
           }
          ],
          "scatter": [
           {
            "fillpattern": {
             "fillmode": "overlay",
             "size": 10,
             "solidity": 0.2
            },
            "type": "scatter"
           }
          ],
          "scatter3d": [
           {
            "line": {
             "colorbar": {
              "outlinewidth": 0,
              "ticks": ""
             }
            },
            "marker": {
             "colorbar": {
              "outlinewidth": 0,
              "ticks": ""
             }
            },
            "type": "scatter3d"
           }
          ],
          "scattercarpet": [
           {
            "marker": {
             "colorbar": {
              "outlinewidth": 0,
              "ticks": ""
             }
            },
            "type": "scattercarpet"
           }
          ],
          "scattergeo": [
           {
            "marker": {
             "colorbar": {
              "outlinewidth": 0,
              "ticks": ""
             }
            },
            "type": "scattergeo"
           }
          ],
          "scattergl": [
           {
            "marker": {
             "colorbar": {
              "outlinewidth": 0,
              "ticks": ""
             }
            },
            "type": "scattergl"
           }
          ],
          "scattermapbox": [
           {
            "marker": {
             "colorbar": {
              "outlinewidth": 0,
              "ticks": ""
             }
            },
            "type": "scattermapbox"
           }
          ],
          "scatterpolar": [
           {
            "marker": {
             "colorbar": {
              "outlinewidth": 0,
              "ticks": ""
             }
            },
            "type": "scatterpolar"
           }
          ],
          "scatterpolargl": [
           {
            "marker": {
             "colorbar": {
              "outlinewidth": 0,
              "ticks": ""
             }
            },
            "type": "scatterpolargl"
           }
          ],
          "scatterternary": [
           {
            "marker": {
             "colorbar": {
              "outlinewidth": 0,
              "ticks": ""
             }
            },
            "type": "scatterternary"
           }
          ],
          "surface": [
           {
            "colorbar": {
             "outlinewidth": 0,
             "ticks": ""
            },
            "colorscale": [
             [
              0,
              "#0d0887"
             ],
             [
              0.1111111111111111,
              "#46039f"
             ],
             [
              0.2222222222222222,
              "#7201a8"
             ],
             [
              0.3333333333333333,
              "#9c179e"
             ],
             [
              0.4444444444444444,
              "#bd3786"
             ],
             [
              0.5555555555555556,
              "#d8576b"
             ],
             [
              0.6666666666666666,
              "#ed7953"
             ],
             [
              0.7777777777777778,
              "#fb9f3a"
             ],
             [
              0.8888888888888888,
              "#fdca26"
             ],
             [
              1,
              "#f0f921"
             ]
            ],
            "type": "surface"
           }
          ],
          "table": [
           {
            "cells": {
             "fill": {
              "color": "#EBF0F8"
             },
             "line": {
              "color": "white"
             }
            },
            "header": {
             "fill": {
              "color": "#C8D4E3"
             },
             "line": {
              "color": "white"
             }
            },
            "type": "table"
           }
          ]
         },
         "layout": {
          "annotationdefaults": {
           "arrowcolor": "#2a3f5f",
           "arrowhead": 0,
           "arrowwidth": 1
          },
          "autotypenumbers": "strict",
          "coloraxis": {
           "colorbar": {
            "outlinewidth": 0,
            "ticks": ""
           }
          },
          "colorscale": {
           "diverging": [
            [
             0,
             "#8e0152"
            ],
            [
             0.1,
             "#c51b7d"
            ],
            [
             0.2,
             "#de77ae"
            ],
            [
             0.3,
             "#f1b6da"
            ],
            [
             0.4,
             "#fde0ef"
            ],
            [
             0.5,
             "#f7f7f7"
            ],
            [
             0.6,
             "#e6f5d0"
            ],
            [
             0.7,
             "#b8e186"
            ],
            [
             0.8,
             "#7fbc41"
            ],
            [
             0.9,
             "#4d9221"
            ],
            [
             1,
             "#276419"
            ]
           ],
           "sequential": [
            [
             0,
             "#0d0887"
            ],
            [
             0.1111111111111111,
             "#46039f"
            ],
            [
             0.2222222222222222,
             "#7201a8"
            ],
            [
             0.3333333333333333,
             "#9c179e"
            ],
            [
             0.4444444444444444,
             "#bd3786"
            ],
            [
             0.5555555555555556,
             "#d8576b"
            ],
            [
             0.6666666666666666,
             "#ed7953"
            ],
            [
             0.7777777777777778,
             "#fb9f3a"
            ],
            [
             0.8888888888888888,
             "#fdca26"
            ],
            [
             1,
             "#f0f921"
            ]
           ],
           "sequentialminus": [
            [
             0,
             "#0d0887"
            ],
            [
             0.1111111111111111,
             "#46039f"
            ],
            [
             0.2222222222222222,
             "#7201a8"
            ],
            [
             0.3333333333333333,
             "#9c179e"
            ],
            [
             0.4444444444444444,
             "#bd3786"
            ],
            [
             0.5555555555555556,
             "#d8576b"
            ],
            [
             0.6666666666666666,
             "#ed7953"
            ],
            [
             0.7777777777777778,
             "#fb9f3a"
            ],
            [
             0.8888888888888888,
             "#fdca26"
            ],
            [
             1,
             "#f0f921"
            ]
           ]
          },
          "colorway": [
           "#636efa",
           "#EF553B",
           "#00cc96",
           "#ab63fa",
           "#FFA15A",
           "#19d3f3",
           "#FF6692",
           "#B6E880",
           "#FF97FF",
           "#FECB52"
          ],
          "font": {
           "color": "#2a3f5f"
          },
          "geo": {
           "bgcolor": "white",
           "lakecolor": "white",
           "landcolor": "#E5ECF6",
           "showlakes": true,
           "showland": true,
           "subunitcolor": "white"
          },
          "hoverlabel": {
           "align": "left"
          },
          "hovermode": "closest",
          "mapbox": {
           "style": "light"
          },
          "paper_bgcolor": "white",
          "plot_bgcolor": "#E5ECF6",
          "polar": {
           "angularaxis": {
            "gridcolor": "white",
            "linecolor": "white",
            "ticks": ""
           },
           "bgcolor": "#E5ECF6",
           "radialaxis": {
            "gridcolor": "white",
            "linecolor": "white",
            "ticks": ""
           }
          },
          "scene": {
           "xaxis": {
            "backgroundcolor": "#E5ECF6",
            "gridcolor": "white",
            "gridwidth": 2,
            "linecolor": "white",
            "showbackground": true,
            "ticks": "",
            "zerolinecolor": "white"
           },
           "yaxis": {
            "backgroundcolor": "#E5ECF6",
            "gridcolor": "white",
            "gridwidth": 2,
            "linecolor": "white",
            "showbackground": true,
            "ticks": "",
            "zerolinecolor": "white"
           },
           "zaxis": {
            "backgroundcolor": "#E5ECF6",
            "gridcolor": "white",
            "gridwidth": 2,
            "linecolor": "white",
            "showbackground": true,
            "ticks": "",
            "zerolinecolor": "white"
           }
          },
          "shapedefaults": {
           "line": {
            "color": "#2a3f5f"
           }
          },
          "ternary": {
           "aaxis": {
            "gridcolor": "white",
            "linecolor": "white",
            "ticks": ""
           },
           "baxis": {
            "gridcolor": "white",
            "linecolor": "white",
            "ticks": ""
           },
           "bgcolor": "#E5ECF6",
           "caxis": {
            "gridcolor": "white",
            "linecolor": "white",
            "ticks": ""
           }
          },
          "title": {
           "x": 0.05
          },
          "xaxis": {
           "automargin": true,
           "gridcolor": "white",
           "linecolor": "white",
           "ticks": "",
           "title": {
            "standoff": 15
           },
           "zerolinecolor": "white",
           "zerolinewidth": 2
          },
          "yaxis": {
           "automargin": true,
           "gridcolor": "white",
           "linecolor": "white",
           "ticks": "",
           "title": {
            "standoff": 15
           },
           "zerolinecolor": "white",
           "zerolinewidth": 2
          }
         }
        },
        "xaxis": {
         "anchor": "y",
         "domain": [
          0,
          1
         ],
         "title": {
          "text": "value"
         }
        },
        "yaxis": {
         "anchor": "x",
         "domain": [
          0,
          1
         ],
         "title": {
          "text": "count"
         }
        }
       }
      }
     },
     "metadata": {},
     "output_type": "display_data"
    }
   ],
   "source": [
    "px.histogram(data.avg_exp_years)"
   ]
  },
  {
   "cell_type": "code",
   "execution_count": 12,
   "metadata": {},
   "outputs": [
    {
     "data": {
      "application/vnd.plotly.v1+json": {
       "config": {
        "plotlyServerURL": "https://plot.ly"
       },
       "data": [
        {
         "alignmentgroup": "True",
         "bingroup": "x",
         "hovertemplate": "variable=job_type<br>value=%{x}<br>count=%{y}<extra></extra>",
         "legendgroup": "job_type",
         "marker": {
          "color": "#636efa",
          "pattern": {
           "shape": ""
          }
         },
         "name": "job_type",
         "offsetgroup": "job_type",
         "orientation": "v",
         "showlegend": true,
         "type": "histogram",
         "x": [
          "full-time",
          "full-time",
          "full-time",
          "full-time",
          null,
          "training",
          null,
          null,
          "full-time",
          "full-time",
          "full-time",
          "full-time",
          "full-time",
          "full-time",
          "full-time",
          "full-time",
          "full-time",
          "full-time",
          "full-time",
          null,
          null,
          "full-time",
          null,
          "full-time",
          "full-time",
          "full-time",
          "full-time",
          "full-time",
          "full-time",
          "full-time",
          "part-time",
          null,
          null,
          null,
          "full-time",
          null,
          null,
          null,
          null,
          "full-time",
          "full-time",
          "full-time",
          "full-time",
          "full-time",
          "full-time",
          "full-time",
          "full-time",
          "full-time",
          null,
          "full-time",
          "full-time",
          "full-time",
          "full-time",
          "full-time",
          null,
          "full-time",
          null,
          "full-time",
          "full-time",
          "full-time",
          null,
          "full-time",
          "full-time",
          "full-time",
          "full-time",
          "full-time",
          "full-time",
          "full-time",
          null,
          "full-time",
          "full-time",
          "full-time",
          "full-time",
          "full-time",
          "full-time",
          "full-time",
          "full-time",
          "full-time",
          "full-time",
          "full-time",
          null,
          "full-time",
          "full-time",
          "full-time",
          "full-time",
          "full-time",
          "full-time",
          "full-time",
          "full-time",
          null,
          "full-time",
          "full-time",
          "full-time",
          "full-time",
          "full-time",
          "full-time",
          null,
          "full-time",
          "full-time",
          "full-time",
          null,
          "full-time",
          null,
          null,
          "full-time",
          "part-time",
          null,
          "full-time",
          "full-time",
          "full-time",
          "full-time",
          null,
          "full-time",
          "full-time",
          "full-time",
          "full-time",
          "full-time",
          "full-time",
          "full-time",
          "full-time",
          "full-time",
          "full-time",
          "full-time",
          "full-time",
          "full-time",
          "full-time",
          "full-time",
          "full-time",
          "full-time",
          "full-time",
          null,
          "full-time",
          "full-time",
          "full-time",
          "full-time",
          null,
          "full-time",
          "full-time",
          "full-time part-time",
          "full-time",
          "full-time",
          null,
          "full-time",
          "full-time",
          "full-time",
          "full-time",
          "full-time",
          "full-time",
          "full-time",
          "full-time",
          "full-time",
          "full-time",
          null,
          "full-time",
          "full-time",
          "full-time",
          "full-time",
          null,
          null,
          "full-time",
          "full-time",
          "full-time",
          null,
          "full-time",
          null,
          "full-time",
          null,
          "full-time",
          "full-time",
          null,
          null,
          null,
          null,
          "full-time",
          null,
          "full-time",
          null,
          null,
          "full-time",
          null,
          "full-time",
          "full-time",
          "full-time",
          "full-time",
          "full-time",
          "full-time",
          null,
          "full-time",
          "full-time",
          null,
          "full-time",
          "full-time",
          null,
          "full-time",
          "full-time part-time",
          "full-time",
          null,
          null,
          "full-time",
          "full-time",
          "full-time",
          "full-time",
          "full-time",
          "full-time",
          "full-time",
          null,
          "full-time",
          "full-time",
          "full-time",
          "full-time",
          null,
          "full-time",
          "full-time",
          "full-time",
          "full-time",
          null,
          null,
          "full-time",
          "full-time",
          "full-time",
          null,
          null,
          "task based",
          null,
          null,
          null,
          "full-time",
          "full-time",
          "full-time",
          "full-time",
          "full-time",
          "full-time",
          "full-time",
          "full-time",
          "full-time",
          null,
          null,
          "full-time",
          "full-time",
          "full-time",
          "full-time",
          "full-time",
          "full-time",
          "full-time",
          null,
          null,
          "full-time part-time",
          "full-time",
          "full-time",
          "full-time",
          "full-time",
          "full-time",
          "full-time part-time",
          "full-time",
          "full-time",
          "full-time",
          "full-time",
          null,
          "full-time",
          "full-time",
          "full-time",
          null,
          null,
          "full-time part-time",
          "full-time",
          "full-time",
          "full-time",
          "full-time",
          "full-time",
          "full-time",
          "freelance",
          null,
          null,
          "full-time",
          "full-time",
          "full-time",
          "full-time",
          "full-time",
          "full-time",
          "full-time",
          "full-time",
          "full-time",
          "full-time",
          "full-time",
          "full-time",
          "full-time",
          "full-time",
          "full-time",
          "full-time",
          "full-time",
          "full-time",
          "full-time",
          "full-time",
          "full-time",
          null,
          "full-time part-time",
          "full-time",
          "full-time",
          null,
          "full-time",
          "full-time",
          "full-time",
          "full-time",
          "full-time",
          "full-time",
          null,
          null,
          "full-time",
          "full-time",
          "full-time",
          null,
          null,
          "full-time",
          null,
          null,
          null,
          null,
          "full-time",
          "full-time",
          null,
          null,
          "full-time",
          null,
          null,
          null,
          null,
          "full-time",
          null,
          null,
          null,
          "full-time",
          "full-time",
          "full-time",
          "full-time",
          "full-time",
          "full-time",
          "full-time",
          "full-time",
          "full-time",
          "full-time",
          "full-time",
          null,
          "full-time",
          null,
          "full-time",
          "full-time",
          "full-time",
          null,
          null,
          "full-time",
          "full-time",
          "full-time",
          "full-time",
          "full-time",
          null,
          "full-time",
          null,
          "full-time",
          "full-time",
          "full-time",
          "full-time",
          null,
          null,
          null,
          "full-time",
          null,
          "full-time",
          "full-time",
          "full-time",
          "full-time",
          "full-time",
          "part-time",
          null,
          "full-time",
          "full-time",
          "full-time",
          "full-time",
          "full-time",
          null,
          "full-time",
          "freelance",
          "full-time",
          "full-time",
          "full-time",
          "full-time",
          null,
          null,
          "full-time",
          "full-time",
          "full-time",
          "full-time part-time",
          "full-time",
          null,
          "full-time",
          "full-time",
          null,
          "full-time",
          "full-time",
          null,
          null,
          "part-time",
          "full-time",
          null,
          "full-time",
          "full-time",
          "full-time",
          "full-time",
          "full-time",
          "full-time",
          "full-time",
          null,
          "full-time",
          "full-time part-time",
          "full-time",
          "training",
          "full-time",
          "full-time",
          "full-time",
          "full-time",
          null,
          "full-time",
          "full-time",
          "full-time",
          "full-time",
          "full-time",
          "full-time",
          "full-time",
          "full-time",
          "full-time",
          "full-time",
          "full-time",
          "full-time",
          null,
          "full-time",
          "full-time",
          "freelance",
          "freelance",
          "part-time",
          null,
          "full-time",
          "full-time",
          "full-time",
          "full-time",
          "full-time",
          null,
          "full-time",
          "full-time",
          "full-time",
          null,
          "full-time",
          "full-time",
          "full-time",
          null,
          null,
          null,
          null,
          "full-time",
          null,
          "full-time",
          null,
          "full-time",
          null,
          null,
          "full-time",
          null,
          "full-time",
          "full-time",
          "full-time",
          "full-time",
          "full-time",
          "full-time",
          "full-time",
          "full-time",
          "full-time",
          null,
          "full-time part-time",
          "full-time",
          "full-time",
          null,
          "full-time",
          null,
          "full-time",
          null,
          "full-time",
          "freelance",
          "full-time",
          "full-time",
          "full-time",
          "full-time",
          "full-time",
          "full-time",
          "full-time",
          "full-time",
          null,
          "full-time",
          "full-time",
          null,
          "full-time",
          "freelance",
          "full-time",
          "full-time",
          "full-time",
          "full-time",
          "full-time",
          "full-time",
          null,
          "full-time",
          null,
          null,
          "full-time",
          "full-time",
          null,
          "full-time",
          "full-time",
          "full-time",
          "full-time",
          "full-time",
          "full-time",
          "full-time",
          "full-time",
          "full-time",
          "full-time",
          "full-time",
          "full-time",
          "full-time",
          "full-time",
          "full-time",
          null,
          "full-time",
          "part-time",
          "part-time",
          "full-time",
          null,
          null,
          "full-time",
          null,
          "full-time",
          "full-time",
          "full-time",
          "full-time",
          "full-time",
          "full-time",
          "full-time",
          "part-time",
          null,
          "full-time",
          "full-time",
          "full-time",
          "full-time",
          "full-time",
          null,
          "full-time",
          "full-time",
          "full-time",
          "full-time",
          "full-time",
          "full-time",
          "full-time",
          "full-time",
          "full-time",
          "freelance",
          "full-time",
          null,
          null,
          "full-time",
          "full-time",
          "full-time",
          "full-time",
          null,
          "full-time",
          "full-time",
          "full-time",
          "full-time",
          "full-time",
          "full-time",
          "full-time",
          "part-time",
          null,
          null,
          "full-time",
          null,
          null,
          "full-time",
          "full-time",
          "full-time",
          "full-time",
          "full-time",
          "full-time",
          "full-time",
          "full-time",
          "freelance",
          "full-time",
          "full-time",
          "full-time",
          "full-time",
          "full-time",
          "full-time",
          "full-time",
          "full-time",
          "full-time",
          "full-time",
          "full-time",
          "full-time",
          "full-time",
          null,
          "full-time",
          "full-time",
          "full-time",
          "full-time",
          "full-time",
          null,
          "full-time",
          "full-time",
          null,
          "full-time",
          "full-time",
          null,
          "full-time",
          "full-time",
          "full-time",
          "full-time",
          "full-time",
          "full-time",
          "part-time",
          "full-time",
          null,
          "freelance",
          "full-time",
          "full-time",
          null,
          "full-time",
          "full-time",
          "full-time",
          "full-time",
          "full-time",
          "full-time",
          "full-time part-time freelance",
          "full-time part-time freelance",
          "full-time",
          "full-time",
          "full-time",
          "full-time",
          null,
          null,
          "full-time",
          "full-time",
          "full-time",
          "full-time",
          "full-time",
          null,
          "full-time",
          null,
          "full-time",
          null,
          "full-time",
          null,
          "full-time",
          "full-time",
          "full-time",
          "full-time",
          null,
          "full-time",
          "full-time",
          null,
          "full-time",
          "task based",
          null,
          "full-time",
          "full-time",
          "full-time part-time",
          null,
          "full-time",
          null,
          "full-time",
          null,
          "full-time",
          "full-time",
          "full-time",
          null,
          "full-time",
          "full-time",
          "full-time",
          "full-time",
          "full-time",
          null,
          "full-time",
          "full-time",
          "full-time",
          "full-time",
          "full-time",
          null,
          "full-time",
          null,
          "full-time",
          "full-time",
          "full-time",
          null,
          "full-time",
          "full-time",
          "full-time",
          "full-time",
          null,
          null,
          "part-time",
          "full-time",
          null,
          "full-time",
          null,
          null,
          "full-time",
          "full-time",
          null,
          "full-time",
          null,
          "full-time",
          null,
          "full-time",
          null,
          "full-time",
          null,
          "full-time",
          null,
          null,
          "full-time",
          null,
          null,
          "full-time",
          null,
          "full-time",
          "full-time",
          "full-time",
          "full-time",
          "full-time",
          "full-time",
          "full-time",
          "full-time",
          "full-time",
          "full-time",
          "full-time",
          "full-time",
          "full-time",
          "full-time",
          "full-time",
          null,
          null,
          null,
          null,
          null,
          null,
          null,
          null,
          null,
          "full-time",
          "full-time",
          "full-time",
          "full-time",
          "full-time",
          "full-time",
          "full-time",
          null,
          null,
          null,
          null,
          null,
          null,
          null,
          "full-time",
          "full-time",
          "full-time",
          "full-time",
          "full-time",
          "full-time",
          "full-time",
          "full-time",
          "full-time",
          "full-time",
          "full-time",
          "full-time",
          "full-time",
          "full-time",
          null,
          "full-time",
          null,
          null,
          "full-time",
          "full-time",
          "full-time",
          "full-time",
          "full-time",
          "full-time",
          "full-time",
          "full-time",
          "full-time",
          "full-time",
          "full-time",
          "full-time",
          "full-time",
          "full-time",
          "full-time",
          "full-time",
          "full-time",
          "full-time",
          "full-time",
          "full-time",
          "full-time",
          "full-time",
          "full-time part-time",
          "full-time",
          "full-time",
          null,
          null,
          "full-time",
          "full-time",
          "full-time",
          "full-time",
          "full-time",
          null,
          null,
          null,
          null,
          "full-time",
          "full-time",
          "full-time",
          "full-time",
          "full-time part-time",
          "part-time",
          null,
          null,
          null,
          "full-time",
          "full-time",
          "full-time",
          "full-time",
          "full-time",
          null,
          null,
          "full-time",
          "full-time",
          "full-time",
          "full-time",
          "full-time",
          "full-time",
          "full-time",
          "full-time",
          "full-time",
          "full-time",
          null,
          "full-time",
          "full-time",
          null,
          null,
          null,
          "full-time",
          "full-time",
          "full-time",
          "freelance",
          null,
          "full-time",
          "full-time",
          "full-time",
          "full-time",
          "full-time",
          null,
          "full-time",
          null,
          null,
          null,
          null,
          null,
          "full-time",
          null,
          "full-time",
          null,
          "full-time",
          null,
          null,
          null
         ],
         "xaxis": "x",
         "yaxis": "y"
        }
       ],
       "layout": {
        "barmode": "relative",
        "legend": {
         "title": {
          "text": "variable"
         },
         "tracegroupgap": 0
        },
        "margin": {
         "t": 60
        },
        "template": {
         "data": {
          "bar": [
           {
            "error_x": {
             "color": "#2a3f5f"
            },
            "error_y": {
             "color": "#2a3f5f"
            },
            "marker": {
             "line": {
              "color": "#E5ECF6",
              "width": 0.5
             },
             "pattern": {
              "fillmode": "overlay",
              "size": 10,
              "solidity": 0.2
             }
            },
            "type": "bar"
           }
          ],
          "barpolar": [
           {
            "marker": {
             "line": {
              "color": "#E5ECF6",
              "width": 0.5
             },
             "pattern": {
              "fillmode": "overlay",
              "size": 10,
              "solidity": 0.2
             }
            },
            "type": "barpolar"
           }
          ],
          "carpet": [
           {
            "aaxis": {
             "endlinecolor": "#2a3f5f",
             "gridcolor": "white",
             "linecolor": "white",
             "minorgridcolor": "white",
             "startlinecolor": "#2a3f5f"
            },
            "baxis": {
             "endlinecolor": "#2a3f5f",
             "gridcolor": "white",
             "linecolor": "white",
             "minorgridcolor": "white",
             "startlinecolor": "#2a3f5f"
            },
            "type": "carpet"
           }
          ],
          "choropleth": [
           {
            "colorbar": {
             "outlinewidth": 0,
             "ticks": ""
            },
            "type": "choropleth"
           }
          ],
          "contour": [
           {
            "colorbar": {
             "outlinewidth": 0,
             "ticks": ""
            },
            "colorscale": [
             [
              0,
              "#0d0887"
             ],
             [
              0.1111111111111111,
              "#46039f"
             ],
             [
              0.2222222222222222,
              "#7201a8"
             ],
             [
              0.3333333333333333,
              "#9c179e"
             ],
             [
              0.4444444444444444,
              "#bd3786"
             ],
             [
              0.5555555555555556,
              "#d8576b"
             ],
             [
              0.6666666666666666,
              "#ed7953"
             ],
             [
              0.7777777777777778,
              "#fb9f3a"
             ],
             [
              0.8888888888888888,
              "#fdca26"
             ],
             [
              1,
              "#f0f921"
             ]
            ],
            "type": "contour"
           }
          ],
          "contourcarpet": [
           {
            "colorbar": {
             "outlinewidth": 0,
             "ticks": ""
            },
            "type": "contourcarpet"
           }
          ],
          "heatmap": [
           {
            "colorbar": {
             "outlinewidth": 0,
             "ticks": ""
            },
            "colorscale": [
             [
              0,
              "#0d0887"
             ],
             [
              0.1111111111111111,
              "#46039f"
             ],
             [
              0.2222222222222222,
              "#7201a8"
             ],
             [
              0.3333333333333333,
              "#9c179e"
             ],
             [
              0.4444444444444444,
              "#bd3786"
             ],
             [
              0.5555555555555556,
              "#d8576b"
             ],
             [
              0.6666666666666666,
              "#ed7953"
             ],
             [
              0.7777777777777778,
              "#fb9f3a"
             ],
             [
              0.8888888888888888,
              "#fdca26"
             ],
             [
              1,
              "#f0f921"
             ]
            ],
            "type": "heatmap"
           }
          ],
          "heatmapgl": [
           {
            "colorbar": {
             "outlinewidth": 0,
             "ticks": ""
            },
            "colorscale": [
             [
              0,
              "#0d0887"
             ],
             [
              0.1111111111111111,
              "#46039f"
             ],
             [
              0.2222222222222222,
              "#7201a8"
             ],
             [
              0.3333333333333333,
              "#9c179e"
             ],
             [
              0.4444444444444444,
              "#bd3786"
             ],
             [
              0.5555555555555556,
              "#d8576b"
             ],
             [
              0.6666666666666666,
              "#ed7953"
             ],
             [
              0.7777777777777778,
              "#fb9f3a"
             ],
             [
              0.8888888888888888,
              "#fdca26"
             ],
             [
              1,
              "#f0f921"
             ]
            ],
            "type": "heatmapgl"
           }
          ],
          "histogram": [
           {
            "marker": {
             "pattern": {
              "fillmode": "overlay",
              "size": 10,
              "solidity": 0.2
             }
            },
            "type": "histogram"
           }
          ],
          "histogram2d": [
           {
            "colorbar": {
             "outlinewidth": 0,
             "ticks": ""
            },
            "colorscale": [
             [
              0,
              "#0d0887"
             ],
             [
              0.1111111111111111,
              "#46039f"
             ],
             [
              0.2222222222222222,
              "#7201a8"
             ],
             [
              0.3333333333333333,
              "#9c179e"
             ],
             [
              0.4444444444444444,
              "#bd3786"
             ],
             [
              0.5555555555555556,
              "#d8576b"
             ],
             [
              0.6666666666666666,
              "#ed7953"
             ],
             [
              0.7777777777777778,
              "#fb9f3a"
             ],
             [
              0.8888888888888888,
              "#fdca26"
             ],
             [
              1,
              "#f0f921"
             ]
            ],
            "type": "histogram2d"
           }
          ],
          "histogram2dcontour": [
           {
            "colorbar": {
             "outlinewidth": 0,
             "ticks": ""
            },
            "colorscale": [
             [
              0,
              "#0d0887"
             ],
             [
              0.1111111111111111,
              "#46039f"
             ],
             [
              0.2222222222222222,
              "#7201a8"
             ],
             [
              0.3333333333333333,
              "#9c179e"
             ],
             [
              0.4444444444444444,
              "#bd3786"
             ],
             [
              0.5555555555555556,
              "#d8576b"
             ],
             [
              0.6666666666666666,
              "#ed7953"
             ],
             [
              0.7777777777777778,
              "#fb9f3a"
             ],
             [
              0.8888888888888888,
              "#fdca26"
             ],
             [
              1,
              "#f0f921"
             ]
            ],
            "type": "histogram2dcontour"
           }
          ],
          "mesh3d": [
           {
            "colorbar": {
             "outlinewidth": 0,
             "ticks": ""
            },
            "type": "mesh3d"
           }
          ],
          "parcoords": [
           {
            "line": {
             "colorbar": {
              "outlinewidth": 0,
              "ticks": ""
             }
            },
            "type": "parcoords"
           }
          ],
          "pie": [
           {
            "automargin": true,
            "type": "pie"
           }
          ],
          "scatter": [
           {
            "fillpattern": {
             "fillmode": "overlay",
             "size": 10,
             "solidity": 0.2
            },
            "type": "scatter"
           }
          ],
          "scatter3d": [
           {
            "line": {
             "colorbar": {
              "outlinewidth": 0,
              "ticks": ""
             }
            },
            "marker": {
             "colorbar": {
              "outlinewidth": 0,
              "ticks": ""
             }
            },
            "type": "scatter3d"
           }
          ],
          "scattercarpet": [
           {
            "marker": {
             "colorbar": {
              "outlinewidth": 0,
              "ticks": ""
             }
            },
            "type": "scattercarpet"
           }
          ],
          "scattergeo": [
           {
            "marker": {
             "colorbar": {
              "outlinewidth": 0,
              "ticks": ""
             }
            },
            "type": "scattergeo"
           }
          ],
          "scattergl": [
           {
            "marker": {
             "colorbar": {
              "outlinewidth": 0,
              "ticks": ""
             }
            },
            "type": "scattergl"
           }
          ],
          "scattermapbox": [
           {
            "marker": {
             "colorbar": {
              "outlinewidth": 0,
              "ticks": ""
             }
            },
            "type": "scattermapbox"
           }
          ],
          "scatterpolar": [
           {
            "marker": {
             "colorbar": {
              "outlinewidth": 0,
              "ticks": ""
             }
            },
            "type": "scatterpolar"
           }
          ],
          "scatterpolargl": [
           {
            "marker": {
             "colorbar": {
              "outlinewidth": 0,
              "ticks": ""
             }
            },
            "type": "scatterpolargl"
           }
          ],
          "scatterternary": [
           {
            "marker": {
             "colorbar": {
              "outlinewidth": 0,
              "ticks": ""
             }
            },
            "type": "scatterternary"
           }
          ],
          "surface": [
           {
            "colorbar": {
             "outlinewidth": 0,
             "ticks": ""
            },
            "colorscale": [
             [
              0,
              "#0d0887"
             ],
             [
              0.1111111111111111,
              "#46039f"
             ],
             [
              0.2222222222222222,
              "#7201a8"
             ],
             [
              0.3333333333333333,
              "#9c179e"
             ],
             [
              0.4444444444444444,
              "#bd3786"
             ],
             [
              0.5555555555555556,
              "#d8576b"
             ],
             [
              0.6666666666666666,
              "#ed7953"
             ],
             [
              0.7777777777777778,
              "#fb9f3a"
             ],
             [
              0.8888888888888888,
              "#fdca26"
             ],
             [
              1,
              "#f0f921"
             ]
            ],
            "type": "surface"
           }
          ],
          "table": [
           {
            "cells": {
             "fill": {
              "color": "#EBF0F8"
             },
             "line": {
              "color": "white"
             }
            },
            "header": {
             "fill": {
              "color": "#C8D4E3"
             },
             "line": {
              "color": "white"
             }
            },
            "type": "table"
           }
          ]
         },
         "layout": {
          "annotationdefaults": {
           "arrowcolor": "#2a3f5f",
           "arrowhead": 0,
           "arrowwidth": 1
          },
          "autotypenumbers": "strict",
          "coloraxis": {
           "colorbar": {
            "outlinewidth": 0,
            "ticks": ""
           }
          },
          "colorscale": {
           "diverging": [
            [
             0,
             "#8e0152"
            ],
            [
             0.1,
             "#c51b7d"
            ],
            [
             0.2,
             "#de77ae"
            ],
            [
             0.3,
             "#f1b6da"
            ],
            [
             0.4,
             "#fde0ef"
            ],
            [
             0.5,
             "#f7f7f7"
            ],
            [
             0.6,
             "#e6f5d0"
            ],
            [
             0.7,
             "#b8e186"
            ],
            [
             0.8,
             "#7fbc41"
            ],
            [
             0.9,
             "#4d9221"
            ],
            [
             1,
             "#276419"
            ]
           ],
           "sequential": [
            [
             0,
             "#0d0887"
            ],
            [
             0.1111111111111111,
             "#46039f"
            ],
            [
             0.2222222222222222,
             "#7201a8"
            ],
            [
             0.3333333333333333,
             "#9c179e"
            ],
            [
             0.4444444444444444,
             "#bd3786"
            ],
            [
             0.5555555555555556,
             "#d8576b"
            ],
            [
             0.6666666666666666,
             "#ed7953"
            ],
            [
             0.7777777777777778,
             "#fb9f3a"
            ],
            [
             0.8888888888888888,
             "#fdca26"
            ],
            [
             1,
             "#f0f921"
            ]
           ],
           "sequentialminus": [
            [
             0,
             "#0d0887"
            ],
            [
             0.1111111111111111,
             "#46039f"
            ],
            [
             0.2222222222222222,
             "#7201a8"
            ],
            [
             0.3333333333333333,
             "#9c179e"
            ],
            [
             0.4444444444444444,
             "#bd3786"
            ],
            [
             0.5555555555555556,
             "#d8576b"
            ],
            [
             0.6666666666666666,
             "#ed7953"
            ],
            [
             0.7777777777777778,
             "#fb9f3a"
            ],
            [
             0.8888888888888888,
             "#fdca26"
            ],
            [
             1,
             "#f0f921"
            ]
           ]
          },
          "colorway": [
           "#636efa",
           "#EF553B",
           "#00cc96",
           "#ab63fa",
           "#FFA15A",
           "#19d3f3",
           "#FF6692",
           "#B6E880",
           "#FF97FF",
           "#FECB52"
          ],
          "font": {
           "color": "#2a3f5f"
          },
          "geo": {
           "bgcolor": "white",
           "lakecolor": "white",
           "landcolor": "#E5ECF6",
           "showlakes": true,
           "showland": true,
           "subunitcolor": "white"
          },
          "hoverlabel": {
           "align": "left"
          },
          "hovermode": "closest",
          "mapbox": {
           "style": "light"
          },
          "paper_bgcolor": "white",
          "plot_bgcolor": "#E5ECF6",
          "polar": {
           "angularaxis": {
            "gridcolor": "white",
            "linecolor": "white",
            "ticks": ""
           },
           "bgcolor": "#E5ECF6",
           "radialaxis": {
            "gridcolor": "white",
            "linecolor": "white",
            "ticks": ""
           }
          },
          "scene": {
           "xaxis": {
            "backgroundcolor": "#E5ECF6",
            "gridcolor": "white",
            "gridwidth": 2,
            "linecolor": "white",
            "showbackground": true,
            "ticks": "",
            "zerolinecolor": "white"
           },
           "yaxis": {
            "backgroundcolor": "#E5ECF6",
            "gridcolor": "white",
            "gridwidth": 2,
            "linecolor": "white",
            "showbackground": true,
            "ticks": "",
            "zerolinecolor": "white"
           },
           "zaxis": {
            "backgroundcolor": "#E5ECF6",
            "gridcolor": "white",
            "gridwidth": 2,
            "linecolor": "white",
            "showbackground": true,
            "ticks": "",
            "zerolinecolor": "white"
           }
          },
          "shapedefaults": {
           "line": {
            "color": "#2a3f5f"
           }
          },
          "ternary": {
           "aaxis": {
            "gridcolor": "white",
            "linecolor": "white",
            "ticks": ""
           },
           "baxis": {
            "gridcolor": "white",
            "linecolor": "white",
            "ticks": ""
           },
           "bgcolor": "#E5ECF6",
           "caxis": {
            "gridcolor": "white",
            "linecolor": "white",
            "ticks": ""
           }
          },
          "title": {
           "x": 0.05
          },
          "xaxis": {
           "automargin": true,
           "gridcolor": "white",
           "linecolor": "white",
           "ticks": "",
           "title": {
            "standoff": 15
           },
           "zerolinecolor": "white",
           "zerolinewidth": 2
          },
          "yaxis": {
           "automargin": true,
           "gridcolor": "white",
           "linecolor": "white",
           "ticks": "",
           "title": {
            "standoff": 15
           },
           "zerolinecolor": "white",
           "zerolinewidth": 2
          }
         }
        },
        "xaxis": {
         "anchor": "y",
         "domain": [
          0,
          1
         ],
         "title": {
          "text": "value"
         }
        },
        "yaxis": {
         "anchor": "x",
         "domain": [
          0,
          1
         ],
         "title": {
          "text": "count"
         }
        }
       }
      }
     },
     "metadata": {},
     "output_type": "display_data"
    }
   ],
   "source": [
    "px.histogram(data.job_type)"
   ]
  },
  {
   "cell_type": "markdown",
   "metadata": {},
   "source": []
  }
 ],
 "metadata": {
  "kernelspec": {
   "display_name": "Python 3.10.4 ('.venv': venv)",
   "language": "python",
   "name": "python3"
  },
  "language_info": {
   "codemirror_mode": {
    "name": "ipython",
    "version": 3
   },
   "file_extension": ".py",
   "mimetype": "text/x-python",
   "name": "python",
   "nbconvert_exporter": "python",
   "pygments_lexer": "ipython3",
   "version": "3.10.4"
  },
  "orig_nbformat": 4,
  "vscode": {
   "interpreter": {
    "hash": "0f1b3ad10751f8a1907d8ad058bc41b16e54a41930ed7864c21be18142c16aeb"
   }
  }
 },
 "nbformat": 4,
 "nbformat_minor": 2
}
