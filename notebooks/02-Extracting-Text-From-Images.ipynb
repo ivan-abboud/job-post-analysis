{
 "cells": [
  {
   "attachments": {},
   "cell_type": "markdown",
   "metadata": {},
   "source": [
    "# Extract Text From Images\n",
    "\n",
    "As we saw in the previous notebook, there's a part of messages that do not contain any text, so we will try to extract info from images linked with the message. <br>\n",
    "\n",
    "we will extract text from all images, not only those that do not contain text, sometimes the related photo may contain info that may not be included in the text.\n",
    "\n",
    "### PaddleOCR\n",
    "\n",
    "we will be using PaddleOCR to extract text from images, PaddleOCR is one of the most accurate open-source projects used for optical character recognition, it can detect and recognize 80+ languages, it supports multiple detection and recognition algorithms and models, and also have very straight forward documentation. Their most significant feature is detecting the text-in-the-wild problem, which is not possible in other OCR systems like Tesseract. <br>\n",
    "Our problem is considered a text-in-the-wild problem, because the job post advertisement, may have variant designs and structure, so it's not a document, nor a structured image, and paddle-ocr would be the best choice.\n",
    "\n",
    "You can check the project from the following link\n",
    "[PaddleOCR Github](https://github.com/PaddlePaddle/PaddleOCR)\n"
   ]
  },
  {
   "cell_type": "code",
   "execution_count": 2,
   "metadata": {},
   "outputs": [],
   "source": [
    "import numpy as np\n",
    "from paddleocr import PaddleOCR\n",
    "import pandas as pd\n"
   ]
  },
  {
   "cell_type": "code",
   "execution_count": 3,
   "metadata": {},
   "outputs": [
    {
     "data": {
      "text/html": [
       "<div>\n",
       "<style scoped>\n",
       "    .dataframe tbody tr th:only-of-type {\n",
       "        vertical-align: middle;\n",
       "    }\n",
       "\n",
       "    .dataframe tbody tr th {\n",
       "        vertical-align: top;\n",
       "    }\n",
       "\n",
       "    .dataframe thead th {\n",
       "        text-align: right;\n",
       "    }\n",
       "</style>\n",
       "<table border=\"1\" class=\"dataframe\">\n",
       "  <thead>\n",
       "    <tr style=\"text-align: right;\">\n",
       "      <th></th>\n",
       "      <th>id</th>\n",
       "      <th>date</th>\n",
       "      <th>photo</th>\n",
       "      <th>width</th>\n",
       "      <th>height</th>\n",
       "      <th>text</th>\n",
       "      <th>text_entities</th>\n",
       "      <th>raw_text</th>\n",
       "      <th>type</th>\n",
       "    </tr>\n",
       "  </thead>\n",
       "  <tbody>\n",
       "    <tr>\n",
       "      <th>0</th>\n",
       "      <td>1567</td>\n",
       "      <td>2022-01-02T13:46:28</td>\n",
       "      <td>photos/photo_1205@02-01-2022_13-46-28.jpg</td>\n",
       "      <td>800.0</td>\n",
       "      <td>419.0</td>\n",
       "      <td>['Job Title:', {'type': 'hashtag', 'text': '#s...</td>\n",
       "      <td>[{'type': 'plain', 'text': 'Job Title:'}, {'ty...</td>\n",
       "      <td>Job Title:#senior and a junior #developer\\n \\n...</td>\n",
       "      <td>job_post</td>\n",
       "    </tr>\n",
       "    <tr>\n",
       "      <th>1</th>\n",
       "      <td>1568</td>\n",
       "      <td>2022-01-03T11:09:36</td>\n",
       "      <td>photos/photo_1206@03-01-2022_11-09-36.jpg</td>\n",
       "      <td>1110.0</td>\n",
       "      <td>1124.0</td>\n",
       "      <td>['Job Title:', {'type': 'hashtag', 'text': '#c...</td>\n",
       "      <td>[{'type': 'plain', 'text': 'Job Title:'}, {'ty...</td>\n",
       "      <td>Job Title:#cashier\\nJob Type: #full_time\\n \\nش...</td>\n",
       "      <td>job_post</td>\n",
       "    </tr>\n",
       "    <tr>\n",
       "      <th>2</th>\n",
       "      <td>1569</td>\n",
       "      <td>2022-01-03T14:28:11</td>\n",
       "      <td>photos/photo_1207@03-01-2022_14-28-11.jpg</td>\n",
       "      <td>1280.0</td>\n",
       "      <td>1267.0</td>\n",
       "      <td>['Company: ', {'type': 'hashtag', 'text': '#Na...</td>\n",
       "      <td>[{'type': 'plain', 'text': 'Company: '}, {'typ...</td>\n",
       "      <td>Company: #National_Technology_Group #NTG)\\nJob...</td>\n",
       "      <td>job_post</td>\n",
       "    </tr>\n",
       "    <tr>\n",
       "      <th>3</th>\n",
       "      <td>1570</td>\n",
       "      <td>2022-01-03T17:12:13</td>\n",
       "      <td>photos/photo_1208@03-01-2022_17-12-13.jpg</td>\n",
       "      <td>1014.0</td>\n",
       "      <td>1124.0</td>\n",
       "      <td>['Job title: ', {'type': 'hashtag', 'text': '#...</td>\n",
       "      <td>[{'type': 'plain', 'text': 'Job title: '}, {'t...</td>\n",
       "      <td>Job title: #Employees for Operations Departmen...</td>\n",
       "      <td>job_post</td>\n",
       "    </tr>\n",
       "    <tr>\n",
       "      <th>4</th>\n",
       "      <td>1571</td>\n",
       "      <td>2022-01-03T19:16:11</td>\n",
       "      <td>photos/photo_1209@03-01-2022_19-16-11.jpg</td>\n",
       "      <td>1062.0</td>\n",
       "      <td>1125.0</td>\n",
       "      <td>[{'type': 'link', 'text': 'https://www.faceboo...</td>\n",
       "      <td>[{'type': 'link', 'text': 'https://www.faceboo...</td>\n",
       "      <td>https://www.facebook.com/384708578676644/posts...</td>\n",
       "      <td>link</td>\n",
       "    </tr>\n",
       "  </tbody>\n",
       "</table>\n",
       "</div>"
      ],
      "text/plain": [
       "     id                 date                                      photo  \\\n",
       "0  1567  2022-01-02T13:46:28  photos/photo_1205@02-01-2022_13-46-28.jpg   \n",
       "1  1568  2022-01-03T11:09:36  photos/photo_1206@03-01-2022_11-09-36.jpg   \n",
       "2  1569  2022-01-03T14:28:11  photos/photo_1207@03-01-2022_14-28-11.jpg   \n",
       "3  1570  2022-01-03T17:12:13  photos/photo_1208@03-01-2022_17-12-13.jpg   \n",
       "4  1571  2022-01-03T19:16:11  photos/photo_1209@03-01-2022_19-16-11.jpg   \n",
       "\n",
       "    width  height                                               text  \\\n",
       "0   800.0   419.0  ['Job Title:', {'type': 'hashtag', 'text': '#s...   \n",
       "1  1110.0  1124.0  ['Job Title:', {'type': 'hashtag', 'text': '#c...   \n",
       "2  1280.0  1267.0  ['Company: ', {'type': 'hashtag', 'text': '#Na...   \n",
       "3  1014.0  1124.0  ['Job title: ', {'type': 'hashtag', 'text': '#...   \n",
       "4  1062.0  1125.0  [{'type': 'link', 'text': 'https://www.faceboo...   \n",
       "\n",
       "                                       text_entities  \\\n",
       "0  [{'type': 'plain', 'text': 'Job Title:'}, {'ty...   \n",
       "1  [{'type': 'plain', 'text': 'Job Title:'}, {'ty...   \n",
       "2  [{'type': 'plain', 'text': 'Company: '}, {'typ...   \n",
       "3  [{'type': 'plain', 'text': 'Job title: '}, {'t...   \n",
       "4  [{'type': 'link', 'text': 'https://www.faceboo...   \n",
       "\n",
       "                                            raw_text      type  \n",
       "0  Job Title:#senior and a junior #developer\\n \\n...  job_post  \n",
       "1  Job Title:#cashier\\nJob Type: #full_time\\n \\nش...  job_post  \n",
       "2  Company: #National_Technology_Group #NTG)\\nJob...  job_post  \n",
       "3  Job title: #Employees for Operations Departmen...  job_post  \n",
       "4  https://www.facebook.com/384708578676644/posts...      link  "
      ]
     },
     "execution_count": 3,
     "metadata": {},
     "output_type": "execute_result"
    }
   ],
   "source": [
    "# reading data\n",
    "data = pd.read_csv(\"../data/data_v1.csv\")\n",
    "data.head()"
   ]
  },
  {
   "cell_type": "code",
   "execution_count": 10,
   "metadata": {},
   "outputs": [],
   "source": [
    "# initializing model with corresponding parameters\n",
    "ocr = PaddleOCR(\n",
    "    use_angle_cls=False, lang=\"en\", drop_score=0.92, show_log=False, use_gpu=True\n",
    ")\n"
   ]
  },
  {
   "cell_type": "code",
   "execution_count": 4,
   "metadata": {},
   "outputs": [
    {
     "data": {
      "text/plain": [
       "((892, 9), 708)"
      ]
     },
     "execution_count": 4,
     "metadata": {},
     "output_type": "execute_result"
    }
   ],
   "source": [
    "data.shape, data.photo.notna().sum()\n"
   ]
  },
  {
   "attachments": {},
   "cell_type": "markdown",
   "metadata": {},
   "source": [
    "data contain 708 photos\n"
   ]
  },
  {
   "cell_type": "code",
   "execution_count": 13,
   "metadata": {},
   "outputs": [
    {
     "name": "stdout",
     "output_type": "stream",
     "text": [
      "0 images done!\n",
      "100 images done!\n",
      "200 images done!\n",
      "300 images done!\n",
      "400 images done!\n",
      "500 images done!\n",
      "600 images done!\n",
      "700 images done!\n",
      "800 images done!\n"
     ]
    }
   ],
   "source": [
    "ocr_res = np.empty(data.photo.shape, dtype=\"O\")\n",
    "for i, img_path in enumerate(data.photo.values):\n",
    "    if img_path is not np.nan:\n",
    "        result = ocr.ocr(\"../data/\" + img_path, cls=False, det=True, rec=True)\n",
    "        txts = [line[1][0] for line in result]\n",
    "    else:\n",
    "        txts = [\"\"]\n",
    "    ocr_res[i] = \" \".join(txts)\n",
    "    if i % 100 == 0:\n",
    "        print(f\"{i} images done!\")\n"
   ]
  },
  {
   "cell_type": "code",
   "execution_count": 14,
   "metadata": {},
   "outputs": [],
   "source": [
    "# append ocr results to the data\n",
    "data[\"ocr_res\"] = ocr_res\n"
   ]
  },
  {
   "cell_type": "code",
   "execution_count": 15,
   "metadata": {},
   "outputs": [
    {
     "data": {
      "text/plain": [
       "job_post    151\n",
       "others       18\n",
       "empty        15\n",
       "link          2\n",
       "Name: type, dtype: int64"
      ]
     },
     "execution_count": 15,
     "metadata": {},
     "output_type": "execute_result"
    }
   ],
   "source": [
    "data.loc[data.ocr_res == \"\"][\"type\"].value_counts()\n"
   ]
  },
  {
   "attachments": {},
   "cell_type": "markdown",
   "metadata": {},
   "source": [
    "### Creating Full Text \n",
    "we will create a new column called *full_text* that contain the original text message and the ocr result"
   ]
  },
  {
   "cell_type": "code",
   "execution_count": 16,
   "metadata": {},
   "outputs": [],
   "source": [
    "data.raw_text.fillna('' , inplace=True)\n",
    "data.ocr_res.fillna('',inplace=True)\n",
    "\n",
    "data['full_text'] = (data.raw_text + '\\n' + data.ocr_res)"
   ]
  },
  {
   "cell_type": "code",
   "execution_count": 18,
   "metadata": {},
   "outputs": [],
   "source": [
    "data.to_csv(\"../data/data_v2.csv\", index=False)"
   ]
  }
 ],
 "metadata": {
  "kernelspec": {
   "display_name": "paddle_env",
   "language": "python",
   "name": "python3"
  },
  "language_info": {
   "codemirror_mode": {
    "name": "ipython",
    "version": 3
   },
   "file_extension": ".py",
   "mimetype": "text/x-python",
   "name": "python",
   "nbconvert_exporter": "python",
   "pygments_lexer": "ipython3",
   "version": "3.8.13"
  },
  "orig_nbformat": 4,
  "vscode": {
   "interpreter": {
    "hash": "36fff2c9ec70d41b362053f60c9223dbff01001327bb6efc69131fb68a3a77b0"
   }
  }
 },
 "nbformat": 4,
 "nbformat_minor": 2
}
