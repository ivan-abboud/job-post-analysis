{
 "cells": [
  {
   "cell_type": "code",
   "execution_count": 16,
   "metadata": {},
   "outputs": [],
   "source": [
    "import numpy as np\n",
    "from paddleocr import PaddleOCR\n",
    "import pandas as pd"
   ]
  },
  {
   "cell_type": "code",
   "execution_count": 15,
   "metadata": {},
   "outputs": [],
   "source": [
    "ocr = PaddleOCR(use_angle_cls=False,lang='en', show_log=False)"
   ]
  },
  {
   "cell_type": "code",
   "execution_count": 17,
   "metadata": {},
   "outputs": [],
   "source": [
    "data = pd.read_csv(\"../data/cleaned_data.csv\")"
   ]
  },
  {
   "cell_type": "code",
   "execution_count": 19,
   "metadata": {},
   "outputs": [
    {
     "data": {
      "text/plain": [
       "(892,)"
      ]
     },
     "execution_count": 19,
     "metadata": {},
     "output_type": "execute_result"
    }
   ],
   "source": [
    "data.photo.shape"
   ]
  },
  {
   "cell_type": "code",
   "execution_count": 29,
   "metadata": {},
   "outputs": [
    {
     "name": "stdout",
     "output_type": "stream",
     "text": [
      "0 images done!\n",
      "100 images done!\n",
      "200 images done!\n",
      "300 images done!\n",
      "400 images done!\n",
      "500 images done!\n",
      "600 images done!\n",
      "700 images done!\n",
      "800 images done!\n"
     ]
    }
   ],
   "source": [
    "ocr_res = np.empty(data.photo.shape,dtype='O')\n",
    "for i,img_path in enumerate(data.photo.values):\n",
    "    if img_path is not np.nan:\n",
    "        result = ocr.ocr(\"../data/\"+img_path, cls=False, det=True, rec=True)\n",
    "        txts = [line[1][0] for line in result]\n",
    "    else:\n",
    "        txts = ['']\n",
    "    ocr_res[i] = ' '.join(txts)\n",
    "    if i%100==0:\n",
    "        print(f\"{i} images done!\")\n",
    "\n"
   ]
  },
  {
   "cell_type": "code",
   "execution_count": 33,
   "metadata": {},
   "outputs": [],
   "source": [
    "data[\"ocr_res\"] = ocr_res"
   ]
  },
  {
   "cell_type": "code",
   "execution_count": 37,
   "metadata": {},
   "outputs": [
    {
     "data": {
      "text/plain": [
       "job_post    151\n",
       "others       18\n",
       "empty        15\n",
       "link          2\n",
       "Name: type, dtype: int64"
      ]
     },
     "execution_count": 37,
     "metadata": {},
     "output_type": "execute_result"
    }
   ],
   "source": [
    "data.loc[data.ocr_res == '']['type'].value_counts()"
   ]
  },
  {
   "cell_type": "code",
   "execution_count": 38,
   "metadata": {},
   "outputs": [],
   "source": [
    "data.to_csv(\"../data/data_v2.csv\",index=False)"
   ]
  },
  {
   "cell_type": "code",
   "execution_count": null,
   "metadata": {},
   "outputs": [],
   "source": []
  }
 ],
 "metadata": {
  "kernelspec": {
   "display_name": "Python 3.8.13 ('paddle_env')",
   "language": "python",
   "name": "python3"
  },
  "language_info": {
   "codemirror_mode": {
    "name": "ipython",
    "version": 3
   },
   "file_extension": ".py",
   "mimetype": "text/x-python",
   "name": "python",
   "nbconvert_exporter": "python",
   "pygments_lexer": "ipython3",
   "version": "3.8.13"
  },
  "orig_nbformat": 4,
  "vscode": {
   "interpreter": {
    "hash": "36fff2c9ec70d41b362053f60c9223dbff01001327bb6efc69131fb68a3a77b0"
   }
  }
 },
 "nbformat": 4,
 "nbformat_minor": 2
}
