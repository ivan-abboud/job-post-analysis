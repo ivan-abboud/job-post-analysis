{
 "cells": [
  {
   "attachments": {},
   "cell_type": "markdown",
   "metadata": {},
   "source": [
    "# Cleaning Data\n",
    "\n",
    "<br>in this notebook we will clean data and unify job posts in order to get better analysis results <br>\n",
    "data needs some further cleaning steps, the info extracted using ChatGPT is not ready to be used in our analysis <br>\n",
    "\n",
    "Clening Steps will be as follow:\n",
    "\n",
    "1. Clean **Job Title**:\n",
    "   - remove hash sign from hashtags.\n",
    "   - remove leading and trailing spaces.\n",
    "   - remove useless punctuation.\n",
    "   - unify job titles ex. `(reactjs , react-js, react js, react.js) -> react-js`.\n",
    "   - getting higher level job title, ex. `ios developer -> mobile developer` and `laravel developer -> back-end developer`.\n",
    "   - extract experience level from job title (senior, mid, junior).\n",
    "2. Clean **Company Name**: remove punctuation and names that we know are not official names\n",
    "3. Clean **Salary**:\n",
    "   - remove non-salary values\n",
    "   - normalize currencies\n",
    "   - calculate average\n",
    "4. Clean **Years of Experience**:\n",
    "   - remove useless values\n",
    "   - get average years needed\n",
    "5. Clean **Job Type**:\n",
    "6. Clean **Location**:\n",
    "   - use spacy to extract location from string\n"
   ]
  },
  {
   "cell_type": "code",
   "execution_count": 1,
   "metadata": {},
   "outputs": [],
   "source": [
    "import numpy as np\n",
    "import pandas as pd\n",
    "import re\n",
    "from wordcloud import WordCloud\n",
    "import spacy\n"
   ]
  },
  {
   "cell_type": "code",
   "execution_count": 2,
   "metadata": {},
   "outputs": [
    {
     "data": {
      "text/plain": [
       "(832, 17)"
      ]
     },
     "execution_count": 2,
     "metadata": {},
     "output_type": "execute_result"
    }
   ],
   "source": [
    "# reading data\n",
    "data = pd.read_csv(\"../data/data_v4.csv\")\n",
    "data.shape\n"
   ]
  },
  {
   "attachments": {},
   "cell_type": "markdown",
   "metadata": {},
   "source": [
    "## Cleaning **Job Title**\n"
   ]
  },
  {
   "cell_type": "code",
   "execution_count": 3,
   "metadata": {},
   "outputs": [
    {
     "data": {
      "text/plain": [
       "364"
      ]
     },
     "execution_count": 3,
     "metadata": {},
     "output_type": "execute_result"
    }
   ],
   "source": [
    "data.job_title.nunique()\n"
   ]
  },
  {
   "attachments": {},
   "cell_type": "markdown",
   "metadata": {},
   "source": [
    "there's 364 unique job titles in dataset, we will try to reduce that number.\n"
   ]
  },
  {
   "attachments": {},
   "cell_type": "markdown",
   "metadata": {},
   "source": [
    "we will create a new column called _abstract_title_ , this is the normalized version of job_title\n"
   ]
  },
  {
   "cell_type": "code",
   "execution_count": 4,
   "metadata": {},
   "outputs": [
    {
     "name": "stdout",
     "output_type": "stream",
     "text": [
      "338\n"
     ]
    }
   ],
   "source": [
    "# craft position from the job post and remove it from the title\n",
    "\n",
    "experience = data.job_title.apply(\n",
    "    lambda x: np.nan\n",
    "    if x is np.nan\n",
    "    else \"senior\"\n",
    "    if \"senior\" in x\n",
    "    else \"mid\"\n",
    "    if \"mid\" in x\n",
    "    else \"junior\"\n",
    "    if \"junior\" in x\n",
    "    else np.nan\n",
    ")\n",
    "data[\"abstract_title\"] = data.job_title.apply(\n",
    "    lambda x: x.replace(\"senior\", \"\").replace(\"junior\", \"\").replace(\"mid\", \"\").strip()\n",
    "    if x is not np.nan\n",
    "    else np.nan\n",
    ")\n",
    "print(data.abstract_title.nunique())\n"
   ]
  },
  {
   "attachments": {},
   "cell_type": "markdown",
   "metadata": {},
   "source": [
    "removing experience level from job title decreased unique job titles by 26 titles\n"
   ]
  },
  {
   "attachments": {},
   "cell_type": "markdown",
   "metadata": {},
   "source": [
    "Now, we will build a dictionary to group job titles that belongs to the same category, it means, when a `react.js` developer is needed, then the vacancy is actually a `front-end developer`, but the main skill is `react.js`.\n"
   ]
  },
  {
   "cell_type": "code",
   "execution_count": 5,
   "metadata": {},
   "outputs": [],
   "source": [
    "def abstract_job_title(title):\n",
    "    if title is np.nan:\n",
    "        return title\n",
    "    abstract_titles = {\n",
    "        \"full-stack\": [\n",
    "            \"full stack\",\n",
    "            \"fullstack\",\n",
    "            \"full-stack\",\n",
    "            \"(laravel + vue.js)\",\n",
    "            \"(laravel+vue.js)\",\n",
    "            \"flutter / laravel developer\",\n",
    "            \"laravel and reactjs\",\n",
    "        ],\n",
    "        \"front-end\": [\n",
    "            \"front end\",\n",
    "            \"frontend\",\n",
    "            \"front-end\",\n",
    "            \"react js developer\",\n",
    "            \"react.js developer\",\n",
    "            \"reactjs developer\",\n",
    "            \"vue.js developer\",\n",
    "            \"vue developer\",\n",
    "            \"front developer\",\n",
    "            \"angular developers\",\n",
    "        ],\n",
    "        \"back-end\": [\n",
    "            \"back end\",\n",
    "            \"backend\",\n",
    "            \"back_end\",\n",
    "            \"back-end\",\n",
    "            \"laravel developer\",\n",
    "            \"laravel php developer\",\n",
    "        ],\n",
    "        \"ui/ux designer\": [\"ui/ux\", \"ux/ui\", \"ui \", \"ui\\\\ux\", \"ui-ux\"],\n",
    "        \".net developer\": [\".net core developer\", \".net developer\", \".net server\"],\n",
    "        \"mobile app developer\": [\n",
    "            \"mobile app\",\n",
    "            \"mobile \",\n",
    "            \"moobile app\",\n",
    "            \"(mobile)\",\n",
    "            \"flutter developer\",\n",
    "            \"ios developer\",\n",
    "            \"android developer\",\n",
    "        ],\n",
    "        \"motion designer\": [\n",
    "            \"motion graphic designer\",\n",
    "            \"video graphic designer\",\n",
    "            \"motion graphics\",\n",
    "        ],\n",
    "        \"graphic designer\": [\n",
    "            \"graphic designer\",\n",
    "            \"graphic_designer\",\n",
    "            \"graphic designers\",\n",
    "        ],\n",
    "        \"social media manager\": [\n",
    "            \"social media\",\n",
    "            \"youtube channels manger\",\n",
    "            \"blog manager\",\n",
    "        ],\n",
    "        \"sales\": [\"sales\"],\n",
    "        \"web developer\": [\n",
    "            \"web developer\",\n",
    "            \"web_developer\",\n",
    "            \"web/app developer\",\n",
    "            \"website developer\",\n",
    "            \"_web_developer\",\n",
    "            \"web designer\",\n",
    "            \"web application developer\",\n",
    "            \"web developers\",\n",
    "        ],\n",
    "        \"software developer\": [\n",
    "            \"software developer\",\n",
    "            \"software developers\",\n",
    "            \"softwaredeveloper\",\n",
    "        ],\n",
    "        \"digital marketing\": [\n",
    "            \"digital marketing manager\",\n",
    "            \"digital marketer\",\n",
    "            \"digital marketing executives\",\n",
    "            \"manager of marketing\",\n",
    "            \"marketing manager\",\n",
    "        ],\n",
    "        \"network and system administrator\": [\n",
    "            \"network & system administrator\",\n",
    "            \"network and system administrator\",\n",
    "            \"network & systems administrator\",\n",
    "            \"network and system auditor\",\n",
    "            \"networks & servers specialist\",\n",
    "        ],\n",
    "        \"accountant\": [\n",
    "            \"accounting manager\",\n",
    "            \"accountant\",\n",
    "            \"accountants\",\n",
    "            \"chief accountant\",\n",
    "        ],\n",
    "        \"quality assurance\": [\n",
    "            \"quality assurance\",\n",
    "            \"software quality\",\n",
    "            \"qa engineer\",\n",
    "            \"software_qa_tester\",\n",
    "            \"software qa tester\",\n",
    "            \"software_manual_tester\",\n",
    "            \"software_tester\",\n",
    "            \"software test engineer\",\n",
    "            \"qa tester\",\n",
    "        ],\n",
    "        \"human resources\": [\n",
    "            \"hr officer\",\n",
    "            \"hr specialist\",\n",
    "            \"hr recruiter\",\n",
    "            \"human_resources\",\n",
    "            \"human resources\",\n",
    "        ],\n",
    "        \"content creator\": [\"content\", \"copy writer\", \"news editor\"],\n",
    "        \"secretary\": [\"secretary\"],\n",
    "    }\n",
    "    sub = title\n",
    "    for k, v in abstract_titles.items():\n",
    "        for kw in v:\n",
    "            if kw in sub:\n",
    "                sub = k\n",
    "                # print(sub)\n",
    "    return sub\n"
   ]
  },
  {
   "cell_type": "code",
   "execution_count": 6,
   "metadata": {},
   "outputs": [
    {
     "data": {
      "text/plain": [
       "174"
      ]
     },
     "execution_count": 6,
     "metadata": {},
     "output_type": "execute_result"
    }
   ],
   "source": [
    "data.abstract_title.apply(abstract_job_title).nunique()\n"
   ]
  },
  {
   "cell_type": "code",
   "execution_count": 7,
   "metadata": {},
   "outputs": [],
   "source": [
    "data[\"abstract_title\"] = data.abstract_title.apply(abstract_job_title)\n",
    "data[\"experience_level\"] = experience\n"
   ]
  },
  {
   "cell_type": "code",
   "execution_count": 8,
   "metadata": {},
   "outputs": [
    {
     "data": {
      "image/png": "[encoded data removed]",
      "text/plain": [
       "<PIL.Image.Image image mode=RGB size=400x200>"
      ]
     },
     "execution_count": 8,
     "metadata": {},
     "output_type": "execute_result"
    }
   ],
   "source": [
    "# creating word cloud to form a higher understanding of titles\n",
    "long_string = \",\".join(\n",
    "    list(\n",
    "        data.loc[data.abstract_title.notna()]\n",
    "        .abstract_title.apply(abstract_job_title)\n",
    "        .values\n",
    "    )\n",
    ")\n",
    "\n",
    "wordcloud = WordCloud(\n",
    "    background_color=\"white\", max_words=5000, contour_width=3, contour_color=\"steelblue\"\n",
    ")\n",
    "\n",
    "wordcloud.generate(long_string)\n",
    "\n",
    "wordcloud.to_image()\n"
   ]
  },
  {
   "attachments": {},
   "cell_type": "markdown",
   "metadata": {},
   "source": [
    "as the word cloud shows, **front-end** , **back-end**, **ui-ux designer** and **full-stack** are the most significant keywords in job posts title <br>\n",
    "\n",
    "we can see also keywords such as software developer, graphic designer, and mobile app.\n"
   ]
  },
  {
   "attachments": {},
   "cell_type": "markdown",
   "metadata": {},
   "source": [
    "## Cleaning **Company Name** column\n"
   ]
  },
  {
   "cell_type": "code",
   "execution_count": 9,
   "metadata": {},
   "outputs": [
    {
     "name": "stdout",
     "output_type": "stream",
     "text": [
      "Number of non empty Company Names: 693\n",
      "Number of Unique Company Names: 263\n"
     ]
    }
   ],
   "source": [
    "print(f\"Number of non empty Company Names: {data.company_name.notna().sum()}\")\n",
    "print(f\"Number of Unique Company Names: {data.company_name.nunique()}\")\n"
   ]
  },
  {
   "cell_type": "code",
   "execution_count": 10,
   "metadata": {},
   "outputs": [
    {
     "data": {
      "text/plain": [
       "261"
      ]
     },
     "execution_count": 10,
     "metadata": {},
     "output_type": "execute_result"
    }
   ],
   "source": [
    "def fix_company_name(text):\n",
    "    if text is np.nan:\n",
    "        return text\n",
    "\n",
    "    text = re.sub(r\"#|(tawasol(_job)?)|none\", \"\", text)\n",
    "    text = text.lower().strip()\n",
    "\n",
    "    return text\n",
    "\n",
    "\n",
    "data.company_name.apply(fix_company_name).nunique()\n"
   ]
  },
  {
   "cell_type": "code",
   "execution_count": 11,
   "metadata": {},
   "outputs": [],
   "source": [
    "data.company_name = data.company_name.apply(fix_company_name)\n"
   ]
  },
  {
   "attachments": {},
   "cell_type": "markdown",
   "metadata": {},
   "source": [
    "we cannot do much in here because company names are **Named Entities** so it can take any value, especially when we are analyzing job posts in an Arabian market, arabic company names can be bizzar. <br>\n",
    "but using simple operations we managed to decrease the unique names from 301 to 258\n"
   ]
  },
  {
   "attachments": {},
   "cell_type": "markdown",
   "metadata": {},
   "source": [
    "## Fixing Salary Column\n"
   ]
  },
  {
   "attachments": {},
   "cell_type": "markdown",
   "metadata": {},
   "source": [
    "salary is one of the hardest columns to clean and extract actual salaries.\n",
    "data in this column can take multiple forms, and ChatGPT didn't do well in extracting this info, here is an example of the challenges I faced when trying to clean this column:\n",
    "\n",
    "- no currency clue : starting from 1.5 million\n",
    "- no useful numbers: good, competitive, to be defined after the interview, negotiable\n",
    "- written values: 3.5-7 million syp\n",
    "- range with no currency: 500-700\n",
    "- different abbreviations: syp, s.p, sp., syrian lirra, syrian pound, l.s\n",
    "- non salary values: +905528888787\n"
   ]
  },
  {
   "attachments": {},
   "cell_type": "markdown",
   "metadata": {},
   "source": [
    "after multiple attempts to fix this column, I managed to reach a good format for all values.\n"
   ]
  },
  {
   "cell_type": "code",
   "execution_count": 12,
   "metadata": {
    "collapsed": true,
    "jupyter": {
     "outputs_hidden": true
    },
    "tags": []
   },
   "outputs": [],
   "source": [
    "def fix_salary(salary):\n",
    "    if salary is np.nan:\n",
    "        return salary\n",
    "\n",
    "    if not re.search(\"\\d+\", salary):\n",
    "        return np.nan\n",
    "\n",
    "    salary = re.sub(r\"syp|sp|l\\.s|syrian lira|syrian pound(s)?|s\\.p\", \" SYP\", salary)\n",
    "    salary = re.sub(r\"dollar|usd|\\$|\\ds$\", \" USD\", salary)\n",
    "    salary = re.sub(r\"(\\d\\.\\d)(\\s?million)\", r\"\\1.00000\", salary)\n",
    "    salary = re.sub(r\",|#|~|'|:|\\.\", \"\", salary)\n",
    "    salary = re.sub(r\" million(s)?|(?<=\\d)m\", \"000000\", salary)\n",
    "    salary = re.sub(r\"(?<=\\d)\\s+(?=\\d{3}\\s)\", \"\", salary)\n",
    "    salary = re.sub(r\"per month|starting from|up to\", \"\", salary)\n",
    "    salary = salary.strip()\n",
    "    salary = re.sub(r\"(?<=0{3})$\", \" SYP\", salary)\n",
    "    salary = re.sub(r\"(?<=0{2})$\", \" USD\", salary)\n",
    "    salary = re.sub(r\"SYP\\s+\", \"\", salary)\n",
    "    salary = re.sub(\"to|-|/\", \" - \", salary)\n",
    "    salary = re.sub(r\"\\s+\", \" \", salary)\n",
    "    salary = re.sub(r\"(?<=^\\d{2})\\s(?=-)\", \"00000 \", salary)\n",
    "    salary = re.sub(r\"(?<=^\\d{1})\\s(?=-)\", \"000000 \", salary)\n",
    "\n",
    "    if \"SYP\" not in salary and \"USD\" not in salary:\n",
    "        return np.nan\n",
    "\n",
    "    match = re.findall(\"\\d+\", salary)\n",
    "    if \"SYP\" in salary:\n",
    "        for item in match:\n",
    "            if int(item) < 100000:\n",
    "                salary = np.nan\n",
    "                break\n",
    "\n",
    "    if \"USD\" in match:\n",
    "        for item in match:\n",
    "            if int(item) > 10000:\n",
    "                salary = np.nan\n",
    "                break\n",
    "\n",
    "    if match and len(match) > 2:\n",
    "        salary = np.nan\n",
    "\n",
    "    return salary\n"
   ]
  },
  {
   "cell_type": "code",
   "execution_count": 13,
   "metadata": {},
   "outputs": [
    {
     "name": "stdout",
     "output_type": "stream",
     "text": [
      "24\n"
     ]
    }
   ],
   "source": [
    "data.salary = data.salary.apply(fix_salary)\n",
    "print(data.salary.nunique())\n"
   ]
  },
  {
   "cell_type": "code",
   "execution_count": 14,
   "metadata": {},
   "outputs": [],
   "source": [
    "def calculate_avg_salary(text):\n",
    "    if text is np.nan:\n",
    "        return text\n",
    "\n",
    "    match = re.findall(\"\\d+\", text)\n",
    "    is_dollar = re.search(\"USD\", text) is not None\n",
    "    if match:\n",
    "        if len(match) > 1:\n",
    "            return int((int(match[0]) + int(match[1])) / 2 * (6000 if is_dollar else 1))\n",
    "        return int(match[0]) * (6000 if is_dollar else 1)\n"
   ]
  },
  {
   "cell_type": "code",
   "execution_count": 15,
   "metadata": {},
   "outputs": [],
   "source": [
    "data[\"avg_salary\"] = data.salary.apply(calculate_avg_salary)\n"
   ]
  },
  {
   "attachments": {},
   "cell_type": "markdown",
   "metadata": {},
   "source": [
    "## Fixing location column\n",
    "\n",
    "we will use spacy library to detect location named entities from text\n"
   ]
  },
  {
   "cell_type": "code",
   "execution_count": 16,
   "metadata": {},
   "outputs": [
    {
     "data": {
      "text/plain": [
       "84"
      ]
     },
     "execution_count": 16,
     "metadata": {},
     "output_type": "execute_result"
    }
   ],
   "source": [
    "data.location.nunique()\n"
   ]
  },
  {
   "cell_type": "code",
   "execution_count": 17,
   "metadata": {},
   "outputs": [],
   "source": [
    "nlp = spacy.load(\"en_core_web_sm\")\n"
   ]
  },
  {
   "cell_type": "code",
   "execution_count": 18,
   "metadata": {},
   "outputs": [],
   "source": [
    "def extract_location(location):\n",
    "    if location == np.nan:\n",
    "        return location\n",
    "    loc = \"\"\n",
    "\n",
    "    if \"remote\" in location:\n",
    "        loc = \"remotely\"\n",
    "\n",
    "    doc = nlp(location)\n",
    "    for ent in doc.ents:\n",
    "        if ent.label_ == \"GPE\":\n",
    "            if loc == \"remotely\":\n",
    "                loc = \"(hybrid) remotely\"\n",
    "            loc += \" \" + ent.text\n",
    "\n",
    "    return loc.strip().lower()\n"
   ]
  },
  {
   "cell_type": "code",
   "execution_count": 19,
   "metadata": {},
   "outputs": [],
   "source": [
    "data.location = data.location.astype(\"str\").apply(extract_location)\n"
   ]
  },
  {
   "cell_type": "code",
   "execution_count": 20,
   "metadata": {},
   "outputs": [],
   "source": [
    "def fix_location(text):\n",
    "    if text is np.nan:\n",
    "        return text\n",
    "    text = re.sub(\"adnan|qassa\", \"\", text)\n",
    "    text = re.sub(\n",
    "        \"damascus syria syria|damascus syria|syria damascus|damascus\",\n",
    "        \"Damascus - Syria\",\n",
    "        text,\n",
    "    )\n",
    "    return text.strip()\n",
    "\n",
    "\n",
    "data.location = data.location.apply(fix_location)\n"
   ]
  },
  {
   "cell_type": "code",
   "execution_count": 21,
   "metadata": {},
   "outputs": [
    {
     "data": {
      "text/plain": [
       "15"
      ]
     },
     "execution_count": 21,
     "metadata": {},
     "output_type": "execute_result"
    }
   ],
   "source": [
    "data.location.nunique()\n"
   ]
  },
  {
   "attachments": {},
   "cell_type": "markdown",
   "metadata": {},
   "source": [
    "### Fixing Years of Experience column\n"
   ]
  },
  {
   "attachments": {},
   "cell_type": "markdown",
   "metadata": {},
   "source": [
    "this was a challenging column as well, it contains multiple formats and values.\n"
   ]
  },
  {
   "cell_type": "code",
   "execution_count": 22,
   "metadata": {},
   "outputs": [
    {
     "data": {
      "text/plain": [
       "133"
      ]
     },
     "execution_count": 22,
     "metadata": {},
     "output_type": "execute_result"
    }
   ],
   "source": [
    "data.years_of_experience.nunique()\n"
   ]
  },
  {
   "cell_type": "code",
   "execution_count": 23,
   "metadata": {},
   "outputs": [],
   "source": [
    "def fix_experience_years(text):\n",
    "    if text is np.nan:\n",
    "        return text\n",
    "    numbers = {\n",
    "        \"one \": \"1 \",\n",
    "        \"two \": \"2 \",\n",
    "        \"three\": \"3\",\n",
    "        \"four \": \"4 \",\n",
    "        \"five \": \"5 \",\n",
    "        \"six \": \"6 \",\n",
    "        \"seven \": \"7 \",\n",
    "        \"eight \": \"8 \",\n",
    "        \"nine \": \"9 \",\n",
    "        \"ten \": \"10 \",\n",
    "    }\n",
    "    numbers_re = re.compile(\"|\".join(numbers.keys()))\n",
    "\n",
    "    text = numbers_re.sub(lambda x: numbers[x.group()], text)\n",
    "    text = re.sub(\"fresh \", \"0 year\", text)\n",
    "\n",
    "    if not re.search(\"\\d\", text):\n",
    "        return np.nan\n",
    "\n",
    "    match = re.findall(r\"\\b\\d+\\b\", text)\n",
    "    if match:\n",
    "        numbers_set = np.array(list(set(match)), dtype=\"int32\")\n",
    "        return np.floor(numbers_set.mean())\n",
    "    return np.nan\n"
   ]
  },
  {
   "cell_type": "code",
   "execution_count": 24,
   "metadata": {},
   "outputs": [],
   "source": [
    "data[\"avg_exp_years\"] = data.years_of_experience.apply(fix_experience_years)\n"
   ]
  },
  {
   "cell_type": "code",
   "execution_count": 25,
   "metadata": {},
   "outputs": [
    {
     "data": {
      "text/plain": [
       "12"
      ]
     },
     "execution_count": 25,
     "metadata": {},
     "output_type": "execute_result"
    }
   ],
   "source": [
    "data.avg_exp_years.nunique()\n"
   ]
  },
  {
   "attachments": {},
   "cell_type": "markdown",
   "metadata": {},
   "source": [
    "### Fixing Job Type column\n"
   ]
  },
  {
   "cell_type": "code",
   "execution_count": 26,
   "metadata": {},
   "outputs": [
    {
     "data": {
      "text/plain": [
       "90"
      ]
     },
     "execution_count": 26,
     "metadata": {},
     "output_type": "execute_result"
    }
   ],
   "source": [
    "data.job_type.nunique()\n"
   ]
  },
  {
   "cell_type": "code",
   "execution_count": 27,
   "metadata": {},
   "outputs": [],
   "source": [
    "def fix_job_type(text):\n",
    "    if text is np.nan:\n",
    "        return text\n",
    "\n",
    "    text = text.lower().strip()\n",
    "    text = re.sub(r\"#|_\", \"\", text)\n",
    "    text = re.sub(r\"(full time)|(fulltime)|(full_time)\", \"full-time\", text)\n",
    "    text = re.sub(r\"(part time)|(parttime)|(part_time)\", \"part-time\", text)\n",
    "\n",
    "    res = \"\"\n",
    "    if \"full-time\" in text:\n",
    "        res += \"full-time \"\n",
    "    if \"part-time\" in text:\n",
    "        res += \"part-time \"\n",
    "    if \"freelance\" in text:\n",
    "        res += \"freelance\"\n",
    "    if \"train\" in text:\n",
    "        res += \"training \"\n",
    "    if \"free time\" in text or \"task bas\" in text:\n",
    "        res += \"task based \"\n",
    "\n",
    "    if res == \"\":\n",
    "        return np.nan\n",
    "\n",
    "    return res.strip()\n"
   ]
  },
  {
   "cell_type": "code",
   "execution_count": 28,
   "metadata": {},
   "outputs": [],
   "source": [
    "data[\"job_type\"] = data.job_type.apply(fix_job_type)\n"
   ]
  },
  {
   "cell_type": "code",
   "execution_count": 29,
   "metadata": {},
   "outputs": [
    {
     "data": {
      "text/plain": [
       "7"
      ]
     },
     "execution_count": 29,
     "metadata": {},
     "output_type": "execute_result"
    }
   ],
   "source": [
    "data.job_type.nunique()\n"
   ]
  },
  {
   "cell_type": "code",
   "execution_count": 30,
   "metadata": {},
   "outputs": [],
   "source": [
    "data.to_csv(\"../data/data_v5.csv\", index=False)\n"
   ]
  },
  {
   "attachments": {},
   "cell_type": "markdown",
   "metadata": {},
   "source": [
    "## Summing UP\n"
   ]
  },
  {
   "cell_type": "code",
   "execution_count": 40,
   "metadata": {},
   "outputs": [],
   "source": [
    "dirty = pd.read_csv(\"../data/data_v4.csv\")\n",
    "cleaned = pd.read_csv(\"../data/data_v5.csv\")\n"
   ]
  },
  {
   "attachments": {},
   "cell_type": "markdown",
   "metadata": {},
   "source": [
    "## Conclusion\n",
    "\n",
    "in this notebook we applied several cleaning steps on our data and that resulted in the following:\n",
    "\n",
    "- **abstract_title** column was created\n",
    "- **experience_level** column was created with following values (senior, mid, junior)\n",
    "- **avg_experience_years** column was created\n",
    "- **company_name, salary, location, job_type** columns were cleaned inplace\n",
    "- **job_title, years_of_experience and skills** are still the same\n"
   ]
  },
  {
   "attachments": {},
   "cell_type": "markdown",
   "metadata": {},
   "source": [
    "now we can proceed to our data visualization step.\n"
   ]
  }
 ],
 "metadata": {
  "kernelspec": {
   "display_name": "Python 3.10.4 ('.venv': venv)",
   "language": "python",
   "name": "python3"
  },
  "language_info": {
   "codemirror_mode": {
    "name": "ipython",
    "version": 3
   },
   "file_extension": ".py",
   "mimetype": "text/x-python",
   "name": "python",
   "nbconvert_exporter": "python",
   "pygments_lexer": "ipython3",
   "version": "3.10.4"
  },
  "vscode": {
   "interpreter": {
    "hash": "0f1b3ad10751f8a1907d8ad058bc41b16e54a41930ed7864c21be18142c16aeb"
   }
  }
 },
 "nbformat": 4,
 "nbformat_minor": 4
}
